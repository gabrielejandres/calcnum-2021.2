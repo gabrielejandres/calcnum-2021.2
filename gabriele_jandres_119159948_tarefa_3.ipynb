{
 "cells": [
  {
   "cell_type": "markdown",
   "id": "b830fe1d-bf2f-4c9b-a9dd-94b8b334a666",
   "metadata": {},
   "source": [
    "## UFRJ | Cálculo Numérico | 2021.2"
   ]
  },
  {
   "cell_type": "markdown",
   "id": "7074886c-3e91-4ced-b551-b5a8f14e1ac4",
   "metadata": {},
   "source": [
    "### Tarefa 3 | Gabriele Jandres | 119159948"
   ]
  },
  {
   "cell_type": "markdown",
   "id": "1949139e-df03-4c0e-8c29-6e8f7bc43745",
   "metadata": {},
   "source": [
    "#### Discussões com: Carlos Bravo, Markson Arguello, Francisco Taam e Victor Cardoso."
   ]
  },
  {
   "cell_type": "code",
   "execution_count": 1,
   "id": "03cfebdf-819b-4190-a30e-9160f694eafe",
   "metadata": {},
   "outputs": [],
   "source": [
    "using LinearAlgebra"
   ]
  },
  {
   "cell_type": "markdown",
   "id": "8c226b97-de96-4787-b2d3-f08f4769f2cf",
   "metadata": {},
   "source": [
    "### Exercício 1.1 | Aproximando $\\sqrt{10}$"
   ]
  },
  {
   "cell_type": "markdown",
   "id": "17a75ed3-9b7a-4e96-974d-3db904424103",
   "metadata": {},
   "source": [
    "_________________________________________________________________________________________________________________________________________________________________________________________"
   ]
  },
  {
   "cell_type": "markdown",
   "id": "05c505fa-c150-46ce-abda-860ba6abaa67",
   "metadata": {},
   "source": [
    "Queremos definir uma aproximação para $\\sqrt{10}$ utilizando o método da bisseção no intervalo [0, 20]. \n",
    "\n",
    "Aproximar $\\sqrt{10}$ é o mesmo que resolver $x = \\sqrt{10} \\implies x^2 = 10$. Podemos então definir a função $f(x) = x^2 - 10$ e utilizar o método da bisseção para encontrar os zeros da função. Com isso, estaremos encontrando uma aproximação para o valor de $\\sqrt{10}$.\n",
    "    \n",
    "Como queremos determinar tal valor com um erro máximo de $10^{-8}$, vamos utilizar a própria função $\\textit{bissecao}$ construída em aula, passando um intervalo de $2 * 10^{-8}$ para que tenhamos um erro máximo de $10^{-8}$. Utilizamos esse valor de intervalo porque se temos um intervalo de a até b, a aproximação mais distante que podemos ter é a que fica exatamente no meio do intervalo $(\\frac{a + b}{2})$, por isso nosso erro máximo será justamente o que foi pedido $(10^{-8})$."
   ]
  },
  {
   "cell_type": "code",
   "execution_count": 2,
   "id": "7ef44ce4-2376-4c46-918c-6b1030780165",
   "metadata": {},
   "outputs": [
    {
     "data": {
      "text/plain": [
       "tem_sinais_opostos (generic function with 1 method)"
      ]
     },
     "execution_count": 2,
     "metadata": {},
     "output_type": "execute_result"
    }
   ],
   "source": [
    "# Função auxiliar para a função do método da bisseção. Verifica se a função tem sinais opostos nos extremos do intervalo dado\n",
    "# -- Parâmetros --\n",
    "# a: ponto inicial do intervalo\n",
    "# b: ponto final do intervalo\n",
    "\n",
    "function tem_sinais_opostos(f, a, b) #função recebe f(a) e f(b) não nulos\n",
    "    return f(a) * f(b) < 0\n",
    "end"
   ]
  },
  {
   "cell_type": "code",
   "execution_count": 3,
   "id": "e08d7f3d-8fc5-4db4-8ef4-330ffcf34d53",
   "metadata": {},
   "outputs": [
    {
     "data": {
      "text/plain": [
       "eh_raiz (generic function with 1 method)"
      ]
     },
     "execution_count": 3,
     "metadata": {},
     "output_type": "execute_result"
    }
   ],
   "source": [
    "# Função auxiliar para a função do método da bisseção. Verifica se a é uma raiz da função f\n",
    "# -- Parâmetros --\n",
    "# a: valor arbitrário\n",
    "\n",
    "function eh_raiz(f, a)\n",
    "    return f(a) == 0\n",
    "end"
   ]
  },
  {
   "cell_type": "code",
   "execution_count": 4,
   "id": "de75eecd-2f13-4b37-b0cf-12f54df571c0",
   "metadata": {},
   "outputs": [
    {
     "data": {
      "text/plain": [
       "media (generic function with 1 method)"
      ]
     },
     "execution_count": 4,
     "metadata": {},
     "output_type": "execute_result"
    }
   ],
   "source": [
    "# Função auxiliar para a função do método da bisseção. Faz a média entre x e y\n",
    "# -- Parâmetros --\n",
    "# x e y: valores arbitrários\n",
    "\n",
    "function media(x, y)\n",
    "    return (x + y) / 2\n",
    "end"
   ]
  },
  {
   "cell_type": "code",
   "execution_count": 5,
   "id": "175a7402-6a6a-4c4a-bee9-aecb498edb2c",
   "metadata": {},
   "outputs": [
    {
     "data": {
      "text/plain": [
       "bissecao (generic function with 1 method)"
      ]
     },
     "execution_count": 5,
     "metadata": {},
     "output_type": "execute_result"
    }
   ],
   "source": [
    "# Função com o método da bisseção para calcular aproximações\n",
    "\n",
    "# -- Parâmetros --\n",
    "# f: função a ser aproximada\n",
    "# a: ponto inicial do intervalo\n",
    "# b: ponto final do intervalo\n",
    "# tamanho_final_do_intervalo: tamanho final do intervalo \n",
    "\n",
    "function bissecao(f, a, b, tamanho_final_do_intervalo) \n",
    "    passos = 0\n",
    "    \n",
    "    if eh_raiz(f, a) # se a for raiz da função então a eh uma aproximação\n",
    "        return a\n",
    "    end\n",
    "    if eh_raiz(f, b) # se b for raiz da função então a eh uma aproximação\n",
    "        return b\n",
    "    end\n",
    "    if !(tem_sinais_opostos(f, a, b)) # a e b precisam ter sinais opostos por causa do TVI\n",
    "        return \"Não tem sinais opostos\"\n",
    "    end\n",
    "    \n",
    "    iteracoes = floor(log2((b - a) / tamanho_final_do_intervalo)) + 1\n",
    "    \n",
    "    for i = 1:iteracoes\n",
    "        m = media(a, b)\n",
    "        \n",
    "        if eh_raiz(f, m)\n",
    "            return m\n",
    "        end\n",
    "        \n",
    "        if tem_sinais_opostos(f, a, m) # se a e m tiverem sinais opostos, m será o novo final do intervalo\n",
    "            b = m\n",
    "        else\n",
    "            a = m # se b e m tiverem sinais opostos, m será o novo início do intervalo\n",
    "        end\n",
    "        passos = passos + 1\n",
    "    end\n",
    "    \n",
    "    x = media(a, b)\n",
    "    return x, passos\n",
    "end"
   ]
  },
  {
   "cell_type": "code",
   "execution_count": 6,
   "id": "048ce2a5-5caf-4941-ac4a-54b75483f6da",
   "metadata": {},
   "outputs": [
    {
     "data": {
      "text/plain": [
       "(3.162277666851878, 30)"
      ]
     },
     "execution_count": 6,
     "metadata": {},
     "output_type": "execute_result"
    }
   ],
   "source": [
    "# Queremos definir uma aproximação para sqrt(10), logo vamos utilizar f(x) = x^2 - 10 com o método da bisseção\n",
    "f(x) = x^2 - 10\n",
    "erro = 1e-8 \n",
    "tamanho = 2 * erro # tamanho final do intervalo é 2 vezes o erro, porque dessa forma o erro máximo será 10^⁻8\n",
    "\n",
    "bissecao(f, 0, 20, tamanho)"
   ]
  },
  {
   "cell_type": "markdown",
   "id": "6b01a0a9-cabb-43c4-b3c6-5f76bf69b8ae",
   "metadata": {},
   "source": [
    "Utilizando a implementação acima descobrimos que $\\sqrt{10} \\approx 3,16$ com um erro máximo de $10^{-8}$ e usando 30 passos."
   ]
  },
  {
   "cell_type": "markdown",
   "id": "543f2c07-b33b-42fd-94b2-9d6858dcdb13",
   "metadata": {},
   "source": [
    "### Exercício 1.2 | Misturando Bisseção e Newton"
   ]
  },
  {
   "cell_type": "markdown",
   "id": "50a2c085-45d0-42e3-b927-7cc3052f3f90",
   "metadata": {},
   "source": [
    "_________________________________________________________________________________________________________________________________________________________________________________________"
   ]
  },
  {
   "cell_type": "code",
   "execution_count": 7,
   "id": "f75a31f9-756a-44ab-b434-f55b921d9ccc",
   "metadata": {},
   "outputs": [
    {
     "data": {
      "text/plain": [
       "bissecao (generic function with 1 method)"
      ]
     },
     "execution_count": 7,
     "metadata": {},
     "output_type": "execute_result"
    }
   ],
   "source": [
    "# Função com o método da bisseção para calcular aproximações\n",
    "\n",
    "# -- Parâmetros --\n",
    "# f: função a ser aproximada\n",
    "# a: ponto inicial do intervalo\n",
    "# b: ponto final do intervalo\n",
    "# tamanho_final_do_intervalo: tamanho final do intervalo \n",
    "\n",
    "function bissecao(f, a, b, tamanho_final_do_intervalo) \n",
    "    iteracoes = floor(log2((b - a) / tamanho_final_do_intervalo)) + 1\n",
    "    \n",
    "    for i = 1:iteracoes\n",
    "        m = media(a, b)\n",
    "        \n",
    "        if eh_raiz(f, m)\n",
    "            return m\n",
    "        end\n",
    "        \n",
    "        if tem_sinais_opostos(f, a, m) # se a e m tiverem sinais opostos, m será o novo final do intervalo\n",
    "            b = m\n",
    "        else\n",
    "            a = m # se b e m tiverem sinais opostos, m será o novo início do intervalo\n",
    "        end\n",
    "    end\n",
    "    \n",
    "    x = media(a, b)\n",
    "    return x\n",
    "end"
   ]
  },
  {
   "cell_type": "code",
   "execution_count": 8,
   "id": "37b57c4b-c060-49e4-9102-767469b78631",
   "metadata": {},
   "outputs": [
    {
     "data": {
      "text/plain": [
       "newton (generic function with 1 method)"
      ]
     },
     "execution_count": 8,
     "metadata": {},
     "output_type": "execute_result"
    }
   ],
   "source": [
    "# Função iterativa com o método de Newton para calcular aproximações\n",
    "\n",
    "# -- Parâmetros --\n",
    "# iteracoes: o numero de iterações que o usuário deseja para aumentar a precisão\n",
    "# chute: o chute inicial necessário para o método\n",
    "# funcao: a função obtida com a manipulação da equação original\n",
    "# derivada: a derivada da função anterior\n",
    "\n",
    "function newton(iteracoes, chute, funcao, derivada) \n",
    "    for i = 1:iteracoes\n",
    "        chute = chute - (funcao(chute) / derivada(chute)) # atualiza o chute utilizando a formula do metodo de newton\n",
    "    end\n",
    "    return chute\n",
    "end"
   ]
  },
  {
   "cell_type": "code",
   "execution_count": 9,
   "id": "b1447370-504a-4bab-8582-f4fd1a546602",
   "metadata": {},
   "outputs": [
    {
     "data": {
      "text/plain": [
       "bissecao_newton (generic function with 1 method)"
      ]
     },
     "execution_count": 9,
     "metadata": {},
     "output_type": "execute_result"
    }
   ],
   "source": [
    "# Função misturando o método da bisseção e newton para encontrar uma raiz de um polinômio de grau 5\n",
    "\n",
    "# -- Parâmetros --\n",
    "# f: função polinomial que queremos descobrir a raiz\n",
    "# df: derivada da função anterior\n",
    "# a: ponto inicial do intervalo\n",
    "# b: ponto final do intervalo\n",
    "# tam: tamanho final do intervalo para o método da bisseção\n",
    "# iteracoes: número de iterações para o método de newton\n",
    "\n",
    "function bissecao_newton(f, df, a, b, tam, iteracoes) \n",
    "    \n",
    "    if eh_raiz(f, a) # se a for raiz da função então a eh uma aproximação\n",
    "        return a\n",
    "    end\n",
    "    if eh_raiz(f, b) # se b for raiz da função então a eh uma aproximação\n",
    "        return b\n",
    "    end\n",
    "    if !(tem_sinais_opostos(f, a, b)) # a e b precisam ter sinais opostos por causa do TVI\n",
    "        return \"Não tem sinais opostos\"\n",
    "    end\n",
    "    \n",
    "    # reduzindo o intervalo para 10^⁻2, conseguimos nosso chute inicial usando o método da bisseção\n",
    "    chute_inicial = bissecao(f, a, b, tam)\n",
    "    \n",
    "    # utilizando nosso chute inicial vamos agora usar o método de newton\n",
    "    newton(iteracoes, chute_inicial, f, df)\n",
    "end"
   ]
  },
  {
   "cell_type": "code",
   "execution_count": 10,
   "id": "61b5b606-7c50-4c1d-9112-7282a095882e",
   "metadata": {},
   "outputs": [
    {
     "data": {
      "text/plain": [
       "0.6009518591934586"
      ]
     },
     "execution_count": 10,
     "metadata": {},
     "output_type": "execute_result"
    }
   ],
   "source": [
    "# Podemos fazer com que f seja qualquer polinômio de grau 5. Utilizando um qualquer como exemplo teremos como saída uma de suas raízes.\n",
    "f(x) = x^5 - 3x^4 + 2x^3 - x^2 + 42x - 25 # polinômio de grau 5\n",
    "df(x) = 5x^4 - 12x^3 + 6x^2 - 2x + 42 # derivada do polinômio\n",
    "tam = 1e-2 # tamanho final do intervalo\n",
    "iteracoes_newton = 1\n",
    "\n",
    "bissecao_newton(f, df, -100, 100, tam, iteracoes_newton)"
   ]
  },
  {
   "cell_type": "markdown",
   "id": "dd2da50f-7303-4cfe-81cb-92038413bf83",
   "metadata": {},
   "source": [
    "### Exercício 1.3 | Revisão de conceitos"
   ]
  },
  {
   "cell_type": "markdown",
   "id": "624907a0-2e83-42e7-98eb-d81e9234d377",
   "metadata": {},
   "source": [
    "_________________________________________________________________________________________________________________________________________________________________________________________"
   ]
  },
  {
   "cell_type": "markdown",
   "id": "26e10a42-2256-4e93-ac27-1c8d554b6388",
   "metadata": {
    "tags": []
   },
   "source": [
    "### 1.3.2 | Newton"
   ]
  },
  {
   "cell_type": "markdown",
   "id": "a5e35eaf-91df-4dee-b6a2-5bfe7243f1f6",
   "metadata": {},
   "source": [
    "Queremos aproximar $ln(3)$ utilizando o método de Newton com 20 passos. Mas temos que considerar que apenas sabemos calcular $e^x$ para qualquer x, todas as propriedades de ln e todas as suas derivadas.\n",
    "    \n",
    "Como queremos saber $x = ln(3)$, pelas propriedades de ln sabemos que isso é o mesmo que saber $x$ tal que $e^x = 3$. Podemos então escrever uma função f tal que $f(x) = e^x - 3$ e queremos achar $f(x) = 0$. Para isso usaremos o método de Newton com 20 passos, conforme solicitado."
   ]
  },
  {
   "cell_type": "code",
   "execution_count": 11,
   "id": "9b3b0e5d-f5d8-42ca-81f9-6e9b9170aa5e",
   "metadata": {},
   "outputs": [
    {
     "data": {
      "text/plain": [
       "newton (generic function with 1 method)"
      ]
     },
     "execution_count": 11,
     "metadata": {},
     "output_type": "execute_result"
    }
   ],
   "source": [
    "# Função iterativa com o método de Newton para calcular aproximações\n",
    "\n",
    "# -- Parâmetros --\n",
    "# iteracoes: o numero de iterações que o usuário deseja para aumentar a precisão\n",
    "# chute: o chute inicial necessário para o método\n",
    "# funcao: a função obtida com a manipulação da equação original\n",
    "# derivada: a derivada da função anterior\n",
    "\n",
    "function newton(iteracoes, chute, funcao, derivada) \n",
    "    for i = 1:iteracoes\n",
    "        chute = chute - (funcao(chute) / derivada(chute)) # atualiza o chute utilizando a formula do metodo de newton\n",
    "    end\n",
    "    return chute\n",
    "end"
   ]
  },
  {
   "cell_type": "code",
   "execution_count": 12,
   "id": "77463401-8942-4987-b062-652f736a198a",
   "metadata": {},
   "outputs": [
    {
     "data": {
      "text/plain": [
       "1.0986122886681096"
      ]
     },
     "execution_count": 12,
     "metadata": {},
     "output_type": "execute_result"
    }
   ],
   "source": [
    "f(x) = MathConstants.e^x - 3 # pelas propriedades de ln, isso é o mesmo que calcular ln(3)\n",
    "df(x) = MathConstants.e^x\n",
    "chute_inicial = 1.0 # chutamos 1 porque ln(e) = 1, onde e ≃ 2,71, que é próximo de 3\n",
    "passos = 20\n",
    "\n",
    "newton(passos, chute_inicial, f, df)"
   ]
  },
  {
   "cell_type": "markdown",
   "id": "b1def039-3e51-4d62-8973-58300b0cee3c",
   "metadata": {},
   "source": [
    "Utilizando a função implementada acima, descobrimos que $x = ln(3) \\approx 1,0986122886681096$."
   ]
  },
  {
   "cell_type": "markdown",
   "id": "e1bbc9ba-7eb6-488a-b6c5-7b84ba93a953",
   "metadata": {},
   "source": [
    "### Exercício 1.4 | Calculando cosseno com interpolação"
   ]
  },
  {
   "cell_type": "markdown",
   "id": "46d744de-dc03-48a1-ac3b-6d378a6deb0a",
   "metadata": {},
   "source": [
    "_________________________________________________________________________________________________________________________________________________________________________________________"
   ]
  },
  {
   "cell_type": "markdown",
   "id": "12679bb5-2220-4d31-a8e1-2adc5cbbaabd",
   "metadata": {},
   "source": [
    "Queremos utilizar os dados da tabela para calcular cos(40°) usando interpolação.\n",
    "\n",
    "Não temos informação sobre o cosseno de 40° em si, porém sabemos valores relativamente próximos a esse ponto de interesse. Da tabela dada, temos os seguintes conjuntos de x's e y's:"
   ]
  },
  {
   "cell_type": "code",
   "execution_count": 13,
   "id": "8c1ed57d-b3ef-4344-8a63-659fccd49ea9",
   "metadata": {},
   "outputs": [
    {
     "data": {
      "text/plain": [
       "3-element Vector{Float64}:\n",
       " 0.8660254037844386\n",
       " 0.7071067811865476\n",
       " 0.5"
      ]
     },
     "execution_count": 13,
     "metadata": {},
     "output_type": "execute_result"
    }
   ],
   "source": [
    "x = [π/6; π/4; π/3]\n",
    "y = [sqrt(3)/2; sqrt(2)/2; 1/2]"
   ]
  },
  {
   "cell_type": "markdown",
   "id": "27145935-b8ad-4260-bcab-3c23551b0cb9",
   "metadata": {},
   "source": [
    "Como temos 3 pontos, podemos utilizar a função abaixo para obtermos um polinômio interpolador de grau 2. Assim, será possível estimar o valor de cos(40°)."
   ]
  },
  {
   "cell_type": "code",
   "execution_count": 14,
   "id": "8263aded-c25b-4f8d-9568-5c4d1e6db299",
   "metadata": {},
   "outputs": [
    {
     "data": {
      "text/plain": [
       "interpolacao (generic function with 1 method)"
      ]
     },
     "execution_count": 14,
     "metadata": {},
     "output_type": "execute_result"
    }
   ],
   "source": [
    "# Função para gerar os coeficientes do polinômio interpolador de uma função\n",
    "\n",
    "# -- Parâmetros --\n",
    "# x: conjunto de valores de x\n",
    "# y: conjunto de valores de y\n",
    "\n",
    "function interpolacao(x, y)\n",
    "    V=[x.^0 x.^1 x.^2] # matriz de Vandermonde\n",
    "    c = V \\ y # resolve o sistema linear Vc = y\n",
    "    return c # vetor de coeficientes\n",
    "end"
   ]
  },
  {
   "cell_type": "code",
   "execution_count": 15,
   "id": "20317452-23c9-458d-8d54-8ded2ac2beda",
   "metadata": {},
   "outputs": [
    {
     "data": {
      "text/plain": [
       "3-element Vector{Float64}:\n",
       "  1.0392981732142508\n",
       " -0.14686140578658105\n",
       " -0.3515386511338111"
      ]
     },
     "execution_count": 15,
     "metadata": {},
     "output_type": "execute_result"
    }
   ],
   "source": [
    "# Utilizando a função com os valores fornecidos pela tabela\n",
    "c = interpolacao(x, y)"
   ]
  },
  {
   "cell_type": "markdown",
   "id": "275cc479-b87c-4ef0-8a10-9b018530d7f7",
   "metadata": {},
   "source": [
    "Podemos utilizar agora a função auxiliar para avaliar um polinômio passando o valor $2\\pi/9$, que é o correspondente a 40° em radianos:"
   ]
  },
  {
   "cell_type": "code",
   "execution_count": 16,
   "id": "78d68cf9-780a-4259-803e-da05fbbf2ad5",
   "metadata": {},
   "outputs": [
    {
     "data": {
      "text/plain": [
       "avaliar_um_polinomio (generic function with 1 method)"
      ]
     },
     "execution_count": 16,
     "metadata": {},
     "output_type": "execute_result"
    }
   ],
   "source": [
    "# Função auxiliar para avaliar um polinômio\n",
    "\n",
    "# -- Parâmetros --\n",
    "# c: conjunto dos coeficientes do polinômio\n",
    "# x: ponto de interesse\n",
    "\n",
    "function avaliar_um_polinomio(c, x)\n",
    "    V = [x.^0 x.^1 x.^2]\n",
    "    y = V * c\n",
    "    return y\n",
    "end"
   ]
  },
  {
   "cell_type": "code",
   "execution_count": 17,
   "id": "1031eaa5-f110-4ed1-9778-407b25a1c330",
   "metadata": {},
   "outputs": [
    {
     "data": {
      "text/plain": [
       "1-element Vector{Float64}:\n",
       " 0.7654338952290288"
      ]
     },
     "execution_count": 17,
     "metadata": {},
     "output_type": "execute_result"
    }
   ],
   "source": [
    "# Queremos avaliar o valor de cos(40°) = cos(2pi/9), então fazemos\n",
    "avaliar_um_polinomio(c, 2*π/9)"
   ]
  },
  {
   "cell_type": "markdown",
   "id": "cfd7b5fd-a309-487b-80f4-7a15ca33cdd6",
   "metadata": {},
   "source": [
    "Fazendo isso, obtemos que cos(40°) $\\approx 0.7654338952290288$."
   ]
  },
  {
   "cell_type": "markdown",
   "id": "025cffa3-da42-46ab-bcfe-f242b4edbdfd",
   "metadata": {},
   "source": [
    "### Exercício 1.5 | Resolvendo um crime"
   ]
  },
  {
   "cell_type": "markdown",
   "id": "9737f325-8924-42eb-b890-c36199a4ac77",
   "metadata": {},
   "source": [
    "_________________________________________________________________________________________________________________________________________________________________________________________"
   ]
  },
  {
   "cell_type": "markdown",
   "id": "1905b6be-9618-4a81-a64d-4409f8310027",
   "metadata": {},
   "source": [
    "Queremos utilizar interpolação e o método da bisseção para descobrir o horário do assassinato. Para isso, podemos utilizar algumas informações importantes que o enunciado nos dá."
   ]
  },
  {
   "cell_type": "markdown",
   "id": "7e962079-9162-48d5-9297-33467957b7a7",
   "metadata": {},
   "source": [
    "#### Primeira abordagem: temperaturas em função dos tempos"
   ]
  },
  {
   "cell_type": "markdown",
   "id": "54e18580-20d6-4a4a-a9c3-6ec87953655e",
   "metadata": {},
   "source": [
    "Numa primeira abordagem, podemos colocar as temperaturas com funções do tempo e dessa forma considerar que $x = [0; 90; 150]$ e $y = [34; 30; 25]$. É importante salientar que utilizamos o primeiro tempo como $0$ porque é o primeiro instante que temos informação. Dito isso, sabemos que devemos esperar encontrar um valor negativo para o momento do assassinato, já que ele ocorreu antes da primeira medição do corpo (devemos por isso somar ao tempo inicial)."
   ]
  },
  {
   "cell_type": "code",
   "execution_count": 19,
   "id": "013230df-f130-4b55-a653-c2f3aadb2daa",
   "metadata": {},
   "outputs": [
    {
     "data": {
      "text/plain": [
       "3-element Vector{Int64}:\n",
       " 34\n",
       " 30\n",
       " 25"
      ]
     },
     "execution_count": 19,
     "metadata": {},
     "output_type": "execute_result"
    }
   ],
   "source": [
    "x = [0; 90; 150] # tempos\n",
    "y = [34; 30; 25] # temperaturas"
   ]
  },
  {
   "cell_type": "code",
   "execution_count": 20,
   "id": "86115136-bbad-4762-865e-449d685d35e5",
   "metadata": {},
   "outputs": [
    {
     "data": {
      "text/plain": [
       "3-element Vector{Float64}:\n",
       " 34.0\n",
       " -0.0211111111111111\n",
       " -0.0002592592592592593"
      ]
     },
     "execution_count": 20,
     "metadata": {},
     "output_type": "execute_result"
    }
   ],
   "source": [
    "c = interpolacao(x,y)"
   ]
  },
  {
   "cell_type": "code",
   "execution_count": 21,
   "id": "2fe19c80-bdd0-48eb-8b9a-9360e9e5c0bc",
   "metadata": {},
   "outputs": [
    {
     "data": {
      "text/plain": [
       "g (generic function with 1 method)"
      ]
     },
     "execution_count": 21,
     "metadata": {},
     "output_type": "execute_result"
    }
   ],
   "source": [
    "# Nosso polinômio de interesse. Queremos descobrir x tal que f(x) = 37. Com isso descobriremos quando ele foi assassinado.\n",
    "f(x) = c[1] + c[2]*x + c[3]*x^2\n",
    "g(x) = c[1] + c[2]*x + c[3]*x^2 - 37 # queremos descobrir a raiz dessa função"
   ]
  },
  {
   "cell_type": "code",
   "execution_count": 22,
   "id": "04783621-af4e-4d1c-bb13-86ad66830a65",
   "metadata": {},
   "outputs": [
    {
     "data": {
      "text/plain": [
       "34.429761904761904"
      ]
     },
     "execution_count": 22,
     "metadata": {},
     "output_type": "execute_result"
    }
   ],
   "source": [
    "yv = -(c[2]^2 - 4 * c[3] * c[1])/(4 * c[3]) # máximo global do polinômio"
   ]
  },
  {
   "cell_type": "code",
   "execution_count": 23,
   "id": "e7c9e7cd-4683-4b09-bcf3-23aa30f88e22",
   "metadata": {},
   "outputs": [
    {
     "data": {
      "text/plain": [
       "-40.71428571428569"
      ]
     },
     "execution_count": 23,
     "metadata": {},
     "output_type": "execute_result"
    }
   ],
   "source": [
    "xv = -(c[2])/(2 * c[3])"
   ]
  },
  {
   "cell_type": "markdown",
   "id": "a4071e4c-25d0-4089-89f7-54008d121af6",
   "metadata": {},
   "source": [
    "Utilizando a função $\\textit{interpolacao}$ com os valores de x e y acima, obtemos os coeficientes do polinômio interpolador: $c = [34.0; -5.486291130038816e-6; -0.0004937662017034935]$. Então nosso polinômio será $f(x) = c[1] + c[2]x + c[3]x^2$ e como queremos descobrir o momento do assassinato, queremos $f(x) = 37$, que é a temperatura normal do corpo. Para isso, poderíamos utilizar o método da bisseção para encontrar as raízes de $g(x) = f(x) - 37$.\n",
    "\n",
    "Porém, ao analisar o máximo global de $f$ percebemos que ele é menor que $37$, ou seja, a função nunca chega no valor desejado. Isso nos indica que o polinômio interpolador não modela bem a situação descrita do decaimento de temperatura. Essa primeira estratégia só nos permite afirmar que o assassinato ocorreu antes das 14:20, uma vez que $x_v \\approx -40$, o que indica que a temperatura máxima do corpo de 34,5° ocorreu cerca de 40 minutos antes da primeira medição."
   ]
  },
  {
   "cell_type": "markdown",
   "id": "643c5d92-7433-4cfe-ba39-dcf36a5d3455",
   "metadata": {},
   "source": [
    "Em caso de querermos mais precisão em relação ao horário do crime, podemos partir para uma segunda abordagem, colocando os tempos em função das temperaturas, considerando que $y = [0; 90; 150]$ e $x = [34; 30; 25]$."
   ]
  },
  {
   "cell_type": "markdown",
   "id": "cd37e383-77ba-4e99-9528-6bd3f8c1ad8e",
   "metadata": {},
   "source": [
    "#### Segunda abordagem: tempos em função das temperaturas"
   ]
  },
  {
   "cell_type": "markdown",
   "id": "7d7b0a1d-aaa5-4d2d-8654-ecbe7adb1440",
   "metadata": {},
   "source": [
    "É importante destacar que essa abordagem só é possível porque a temperatura de 37° só ocorre uma vez, que é o momento do assassinato. Depois disso a temperatura só cai e não existe a possibilidade de uma mesma temperatura estar associada a mais de um tempo (o que faria com que não fosse função)."
   ]
  },
  {
   "cell_type": "code",
   "execution_count": 24,
   "id": "d038f535-b106-42e5-80ac-ab4f38a35566",
   "metadata": {},
   "outputs": [
    {
     "data": {
      "text/plain": [
       "3-element Vector{Int64}:\n",
       " 34\n",
       " 30\n",
       " 25"
      ]
     },
     "execution_count": 24,
     "metadata": {},
     "output_type": "execute_result"
    }
   ],
   "source": [
    "y = [0; 90; 150] # tempos\n",
    "x = [34; 30; 25] # temperaturas"
   ]
  },
  {
   "cell_type": "code",
   "execution_count": 25,
   "id": "03f77808-a052-44c7-b5cf-22d93bad387c",
   "metadata": {},
   "outputs": [
    {
     "data": {
      "text/plain": [
       "3-element Vector{Float64}:\n",
       " -425.0000000000001\n",
       "   52.16666666666667\n",
       "   -1.1666666666666667"
      ]
     },
     "execution_count": 25,
     "metadata": {},
     "output_type": "execute_result"
    }
   ],
   "source": [
    "c = interpolacao(x,y)"
   ]
  },
  {
   "cell_type": "markdown",
   "id": "ab99a301-f54c-489a-babd-7186ccb3ebea",
   "metadata": {},
   "source": [
    "Usando a função de interpolação obtemos que $c = [-425.0000000000001; 52.16666666666667; -1.1666666666666667]$. Dessa vez, nosso polinômio também será $f(x) = c[1] + c[2]x + c[3]x^2$ mas como temos tempo em função da temperatura, basta calcularmos $f(37)$:"
   ]
  },
  {
   "cell_type": "code",
   "execution_count": 26,
   "id": "71ff7e6a-5ea0-48ab-82c7-d685132de210",
   "metadata": {},
   "outputs": [
    {
     "data": {
      "text/plain": [
       "-92.00000000000023"
      ]
     },
     "execution_count": 26,
     "metadata": {},
     "output_type": "execute_result"
    }
   ],
   "source": [
    "# Nosso polinômio de interesse. Queremos descobrir f(37). Com isso descobriremos quando ele foi assassinado.\n",
    "f(x) = c[1] + c[2]*x + c[3]*x^2\n",
    "f(37)"
   ]
  },
  {
   "cell_type": "markdown",
   "id": "2037d6bd-7024-4eab-ab6a-d8bac2d42149",
   "metadata": {},
   "source": [
    "Calculando obtemos $f(37) \\approx -92$. Isso indica que o assassinato ocorreu por volta de 92 minutos antes da primeira medição, que consideramos ser o ponto 0. Como a primeira medição ocorreu às 15h, temos $15:00 - 1:32 = 13:28$. Logo, nesse caso, estimamos que o assassinato ocorreu por volta das $13:28$."
   ]
  },
  {
   "cell_type": "markdown",
   "id": "4884b525-1a06-4c82-bd77-9ae5975de5ce",
   "metadata": {},
   "source": [
    "### Exercício 1.6 | Interpolação com duas variáveis"
   ]
  },
  {
   "cell_type": "markdown",
   "id": "3c21d3b1-e0eb-466c-83fb-4fa95a79cfb7",
   "metadata": {},
   "source": [
    "_________________________________________________________________________________________________________________________________________________________________________________________"
   ]
  },
  {
   "cell_type": "markdown",
   "id": "528d9993-8321-46f6-9281-d6385460c582",
   "metadata": {},
   "source": [
    "Dadas as informações da tabela, queremos determinar a melhor aproximação possível para a posição e a altura do maior pico ou menor vale (máximo e mínimo globais) para a função de duas variáveis dada. Da tabela, retiramos que:\n",
    "\n",
    "$\n",
    "    A_{00} = A(1,2) = 800 \\\\\n",
    "    A_{01} = A(1,4) = 400 \\\\\n",
    "    A_{10} = A(3,2) = 600 \\\\\n",
    "    A_{11} = A(3,4) = 500\n",
    "$"
   ]
  },
  {
   "cell_type": "markdown",
   "id": "0c3c49e3-3c03-46de-95e5-d2fa4aa7e988",
   "metadata": {},
   "source": [
    "Utilizando a ideia de Lagrange para duas variáveis vamos interpolar ambos os eixos x e y, com isso achamos que nosso polinômio interpolador será:\n",
    "\n",
    "$\n",
    "    P(x, y) = A_{00} \\frac{(x - x_1)(y - y_1)}{(x_0 - x_1)(y_0 - y_1)} + A_{01} \\frac{(x - x_1)(y - y_0)}{(x_0 - x_1)(y_1 - y_0)} + A_{10} \\frac{(x - x_0)(y - y_1)}{(x_1 - x_0)(y_0 - y_1)} + A_{11} \\frac{(x - x_0)(y - y_0)}{(x_1 - x_0)(y_1 - y_0)}\n",
    "$"
   ]
  },
  {
   "cell_type": "markdown",
   "id": "dcab8e97-756d-4f0b-b384-b1f881121f50",
   "metadata": {},
   "source": [
    "Substitindo os valores que tiramos da tabela obtemos:\n",
    "\n",
    "$\n",
    "    P(x, y) = 800 \\frac{(x - 3)(y - 4)}{(1 - 3)(2 - 4)} + 400 \\frac{(x - 3)(y - 2)}{(1 - 3)(4 - 2)} + 600 \\frac{(x - 1)(y - 4)}{(3 - 1)(2 - 4)} + 500 \\frac{(x - 1)(y - 2)}{(3 - 1)(4 - 2)} \n",
    "$"
   ]
  },
  {
   "cell_type": "markdown",
   "id": "5f949e7a-5f33-43e9-8eb0-b031f7b9cd7d",
   "metadata": {},
   "source": [
    "$\n",
    "    P(x, y) = 200 (x - 3)(y - 4) - 200 (x - 3)(y - 2) - 150 (x - 1)(y - 4) + 125 (x - 1)(y - 2) \\\\\n",
    "    ... \\\\\n",
    "    P(x, y) = -250x -275y + 75xy + 1450\n",
    "$"
   ]
  },
  {
   "cell_type": "markdown",
   "id": "eee1ffc3-1138-4357-9e7e-963169d88f94",
   "metadata": {},
   "source": [
    "Desenvolvendo chegamos no seguinte polinômio:\n",
    "$\n",
    "    P(x, y) = -250x -275y + 75xy + 1450\n",
    "$"
   ]
  },
  {
   "cell_type": "markdown",
   "id": "6b54b106-8bc3-4464-b889-fa4bfd3527f9",
   "metadata": {},
   "source": [
    "Como queremos encontrar a melhor aproximação para a posição e altura do maior pico ou vale, vamos ter que encontrar as derivadas parciais de primeira e segunda ordem da nossa função P(x) para encontrarmos seus máximos ou mínimos globais. \n",
    "\n",
    "Temos que as derivadas parciais de primeira ordem são:\n",
    "\n",
    "$P_x(x, y) = -250 + 75y \\\\\n",
    "P_y(x, y) = -275 + 75x$\n",
    "\n",
    "E as de segunda ordem:\n",
    "\n",
    "$P_{xx}(x, y) = 0 \\\\\n",
    "P_{yy}(x, y) = 0 \\\\\n",
    "P_{xy}(x, y) = 75$\n",
    "\n",
    "Para obtermos os pontos críticos da função, temos que igualar as derivadas parciais de primeira ordem a 0. Fazendo $P_x(x, y) = P_y(x, y) = 0$, temos:\n",
    "\n",
    "$P_x(x, y) = -250 + 75y \\implies y = \\frac{10}{3} \\\\\n",
    "P_y(x, y) = -275 + 75x \\implies x = \\frac{11}{3}$\n",
    "\n",
    "Com isso, encontramos o ponto crítico $(\\frac{11}{3}, \\frac{10}{3})$. Para descobrirmos se ele é ponto de máximo, mínimo ou de sela, vamos usar o teste da segunda derivada, que nos diz que, dado o ponto (a, b):\n",
    "\n",
    "- Se D > 0 e $P_{xx} < 0$, P tem um máximo local em (a, b)\n",
    "- Se D > 0 e $P_{xx} > 0$, P tem um mínimo local em (a, b)\n",
    "- Se D < 0, então P tem um ponto de sela em (a, b)\n",
    "- Se D = 0 o teste é inconclusivo\n",
    "\n",
    "onde D é o discriminante (hessiano). Utilizando a fórmula do discriminante temos:\n",
    "\n",
    "$D = f_{xx}f_{yy} - f_{xy}^2 = 0 - 75^2 = -5625$\n",
    "\n",
    "Pelo teste da segunda derivada, descobrimos que o ponto crítico é um ponto de sela. Mas além de testar os pontos críticos, precisamos também testar os extremos da função. Avaliando os pontos extremos temos:\n",
    "\n",
    "$\n",
    "    P(1, 2) = -250 * 1 - 275 * 2 + 75 * 1 * 2 + 1450 = 800 \\\\\n",
    "    P(1, 4) = -250 * 1 - 275 * 4 + 75 * 1 * 4 + 1450 = 400 \\\\\n",
    "    P(3, 2) = -250 * 3 - 275 * 2 + 75 * 3 * 2 + 1450 = 600 \\\\\n",
    "    P(3, 4) = -250 * 3 - 275 * 4 + 75 * 3 * 4 + 1450 = 500\n",
    "$\n",
    "\n",
    "Percebemos então que o ponto (1, 2) é um ponto de máximo local (pico) e o ponto (1, 4) é um ponto de mínimo local (vale). No contexto global não há mínimos nem máximos porque a função vai ao infinito."
   ]
  },
  {
   "cell_type": "markdown",
   "id": "5bdcf918-a341-4a76-b93d-cf19d89d4c22",
   "metadata": {
    "tags": []
   },
   "source": [
    "### Exercício 1.7 | Exercício de Arte"
   ]
  },
  {
   "cell_type": "markdown",
   "id": "2b1437f2-2431-4ba1-9090-fc24ffda2923",
   "metadata": {},
   "source": [
    "_________________________________________________________________________________________________________________________________________________________________________________________"
   ]
  },
  {
   "cell_type": "code",
   "execution_count": 27,
   "id": "f0ad5ee0-6334-46bb-9c3c-1915014ddee7",
   "metadata": {},
   "outputs": [],
   "source": [
    "using Plots"
   ]
  },
  {
   "cell_type": "markdown",
   "id": "3932ded0-0708-41a4-b6d3-1586e7b85804",
   "metadata": {},
   "source": [
    "Temos que representar o seguinte sistema linear e resolvê-lo para encontrarmos os valores de $[a, b, c, d, e, f, g, h]$, que são a variáveis do nosso sistema e os coeficientes dos polinômios P e Q de grau 3 que somaremos para obter o polinômio final.\n",
    "    \n",
    "$\n",
    "    P(x1) = y1 \\implies a + b * x[1] + c * x[1]^2 + d * x[1]^3 = y[1] \\\\\n",
    "    P(x2) = y2 \\implies a + b * x[2] + c * x[2]^2 + d * x[2]^3 = y[2] \\\\\n",
    "    P(x3) = y3 \\implies a + b * x[3] + c * x[3]^2 + d * x[3]^3 = y[3] \\\\ \n",
    "    Q(x3) = y3 \\implies e + f * x[3] + g * x[3]^2 + h * x[3]^3 = y[3] \\\\\n",
    "    Q(x4) = y4 \\implies e + f * x[4] + g * x[4]^2 + h * x[4]^3 = y[4] \\\\\n",
    "    Q(x5) = y5 \\implies e + f * x[5] + g * x[5]^2 + h * x[5]^3 = y[5] \\\\\n",
    "    P'(x3) = Q'(x3) \\implies b + 2 * c * x[3] + 3 * d * x[3]^2 = f + 2 * g * x[3] + 3 * h * x[3]^2 \\\\\n",
    "    P\"(x3) = Q\"(x3) \\implies 2 * c + 6 * d * x[3] = 2 * g + 6 * h * x[3] \n",
    "$"
   ]
  },
  {
   "cell_type": "markdown",
   "id": "1d988bff-c529-49a9-adf8-8cecff6cf4e2",
   "metadata": {},
   "source": [
    "Como a função deve receber 5 pontos, vamos declarar 5 pontos x e 5 pontos y:"
   ]
  },
  {
   "cell_type": "code",
   "execution_count": 28,
   "id": "385f6182-68cb-4115-833f-52c904c31f2c",
   "metadata": {},
   "outputs": [
    {
     "data": {
      "text/plain": [
       "5-element Vector{Int64}:\n",
       " 0\n",
       " 2\n",
       " 0\n",
       " 4\n",
       " 0"
      ]
     },
     "execution_count": 28,
     "metadata": {},
     "output_type": "execute_result"
    }
   ],
   "source": [
    "x = [0; 2; 4; 6; 8]\n",
    "y = [0; 2; 0; 4; 0]"
   ]
  },
  {
   "cell_type": "code",
   "execution_count": 29,
   "id": "315d1241-3ec2-43ab-aa64-40b47fcad7da",
   "metadata": {},
   "outputs": [
    {
     "data": {
      "text/plain": [
       "interpolacao_por_partes (generic function with 1 method)"
      ]
     },
     "execution_count": 29,
     "metadata": {},
     "output_type": "execute_result"
    }
   ],
   "source": [
    "# Função para realizar a interpolação por partes\n",
    "\n",
    "# -- Parâmetros --\n",
    "# x: conjunto de pontos x\n",
    "# y: conjunto de pontos y\n",
    "\n",
    "function interpolacao_por_partes(x, y)\n",
    "    \n",
    "    # matriz com os coeficientes das equações\n",
    "    A = [\n",
    "        1 x[1] x[1]^2 x[1]^3 0 0 0 0; \n",
    "        1 x[2] x[2]^2 x[2]^3 0 0 0 0;\n",
    "        1 x[3] x[3]^2 x[3]^3 0 0 0 0;\n",
    "        0 0 0 0 1 x[3] x[3]^2 x[3]^3;\n",
    "        0 0 0 0 1 x[4] x[4]^2 x[4]^3;\n",
    "        0 0 0 0 1 x[5] x[5]^2 x[5]^3;\n",
    "        0 1 2*x[3] 3*x[3]^2 0 -1 -2*x[3] -3*x[3]^2;\n",
    "        0 0 2 6*x[3] 0 0 -2 -6*x[3]\n",
    "    ]\n",
    "    \n",
    "    # matriz de variáveis\n",
    "    y = [\n",
    "        y[1];\n",
    "        y[2];\n",
    "        y[3];\n",
    "        y[3];\n",
    "        y[4];\n",
    "        y[5];\n",
    "        0;\n",
    "        0\n",
    "    ]\n",
    "    \n",
    "    c = A \\ y # resolve o sistema linear Ac = y que representa o sistema anterior\n",
    "    \n",
    "    return c # retorna uma lista com os coeficientes para os polinômios\n",
    "\n",
    "end "
   ]
  },
  {
   "cell_type": "code",
   "execution_count": 31,
   "id": "9ba7cbca-8298-4701-abde-8f246d330dad",
   "metadata": {},
   "outputs": [
    {
     "data": {
      "text/plain": [
       "imprime_graficos (generic function with 1 method)"
      ]
     },
     "execution_count": 31,
     "metadata": {},
     "output_type": "execute_result"
    }
   ],
   "source": [
    "# Função para plotar os gráficos\n",
    "\n",
    "# -- Parâmetros --\n",
    "# c: coeficientes dos polinômios\n",
    "\n",
    "function imprime_graficos(c)\n",
    "    \n",
    "    # Vamos utilizar dois polinômios de grau 3 que passam pelos pontos de interesse\n",
    "    P(x) = c[1] + c[2] * x + c[3] * x^2 + c[4] * x^3 # P(x) = a + b * x + c * x^2 + d * x^3\n",
    "    Q(x) = c[5] + c[6] * x + c[7] * x^2 + c[8] * x^3 # Q(x) = e + f * x + g * x^2 + h * x^3\n",
    "    \n",
    "    plot(P, x[1], x[3],\n",
    "        lw=2,\n",
    "        label=\"P(x)\",\n",
    "        legend=:bottomleft,\n",
    "        color=:purple\n",
    "    )\n",
    "    \n",
    "    plot!(Q, x[3], x[5],\n",
    "        lw=2,\n",
    "        label=\"Q(x)\",\n",
    "        color=:black\n",
    "    )\n",
    "    \n",
    "    plot!(x, y, \n",
    "        label=\"Pontos\",\n",
    "        seriestype = :scatter, \n",
    "        color=:gray\n",
    "    )\n",
    "end "
   ]
  },
  {
   "cell_type": "code",
   "execution_count": 32,
   "id": "34020a3f-35b0-4f79-9856-6f019cd8e2de",
   "metadata": {},
   "outputs": [
    {
     "data": {
      "text/plain": [
       "8-element Vector{Float64}:\n",
       "   0.0\n",
       "   4.666666666666665\n",
       "  -2.499999999999999\n",
       "   0.3333333333333332\n",
       "  47.99999999999997\n",
       " -31.333333333333314\n",
       "   6.4999999999999964\n",
       "  -0.41666666666666646"
      ]
     },
     "execution_count": 32,
     "metadata": {},
     "output_type": "execute_result"
    }
   ],
   "source": [
    "c = interpolacao_por_partes(x, y)"
   ]
  },
  {
   "cell_type": "code",
   "execution_count": 33,
   "id": "87db6446-c4fa-4300-be66-23ccbe45cf5b",
   "metadata": {},
   "outputs": [
    {
     "data": {
      "image/svg+xml": [
       "<?xml version=\"1.0\" encoding=\"utf-8\"?>\n",
       "<svg xmlns=\"http://www.w3.org/2000/svg\" xmlns:xlink=\"http://www.w3.org/1999/xlink\" width=\"600\" height=\"400\" viewBox=\"0 0 2400 1600\">\n",
       "<defs>\n",
       "  <clipPath id=\"clip890\">\n",
       "    <rect x=\"0\" y=\"0\" width=\"2400\" height=\"1600\"/>\n",
       "  </clipPath>\n",
       "</defs>\n",
       "<path clip-path=\"url(#clip890)\" d=\"\n",
       "M0 1600 L2400 1600 L2400 0 L0 0  Z\n",
       "  \" fill=\"#ffffff\" fill-rule=\"evenodd\" fill-opacity=\"1\"/>\n",
       "<defs>\n",
       "  <clipPath id=\"clip891\">\n",
       "    <rect x=\"480\" y=\"0\" width=\"1681\" height=\"1600\"/>\n",
       "  </clipPath>\n",
       "</defs>\n",
       "<path clip-path=\"url(#clip890)\" d=\"\n",
       "M112.177 1486.45 L2352.76 1486.45 L2352.76 47.2441 L112.177 47.2441  Z\n",
       "  \" fill=\"#ffffff\" fill-rule=\"evenodd\" fill-opacity=\"1\"/>\n",
       "<defs>\n",
       "  <clipPath id=\"clip892\">\n",
       "    <rect x=\"112\" y=\"47\" width=\"2242\" height=\"1440\"/>\n",
       "  </clipPath>\n",
       "</defs>\n",
       "<polyline clip-path=\"url(#clip892)\" style=\"stroke:#000000; stroke-linecap:butt; stroke-linejoin:round; stroke-width:2; stroke-opacity:0.1; fill:none\" points=\"\n",
       "  175.59,1486.45 175.59,47.2441 \n",
       "  \"/>\n",
       "<polyline clip-path=\"url(#clip892)\" style=\"stroke:#000000; stroke-linecap:butt; stroke-linejoin:round; stroke-width:2; stroke-opacity:0.1; fill:none\" points=\"\n",
       "  704.028,1486.45 704.028,47.2441 \n",
       "  \"/>\n",
       "<polyline clip-path=\"url(#clip892)\" style=\"stroke:#000000; stroke-linecap:butt; stroke-linejoin:round; stroke-width:2; stroke-opacity:0.1; fill:none\" points=\"\n",
       "  1232.47,1486.45 1232.47,47.2441 \n",
       "  \"/>\n",
       "<polyline clip-path=\"url(#clip892)\" style=\"stroke:#000000; stroke-linecap:butt; stroke-linejoin:round; stroke-width:2; stroke-opacity:0.1; fill:none\" points=\"\n",
       "  1760.9,1486.45 1760.9,47.2441 \n",
       "  \"/>\n",
       "<polyline clip-path=\"url(#clip892)\" style=\"stroke:#000000; stroke-linecap:butt; stroke-linejoin:round; stroke-width:2; stroke-opacity:0.1; fill:none\" points=\"\n",
       "  2289.34,1486.45 2289.34,47.2441 \n",
       "  \"/>\n",
       "<polyline clip-path=\"url(#clip890)\" style=\"stroke:#000000; stroke-linecap:butt; stroke-linejoin:round; stroke-width:4; stroke-opacity:1; fill:none\" points=\"\n",
       "  112.177,1486.45 2352.76,1486.45 \n",
       "  \"/>\n",
       "<polyline clip-path=\"url(#clip890)\" style=\"stroke:#000000; stroke-linecap:butt; stroke-linejoin:round; stroke-width:4; stroke-opacity:1; fill:none\" points=\"\n",
       "  175.59,1486.45 175.59,1467.55 \n",
       "  \"/>\n",
       "<polyline clip-path=\"url(#clip890)\" style=\"stroke:#000000; stroke-linecap:butt; stroke-linejoin:round; stroke-width:4; stroke-opacity:1; fill:none\" points=\"\n",
       "  704.028,1486.45 704.028,1467.55 \n",
       "  \"/>\n",
       "<polyline clip-path=\"url(#clip890)\" style=\"stroke:#000000; stroke-linecap:butt; stroke-linejoin:round; stroke-width:4; stroke-opacity:1; fill:none\" points=\"\n",
       "  1232.47,1486.45 1232.47,1467.55 \n",
       "  \"/>\n",
       "<polyline clip-path=\"url(#clip890)\" style=\"stroke:#000000; stroke-linecap:butt; stroke-linejoin:round; stroke-width:4; stroke-opacity:1; fill:none\" points=\"\n",
       "  1760.9,1486.45 1760.9,1467.55 \n",
       "  \"/>\n",
       "<polyline clip-path=\"url(#clip890)\" style=\"stroke:#000000; stroke-linecap:butt; stroke-linejoin:round; stroke-width:4; stroke-opacity:1; fill:none\" points=\"\n",
       "  2289.34,1486.45 2289.34,1467.55 \n",
       "  \"/>\n",
       "<path clip-path=\"url(#clip890)\" d=\"M175.59 1517.37 Q171.979 1517.37 170.15 1520.93 Q168.344 1524.47 168.344 1531.6 Q168.344 1538.71 170.15 1542.27 Q171.979 1545.82 175.59 1545.82 Q179.224 1545.82 181.03 1542.27 Q182.858 1538.71 182.858 1531.6 Q182.858 1524.47 181.03 1520.93 Q179.224 1517.37 175.59 1517.37 M175.59 1513.66 Q181.4 1513.66 184.455 1518.27 Q187.534 1522.85 187.534 1531.6 Q187.534 1540.33 184.455 1544.94 Q181.4 1549.52 175.59 1549.52 Q169.78 1549.52 166.701 1544.94 Q163.645 1540.33 163.645 1531.6 Q163.645 1522.85 166.701 1518.27 Q169.78 1513.66 175.59 1513.66 Z\" fill=\"#000000\" fill-rule=\"evenodd\" fill-opacity=\"1\" /><path clip-path=\"url(#clip890)\" d=\"M698.681 1544.91 L715 1544.91 L715 1548.85 L693.056 1548.85 L693.056 1544.91 Q695.718 1542.16 700.301 1537.53 Q704.908 1532.88 706.088 1531.53 Q708.334 1529.01 709.213 1527.27 Q710.116 1525.51 710.116 1523.82 Q710.116 1521.07 708.172 1519.33 Q706.25 1517.6 703.149 1517.6 Q700.949 1517.6 698.496 1518.36 Q696.065 1519.13 693.287 1520.68 L693.287 1515.95 Q696.112 1514.82 698.565 1514.24 Q701.019 1513.66 703.056 1513.66 Q708.426 1513.66 711.621 1516.35 Q714.815 1519.03 714.815 1523.52 Q714.815 1525.65 714.005 1527.57 Q713.218 1529.47 711.111 1532.07 Q710.533 1532.74 707.431 1535.95 Q704.329 1539.15 698.681 1544.91 Z\" fill=\"#000000\" fill-rule=\"evenodd\" fill-opacity=\"1\" /><path clip-path=\"url(#clip890)\" d=\"M1235.48 1518.36 L1223.67 1536.81 L1235.48 1536.81 L1235.48 1518.36 M1234.25 1514.29 L1240.13 1514.29 L1240.13 1536.81 L1245.06 1536.81 L1245.06 1540.7 L1240.13 1540.7 L1240.13 1548.85 L1235.48 1548.85 L1235.48 1540.7 L1219.87 1540.7 L1219.87 1536.19 L1234.25 1514.29 Z\" fill=\"#000000\" fill-rule=\"evenodd\" fill-opacity=\"1\" /><path clip-path=\"url(#clip890)\" d=\"M1761.31 1529.7 Q1758.16 1529.7 1756.31 1531.86 Q1754.48 1534.01 1754.48 1537.76 Q1754.48 1541.49 1756.31 1543.66 Q1758.16 1545.82 1761.31 1545.82 Q1764.46 1545.82 1766.29 1543.66 Q1768.14 1541.49 1768.14 1537.76 Q1768.14 1534.01 1766.29 1531.86 Q1764.46 1529.7 1761.31 1529.7 M1770.59 1515.05 L1770.59 1519.31 Q1768.83 1518.48 1767.03 1518.04 Q1765.25 1517.6 1763.49 1517.6 Q1758.86 1517.6 1756.4 1520.72 Q1753.97 1523.85 1753.62 1530.17 Q1754.99 1528.15 1757.05 1527.09 Q1759.11 1526 1761.59 1526 Q1766.8 1526 1769.81 1529.17 Q1772.84 1532.32 1772.84 1537.76 Q1772.84 1543.08 1769.69 1546.3 Q1766.54 1549.52 1761.31 1549.52 Q1755.31 1549.52 1752.14 1544.94 Q1748.97 1540.33 1748.97 1531.6 Q1748.97 1523.41 1752.86 1518.55 Q1756.75 1513.66 1763.3 1513.66 Q1765.06 1513.66 1766.84 1514.01 Q1768.65 1514.36 1770.59 1515.05 Z\" fill=\"#000000\" fill-rule=\"evenodd\" fill-opacity=\"1\" /><path clip-path=\"url(#clip890)\" d=\"M2289.34 1532.44 Q2286.01 1532.44 2284.09 1534.22 Q2282.19 1536 2282.19 1539.13 Q2282.19 1542.25 2284.09 1544.03 Q2286.01 1545.82 2289.34 1545.82 Q2292.68 1545.82 2294.6 1544.03 Q2296.52 1542.23 2296.52 1539.13 Q2296.52 1536 2294.6 1534.22 Q2292.7 1532.44 2289.34 1532.44 M2284.67 1530.45 Q2281.66 1529.7 2279.97 1527.64 Q2278.3 1525.58 2278.3 1522.62 Q2278.3 1518.48 2281.24 1516.07 Q2284.2 1513.66 2289.34 1513.66 Q2294.51 1513.66 2297.45 1516.07 Q2300.38 1518.48 2300.38 1522.62 Q2300.38 1525.58 2298.7 1527.64 Q2297.03 1529.7 2294.04 1530.45 Q2297.42 1531.23 2299.3 1533.52 Q2301.2 1535.82 2301.2 1539.13 Q2301.2 1544.15 2298.12 1546.83 Q2295.06 1549.52 2289.34 1549.52 Q2283.63 1549.52 2280.55 1546.83 Q2277.49 1544.15 2277.49 1539.13 Q2277.49 1535.82 2279.39 1533.52 Q2281.29 1531.23 2284.67 1530.45 M2282.95 1523.06 Q2282.95 1525.75 2284.62 1527.25 Q2286.31 1528.76 2289.34 1528.76 Q2292.35 1528.76 2294.04 1527.25 Q2295.76 1525.75 2295.76 1523.06 Q2295.76 1520.38 2294.04 1518.87 Q2292.35 1517.37 2289.34 1517.37 Q2286.31 1517.37 2284.62 1518.87 Q2282.95 1520.38 2282.95 1523.06 Z\" fill=\"#000000\" fill-rule=\"evenodd\" fill-opacity=\"1\" /><polyline clip-path=\"url(#clip892)\" style=\"stroke:#000000; stroke-linecap:butt; stroke-linejoin:round; stroke-width:2; stroke-opacity:0.1; fill:none\" points=\"\n",
       "  112.177,1423.01 2352.76,1423.01 \n",
       "  \"/>\n",
       "<polyline clip-path=\"url(#clip892)\" style=\"stroke:#000000; stroke-linecap:butt; stroke-linejoin:round; stroke-width:2; stroke-opacity:0.1; fill:none\" points=\"\n",
       "  112.177,1129.59 2352.76,1129.59 \n",
       "  \"/>\n",
       "<polyline clip-path=\"url(#clip892)\" style=\"stroke:#000000; stroke-linecap:butt; stroke-linejoin:round; stroke-width:2; stroke-opacity:0.1; fill:none\" points=\"\n",
       "  112.177,836.167 2352.76,836.167 \n",
       "  \"/>\n",
       "<polyline clip-path=\"url(#clip892)\" style=\"stroke:#000000; stroke-linecap:butt; stroke-linejoin:round; stroke-width:2; stroke-opacity:0.1; fill:none\" points=\"\n",
       "  112.177,542.744 2352.76,542.744 \n",
       "  \"/>\n",
       "<polyline clip-path=\"url(#clip892)\" style=\"stroke:#000000; stroke-linecap:butt; stroke-linejoin:round; stroke-width:2; stroke-opacity:0.1; fill:none\" points=\"\n",
       "  112.177,249.321 2352.76,249.321 \n",
       "  \"/>\n",
       "<polyline clip-path=\"url(#clip890)\" style=\"stroke:#000000; stroke-linecap:butt; stroke-linejoin:round; stroke-width:4; stroke-opacity:1; fill:none\" points=\"\n",
       "  112.177,1486.45 112.177,47.2441 \n",
       "  \"/>\n",
       "<polyline clip-path=\"url(#clip890)\" style=\"stroke:#000000; stroke-linecap:butt; stroke-linejoin:round; stroke-width:4; stroke-opacity:1; fill:none\" points=\"\n",
       "  112.177,1423.01 131.075,1423.01 \n",
       "  \"/>\n",
       "<polyline clip-path=\"url(#clip890)\" style=\"stroke:#000000; stroke-linecap:butt; stroke-linejoin:round; stroke-width:4; stroke-opacity:1; fill:none\" points=\"\n",
       "  112.177,1129.59 131.075,1129.59 \n",
       "  \"/>\n",
       "<polyline clip-path=\"url(#clip890)\" style=\"stroke:#000000; stroke-linecap:butt; stroke-linejoin:round; stroke-width:4; stroke-opacity:1; fill:none\" points=\"\n",
       "  112.177,836.167 131.075,836.167 \n",
       "  \"/>\n",
       "<polyline clip-path=\"url(#clip890)\" style=\"stroke:#000000; stroke-linecap:butt; stroke-linejoin:round; stroke-width:4; stroke-opacity:1; fill:none\" points=\"\n",
       "  112.177,542.744 131.075,542.744 \n",
       "  \"/>\n",
       "<polyline clip-path=\"url(#clip890)\" style=\"stroke:#000000; stroke-linecap:butt; stroke-linejoin:round; stroke-width:4; stroke-opacity:1; fill:none\" points=\"\n",
       "  112.177,249.321 131.075,249.321 \n",
       "  \"/>\n",
       "<path clip-path=\"url(#clip890)\" d=\"M64.2328 1408.81 Q60.6217 1408.81 58.793 1412.38 Q56.9875 1415.92 56.9875 1423.05 Q56.9875 1430.15 58.793 1433.72 Q60.6217 1437.26 64.2328 1437.26 Q67.867 1437.26 69.6726 1433.72 Q71.5013 1430.15 71.5013 1423.05 Q71.5013 1415.92 69.6726 1412.38 Q67.867 1408.81 64.2328 1408.81 M64.2328 1405.11 Q70.0429 1405.11 73.0985 1409.71 Q76.1772 1414.3 76.1772 1423.05 Q76.1772 1431.77 73.0985 1436.38 Q70.0429 1440.96 64.2328 1440.96 Q58.4226 1440.96 55.344 1436.38 Q52.2884 1431.77 52.2884 1423.05 Q52.2884 1414.3 55.344 1409.71 Q58.4226 1405.11 64.2328 1405.11 Z\" fill=\"#000000\" fill-rule=\"evenodd\" fill-opacity=\"1\" /><path clip-path=\"url(#clip890)\" d=\"M56.2699 1142.93 L63.9087 1142.93 L63.9087 1116.57 L55.5986 1118.24 L55.5986 1113.98 L63.8624 1112.31 L68.5383 1112.31 L68.5383 1142.93 L76.1772 1142.93 L76.1772 1146.87 L56.2699 1146.87 L56.2699 1142.93 Z\" fill=\"#000000\" fill-rule=\"evenodd\" fill-opacity=\"1\" /><path clip-path=\"url(#clip890)\" d=\"M59.8578 849.511 L76.1772 849.511 L76.1772 853.447 L54.2328 853.447 L54.2328 849.511 Q56.8949 846.757 61.4782 842.127 Q66.0846 837.474 67.2652 836.132 Q69.5105 833.609 70.3902 831.873 Q71.2929 830.113 71.2929 828.423 Q71.2929 825.669 69.3485 823.933 Q67.4272 822.197 64.3254 822.197 Q62.1263 822.197 59.6726 822.961 Q57.2421 823.724 54.4643 825.275 L54.4643 820.553 Q57.2884 819.419 59.7421 818.84 Q62.1958 818.262 64.2328 818.262 Q69.6031 818.262 72.7976 820.947 Q75.992 823.632 75.992 828.123 Q75.992 830.252 75.1818 832.173 Q74.3948 834.072 72.2883 836.664 Q71.7096 837.335 68.6078 840.553 Q65.5059 843.747 59.8578 849.511 Z\" fill=\"#000000\" fill-rule=\"evenodd\" fill-opacity=\"1\" /><path clip-path=\"url(#clip890)\" d=\"M69.0476 541.39 Q72.404 542.107 74.279 544.376 Q76.1772 546.644 76.1772 549.978 Q76.1772 555.093 72.6587 557.894 Q69.1402 560.695 62.6587 560.695 Q60.4828 560.695 58.168 560.255 Q55.8764 559.839 53.4227 558.982 L53.4227 554.468 Q55.3671 555.602 57.6819 556.181 Q59.9967 556.76 62.5198 556.76 Q66.918 556.76 69.2096 555.024 Q71.5244 553.288 71.5244 549.978 Q71.5244 546.922 69.3717 545.209 Q67.242 543.473 63.4226 543.473 L59.3949 543.473 L59.3949 539.63 L63.6078 539.63 Q67.0569 539.63 68.8855 538.265 Q70.7142 536.876 70.7142 534.283 Q70.7142 531.621 68.8161 530.209 Q66.9411 528.774 63.4226 528.774 Q61.5013 528.774 59.3023 529.191 Q57.1032 529.607 54.4643 530.487 L54.4643 526.32 Q57.1264 525.58 59.4412 525.209 Q61.7791 524.839 63.8393 524.839 Q69.1633 524.839 72.2652 527.269 Q75.367 529.677 75.367 533.797 Q75.367 536.667 73.7235 538.658 Q72.08 540.626 69.0476 541.39 Z\" fill=\"#000000\" fill-rule=\"evenodd\" fill-opacity=\"1\" /><path clip-path=\"url(#clip890)\" d=\"M66.5939 236.115 L54.7884 254.564 L66.5939 254.564 L66.5939 236.115 M65.367 232.041 L71.2466 232.041 L71.2466 254.564 L76.1772 254.564 L76.1772 258.453 L71.2466 258.453 L71.2466 266.601 L66.5939 266.601 L66.5939 258.453 L50.9921 258.453 L50.9921 253.939 L65.367 232.041 Z\" fill=\"#000000\" fill-rule=\"evenodd\" fill-opacity=\"1\" /><polyline clip-path=\"url(#clip892)\" style=\"stroke:#800080; stroke-linecap:butt; stroke-linejoin:round; stroke-width:8; stroke-opacity:1; fill:none\" points=\"\n",
       "  175.59,1423.01 178.17,1409.71 180.75,1396.55 183.331,1383.52 185.911,1370.64 209.77,1257.94 233.629,1156.59 257.487,1066.15 281.346,986.184 295.684,942.991 \n",
       "  310.022,903.333 324.36,867.117 338.699,834.247 362.944,786.019 387.189,746.641 413.527,713.365 439.864,689.414 464.145,675.096 488.425,667.754 514.457,667.115 \n",
       "  540.488,673.411 570.648,688.639 600.808,711.55 627.611,737.653 654.413,768.522 677.917,799.03 701.42,832.319 752.67,912.553 804.225,1000.29 861.226,1100.26 \n",
       "  915.46,1193.06 971.851,1281.61 1019.32,1345.74 1048.3,1378.65 1077.28,1405.89 1104.52,1425.63 1131.75,1439.04 1153.57,1444.78 1175.39,1445.72 1197.21,1441.51 \n",
       "  1219.03,1431.83 1222.39,1429.84 1225.75,1427.7 1229.11,1425.43 1232.47,1423.01 \n",
       "  \"/>\n",
       "<polyline clip-path=\"url(#clip892)\" style=\"stroke:#000000; stroke-linecap:butt; stroke-linejoin:round; stroke-width:8; stroke-opacity:1; fill:none\" points=\"\n",
       "  1232.47,1423.01 1235.05,1421.06 1237.63,1419.02 1240.21,1416.91 1242.79,1414.71 1266.65,1390.61 1290.51,1360.1 1314.36,1323.73 1338.22,1282.04 1366.9,1225.65 \n",
       "  1395.58,1163.29 1419.82,1106.59 1444.07,1046.87 1496.74,909.375 1545.3,777.325 1597.36,635.435 1657.68,477.861 1711.29,350.689 1758.3,254.177 1783.92,209.027 \n",
       "  1809.55,169.998 1835.32,137.589 1861.1,112.732 1889.6,94.8616 1918.1,87.9763 1945.22,92.4645 1972.34,108.524 2000.53,138.345 2028.73,182.425 2052.46,231.239 \n",
       "  2076.2,291.32 2090.69,333.762 2105.17,380.722 2119.66,432.32 2134.15,488.679 2147.77,546.105 2161.39,607.945 2175.01,674.298 2188.63,745.266 2210.45,868.83 \n",
       "  2232.27,1004.91 2254.09,1153.92 2275.91,1316.26 2279.27,1342.46 2282.63,1368.98 2285.99,1395.83 2289.34,1423.01 \n",
       "  \"/>\n",
       "<circle clip-path=\"url(#clip892)\" cx=\"175.59\" cy=\"1423.01\" r=\"14\" fill=\"#808080\" fill-rule=\"evenodd\" fill-opacity=\"1\" stroke=\"#000000\" stroke-opacity=\"1\" stroke-width=\"3.2\"/>\n",
       "<circle clip-path=\"url(#clip892)\" cx=\"704.028\" cy=\"836.167\" r=\"14\" fill=\"#808080\" fill-rule=\"evenodd\" fill-opacity=\"1\" stroke=\"#000000\" stroke-opacity=\"1\" stroke-width=\"3.2\"/>\n",
       "<circle clip-path=\"url(#clip892)\" cx=\"1232.47\" cy=\"1423.01\" r=\"14\" fill=\"#808080\" fill-rule=\"evenodd\" fill-opacity=\"1\" stroke=\"#000000\" stroke-opacity=\"1\" stroke-width=\"3.2\"/>\n",
       "<circle clip-path=\"url(#clip892)\" cx=\"1760.9\" cy=\"249.321\" r=\"14\" fill=\"#808080\" fill-rule=\"evenodd\" fill-opacity=\"1\" stroke=\"#000000\" stroke-opacity=\"1\" stroke-width=\"3.2\"/>\n",
       "<circle clip-path=\"url(#clip892)\" cx=\"2289.34\" cy=\"1423.01\" r=\"14\" fill=\"#808080\" fill-rule=\"evenodd\" fill-opacity=\"1\" stroke=\"#000000\" stroke-opacity=\"1\" stroke-width=\"3.2\"/>\n",
       "<path clip-path=\"url(#clip890)\" d=\"\n",
       "M186.863 1438.47 L587.089 1438.47 L587.089 1231.11 L186.863 1231.11  Z\n",
       "  \" fill=\"#ffffff\" fill-rule=\"evenodd\" fill-opacity=\"1\"/>\n",
       "<polyline clip-path=\"url(#clip890)\" style=\"stroke:#000000; stroke-linecap:butt; stroke-linejoin:round; stroke-width:4; stroke-opacity:1; fill:none\" points=\"\n",
       "  186.863,1438.47 587.089,1438.47 587.089,1231.11 186.863,1231.11 186.863,1438.47 \n",
       "  \"/>\n",
       "<polyline clip-path=\"url(#clip890)\" style=\"stroke:#800080; stroke-linecap:butt; stroke-linejoin:round; stroke-width:4; stroke-opacity:1; fill:none\" points=\"\n",
       "  211.758,1282.95 361.13,1282.95 \n",
       "  \"/>\n",
       "<path clip-path=\"url(#clip890)\" d=\"M390.702 1269.52 L390.702 1282.5 L396.581 1282.5 Q399.845 1282.5 401.627 1280.81 Q403.41 1279.12 403.41 1276 Q403.41 1272.9 401.627 1271.21 Q399.845 1269.52 396.581 1269.52 L390.702 1269.52 M386.026 1265.67 L396.581 1265.67 Q402.391 1265.67 405.354 1268.31 Q408.34 1270.93 408.34 1276 Q408.34 1281.11 405.354 1283.73 Q402.391 1286.35 396.581 1286.35 L390.702 1286.35 L390.702 1300.23 L386.026 1300.23 L386.026 1265.67 Z\" fill=\"#000000\" fill-rule=\"evenodd\" fill-opacity=\"1\" /><path clip-path=\"url(#clip890)\" d=\"M424.66 1264.26 Q421.558 1269.59 420.053 1274.79 Q418.549 1280 418.549 1285.35 Q418.549 1290.7 420.053 1295.95 Q421.581 1301.18 424.66 1306.48 L420.956 1306.48 Q417.484 1301.04 415.748 1295.79 Q414.035 1290.54 414.035 1285.35 Q414.035 1280.19 415.748 1274.96 Q417.461 1269.73 420.956 1264.26 L424.66 1264.26 Z\" fill=\"#000000\" fill-rule=\"evenodd\" fill-opacity=\"1\" /><path clip-path=\"url(#clip890)\" d=\"M454.474 1274.31 L445.099 1286.92 L454.961 1300.23 L449.937 1300.23 L442.391 1290.05 L434.845 1300.23 L429.822 1300.23 L439.891 1286.67 L430.678 1274.31 L435.701 1274.31 L442.576 1283.54 L449.451 1274.31 L454.474 1274.31 Z\" fill=\"#000000\" fill-rule=\"evenodd\" fill-opacity=\"1\" /><path clip-path=\"url(#clip890)\" d=\"M460.308 1264.26 L464.011 1264.26 Q467.484 1269.73 469.197 1274.96 Q470.933 1280.19 470.933 1285.35 Q470.933 1290.54 469.197 1295.79 Q467.484 1301.04 464.011 1306.48 L460.308 1306.48 Q463.386 1301.18 464.891 1295.95 Q466.419 1290.7 466.419 1285.35 Q466.419 1280 464.891 1274.79 Q463.386 1269.59 460.308 1264.26 Z\" fill=\"#000000\" fill-rule=\"evenodd\" fill-opacity=\"1\" /><polyline clip-path=\"url(#clip890)\" style=\"stroke:#000000; stroke-linecap:butt; stroke-linejoin:round; stroke-width:4; stroke-opacity:1; fill:none\" points=\"\n",
       "  211.758,1334.79 361.13,1334.79 \n",
       "  \"/>\n",
       "<path clip-path=\"url(#clip890)\" d=\"M402.044 1320.69 Q396.952 1320.69 393.942 1324.48 Q390.956 1328.28 390.956 1334.83 Q390.956 1341.36 393.942 1345.15 Q396.952 1348.95 402.044 1348.95 Q407.137 1348.95 410.1 1345.15 Q413.086 1341.36 413.086 1334.83 Q413.086 1328.28 410.1 1324.48 Q407.137 1320.69 402.044 1320.69 M408.595 1351.45 L414.752 1358.19 L409.104 1358.19 L403.989 1352.65 Q403.225 1352.7 402.808 1352.72 Q402.414 1352.75 402.044 1352.75 Q394.752 1352.75 390.378 1347.88 Q386.026 1343 386.026 1334.83 Q386.026 1326.63 390.378 1321.77 Q394.752 1316.89 402.044 1316.89 Q409.313 1316.89 413.664 1321.77 Q418.016 1326.63 418.016 1334.83 Q418.016 1340.85 415.586 1345.13 Q413.178 1349.41 408.595 1351.45 Z\" fill=\"#000000\" fill-rule=\"evenodd\" fill-opacity=\"1\" /><path clip-path=\"url(#clip890)\" d=\"M435.377 1316.1 Q432.275 1321.43 430.771 1326.63 Q429.266 1331.84 429.266 1337.19 Q429.266 1342.54 430.771 1347.79 Q432.299 1353.02 435.377 1358.32 L431.674 1358.32 Q428.201 1352.88 426.465 1347.63 Q424.752 1342.38 424.752 1337.19 Q424.752 1332.03 426.465 1326.8 Q428.178 1321.57 431.674 1316.1 L435.377 1316.1 Z\" fill=\"#000000\" fill-rule=\"evenodd\" fill-opacity=\"1\" /><path clip-path=\"url(#clip890)\" d=\"M465.192 1326.15 L455.817 1338.76 L465.678 1352.07 L460.655 1352.07 L453.109 1341.89 L445.562 1352.07 L440.539 1352.07 L450.609 1338.51 L441.396 1326.15 L446.419 1326.15 L453.294 1335.38 L460.169 1326.15 L465.192 1326.15 Z\" fill=\"#000000\" fill-rule=\"evenodd\" fill-opacity=\"1\" /><path clip-path=\"url(#clip890)\" d=\"M471.025 1316.1 L474.729 1316.1 Q478.201 1321.57 479.914 1326.8 Q481.65 1332.03 481.65 1337.19 Q481.65 1342.38 479.914 1347.63 Q478.201 1352.88 474.729 1358.32 L471.025 1358.32 Q474.104 1353.02 475.609 1347.79 Q477.136 1342.54 477.136 1337.19 Q477.136 1331.84 475.609 1326.63 Q474.104 1321.43 471.025 1316.1 Z\" fill=\"#000000\" fill-rule=\"evenodd\" fill-opacity=\"1\" /><circle clip-path=\"url(#clip890)\" cx=\"286.444\" cy=\"1386.63\" r=\"23\" fill=\"#808080\" fill-rule=\"evenodd\" fill-opacity=\"1\" stroke=\"#000000\" stroke-opacity=\"1\" stroke-width=\"5.12\"/>\n",
       "<path clip-path=\"url(#clip890)\" d=\"M390.702 1373.2 L390.702 1386.18 L396.581 1386.18 Q399.845 1386.18 401.627 1384.49 Q403.41 1382.8 403.41 1379.68 Q403.41 1376.58 401.627 1374.89 Q399.845 1373.2 396.581 1373.2 L390.702 1373.2 M386.026 1369.35 L396.581 1369.35 Q402.391 1369.35 405.354 1371.99 Q408.34 1374.61 408.34 1379.68 Q408.34 1384.79 405.354 1387.41 Q402.391 1390.03 396.581 1390.03 L390.702 1390.03 L390.702 1403.91 L386.026 1403.91 L386.026 1369.35 Z\" fill=\"#000000\" fill-rule=\"evenodd\" fill-opacity=\"1\" /><path clip-path=\"url(#clip890)\" d=\"M422.785 1380.97 Q419.359 1380.97 417.368 1383.66 Q415.377 1386.32 415.377 1390.97 Q415.377 1395.63 417.345 1398.31 Q419.336 1400.97 422.785 1400.97 Q426.188 1400.97 428.178 1398.29 Q430.169 1395.6 430.169 1390.97 Q430.169 1386.37 428.178 1383.68 Q426.188 1380.97 422.785 1380.97 M422.785 1377.36 Q428.34 1377.36 431.512 1380.97 Q434.683 1384.59 434.683 1390.97 Q434.683 1397.34 431.512 1400.97 Q428.34 1404.59 422.785 1404.59 Q417.206 1404.59 414.035 1400.97 Q410.887 1397.34 410.887 1390.97 Q410.887 1384.59 414.035 1380.97 Q417.206 1377.36 422.785 1377.36 Z\" fill=\"#000000\" fill-rule=\"evenodd\" fill-opacity=\"1\" /><path clip-path=\"url(#clip890)\" d=\"M463.294 1388.27 L463.294 1403.91 L459.035 1403.91 L459.035 1388.41 Q459.035 1384.72 457.599 1382.9 Q456.164 1381.07 453.294 1381.07 Q449.845 1381.07 447.854 1383.27 Q445.863 1385.47 445.863 1389.26 L445.863 1403.91 L441.581 1403.91 L441.581 1377.99 L445.863 1377.99 L445.863 1382.02 Q447.391 1379.68 449.451 1378.52 Q451.535 1377.36 454.243 1377.36 Q458.71 1377.36 461.002 1380.14 Q463.294 1382.9 463.294 1388.27 Z\" fill=\"#000000\" fill-rule=\"evenodd\" fill-opacity=\"1\" /><path clip-path=\"url(#clip890)\" d=\"M476.002 1370.63 L476.002 1377.99 L484.775 1377.99 L484.775 1381.3 L476.002 1381.3 L476.002 1395.37 Q476.002 1398.54 476.859 1399.45 Q477.738 1400.35 480.4 1400.35 L484.775 1400.35 L484.775 1403.91 L480.4 1403.91 Q475.47 1403.91 473.595 1402.09 Q471.72 1400.23 471.72 1395.37 L471.72 1381.3 L468.595 1381.3 L468.595 1377.99 L471.72 1377.99 L471.72 1370.63 L476.002 1370.63 Z\" fill=\"#000000\" fill-rule=\"evenodd\" fill-opacity=\"1\" /><path clip-path=\"url(#clip890)\" d=\"M500.423 1380.97 Q496.997 1380.97 495.007 1383.66 Q493.016 1386.32 493.016 1390.97 Q493.016 1395.63 494.983 1398.31 Q496.974 1400.97 500.423 1400.97 Q503.826 1400.97 505.817 1398.29 Q507.807 1395.6 507.807 1390.97 Q507.807 1386.37 505.817 1383.68 Q503.826 1380.97 500.423 1380.97 M500.423 1377.36 Q505.979 1377.36 509.15 1380.97 Q512.321 1384.59 512.321 1390.97 Q512.321 1397.34 509.15 1400.97 Q505.979 1404.59 500.423 1404.59 Q494.845 1404.59 491.673 1400.97 Q488.525 1397.34 488.525 1390.97 Q488.525 1384.59 491.673 1380.97 Q494.845 1377.36 500.423 1377.36 Z\" fill=\"#000000\" fill-rule=\"evenodd\" fill-opacity=\"1\" /><path clip-path=\"url(#clip890)\" d=\"M535.909 1378.75 L535.909 1382.78 Q534.104 1381.85 532.159 1381.39 Q530.215 1380.93 528.131 1380.93 Q524.96 1380.93 523.363 1381.9 Q521.789 1382.87 521.789 1384.82 Q521.789 1386.3 522.923 1387.16 Q524.057 1387.99 527.483 1388.75 L528.942 1389.08 Q533.479 1390.05 535.377 1391.83 Q537.298 1393.59 537.298 1396.76 Q537.298 1400.37 534.428 1402.48 Q531.58 1404.59 526.58 1404.59 Q524.497 1404.59 522.229 1404.17 Q519.983 1403.78 517.483 1402.97 L517.483 1398.57 Q519.844 1399.79 522.136 1400.42 Q524.428 1401.02 526.673 1401.02 Q529.682 1401.02 531.303 1400 Q532.923 1398.96 532.923 1397.09 Q532.923 1395.35 531.742 1394.42 Q530.585 1393.5 526.627 1392.64 L525.145 1392.29 Q521.187 1391.46 519.428 1389.75 Q517.669 1388.01 517.669 1385 Q517.669 1381.35 520.261 1379.35 Q522.854 1377.36 527.622 1377.36 Q529.983 1377.36 532.067 1377.71 Q534.15 1378.06 535.909 1378.75 Z\" fill=\"#000000\" fill-rule=\"evenodd\" fill-opacity=\"1\" /></svg>\n"
      ]
     },
     "execution_count": 33,
     "metadata": {},
     "output_type": "execute_result"
    }
   ],
   "source": [
    "imprime_graficos(c)"
   ]
  }
 ],
 "metadata": {
  "kernelspec": {
   "display_name": "Julia 1.7.0",
   "language": "julia",
   "name": "julia-1.7"
  },
  "language_info": {
   "file_extension": ".jl",
   "mimetype": "application/julia",
   "name": "julia",
   "version": "1.7.0"
  }
 },
 "nbformat": 4,
 "nbformat_minor": 5
}
