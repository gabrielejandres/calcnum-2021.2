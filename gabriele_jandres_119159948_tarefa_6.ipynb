{
 "cells": [
  {
   "cell_type": "markdown",
   "id": "99c6803b-6048-4a25-9da7-0585abe856cf",
   "metadata": {},
   "source": [
    "## UFRJ | Cálculo Numérico | 2021.2"
   ]
  },
  {
   "cell_type": "markdown",
   "id": "28b55d2f-32a1-417d-86fd-fb06f51aef01",
   "metadata": {},
   "source": [
    "### Tarefa 6 | Gabriele Jandres | 119159948"
   ]
  },
  {
   "cell_type": "markdown",
   "id": "a93b3079-dd25-40a7-a8ba-6eb653bf59e6",
   "metadata": {},
   "source": [
    "#### Grupo (Q1 e Q3): Francisco Oliveira, Gabriele Jandres e Victor Cardoso"
   ]
  },
  {
   "cell_type": "markdown",
   "id": "afabcb0b-492b-4ee5-b6d2-ccc8ef7e64fa",
   "metadata": {},
   "source": [
    "#### Discussões com: Carlos Bravo, Francisco Oliveira, Victor Cardoso"
   ]
  },
  {
   "cell_type": "code",
   "execution_count": 1,
   "id": "5090e3fc-a2d3-45a4-83b3-24cf6de48dea",
   "metadata": {},
   "outputs": [],
   "source": [
    "using LinearAlgebra\n",
    "using Polynomials: Polynomial"
   ]
  },
  {
   "cell_type": "markdown",
   "id": "1d0297e5-cbaa-46c4-933e-8f4ed419c33d",
   "metadata": {},
   "source": [
    "### Exercício 1 | Biblioteca"
   ]
  },
  {
   "cell_type": "markdown",
   "id": "38e1e8e7-70d4-4d5b-a8d3-ccacdc0de051",
   "metadata": {},
   "source": [
    "_________________________________________________________________________________________________________________________________________________________________________________________"
   ]
  },
  {
   "cell_type": "markdown",
   "id": "bdf58423-9d9f-4e97-b848-97e7207d5910",
   "metadata": {},
   "source": [
    "#### Funções da biblioteca"
   ]
  },
  {
   "cell_type": "markdown",
   "id": "0ad828ae-15e5-43d7-8d4a-6cef26256d1e",
   "metadata": {},
   "source": [
    "##### i. Diagonal"
   ]
  },
  {
   "cell_type": "code",
   "execution_count": 2,
   "id": "caafdaa2-9ccb-4e84-ac78-32bd3b88eff4",
   "metadata": {},
   "outputs": [
    {
     "data": {
      "text/plain": [
       "resolve_diagonal (generic function with 1 method)"
      ]
     },
     "execution_count": 2,
     "metadata": {},
     "output_type": "execute_result"
    }
   ],
   "source": [
    "# Função para resolver um sistema diagonal\n",
    "\n",
    "# -- Parâmetros --\n",
    "# A: matriz diagonal n x n\n",
    "# b: matriz coluna de resultados\n",
    "\n",
    "# -- Retorno --\n",
    "# x: x tal que Ax = b\n",
    "\n",
    "function resolve_diagonal(A, b) \n",
    "    n, = size(A) # dimensão da matriz A\n",
    "    x = zeros(n, 1) # criamos uma matriz coluna n x 1\n",
    "    \n",
    "    for i = 1:n\n",
    "        x[i] = b[i] / A[i, i] # elemento da matriz de resultados dividido pela posição correspondente na diagonal\n",
    "    end\n",
    "    \n",
    "    return x\n",
    "end"
   ]
  },
  {
   "cell_type": "markdown",
   "id": "bee4eba4-f216-45cf-b257-29eab061752b",
   "metadata": {},
   "source": [
    "##### ii. Triangular superior"
   ]
  },
  {
   "cell_type": "code",
   "execution_count": 3,
   "id": "cb94ae5c-8a34-4006-a1fb-412a479107cf",
   "metadata": {},
   "outputs": [
    {
     "data": {
      "text/plain": [
       "resolve_triangular_superior (generic function with 1 method)"
      ]
     },
     "execution_count": 3,
     "metadata": {},
     "output_type": "execute_result"
    }
   ],
   "source": [
    "# Função para resolver um sistema triangular superior n x n por susbtituição reversa\n",
    "\n",
    "# -- Parâmetros --\n",
    "# U: matriz triangular onde os elementos da diagonal são diferentes de zero\n",
    "# b: matriz coluna de resultados\n",
    "\n",
    "# -- Retorno --\n",
    "# x: x tal que Ux = b\n",
    "\n",
    "function resolve_triangular_superior(U, b)     \n",
    "    n, = size(U) # dimensão da matriz U\n",
    "    x = zeros(n, 1) # criamos uma matriz coluna n x 1\n",
    "    \n",
    "    # resolução do sistema por substituição reversa\n",
    "    for i = reverse(1:n)\n",
    "        x[i] = b[i]\n",
    "        for j = reverse(i + 1:n)\n",
    "            x[i] -= U[i, j] * x[j]\n",
    "        end\n",
    "        x[i] /= U[i, i]\n",
    "    end\n",
    "    \n",
    "    return x \n",
    "end"
   ]
  },
  {
   "cell_type": "markdown",
   "id": "94024aa9-2b5a-4b14-8acb-8a181cb09182",
   "metadata": {},
   "source": [
    "##### iii. Triangular inferior"
   ]
  },
  {
   "cell_type": "code",
   "execution_count": 4,
   "id": "4601b50d-206f-40c8-98f4-bd708efeac8c",
   "metadata": {},
   "outputs": [
    {
     "data": {
      "text/plain": [
       "resolve_triangular_inferior (generic function with 1 method)"
      ]
     },
     "execution_count": 4,
     "metadata": {},
     "output_type": "execute_result"
    }
   ],
   "source": [
    "# Função para resolver um sistema triangular inferior n x n por substituição direta\n",
    "\n",
    "# -- Parâmetros --\n",
    "# L: matriz triangular onde os elementos da diagonal são diferentes de zero\n",
    "# b: matriz coluna de resultados\n",
    "\n",
    "# -- Retorno --\n",
    "# x: x tal que Lx = b\n",
    "\n",
    "function resolve_triangular_inferior(L, b)\n",
    "    n, = size(A) # dimensão da matriz L\n",
    "    x = zeros(n, 1) # criamos uma matriz coluna n x 1\n",
    "    \n",
    "    # resolução do sistema por substituição direta\n",
    "    for i = 1:n\n",
    "        x[i] = b[i]\n",
    "        for j = 1:i - 1\n",
    "            x[i] -= L[i, j] * x[j]\n",
    "        end\n",
    "        x[i] /= L[i, i]\n",
    "    end\n",
    "    \n",
    "    return x\n",
    "end"
   ]
  },
  {
   "cell_type": "markdown",
   "id": "c0e3ac70-7698-40be-8214-f6337e064b6a",
   "metadata": {},
   "source": [
    "##### iv. Decomposição LU"
   ]
  },
  {
   "cell_type": "code",
   "execution_count": 5,
   "id": "ba47c6b7-501a-4558-b4f2-f1354b054a6d",
   "metadata": {},
   "outputs": [
    {
     "data": {
      "text/plain": [
       "decomposicao_lu (generic function with 1 method)"
      ]
     },
     "execution_count": 5,
     "metadata": {},
     "output_type": "execute_result"
    }
   ],
   "source": [
    "# Função para decompor a matriz densa A em uma multiplicação de matrizes triangulares n x n\n",
    "\n",
    "# -- Parâmetros --\n",
    "# A: matriz densa n X n\n",
    "\n",
    "# -- Retorno --\n",
    "# L, U: matrizes triangulares L e U tal que A = L * U\n",
    "\n",
    "function decomposicao_lu(A)\n",
    "    n, = size(A) # dimensão da matriz A\n",
    "    L = Matrix{Float64}(I, n, n) # L inicialmente eh uma matriz identidade n x n\n",
    "    U = copy(A) # inicialmente criamos a matriz U como uma cópia da matriz densa A\n",
    "\n",
    "    # percorremos a matriz U e L para preenche-las\n",
    "    for i = 1:n \n",
    "        for j = i+1:n\n",
    "            k = U[j, i] / U[i, i]\n",
    "            L[j, i] = k\n",
    "            U[j, :] -= k * U[i, :]\n",
    "        end\n",
    "    end\n",
    "    \n",
    "    return L, U  \n",
    "end"
   ]
  },
  {
   "cell_type": "markdown",
   "id": "caaf4817-db79-4145-8bb1-6d8e7ee385fb",
   "metadata": {},
   "source": [
    "##### v. Inversa"
   ]
  },
  {
   "cell_type": "code",
   "execution_count": 6,
   "id": "3eb0c137-0fe6-4ef9-96fe-76edb1c3bff6",
   "metadata": {},
   "outputs": [
    {
     "data": {
      "text/plain": [
       "calcula_inversa (generic function with 1 method)"
      ]
     },
     "execution_count": 6,
     "metadata": {},
     "output_type": "execute_result"
    }
   ],
   "source": [
    "# Função para achar a inversa de uma matriz n x n usando LU\n",
    "\n",
    "# -- Parâmetros --\n",
    "# A: matriz n x n\n",
    "\n",
    "# -- Retorno --\n",
    "# inv: matriz inversa de A\n",
    "\n",
    "function calcula_inversa(A)  \n",
    "    n, = size(A) # dimensão da matriz A\n",
    "    inv = zeros(n, n) # criamos uma matriz n X n para ser a inversa\n",
    "    L, U = decomposicao_lu(A) # decompomos a matriz A na multiplicação de duas triangulares (uma inferior e outra superior)\n",
    "    \n",
    "    for i = 1:n\n",
    "        # criamos uma vetor com a posição y[i] sendo 1 para que a junção de todos os y's em uma matriz corresponda à matriz identidade\n",
    "        id = zeros(n)\n",
    "        id[i] = 1\n",
    "        \n",
    "        # fazemos com que cada multiplicação seja igual a uma linha da identidade, pois sabemos que A * inv = I\n",
    "        y = resolve_triangular_inferior(L, id) # resolvemos o sistema triangular inferior e obtemos y tal que Ly = b\n",
    "        x = resolve_triangular_superior(U, y) # resolvemos o sistema triangular superior e obtemos x tal que Ux = y -> L(Ux) = b\n",
    "        \n",
    "        # formatamos o resultado na matriz inversa\n",
    "        for j = 1:n\n",
    "            inv[j, i] = x[j]\n",
    "        end\n",
    "    end\n",
    "    \n",
    "    return inv\n",
    "\n",
    "end"
   ]
  },
  {
   "cell_type": "markdown",
   "id": "f772a7fc-876e-40ce-952c-54c185685783",
   "metadata": {},
   "source": [
    "#### -- Complexidade --"
   ]
  },
  {
   "cell_type": "markdown",
   "id": "6702de45-5693-4a98-af97-b9d30379ec9e",
   "metadata": {},
   "source": [
    "Sabemos que em um loop a complexidade é o tamanho do loop * a complexidade do que tiver dentro do loop. Por isso, o algoritmo escrito acima na função $\\textit{calcula_inversa}$ tem complexidade cúbica $O(n^3)$, devido à etapa das resoluções dos sistemas triangulares superior e inferior de complexidade quadrática dentro do loop de tamanho $n$."
   ]
  },
  {
   "cell_type": "markdown",
   "id": "5ca52470-f954-4b93-b4d0-d64ba4508ea0",
   "metadata": {},
   "source": [
    "#### Exemplos de uso das funções da biblioteca"
   ]
  },
  {
   "cell_type": "markdown",
   "id": "6c252e12-b922-40f3-af15-70be71c256a2",
   "metadata": {},
   "source": [
    "Vamos definir uma função para conferir o resultado das matrizes que nossas funções encontrarão:"
   ]
  },
  {
   "cell_type": "code",
   "execution_count": 7,
   "id": "72c7465f-830e-4aa1-9085-ae1ea2a078db",
   "metadata": {},
   "outputs": [
    {
     "data": {
      "text/plain": [
       "confere_matriz (generic function with 1 method)"
      ]
     },
     "execution_count": 7,
     "metadata": {},
     "output_type": "execute_result"
    }
   ],
   "source": [
    "# Função para conferir a matriz encontrada como solução de sistemas lineares\n",
    "\n",
    "# -- Parâmetros --\n",
    "# A: matriz original\n",
    "# b: matriz coluna de resultados\n",
    "# x: resultado do sistema que encontramos\n",
    "\n",
    "# -- Retorno --\n",
    "# Imprime uma mensagem indicando se a matriz calculada está correta ou não\n",
    "\n",
    "function confere_matriz(A, b, x) \n",
    "    n, = size(x) # dimensão da matriz x\n",
    "    \n",
    "    x_check = A \\ b # resolvemos o sistema com o Julia para conferir nossos resultados\n",
    "    \n",
    "    erro = 0.00001 # definimos um erro máximo \n",
    "    \n",
    "    println(\"Matriz encontrada\")\n",
    "    \n",
    "    for i = 1:n \n",
    "        println(x[i, 1]) # exibimos os valores de cada posição\n",
    "        \n",
    "        if x[i, 1] - x_check[i, 1] > erro\n",
    "            print(\"O valor da posição \", i, \", está incorreto\")\n",
    "        end\n",
    "        \n",
    "    end\n",
    "        \n",
    "    print(\"O resultado do sistema está correto!\")\n",
    "end"
   ]
  },
  {
   "cell_type": "markdown",
   "id": "050b635c-89e0-4d9d-9a00-7e222bd82326",
   "metadata": {},
   "source": [
    "##### i. Diagonal"
   ]
  },
  {
   "cell_type": "code",
   "execution_count": 8,
   "id": "9114bf9f-bbd3-4830-8500-7ab313c4095f",
   "metadata": {},
   "outputs": [
    {
     "name": "stdout",
     "output_type": "stream",
     "text": [
      "Matriz encontrada\n",
      "4.0\n",
      "2.5\n",
      "2.0\n",
      "O resultado do sistema está correto!"
     ]
    }
   ],
   "source": [
    "# -- Exemplo 1 --\n",
    "\n",
    "A = [1 0 0; 0 2 0; 0 0 3]\n",
    "b = [4; 5; 6]\n",
    "\n",
    "x = resolve_diagonal(A, b)\n",
    "\n",
    "confere_matriz(A, b, x)"
   ]
  },
  {
   "cell_type": "code",
   "execution_count": 9,
   "id": "a351ea0a-8c8c-4cd6-86dc-dc58a3cc2169",
   "metadata": {},
   "outputs": [
    {
     "name": "stdout",
     "output_type": "stream",
     "text": [
      "Matriz encontrada\n",
      "28.91176470588235\n",
      "0.03\n",
      "0.2774566473988439\n",
      "O resultado do sistema está correto!"
     ]
    }
   ],
   "source": [
    "# -- Exemplo 2 --\n",
    "\n",
    "A = [34 0 0; 0 500 0; 0 0 346]\n",
    "b = [983; 15; 96]\n",
    "\n",
    "x = resolve_diagonal(A, b)\n",
    "\n",
    "confere_matriz(A, b, x)"
   ]
  },
  {
   "cell_type": "code",
   "execution_count": 10,
   "id": "75e030e7-7f31-48cc-bdd6-7bf79e8d00a4",
   "metadata": {},
   "outputs": [
    {
     "name": "stdout",
     "output_type": "stream",
     "text": [
      "Matriz encontrada\n",
      "-0.057692307692307696\n",
      "0.05102040816326531\n",
      "-0.00909090909090909\n",
      "0.039792387543252594\n",
      "O resultado do sistema está correto!"
     ]
    }
   ],
   "source": [
    "# -- Exemplo 3 --\n",
    "\n",
    "A = [-156 0 0 0; 0 98 0 0; 0 0 770 0; 0 0 0 578]\n",
    "b = [9; 5; -7; 23]\n",
    "\n",
    "x = resolve_diagonal(A, b)\n",
    "\n",
    "confere_matriz(A, b, x)"
   ]
  },
  {
   "cell_type": "markdown",
   "id": "02cad38c-167f-436c-9e4c-aa4dec5bbc7c",
   "metadata": {},
   "source": [
    "##### ii. Triangular superior"
   ]
  },
  {
   "cell_type": "code",
   "execution_count": 11,
   "id": "26ebce95-d137-48d6-a009-847f50a03693",
   "metadata": {},
   "outputs": [
    {
     "name": "stdout",
     "output_type": "stream",
     "text": [
      "Matriz encontrada\n",
      "2.25\n",
      "0.125\n",
      "1.5\n",
      "O resultado do sistema está correto!"
     ]
    }
   ],
   "source": [
    "# -- Exemplo 1 --\n",
    "\n",
    "A = [1 2 3; 0 4 5; 0 0 6]\n",
    "b = [7; 8; 9]\n",
    "\n",
    "x = resolve_triangular_superior(A, b)\n",
    "\n",
    "confere_matriz(A, b, x)"
   ]
  },
  {
   "cell_type": "code",
   "execution_count": 12,
   "id": "8dad9d81-277c-42a2-9de5-012666b8882d",
   "metadata": {},
   "outputs": [
    {
     "name": "stdout",
     "output_type": "stream",
     "text": [
      "Matriz encontrada\n",
      "-7.4517372723894475\n",
      "-7.231763285024155\n",
      "-2.25\n",
      "1.488888888888889\n",
      "O resultado do sistema está correto!"
     ]
    }
   ],
   "source": [
    "# -- Exemplo 2 --\n",
    "\n",
    "A = [13 -21 35 67; 0 46 -75 98; 0 0 68 90; 0 0 0 45]\n",
    "b = [76; -18; -19; 67]\n",
    "\n",
    "x = resolve_triangular_superior(A, b)\n",
    "\n",
    "confere_matriz(A, b, x)"
   ]
  },
  {
   "cell_type": "code",
   "execution_count": 13,
   "id": "e53eedde-7028-4bfa-a81d-2f6442eb9274",
   "metadata": {},
   "outputs": [
    {
     "name": "stdout",
     "output_type": "stream",
     "text": [
      "Matriz encontrada\n",
      "1.3428623386070193\n",
      "-0.382051282051282\n",
      "0.6410256410256411\n",
      "1.5555555555555556\n",
      "O resultado do sistema está correto!"
     ]
    }
   ],
   "source": [
    "# -- Exemplo 3 --\n",
    "\n",
    "A = [47 86 69 -43; 0 4 -5 2.4; 0 0 7.8 -9; 0 0 0 4.5]\n",
    "b = [7.6; -1; -9; 7]\n",
    "\n",
    "x = resolve_triangular_superior(A, b)\n",
    "\n",
    "confere_matriz(A, b, x)"
   ]
  },
  {
   "cell_type": "markdown",
   "id": "2458e0b5-4520-4299-961c-9964730d5721",
   "metadata": {},
   "source": [
    "##### iii. Triangular inferior"
   ]
  },
  {
   "cell_type": "code",
   "execution_count": 14,
   "id": "ee8b94fa-5deb-4a73-9876-466583e71f59",
   "metadata": {},
   "outputs": [
    {
     "name": "stdout",
     "output_type": "stream",
     "text": [
      "Matriz encontrada\n",
      "1.0\n",
      "0.0\n",
      "-1.0\n",
      "O resultado do sistema está correto!"
     ]
    }
   ],
   "source": [
    "# -- Exemplo 1 --\n",
    "\n",
    "A = [3 0 0; 4 5 0; 7 10 2]\n",
    "b = [3; 4; 5]\n",
    "\n",
    "x = resolve_triangular_inferior(A, b)\n",
    "\n",
    "confere_matriz(A, b, x)"
   ]
  },
  {
   "cell_type": "code",
   "execution_count": 15,
   "id": "5280c36e-7216-434b-b25b-dfa49b82f48e",
   "metadata": {},
   "outputs": [
    {
     "name": "stdout",
     "output_type": "stream",
     "text": [
      "Matriz encontrada\n",
      "0.9333333333333332\n",
      "-0.5148148148148146\n",
      "1.104629629629627\n",
      "O resultado do sistema está correto!"
     ]
    }
   ],
   "source": [
    "# -- Exemplo 2 --\n",
    "\n",
    "A = [6 0 0; 7.8 5.4 0; 74 150 12]\n",
    "b = [5.6; 4.5; 5.1]\n",
    "\n",
    "x = resolve_triangular_inferior(A, b)\n",
    "\n",
    "confere_matriz(A, b, x)"
   ]
  },
  {
   "cell_type": "code",
   "execution_count": 16,
   "id": "d6f806fc-ea47-4231-882f-10198da8b49b",
   "metadata": {},
   "outputs": [
    {
     "name": "stdout",
     "output_type": "stream",
     "text": [
      "Matriz encontrada\n",
      "-3.72\n",
      "-4.010566037735849\n",
      "-8.961166380789024\n",
      "9.66955886880415\n",
      "O resultado do sistema está correto!"
     ]
    }
   ],
   "source": [
    "# -- Exemplo 3 --\n",
    "\n",
    "A = [-25 0 0 0; 48 -53 0 0; 57 10 -22 0; 43 65 -12 39]\n",
    "b = [93; 34; -55; 64]\n",
    "\n",
    "x = resolve_triangular_inferior(A, b)\n",
    "\n",
    "confere_matriz(A, b, x)"
   ]
  },
  {
   "cell_type": "markdown",
   "id": "8ac05d0e-d345-4f62-b0b8-b7331de7e598",
   "metadata": {},
   "source": [
    "##### iv. Decomposição LU"
   ]
  },
  {
   "cell_type": "code",
   "execution_count": 17,
   "id": "5a6d5564-6a21-4915-b124-e7d43386f41f",
   "metadata": {},
   "outputs": [
    {
     "name": "stdout",
     "output_type": "stream",
     "text": [
      "L = [1.0 0.0 0.0; 4.0 1.0 0.0; 7.0 2.0 1.0]\n",
      "U = [1 2 3; 0 -3 -6; 0 0 0]\n",
      "A decomposição está correta\n"
     ]
    }
   ],
   "source": [
    "# -- Exemplo 1 --\n",
    "\n",
    "A = [1 2 3; 4 5 6; 7 8 9]\n",
    "\n",
    "L, U = decomposicao_lu(A)\n",
    "\n",
    "println(\"L = \", L)\n",
    "println(\"U = \", U)\n",
    "\n",
    "norm(L * U - A) < 0.0001 ? println(\"A decomposição está correta\") : println(\"A decomposição está incorreta\") "
   ]
  },
  {
   "cell_type": "code",
   "execution_count": 18,
   "id": "f46f5f10-ded1-45f1-8be7-72529cafe1ed",
   "metadata": {},
   "outputs": [
    {
     "name": "stdout",
     "output_type": "stream",
     "text": [
      "L = [1.0 0.0 0.0; 2.6875 1.0 0.0; 36.0625 8.104724792985873 1.0]\n",
      "U = [16.0 -31.0 84.0; 0.0 128.3125 -311.75; 0.0 0.0 -483.6020457866539]\n",
      "A decomposição está correta\n"
     ]
    }
   ],
   "source": [
    "# -- Exemplo 2 --\n",
    "\n",
    "A = Float64[16 -31 84; 43 45 -86; 577 -78 19]\n",
    "\n",
    "L, U = decomposicao_lu(A)\n",
    "\n",
    "println(\"L = \", L)\n",
    "println(\"U = \", U)\n",
    "\n",
    "norm(L * U - A) < 0.0001 ? println(\"A decomposição está correta\") : println(\"A decomposição está incorreta\") "
   ]
  },
  {
   "cell_type": "code",
   "execution_count": 19,
   "id": "75a2217b-f91f-4a5a-b80a-493410fea911",
   "metadata": {},
   "outputs": [
    {
     "name": "stdout",
     "output_type": "stream",
     "text": [
      "L = [1.0 0.0 0.0; 0.323943661971831 1.0 0.0; 0.5633802816901409 1.7765092544542467 1.0]\n",
      "U = [14.2 93.0 4.5; 0.0 -24.426760563380284 6.54225352112676; 0.0 0.0 -12.857585192873204]\n",
      "A decomposição está correta\n"
     ]
    }
   ],
   "source": [
    "# -- Exemplo 3 --\n",
    "\n",
    "A = Float64[14.2 93 4.5; 4.6 5.7 8; 8 9 1.3]\n",
    "\n",
    "L, U = decomposicao_lu(A)\n",
    "\n",
    "println(\"L = \", L)\n",
    "println(\"U = \", U)\n",
    "\n",
    "norm(L * U - A) < 0.0001 ? println(\"A decomposição está correta\") : println(\"A decomposição está incorreta\") "
   ]
  },
  {
   "cell_type": "markdown",
   "id": "6b6c37b8-9662-4d42-8422-daf5d57e6676",
   "metadata": {},
   "source": [
    "##### v. Inversa"
   ]
  },
  {
   "cell_type": "code",
   "execution_count": 20,
   "id": "3ec495b3-b0f7-4ce2-8d1b-399c342af0fa",
   "metadata": {},
   "outputs": [
    {
     "name": "stdout",
     "output_type": "stream",
     "text": [
      "inv = [1.0 -0.5 -0.08333333333333337; 0.0 0.25 -0.20833333333333331; 0.0 0.0 0.16666666666666666]\n",
      "A inversa encontrada está correta\n"
     ]
    }
   ],
   "source": [
    "# -- Exemplo 1 --\n",
    "\n",
    "A = [1 2 3; 0 4 5; 0 0 6]\n",
    "\n",
    "A_inv = calcula_inversa(A)\n",
    "\n",
    "println(\"inv = \", A_inv)\n",
    "\n",
    "norm(A * A_inv - I) < 0.0001 ? println(\"A inversa encontrada está correta\") : println(\"A inversa encontrada está incorreta\") "
   ]
  },
  {
   "cell_type": "code",
   "execution_count": 21,
   "id": "92802932-df1b-4b0a-b22c-d3f5230628bd",
   "metadata": {},
   "outputs": [
    {
     "name": "stdout",
     "output_type": "stream",
     "text": [
      "inv = [-0.015016194668993807 -0.005214281238220727 0.12946849872659288; 0.013557131219374862 -0.015535284550108067 0.004568926250889699; -0.001449710478787885 0.13963985450518565 -0.05912948159288572]\n",
      "A inversa encontrada está correta\n"
     ]
    }
   ],
   "source": [
    "# -- Exemplo 2 --\n",
    "\n",
    "A = Float64[1.2 76 8.5; 3.4 4.6 7.8; 8 9 1.3]\n",
    "\n",
    "A_inv = calcula_inversa(A)\n",
    "\n",
    "println(\"inv = \", A_inv)\n",
    "\n",
    "norm(A * A_inv - I) < 0.0001 ? println(\"A inversa encontrada está correta\") : println(\"A inversa encontrada está incorreta\") "
   ]
  },
  {
   "cell_type": "code",
   "execution_count": 22,
   "id": "9ae9b430-d872-4971-a16d-d607e1851248",
   "metadata": {},
   "outputs": [
    {
     "name": "stdout",
     "output_type": "stream",
     "text": [
      "inv = [-0.03312649995647795 0.036776134992974274 -0.0007429836232731069 0.015033760678446634; -0.09365945858565768 -0.004880687399743901 0.00728372648254766 0.019982839876148687; 0.07495741056218032 -0.5749574105621807 0.026831345826235108 0.10562180579216361; 0.19103694400576987 0.1848754647533544 -0.008384212686056783 -0.05629266715577167]\n",
      "A inversa encontrada está correta\n"
     ]
    }
   ],
   "source": [
    "# -- Exemplo 3 --\n",
    "\n",
    "A = [6 -1 2 5; 7.8 5.4 0 4; -74 150 12 56; 57 -8 5 4]\n",
    "\n",
    "A_inv = calcula_inversa(A)\n",
    "\n",
    "println(\"inv = \", A_inv)\n",
    "\n",
    "norm(A * A_inv - I) < 0.0001 ? println(\"A inversa encontrada está correta\") : println(\"A inversa encontrada está incorreta\") "
   ]
  },
  {
   "cell_type": "markdown",
   "id": "b896a69f-cd14-4fb4-89db-748f34526bf8",
   "metadata": {},
   "source": [
    "### Exercício 2 | Problema de Valor de Contorno"
   ]
  },
  {
   "cell_type": "markdown",
   "id": "20e0ef1a-44ae-445e-87d5-102568684460",
   "metadata": {},
   "source": [
    "_________________________________________________________________________________________________________________________________________________________________________________________"
   ]
  },
  {
   "cell_type": "markdown",
   "id": "3b84273b-8170-45f0-b353-707ea2a75f62",
   "metadata": {},
   "source": [
    "#### a. Sistema linear que aproxima pelo método de diferenças finitas"
   ]
  },
  {
   "cell_type": "markdown",
   "id": "9fe1ec0f-05e6-45a9-a178-4b4c617bb631",
   "metadata": {},
   "source": [
    "Dado o PVC $$y''(x) = 4x \\\\ y(0) = 5 \\\\ y(10) = 20$$ queremos montar o sistema linear que o aproxima pelo método de diferenças finitas com $n = 6$ intervalos na discretização. \n",
    "\n",
    "Conforme visto em aula, pelo método de diferenças finitas, sabemos que a expressão para a segunda derivada é dada por:\n",
    "\n",
    "$$y''(x_k) = \\frac{y(x_{k + 1}) - 2y(x_k) + y(x_{k - 1})}{2h^2}$$\n",
    "\n",
    "Substituindo nossa expressão da segunda derivada no PVC, temos:\n",
    "\n",
    "$$\n",
    "y''(x_k) = 4(x_k)\\\\\n",
    "4(x_k) = \\frac{y(x_{k + 1}) - 2y(x_k) + y(x_{k - 1})}{2h^2}\n",
    "$$\n",
    "\n",
    "Além disso, também sabemos que $h = \\frac{b - a}{n}$, onde $a \\leq x \\leq b$ e $n$ é o número de intervalos. \n",
    "\n",
    "No caso do PVC apresentado, como $a = 0$ e $b = 10$ temos $h = \\frac{10 - 0}{6} = \\frac{10}{6} = \\frac{5}{3}$.\n",
    "\n",
    "Substituindo o valor de $h$ na expressão e passando-o para o outro lado teremos:\n",
    "\n",
    "$$\n",
    "4(x_k) * 2 * h^2 = y(x_{k + 1}) - 2y(x_k) + y(x_{k - 1}) \\\\\n",
    "4(x_k) * 2 * \\frac{25}{9} = y(x_{k + 1}) - 2y(x_k) + y(x_{k - 1}) \\\\\n",
    "(x_k) * \\frac{200}{9} = y(x_{k + 1}) - 2y(x_k) + y(x_{k - 1})\n",
    "$$\n",
    "\n",
    "\n",
    "Visto que precisamos ter $6$ intervalos, vamos usar $m = 7$ pontos. Pelas condições iniciais de contorno já sabemos os pontos $(0, 5)$ e $(10, 20)$, ou seja, já sabemos que $x_0 = 0$ e $x_6 = 20$, bem como $y(x_0) = 5$ e $y(x_6) = 20$. Para obtermos os $5$ pontos faltantes, vamos considerar $k \\in [1, 5]$, de forma que teremos os pontos $(x_1, y(x_1)), (x_2, y(x_2)), (x_3, y(x_3)), (x_4, y(x_4))$ e $(x_5, y(x_5))$. Com esses pontos e a equação anterior, conseguimos montar o seguinte sistema: \n",
    "\n",
    "$$\n",
    "\\begin{cases}\n",
    "    (x_1) * \\frac{200}{9} = y(x_{2}) - 2y(x_1) + y(x_{0}) \\\\\n",
    "    (x_2) * \\frac{200}{9} = y(x_{3}) - 2y(x_2) + y(x_{1}) \\\\\n",
    "    (x_3) * \\frac{200}{9} = y(x_{4}) - 2y(x_3) + y(x_{2}) \\\\\n",
    "    (x_4) * \\frac{200}{9} = y(x_{5}) - 2y(x_4) + y(x_{3}) \\\\\n",
    "    (x_5) * \\frac{200}{9} = y(x_{6}) - 2y(x_5) + y(x_{4})\n",
    "\\end{cases}\n",
    "$$\n",
    "\n",
    "onde sabemos que $y(x_0) = 5$, $y(x_6) = 20$ e $x_k = x_{inicial} + h * (k - 1)$."
   ]
  },
  {
   "cell_type": "markdown",
   "id": "4c8bf13e-14f2-4a52-a217-d4d876b37f13",
   "metadata": {},
   "source": [
    "#### b. Resolvendo o sistema"
   ]
  },
  {
   "cell_type": "markdown",
   "id": "9f71d5db-359c-41c3-85f9-7e09346bdddb",
   "metadata": {},
   "source": [
    "Queremos agora resolver o sistema que obtivemos na letra a. Para montar a matriz dos coeficientes, vamos utilizar a função construída em aula para a criação da matriz:"
   ]
  },
  {
   "cell_type": "code",
   "execution_count": 23,
   "id": "05bb4712-ec15-4b06-a1e0-36b8bd041098",
   "metadata": {},
   "outputs": [
    {
     "data": {
      "text/plain": [
       "criacao_da_matriz (generic function with 1 method)"
      ]
     },
     "execution_count": 23,
     "metadata": {},
     "output_type": "execute_result"
    }
   ],
   "source": [
    "# Função para criar uma matriz quadrada n x n no modelo usado no método das diferenças finitas\n",
    "\n",
    "# -- Parâmetros --\n",
    "# n: dimensão da matriz quadrada\n",
    "\n",
    "# -- Retorno --\n",
    "# A: a matriz criada\n",
    "\n",
    "function criacao_da_matriz(n)\n",
    "    A = zeros(n, n)\n",
    "    \n",
    "    # \"manual\" nos extremos\n",
    "    A[1, 1] = -2\n",
    "    A[1, 2] = 1\n",
    "    A[n, n - 1] = 1\n",
    "    A[n, n] = -2\n",
    "    \n",
    "    # tridiagonal\n",
    "    for i = 2:(n - 1)\n",
    "        A[i, i] = -2\n",
    "        A[i, i + 1] = 1\n",
    "        A[i, i - 1] = 1\n",
    "    end\n",
    "    \n",
    "    return A\n",
    "end"
   ]
  },
  {
   "cell_type": "markdown",
   "id": "f17c075d-1dec-4559-a02a-b91bc054e808",
   "metadata": {},
   "source": [
    "Desejamos utilizar a função de diferenças finitas construída em aula para resolver o sistema, então vamos defini-la para a utilizarmos:"
   ]
  },
  {
   "cell_type": "code",
   "execution_count": 24,
   "id": "234e4a5a-5037-461c-9e94-6cfa9dcdf6ff",
   "metadata": {},
   "outputs": [
    {
     "data": {
      "text/plain": [
       "diferencas_finitas (generic function with 1 method)"
      ]
     },
     "execution_count": 24,
     "metadata": {},
     "output_type": "execute_result"
    }
   ],
   "source": [
    "# Função que usa o método das diferenças finitas para resolver um sistema\n",
    "\n",
    "# -- Parâmetros --\n",
    "# n: dimensão da matriz quadrada\n",
    "\n",
    "# -- Retorno --\n",
    "# y_meio: os valores de y sem contar os extremos\n",
    "\n",
    "function diferencas_finitas(n, sd, y_i, y_f, x_i, x_f)\n",
    "    h = (x_f - x_i)/ (n - 1) # tamanho do intervalo\n",
    "    \n",
    "    A = criacao_da_matriz(n - 2) # criamos a matriz de coeficientes\n",
    "    b = zeros(n - 2) # criamos a matriz de resultados\n",
    "    \n",
    "    for i = 1:(n - 2) # no meio\n",
    "        b[i] = sd(x_i + i * h) * 2 * h^2\n",
    "    end\n",
    "        \n",
    "    b[1] -= y_i\n",
    "    b[n-2] -= y_f\n",
    "    \n",
    "    y_meio = A \\ b # resolvemos o sistema\n",
    "    \n",
    "    return y_meio  # valores da função no \"meio\"\n",
    "end"
   ]
  },
  {
   "cell_type": "markdown",
   "id": "a35c04c5-d72f-4ca4-9018-d99129d2f52d",
   "metadata": {},
   "source": [
    "Criando variáveis para as informações que temos, vamos ter:"
   ]
  },
  {
   "cell_type": "code",
   "execution_count": 25,
   "id": "61a5e901-2c16-46e9-958f-d098331e8a0f",
   "metadata": {},
   "outputs": [
    {
     "data": {
      "text/plain": [
       "7-element Vector{Float64}:\n",
       "    5.0\n",
       " -208.5493827160494\n",
       " -385.0617283950617\n",
       " -487.50000000000006\n",
       " -478.82716049382725\n",
       " -322.0061728395063\n",
       "   20.0"
      ]
     },
     "execution_count": 25,
     "metadata": {},
     "output_type": "execute_result"
    }
   ],
   "source": [
    "n = 7 # numero de pontos\n",
    "sd(x) = 4x # segunda derivada\n",
    "y_i = 5.0 # y inicial\n",
    "y_f = 20.0 # y final\n",
    "x_i = 0.0 # x inicial\n",
    "x_f = 10.0 # x final\n",
    "y_meio = diferencas_finitas(n, sd, y_i, y_f, x_i, x_f) # calculamos os valores de y \"no meio\" usando o método das diferenças finitas\n",
    "\n",
    "# Preenchemos os valores de x\n",
    "h = (x_f - x_i) / (n - 1)\n",
    "x = zeros(n,1)\n",
    "for i = 1:n\n",
    "    x[i] = x_i + h * (i - 1)\n",
    "end\n",
    "\n",
    "# Preenchemos os valores de y com os pontos extremos que temos e o y do meio calculado\n",
    "y = [y_i; y_meio; y_f]"
   ]
  },
  {
   "cell_type": "markdown",
   "id": "8edc4396-bc15-49e6-86f3-883360883bb0",
   "metadata": {},
   "source": [
    "Então vamos ter como solução do sistema:"
   ]
  },
  {
   "cell_type": "code",
   "execution_count": 26,
   "id": "8eae3c37-22ff-43c9-b15b-86e03fe3944d",
   "metadata": {},
   "outputs": [
    {
     "name": "stdout",
     "output_type": "stream",
     "text": [
      "y(0.0) = 5.0\n",
      "y(1.6666666666666667) = -208.5493827160494\n",
      "y(3.3333333333333335) = -385.0617283950617\n",
      "y(5.0) = -487.50000000000006\n",
      "y(6.666666666666667) = -478.82716049382725\n",
      "y(8.333333333333334) = -322.0061728395063\n",
      "y(10.0) = 20.0\n"
     ]
    }
   ],
   "source": [
    "# Exibimos os pontos encontrados\n",
    "for i = 1:length(y)\n",
    "    println(\"y(\", x[i], \") = \", y[i])\n",
    "end"
   ]
  },
  {
   "cell_type": "markdown",
   "id": "f5ed38b2-2d75-4ae9-850b-0bf7f209c87d",
   "metadata": {},
   "source": [
    "#### c. Interpolação polinomial"
   ]
  },
  {
   "cell_type": "markdown",
   "id": "a91d82dc-5956-410e-95b2-20e301ca02cb",
   "metadata": {},
   "source": [
    "Queremos usar interpolação polinomial com grau 2 ou grau 3 para descobrir $y(3.2345)$. Com a questão anterior, já conseguimos definir o conjunto de pontos $x$ e $y$."
   ]
  },
  {
   "cell_type": "markdown",
   "id": "08563892-82d7-4dd3-9e6c-a00eb9bbba99",
   "metadata": {},
   "source": [
    "Agora vamos definir a função responsável pela criação da matriz de Vandermonde e também a função para realizar a interpolação, possibilitando que consigamos obter os coeficientes do polinômio interpolador que desejamos:"
   ]
  },
  {
   "cell_type": "code",
   "execution_count": 27,
   "id": "75d9aa4f-ad8c-4607-ac7a-2537b06e9d55",
   "metadata": {},
   "outputs": [
    {
     "data": {
      "text/plain": [
       "vandermonde (generic function with 1 method)"
      ]
     },
     "execution_count": 27,
     "metadata": {},
     "output_type": "execute_result"
    }
   ],
   "source": [
    "# Função auxiliar para construir a matriz de Vandermonde\n",
    "\n",
    "# -- Parâmetros --\n",
    "# x: conjunto dos pontos do eixo x\n",
    "# grau: grau que desejamos para ser uma das dimensões da matriz\n",
    "\n",
    "function vandermonde(x, grau)\n",
    "    n, = size(x) # quantidade de pontos\n",
    "    V = zeros(n, grau + 1) # criamos uma matriz n X (grau + 1)\n",
    "    \n",
    "    # preenchemos a matriz criada\n",
    "    for i = 1:n\n",
    "        for j = 1:(grau + 1)\n",
    "            V[i, j] = x[i] ^ (j - 1)\n",
    "        end\n",
    "    end\n",
    "    \n",
    "    return V\n",
    "end"
   ]
  },
  {
   "cell_type": "code",
   "execution_count": 28,
   "id": "38dfbf33-c265-4739-a018-d302629453c2",
   "metadata": {},
   "outputs": [
    {
     "data": {
      "text/plain": [
       "interpolacao (generic function with 1 method)"
      ]
     },
     "execution_count": 28,
     "metadata": {},
     "output_type": "execute_result"
    }
   ],
   "source": [
    "# Função para gerar os coeficientes do polinômio interpolador de uma função\n",
    "\n",
    "# -- Parâmetros --\n",
    "# x: conjunto de valores de x\n",
    "# y: conjunto de valores de y\n",
    "# grau: o grau do polinômio interpolador que desejamos\n",
    "\n",
    "function interpolacao(x, y, grau)\n",
    "    V = vandermonde(x, grau) # construímos a matriz de Vandermonde\n",
    "    c = V \\ y # resolve o sistema linear Vc = y\n",
    "    return c # vetor de coeficientes\n",
    "end"
   ]
  },
  {
   "cell_type": "markdown",
   "id": "c37d14ca-b31b-4c4c-aaa8-883bc499ec7c",
   "metadata": {},
   "source": [
    "Podemos realizar a interpolação de grau $2$ e $3$ e obter os coeficientes do polinômio interpolador, o que possibilitará a construção de uma função aproximativa. Com isso, podemos calcular $f(3.2345)$ como queríamos:"
   ]
  },
  {
   "cell_type": "code",
   "execution_count": 29,
   "id": "50f1d8f6-4fd5-48c7-8669-7eb19150d0c6",
   "metadata": {},
   "outputs": [
    {
     "name": "stdout",
     "output_type": "stream",
     "text": [
      "Grau 2: -414.7306672222221\n",
      "Grau 3: -376.2958400485001\n"
     ]
    }
   ],
   "source": [
    "c = interpolacao(x, y, 2) # obtemos os coeficientes do polinômio interpolador de grau 2\n",
    "f = Polynomial(c) # montamos o polinômio interpolador\n",
    "approx = f(3.2345) # avaliamos o valor no ponto desejado\n",
    "println(\"Grau 2: \", approx)\n",
    "\n",
    "c = interpolacao(x, y, 3) # obtemos os coeficientes do polinômio interpolador de grau 3\n",
    "f = Polynomial(c) # montamos o polinômio interpolador\n",
    "approx = f(3.2345) # avaliamos o valor no ponto desejado\n",
    "println(\"Grau 3: \", approx)"
   ]
  },
  {
   "cell_type": "markdown",
   "id": "dd521aff-ff1b-49ef-b53f-ee99655e60b9",
   "metadata": {},
   "source": [
    "Utilizando o polinômio de grau $2$, obtemos que $y(3.2345) \\approx -414.7306672222221$. Já utilizando grau $3$, obtemos que $y(3.2345) \\approx -376.29584004850015$."
   ]
  },
  {
   "cell_type": "markdown",
   "id": "63a35dcf-3f9c-4955-ab7a-d6e27df9a565",
   "metadata": {},
   "source": [
    "### Exercício 3 | Problema da Temperatura de um lago"
   ]
  },
  {
   "cell_type": "markdown",
   "id": "39fe0da9-f343-418e-b3f6-77138ac358c9",
   "metadata": {},
   "source": [
    "_________________________________________________________________________________________________________________________________________________________________________________________"
   ]
  },
  {
   "cell_type": "markdown",
   "id": "6b7a4035-729c-4164-8817-54acbeb73337",
   "metadata": {},
   "source": [
    "#### a. Sistema linear"
   ]
  },
  {
   "cell_type": "markdown",
   "id": "65a8367b-29a5-47ad-91ef-e95bc62a8ad1",
   "metadata": {},
   "source": [
    "Queremos descobrir a temperatura em diferentes lugares no interior de um lago (vértices $x_1, x_2, x_3$ e $x_4$). Para isso, primeiramente vamos modelar o problema das temperaturas como um sistema linear $Ax = b$.\n",
    "\n",
    "Como sabemos as temperaturas nas margens e também que quando o calor está em equilíbrio, a temperatura em cada vértice no interior do lago é a média das temperaturas dos 4 vértices vizinhos, podemos modelar o sistema da seguinte forma:\n",
    "\n",
    "$$\n",
    "\\begin{cases}\n",
    "    x_1 = (15 + 5 + x_2 + x_3) / 4 \\\\\n",
    "    x_2 = (15 + 35 + x_1 + x_4) / 4 \\\\\n",
    "    x_3 = (5 + 10 + x_1 + x_4) / 4 \\\\\n",
    "    x_4 = (10 + 35 + x_2 + x_3) / 4 \n",
    "\\end{cases}\n",
    "$$\n",
    "\n",
    "$$\n",
    "\\begin{cases}\n",
    "    x_1 - x_2/4 - x_3/4 = 20 / 4 \\\\\n",
    "    x_2 - x_1/4 - x_4/4 = 50 / 4 \\\\\n",
    "    x_3 - x_1/4 - x_4/4 = 15 / 4 \\\\\n",
    "    x_4 - x_2/4 - x_3/4 = 45 / 4 \n",
    "\\end{cases}\n",
    "$$\n",
    "\n",
    "E passando esse sistema para a forma matricial temos:\n",
    "\n",
    "$$\n",
    "\\begin{bmatrix}\n",
    "        1 & -\\frac{1}{4} & -\\frac{1}{4} & 0 \\\\\n",
    "        -\\frac{1}{4} & 1 & 0 & -\\frac{1}{4} \\\\\n",
    "        -\\frac{1}{4} & 0 & 1 & -\\frac{1}{4} \\\\\n",
    "        0 & -\\frac{1}{4} & -\\frac{1}{4} & 1 \\\\\n",
    "\\end{bmatrix}  \n",
    "\\begin{bmatrix}\n",
    "        x_1 \\\\\n",
    "        x_2 \\\\\n",
    "        x_3 \\\\\n",
    "        x_4 \n",
    "\\end{bmatrix} =\n",
    "\\begin{bmatrix}\n",
    "        20/4 \\\\\n",
    "        50/4 \\\\\n",
    "        15/4 \\\\\n",
    "        45/4\n",
    "\\end{bmatrix}\n",
    "$$"
   ]
  },
  {
   "cell_type": "markdown",
   "id": "bf7b3dcf-ff12-4fae-87c5-4b03fa4c5d6e",
   "metadata": {},
   "source": [
    "#### b. Temperatura dos 4 vértices no interior"
   ]
  },
  {
   "cell_type": "markdown",
   "id": "a94dd19a-aa85-436d-90ed-320e0d1de771",
   "metadata": {},
   "source": [
    "Queremos determinar a temperatura dos 4 vértices no interior usando LU. Para isso, vamos primeiramente definir as matrizes acima:"
   ]
  },
  {
   "cell_type": "code",
   "execution_count": 30,
   "id": "6a208349-4eed-4d11-a12f-977e7b641087",
   "metadata": {},
   "outputs": [
    {
     "data": {
      "text/plain": [
       "4-element Vector{Float64}:\n",
       "  5.0\n",
       " 12.5\n",
       "  3.75\n",
       " 11.25"
      ]
     },
     "execution_count": 30,
     "metadata": {},
     "output_type": "execute_result"
    }
   ],
   "source": [
    "# matriz com os coeficientes\n",
    "A = [\n",
    "    1 -1/4 -1/4 0\n",
    "    -1/4 1 0 -1/4\n",
    "    -1/4 0 1 -1/4\n",
    "    0 -1/4 -1/4 1\n",
    "]\n",
    "\n",
    "# matriz coluna de resultados das equações\n",
    "b = [\n",
    "    20/4\n",
    "    50/4\n",
    "    15/4\n",
    "    45/4\n",
    "]"
   ]
  },
  {
   "cell_type": "markdown",
   "id": "a8aabb6f-155c-4775-9620-6482bd9790f2",
   "metadata": {},
   "source": [
    "Agora precisamos utilizar nossa função de decomposição LU para resolver o sistema denso que temos. Seguindo a estrutura vista em aula, vamos criar a função $\\textit{resolve_sistema_denso}$ que dada uma matriz A de entrada, realiza a decomposição LU dela e em seguida resolve os sistemas triangulares para chegar na solução final:"
   ]
  },
  {
   "cell_type": "code",
   "execution_count": 31,
   "id": "7798a0d8-52d8-4707-9258-9e5d471859e7",
   "metadata": {},
   "outputs": [
    {
     "data": {
      "text/plain": [
       "resolve_sistema_denso (generic function with 1 method)"
      ]
     },
     "execution_count": 31,
     "metadata": {},
     "output_type": "execute_result"
    }
   ],
   "source": [
    "# Função para resolver um sistema denso\n",
    "\n",
    "# -- Parâmetros --\n",
    "# A: matriz densa n x n\n",
    "# b: matriz coluna de resultados\n",
    "\n",
    "# -- Retorno --\n",
    "# x: x tal que Ax = b\n",
    "\n",
    "function resolve_sistema_denso(A, b)\n",
    "    L, U = decomposicao_lu(A) # decompomos a matriz A na multiplicação de duas triangulares (uma inferior e outra superior)   \n",
    "    y = resolve_triangular_inferior(L, b) # resolvemos o sistema triangular inferior\n",
    "    x = resolve_triangular_superior(U, y) # resolvemos o sistema triangular superior\n",
    "    return x\n",
    "end"
   ]
  },
  {
   "cell_type": "markdown",
   "id": "1351dc16-8016-4858-9d5a-d597ace2ec14",
   "metadata": {},
   "source": [
    "Vamos também definir uma função auxiliar para imprimir as temperaturas quando as encontrarmos:"
   ]
  },
  {
   "cell_type": "code",
   "execution_count": 32,
   "id": "3fabb21e-db58-4975-a547-97f273cd416a",
   "metadata": {},
   "outputs": [
    {
     "data": {
      "text/plain": [
       "imprime_temperaturas (generic function with 1 method)"
      ]
     },
     "execution_count": 32,
     "metadata": {},
     "output_type": "execute_result"
    }
   ],
   "source": [
    "# Função para imprimir as temperaturas de cada vértice\n",
    "\n",
    "# -- Parâmetros --\n",
    "# x: matriz de temperaturas dos vértices\n",
    "\n",
    "# -- Retorno --\n",
    "# Imprime os valores das temperaturas de cada vértice\n",
    "\n",
    "function imprime_temperaturas(x)\n",
    "    n, = size(x) # dimensão da matriz x\n",
    "    println(\"-- Temperatura em cada vértice --\")\n",
    "    \n",
    "    # imprimindo cada temperatura\n",
    "    for i = 1:n\n",
    "        println(\"x_\", i, \" = \", x[i])\n",
    "    end\n",
    "end"
   ]
  },
  {
   "cell_type": "code",
   "execution_count": 33,
   "id": "613669c2-105d-4477-863b-0f37931ecf11",
   "metadata": {},
   "outputs": [
    {
     "name": "stdout",
     "output_type": "stream",
     "text": [
      "-- Temperatura em cada vértice --\n",
      "x_1 = 13.125\n",
      "x_2 = 20.625\n",
      "x_3 = 11.875\n",
      "x_4 = 19.375\n"
     ]
    }
   ],
   "source": [
    "# Usando nossa função com a matriz A e b que obtivemos a partir do sistema\n",
    "x = resolve_sistema_denso(A, b)\n",
    "\n",
    "# Exibindo as temperaturas calculadas\n",
    "imprime_temperaturas(x)"
   ]
  },
  {
   "cell_type": "markdown",
   "id": "499fd32e-ac4c-4801-9ce9-cc5a91415ce9",
   "metadata": {},
   "source": [
    "#### c. Temperatura dos vértices no interior"
   ]
  },
  {
   "cell_type": "markdown",
   "id": "e5b2ab67-f574-434b-af3b-6b2206ff0cf7",
   "metadata": {},
   "source": [
    "Agora a temperatura das margens mudou e queremos discretizar o lago ainda mais e usar decomposição LU para descobrir a temperatura dos vértices. Como são muitas variáveis para os vértices, vamos criar uma função para criar o sistema linear do lago:"
   ]
  },
  {
   "cell_type": "code",
   "execution_count": 34,
   "id": "270a1518-5b55-40ff-8e0e-b4fab94a4aca",
   "metadata": {},
   "outputs": [
    {
     "data": {
      "text/plain": [
       "cria_sistema_lago (generic function with 1 method)"
      ]
     },
     "execution_count": 34,
     "metadata": {},
     "output_type": "execute_result"
    }
   ],
   "source": [
    "# Função para criar um sistema linear do lago\n",
    "\n",
    "# -- Parâmetros --\n",
    "# n: tamanho do lago (numero de nos)\n",
    "# T: matriz de temperaturas na seguinte ordem [tmp_esq, tmp_dir, tmp_cima, tmp_baixo]\n",
    "\n",
    "# -- Retorno --\n",
    "# A: matriz de coeficientes\n",
    "# b: matriz de resultados \n",
    "\n",
    "function cria_sistema_lago(n, T)\n",
    "    A = zeros(n, n) # matriz de coeficientes\n",
    "    b = zeros(n) # matriz de resultados das equações\n",
    "    \n",
    "    r = Int(sqrt(n))\n",
    "\n",
    "    for i = 1:n\n",
    "        sum = 0 # variável auxiliar para armazenarmos o valor de b[i]\n",
    "        A[i, i] = 1 # a diagonal principal será toda preenchida com 1's porque o próprio x_i tem valor 1 na iésima equação\n",
    "        margin = false # variável auxiliar para indicar se o vértice está nas margens\n",
    "        \n",
    "        # Caso vértice esteja na esquerda\n",
    "        if (i % r) == 1\n",
    "            if i + r <= n\n",
    "                A[i, i + r] = -1/4\n",
    "            end\n",
    "            \n",
    "            if i + 1 <= n\n",
    "                A[i, i + 1] = -1/4\n",
    "            end\n",
    "            \n",
    "            if i - r > 0\n",
    "                A[i, i - r] = -1/4\n",
    "            end\n",
    "            \n",
    "            sum += T[1]\n",
    "            margin = true\n",
    "            # println(\"Entrou na esquerda: \", i)\n",
    "        end\n",
    "        \n",
    "        # Caso vértice esteja na direita\n",
    "        if (i % r) == 0\n",
    "            if i - 1 > 0\n",
    "                A[i, i - 1] = -1/4\n",
    "            end\n",
    "            \n",
    "            if i + r <= n\n",
    "                A[i, i + r] = -1/4\n",
    "            end\n",
    "\n",
    "            if i - r > 0\n",
    "                A[i, i - r] = -1/4\n",
    "            end\n",
    "            \n",
    "            sum += T[2]\n",
    "            margin = true\n",
    "            # println(\"Entrou na direita: \", i)\n",
    "        end\n",
    "        \n",
    "        # Caso vértice esteja em cima\n",
    "        if i <= r\n",
    "            if i + r <= n\n",
    "                A[i, i + r] = -1/4\n",
    "            end\n",
    "            \n",
    "            if i + 1 <= n && !margin\n",
    "                A[i, i + 1] = -1/4\n",
    "            end\n",
    "            \n",
    "            if i - 1 > 0\n",
    "                A[i, i - 1] = -1/4\n",
    "            end\n",
    "            \n",
    "            sum += T[3]\n",
    "            margin = true\n",
    "            # println(\"Entrou em cima: \", i)\n",
    "        end\n",
    "        \n",
    "        \n",
    "        # Caso vértice esteja em baixo\n",
    "        if i > r^2 - r\n",
    "            if i - r > 0\n",
    "                A[i, i - r] = -1/4\n",
    "            end\n",
    "            \n",
    "            if i + 1 <= n\n",
    "                A[i, i + 1] = -1/4\n",
    "            end\n",
    "            \n",
    "            if i - 1 > 0 && !margin\n",
    "                A[i, i - 1] = -1/4\n",
    "            end\n",
    "            \n",
    "            sum += T[4]\n",
    "            margin = true\n",
    "            # println(\"Entrou em baixo: \", i)\n",
    "        end\n",
    "\n",
    "        \n",
    "        # Caso geral, se não for um nó da margem\n",
    "        if !margin\n",
    "            A[i, i - 1] = -1/4\n",
    "            A[i, i + 1] = -1/4\n",
    "            A[i, i + r] = -1/4\n",
    "            A[i, i - r] = -1/4\n",
    "            # println(\"Entrou no caso geral: \", i)\n",
    "        end\n",
    "\n",
    "        b[i] = sum / 4\n",
    "    end\n",
    "\n",
    "    return A, b\n",
    "end"
   ]
  },
  {
   "cell_type": "markdown",
   "id": "998e6339-4f3f-4174-a0bf-d70126bd996e",
   "metadata": {},
   "source": [
    "Podemos fazer um teste de corretude da nossa função com o sistema que montamos na letra a:"
   ]
  },
  {
   "cell_type": "code",
   "execution_count": 35,
   "id": "4851237e-a5ec-490b-adeb-84ebb6e82ba0",
   "metadata": {},
   "outputs": [
    {
     "data": {
      "text/plain": [
       "4×1 Matrix{Float64}:\n",
       " 13.125\n",
       " 20.625\n",
       " 11.875\n",
       " 19.375"
      ]
     },
     "execution_count": 35,
     "metadata": {},
     "output_type": "execute_result"
    }
   ],
   "source": [
    "n = 4 # tamanho do lago (numero de nos)\n",
    "tmp_cima = 15 # temperatura da margem superior\n",
    "tmp_baixo = 10 # temperatura da margem inferior\n",
    "tmp_esq = 5 # temperatura da margem esquerda\n",
    "tmp_dir = 35 # temperatura da margem direita\n",
    "\n",
    "A, b = cria_sistema_lago(n, [tmp_esq, tmp_dir, tmp_cima, tmp_baixo])\n",
    "\n",
    "x = resolve_sistema_denso(A, b)"
   ]
  },
  {
   "cell_type": "markdown",
   "id": "5d766378-1d8d-4644-b4b7-e0ef167f4cdd",
   "metadata": {},
   "source": [
    "Obtemos o mesmo resultado que obtivemos na questão anterior. Como nosso teste deu certo, vamos agora usar nossa função para criar o sistema do lago com as novas condições. Vamos obter a matriz de coeficientes A e a matriz de resultados b, tal que $Ax = b$. E em seguida, vamos usar nossa função $\\textit{resolve_sistema_denso}$ para utilizarmos LU para descobrir a temperatura dos vértices:"
   ]
  },
  {
   "cell_type": "code",
   "execution_count": 36,
   "id": "a54b1c75-8ace-47e9-a387-3aa1e5b1b63f",
   "metadata": {},
   "outputs": [
    {
     "data": {
      "text/plain": [
       "25×25 Matrix{Float64}:\n",
       "  1.0   -0.25   0.0    0.0    0.0   …   0.0    0.0    0.0    0.0    0.0\n",
       " -0.25   1.0   -0.25   0.0    0.0       0.0    0.0    0.0    0.0    0.0\n",
       "  0.0   -0.25   1.0   -0.25   0.0       0.0    0.0    0.0    0.0    0.0\n",
       "  0.0    0.0   -0.25   1.0   -0.25      0.0    0.0    0.0    0.0    0.0\n",
       "  0.0    0.0    0.0   -0.25   1.0       0.0    0.0    0.0    0.0    0.0\n",
       " -0.25   0.0    0.0    0.0    0.0   …   0.0    0.0    0.0    0.0    0.0\n",
       "  0.0   -0.25   0.0    0.0    0.0       0.0    0.0    0.0    0.0    0.0\n",
       "  0.0    0.0   -0.25   0.0    0.0       0.0    0.0    0.0    0.0    0.0\n",
       "  0.0    0.0    0.0   -0.25   0.0       0.0    0.0    0.0    0.0    0.0\n",
       "  0.0    0.0    0.0    0.0   -0.25      0.0    0.0    0.0    0.0    0.0\n",
       "  0.0    0.0    0.0    0.0    0.0   …   0.0    0.0    0.0    0.0    0.0\n",
       "  0.0    0.0    0.0    0.0    0.0       0.0    0.0    0.0    0.0    0.0\n",
       "  0.0    0.0    0.0    0.0    0.0       0.0    0.0    0.0    0.0    0.0\n",
       "  0.0    0.0    0.0    0.0    0.0       0.0    0.0    0.0    0.0    0.0\n",
       "  0.0    0.0    0.0    0.0    0.0       0.0    0.0    0.0    0.0    0.0\n",
       "  0.0    0.0    0.0    0.0    0.0   …  -0.25   0.0    0.0    0.0    0.0\n",
       "  0.0    0.0    0.0    0.0    0.0       0.0   -0.25   0.0    0.0    0.0\n",
       "  0.0    0.0    0.0    0.0    0.0       0.0    0.0   -0.25   0.0    0.0\n",
       "  0.0    0.0    0.0    0.0    0.0       0.0    0.0    0.0   -0.25   0.0\n",
       "  0.0    0.0    0.0    0.0    0.0       0.0    0.0    0.0    0.0   -0.25\n",
       "  0.0    0.0    0.0    0.0    0.0   …   1.0   -0.25   0.0    0.0    0.0\n",
       "  0.0    0.0    0.0    0.0    0.0      -0.25   1.0   -0.25   0.0    0.0\n",
       "  0.0    0.0    0.0    0.0    0.0       0.0   -0.25   1.0   -0.25   0.0\n",
       "  0.0    0.0    0.0    0.0    0.0       0.0    0.0   -0.25   1.0   -0.25\n",
       "  0.0    0.0    0.0    0.0    0.0       0.0    0.0    0.0   -0.25   1.0"
      ]
     },
     "metadata": {},
     "output_type": "display_data"
    },
    {
     "data": {
      "text/plain": [
       "25-element Vector{Float64}:\n",
       " 11.25\n",
       "  5.0\n",
       "  5.0\n",
       "  5.0\n",
       " 10.0\n",
       "  6.25\n",
       "  0.0\n",
       "  0.0\n",
       "  0.0\n",
       "  5.0\n",
       "  6.25\n",
       "  0.0\n",
       "  0.0\n",
       "  0.0\n",
       "  5.0\n",
       "  6.25\n",
       "  0.0\n",
       "  0.0\n",
       "  0.0\n",
       "  5.0\n",
       " 13.75\n",
       "  7.5\n",
       "  7.5\n",
       "  7.5\n",
       " 12.5"
      ]
     },
     "metadata": {},
     "output_type": "display_data"
    },
    {
     "data": {
      "text/plain": [
       "25×1 Matrix{Float64}:\n",
       " 22.656565656565654\n",
       " 21.762286324786324\n",
       " 21.28651903651904\n",
       " 20.89359945609946\n",
       " 20.46969696969697\n",
       " 23.863976301476303\n",
       " 23.106060606060602\n",
       " 22.49019036519036\n",
       " 21.818181818181817\n",
       " 20.98518842268842\n",
       " 24.69327894327894\n",
       " 24.30778943278943\n",
       " 23.75\n",
       " 22.903749028749036\n",
       " 21.65287490287491\n",
       " 25.601350038850036\n",
       " 25.68181818181818\n",
       " 25.29827117327117\n",
       " 24.393939393939394\n",
       " 22.722562160062164\n",
       " 27.030303030303024\n",
       " 27.519862082362078\n",
       " 27.367327117327115\n",
       " 26.65117521367521\n",
       " 24.84343434343434"
      ]
     },
     "execution_count": 36,
     "metadata": {},
     "output_type": "execute_result"
    }
   ],
   "source": [
    "n = 25 # tamanho do lago\n",
    "tmp_cima = 20 # temperatura da margem superior\n",
    "tmp_baixo = 30 # temperatura da margem inferior\n",
    "tmp_esq = 25 # temperatura da margem esquerda\n",
    "tmp_dir = 20 # temperatura da margem direita\n",
    "\n",
    "A, b = cria_sistema_lago(n, [tmp_esq, tmp_dir, tmp_cima, tmp_baixo])\n",
    "\n",
    "display(A) # imprime a matriz de coeficientes\n",
    "display(b) # imprime a matriz de resultados\n",
    "\n",
    "x = resolve_sistema_denso(A, b) # resolve o sistema com o A e b que obtivemos"
   ]
  },
  {
   "cell_type": "markdown",
   "id": "06645ccd-466c-4371-8fed-e8a85e711925",
   "metadata": {},
   "source": [
    "Com as novas condições, a temperatura em cada vértice vai ser:"
   ]
  },
  {
   "cell_type": "code",
   "execution_count": 37,
   "id": "5fce2b63-3b18-457b-b625-04f13bbcf6b6",
   "metadata": {},
   "outputs": [
    {
     "name": "stdout",
     "output_type": "stream",
     "text": [
      "-- Temperatura em cada vértice --\n",
      "x_1 = 22.656565656565654\n",
      "x_2 = 21.762286324786324\n",
      "x_3 = 21.28651903651904\n",
      "x_4 = 20.89359945609946\n",
      "x_5 = 20.46969696969697\n",
      "x_6 = 23.863976301476303\n",
      "x_7 = 23.106060606060602\n",
      "x_8 = 22.49019036519036\n",
      "x_9 = 21.818181818181817\n",
      "x_10 = 20.98518842268842\n",
      "x_11 = 24.69327894327894\n",
      "x_12 = 24.30778943278943\n",
      "x_13 = 23.75\n",
      "x_14 = 22.903749028749036\n",
      "x_15 = 21.65287490287491\n",
      "x_16 = 25.601350038850036\n",
      "x_17 = 25.68181818181818\n",
      "x_18 = 25.29827117327117\n",
      "x_19 = 24.393939393939394\n",
      "x_20 = 22.722562160062164\n",
      "x_21 = 27.030303030303024\n",
      "x_22 = 27.519862082362078\n",
      "x_23 = 27.367327117327115\n",
      "x_24 = 26.65117521367521\n",
      "x_25 = 24.84343434343434\n"
     ]
    }
   ],
   "source": [
    "# Exibindo as temperaturas calculadas\n",
    "imprime_temperaturas(x)"
   ]
  },
  {
   "cell_type": "markdown",
   "id": "b95d3144-b0a6-4cf1-adb3-19b8ab626ce9",
   "metadata": {},
   "source": [
    "#### d. Discretizar com mais nós"
   ]
  },
  {
   "cell_type": "markdown",
   "id": "450eac1a-aab4-4d79-b94e-3699d0fcfd7e",
   "metadata": {},
   "source": [
    "Sim, é possível discretizar com mais nós usando a função auxiliar $\\textit{cria_sistema_lago}$ que criamos acima. Para saber qual é o maior número de nós que conseguimos discretizar e rodar em menos de 2 minutos usando decomposição LU para resolver o problema, vamos usar a macro @time do julia:"
   ]
  },
  {
   "cell_type": "code",
   "execution_count": 38,
   "id": "3db468eb-9388-422e-8e35-7933719821fe",
   "metadata": {},
   "outputs": [
    {
     "name": "stdout",
     "output_type": "stream",
     "text": [
      "108.857935 seconds (40.38 M allocations: 183.049 GiB, 2.57% gc time)\n"
     ]
    },
    {
     "data": {
      "text/plain": [
       "2304×1 Matrix{Float64}:\n",
       " 22.50227986378084\n",
       " 21.516282386350642\n",
       " 21.05373028287246\n",
       " 20.80145913848\n",
       " 20.6467557363487\n",
       " 20.54335130181544\n",
       " 20.469765641260608\n",
       " 20.414908802696555\n",
       " 20.372533414285353\n",
       " 20.33886464945687\n",
       " 20.31148965197738\n",
       " 20.28879408835463\n",
       " 20.269656502424517\n",
       "  ⋮\n",
       " 29.441460479441012\n",
       " 29.395696656146523\n",
       " 29.34025982419464\n",
       " 29.27194884097753\n",
       " 29.185965674976785\n",
       " 29.074788563756076\n",
       " 28.92595089582622\n",
       " 28.717301153517948\n",
       " 28.405907585820337\n",
       " 27.89926151076327\n",
       " 26.97196556205829\n",
       " 24.99772013621916"
      ]
     },
     "execution_count": 38,
     "metadata": {},
     "output_type": "execute_result"
    }
   ],
   "source": [
    "n = 2304  # tamanho do lago (número de nós)\n",
    "tmp_cima = 20 # temperatura da margem superior\n",
    "tmp_baixo = 30 # temperatura da margem inferior\n",
    "tmp_esq = 25 # temperatura da margem esquerda\n",
    "tmp_dir = 20 # temperatura da margem direita\n",
    "\n",
    "A, b = cria_sistema_lago(n, [tmp_esq, tmp_dir, tmp_cima, tmp_baixo])\n",
    "\n",
    "@time resolve_sistema_denso(A, b) # cronometra o tempo para resolver o sistema com o A e b que obtivemos"
   ]
  },
  {
   "cell_type": "markdown",
   "id": "2ddae5cc-77f1-4144-8155-a988d688e77a",
   "metadata": {},
   "source": [
    "Após alguns testes na minha máquina, descobrimos que o número máximo de nós que conseguimos discretizar e utilizar decomposição LU em menos de 2 minutos é $n = 2304$, levando $108.857935$ segundos aproximadamente. Um $n$ maior já exige mais de $2$ minutos de processamento."
   ]
  },
  {
   "cell_type": "markdown",
   "id": "c245a4a2-63ca-4581-b5ce-02f01cbb60ed",
   "metadata": {},
   "source": [
    "### Exercício 4 | Problema de distribuição de água"
   ]
  },
  {
   "cell_type": "markdown",
   "id": "f819c7d4-eca8-4c11-a77a-cdef1bf1f07d",
   "metadata": {},
   "source": [
    "_________________________________________________________________________________________________________________________________________________________________________________________"
   ]
  },
  {
   "cell_type": "markdown",
   "id": "7a3608ef-c187-452d-b686-569b3c594ca6",
   "metadata": {},
   "source": [
    "#### a. Modelagem sem o cano $x_9$ e resolução do sistema linear"
   ]
  },
  {
   "cell_type": "markdown",
   "id": "8bd5289b-4c7a-421d-9808-9b5bb20efac5",
   "metadata": {},
   "source": [
    "Queremos determinar o fluxo de água em cada cano (as arestas da figura). Para isso, primeiramente vamos realizar a modelagem sem o cano pontilhado $x_9$.\n",
    "\n",
    "Para criar a modelagem do nosso sistema, vamos considerar que o fluxo de entrada em cada nó é igual ao fluxo de saída, ou seja, a soma dos canos que entram deve ser igual ao que sai. Dessa forma, teremos o seguinte sistema:\n",
    "\n",
    "$$\n",
    "\\begin{cases}\n",
    "    x_1 = 7000 \\\\\n",
    "    x_2 = 3500 \\\\\n",
    "    x_3 = 9000 \\\\\n",
    "    x_4 = x_1 + 30000 \\\\\n",
    "    x_5 = x_3 + 3000 \\\\\n",
    "    x_6 = x_4 + x_2 \\\\\n",
    "    x_7 = x_5 + 3000 \\\\\n",
    "    x_8 = x_6 + 500 + x_7\n",
    "\\end{cases}\n",
    "$$\n",
    "\n",
    "$$\n",
    "\\begin{cases}\n",
    "    x_1 = 7000 \\\\\n",
    "    x_2 = 3500 \\\\\n",
    "    x_3 = 9000 \\\\\n",
    "    x_4 - x_1 = 30000 \\\\\n",
    "    x_5 - x_3 = 3000 \\\\\n",
    "    x_6 - x_4 - x_2 = 0 \\\\\n",
    "    x_7 - x_5 = 3000 \\\\\n",
    "    x_8 - x_6 - x_7 = 500\n",
    "\\end{cases}\n",
    "$$\n",
    "\n",
    "Passando esse sistema para a forma matricial, teremos:\n",
    "\n",
    "$$\n",
    "\\begin{bmatrix}\n",
    "        1 & 0 & 0 & 0 & 0 & 0 & 0 & 0 \\\\\n",
    "        0 & 1 & 0 & 0 & 0 & 0 & 0 & 0 \\\\\n",
    "        0 & 0 & 1 & 0 & 0 & 0 & 0 & 0 \\\\\n",
    "        -1 & 0 & 0 & 1 & 0 & 0 & 0 & 0 \\\\\n",
    "        0 & 0 & -1 & 0 & 1 & 0 & 0 & 0 \\\\\n",
    "        0 & -1 & 0 & -1 & 0 & 1 & 0 & 0 \\\\\n",
    "        0 & 0 & 0 & 0 & -1 & 0 & 1 & 0 \\\\\n",
    "        0 & 0 & 0 & 0 & 0 & -1 & -1 & 1\n",
    "\\end{bmatrix}  \n",
    "\\begin{bmatrix}\n",
    "        x_1 \\\\\n",
    "        x_2 \\\\\n",
    "        x_3 \\\\\n",
    "        x_4 \\\\\n",
    "        x_5 \\\\\n",
    "        x_6 \\\\\n",
    "        x_7 \\\\\n",
    "        x_8\n",
    "\\end{bmatrix} =\n",
    "\\begin{bmatrix}\n",
    "        7000 \\\\\n",
    "        3500 \\\\\n",
    "        9000 \\\\\n",
    "        30000\\\\\n",
    "        3000 \\\\\n",
    "        0 \\\\\n",
    "        3000 \\\\\n",
    "        500\n",
    "\\end{bmatrix}\n",
    "$$"
   ]
  },
  {
   "cell_type": "code",
   "execution_count": 39,
   "id": "0b9d967b-5507-47f3-80a3-43ae3fbd44a1",
   "metadata": {},
   "outputs": [
    {
     "data": {
      "text/plain": [
       "8-element Vector{Int64}:\n",
       "  7000\n",
       "  3500\n",
       "  9000\n",
       " 30000\n",
       "  3000\n",
       "     0\n",
       "  3000\n",
       "   500"
      ]
     },
     "execution_count": 39,
     "metadata": {},
     "output_type": "execute_result"
    }
   ],
   "source": [
    "# matriz com os coeficientes\n",
    "A = [\n",
    "         1 0 0 0 0 0 0 0\n",
    "         0 1 0 0 0 0 0 0\n",
    "         0 0 1 0 0 0 0 0\n",
    "         -1 0 0 1 0 0 0 0\n",
    "         0 0 -1 0 1 0 0 0\n",
    "         0 -1 0 -1 0 1 0 0\n",
    "         0 0 0 0 -1 0 1 0\n",
    "         0 0 0 0 0 -1 -1 1\n",
    "]\n",
    "\n",
    "# matriz coluna de resultados das equações\n",
    "b = [\n",
    "        7000\n",
    "        3500\n",
    "        9000\n",
    "        30000\n",
    "        3000\n",
    "        0\n",
    "        3000\n",
    "        500\n",
    "]"
   ]
  },
  {
   "cell_type": "markdown",
   "id": "577ae533-4dd4-4e4d-bebe-d3c72b35c7a6",
   "metadata": {},
   "source": [
    "Assim como na questão anterior, agora temos um sistema denso e gostaríamos de usar decomposição LU para resolvê-lo. Para isso, vamos usar novamente nossa função $\\textit{sistema_denso}$:"
   ]
  },
  {
   "cell_type": "code",
   "execution_count": 40,
   "id": "6547a857-587e-43d1-853c-051bf690c96e",
   "metadata": {},
   "outputs": [
    {
     "data": {
      "text/plain": [
       "8×1 Matrix{Float64}:\n",
       "  7000.0\n",
       "  3500.0\n",
       "  9000.0\n",
       " 37000.0\n",
       " 12000.0\n",
       " 40500.0\n",
       " 15000.0\n",
       " 56000.0"
      ]
     },
     "execution_count": 40,
     "metadata": {},
     "output_type": "execute_result"
    }
   ],
   "source": [
    "# Usando nossa função com a matriz A e b que obtivemos a partir do sistema\n",
    "resolve_sistema_denso(A, b)"
   ]
  },
  {
   "cell_type": "markdown",
   "id": "816cd546-684f-4db1-b91b-beb564c6acf3",
   "metadata": {},
   "source": [
    "Dessa forma, obtemos que o fluxo de água em cada cano, em litros por minuto, é de:\n",
    "\n",
    "$$\n",
    "\\begin{cases}\n",
    "    x_1 = 7000 \\\\\n",
    "    x_2 = 3500 \\\\\n",
    "    x_3 = 9000 \\\\\n",
    "    x_4 = 37000 \\\\\n",
    "    x_5 = 12000 \\\\\n",
    "    x_6 = 40500 \\\\\n",
    "    x_7 = 15000 \\\\\n",
    "    x_8 = 56000\n",
    "\\end{cases}\n",
    "$$"
   ]
  },
  {
   "cell_type": "markdown",
   "id": "637e132a-9683-4bdf-95df-a3847134fca5",
   "metadata": {},
   "source": [
    "#### b. Modelagem com o cano $x_9$ e tentativa de resolução do sistema linear"
   ]
  },
  {
   "cell_type": "markdown",
   "id": "25e0b3eb-df2a-40dd-acff-19455af791ac",
   "metadata": {},
   "source": [
    "Agora também queremos determinar o fluxo de água em cada cano (as arestas da figura), porém realizando uma modelagem considerando o cano o cano pontilhado $x_9$. Novamente, para criar a modelagem do nosso sistema, vamos considerar que o fluxo de entrada em cada nó é igual ao fluxo de saída, ou seja, a soma dos canos que entram deve ser igual ao que sai:\n",
    "\n",
    "$$\n",
    "\\begin{cases}\n",
    "    x_1 = 7000 \\\\\n",
    "    x_2 = 3500 \\\\\n",
    "    x_3 = 9000 \\\\\n",
    "    x_4 = x_1 + 30000 + x_9 \\\\\n",
    "    x_5 + x_9 = x_3 + 3000 \\\\\n",
    "    x_6 = x_4 + x_2 \\\\\n",
    "    x_7 = x_5 + 3000 \\\\\n",
    "    x_8 = x_6 + 500 + x_7\n",
    "\\end{cases}\n",
    "$$\n",
    "\n",
    "$$\n",
    "\\begin{cases}\n",
    "    x_1 = 7000 \\\\\n",
    "    x_2 = 3500 \\\\\n",
    "    x_3 = 9000 \\\\\n",
    "    x_4 - x_1 - x_9 = 30000 \\\\\n",
    "    x_5 + x_9 - x_3 = 3000 \\\\\n",
    "    x_6 - x_4 - x_2 = 0 \\\\\n",
    "    x_7 - x_5 = 3000 \\\\\n",
    "    x_8 - x_6 - x_7 = 500\n",
    "\\end{cases}\n",
    "$$\n",
    "\n",
    "Passando esse sistema para a forma matricial, teremos:\n",
    "\n",
    "$$\n",
    "\\begin{bmatrix}\n",
    "        1 & 0 & 0 & 0 & 0 & 0 & 0 & 0 & 0 \\\\\n",
    "        0 & 1 & 0 & 0 & 0 & 0 & 0 & 0 & 0\\\\\n",
    "        0 & 0 & 1 & 0 & 0 & 0 & 0 & 0 & 0\\\\\n",
    "        -1 & 0 & 0 & 1 & 0 & 0 & 0 & 0 & -1 \\\\\n",
    "        0 & 0 & -1 & 0 & 1 & 0 & 0 & 0 & 1 \\\\\n",
    "        0 & -1 & 0 & -1 & 0 & 1 & 0 & 0 & 0\\\\\n",
    "        0 & 0 & 0 & 0 & -1 & 0 & 1 & 0 & 0\\\\\n",
    "        0 & 0 & 0 & 0 & 0 & -1 & -1 & 1 & 0\n",
    "\\end{bmatrix}  \n",
    "\\begin{bmatrix}\n",
    "        x_1 \\\\\n",
    "        x_2 \\\\\n",
    "        x_3 \\\\\n",
    "        x_4 \\\\\n",
    "        x_5 \\\\\n",
    "        x_6 \\\\\n",
    "        x_7 \\\\\n",
    "        x_8\n",
    "\\end{bmatrix} =\n",
    "\\begin{bmatrix}\n",
    "        7000 \\\\\n",
    "        3500 \\\\\n",
    "        9000 \\\\\n",
    "        30000\\\\\n",
    "        3000 \\\\\n",
    "        0 \\\\\n",
    "        3000 \\\\\n",
    "        500\n",
    "\\end{bmatrix}\n",
    "$$"
   ]
  },
  {
   "cell_type": "markdown",
   "id": "b9cf4fbd-6a96-4ce2-b45b-2a6ee85a5eda",
   "metadata": {},
   "source": [
    "Nesse caso, percebemos que o sistema possui $8$ equações e $9$ incógnitas, o que o caracteriza como um sistema indeterminado. Dessa maneira, na teoria não conseguimos encontrar soluções exatas para o fluxo de água em cada um dos canos. Para que isso fosse possível, teríamos que ter mais uma equação. Porém, na prática, a implementação de decomposicao_lu, resolve_triangular_inferior e resolve_triangular_superior considera que a matriz de entrada é quadrada (em uma matriz $\\textit{n x m}$ a implementação pega somente a dimensão $n$ e considera que a matriz é $\\textit{n x n}$). Por esse motivo, conseguiremos rodar nosso algoritmo de sistema denso para resolver esse problema:"
   ]
  },
  {
   "cell_type": "code",
   "execution_count": 41,
   "id": "91bfe3a8-157c-49f7-8f9e-369442542281",
   "metadata": {},
   "outputs": [
    {
     "data": {
      "text/plain": [
       "8-element Vector{Int64}:\n",
       "  7000\n",
       "  3500\n",
       "  9000\n",
       " 30000\n",
       "  3000\n",
       "     0\n",
       "  3000\n",
       "   500"
      ]
     },
     "execution_count": 41,
     "metadata": {},
     "output_type": "execute_result"
    }
   ],
   "source": [
    "# matriz com os coeficientes\n",
    "A = [\n",
    "         1 0 0 0 0 0 0 0 0\n",
    "         0 1 0 0 0 0 0 0 0\n",
    "         0 0 1 0 0 0 0 0 0\n",
    "         -1 0 0 1 0 0 0 0 -1\n",
    "         0 0 -1 0 1 0 0 0 1\n",
    "         0 -1 0 -1 0 1 0 0 0\n",
    "         0 0 0 0 -1 0 1 0 0\n",
    "         0 0 0 0 0 -1 -1 1 0\n",
    "]\n",
    "\n",
    "# matriz coluna de resultados das equações\n",
    "b = [\n",
    "        7000\n",
    "        3500\n",
    "        9000\n",
    "        30000\n",
    "        3000\n",
    "        0\n",
    "        3000\n",
    "        500\n",
    "]"
   ]
  },
  {
   "cell_type": "code",
   "execution_count": 42,
   "id": "6360530d-eee2-44f5-bec0-e2095400aa54",
   "metadata": {},
   "outputs": [
    {
     "data": {
      "text/plain": [
       "8×1 Matrix{Float64}:\n",
       "  7000.0\n",
       "  3500.0\n",
       "  9000.0\n",
       " 37000.0\n",
       " 12000.0\n",
       " 40500.0\n",
       " 15000.0\n",
       " 56000.0"
      ]
     },
     "execution_count": 42,
     "metadata": {},
     "output_type": "execute_result"
    }
   ],
   "source": [
    "# Usando nossa função com a matriz A e b que obtivemos a partir do sistema\n",
    "resolve_sistema_denso(A, b)"
   ]
  },
  {
   "cell_type": "markdown",
   "id": "c6ee71e7-18e7-47a5-8531-85b5475a35e8",
   "metadata": {},
   "source": [
    "Como pudemos perceber, o resultado é o mesmo que se não houvesse a presença do cano $x_9$."
   ]
  }
 ],
 "metadata": {
  "kernelspec": {
   "display_name": "Julia 1.7.0",
   "language": "julia",
   "name": "julia-1.7"
  },
  "language_info": {
   "file_extension": ".jl",
   "mimetype": "application/julia",
   "name": "julia",
   "version": "1.7.0"
  }
 },
 "nbformat": 4,
 "nbformat_minor": 5
}
