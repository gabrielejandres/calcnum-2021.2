{
 "cells": [
  {
   "cell_type": "markdown",
   "id": "18b3cecd",
   "metadata": {},
   "source": [
    "### Cálculo Numérico | 2021.2 | Gabriele Jandres | 119159948"
   ]
  },
  {
   "cell_type": "markdown",
   "id": "7dcc5912",
   "metadata": {},
   "source": [
    "#### Exercício 2.1 | Método de Newton"
   ]
  },
  {
   "cell_type": "code",
   "execution_count": 1,
   "id": "7ac3cec3",
   "metadata": {},
   "outputs": [
    {
     "data": {
      "text/plain": [
       "f (generic function with 1 method)"
      ]
     },
     "execution_count": 1,
     "metadata": {},
     "output_type": "execute_result"
    }
   ],
   "source": [
    "# Função que obtivemos por meio de manipulação algébrica para usar o método de Newton para calcular raiz cúbica de 43\n",
    "f(x) = x^3 - 43"
   ]
  },
  {
   "cell_type": "code",
   "execution_count": 2,
   "id": "f82ae0dc",
   "metadata": {},
   "outputs": [
    {
     "data": {
      "text/plain": [
       "g (generic function with 1 method)"
      ]
     },
     "execution_count": 2,
     "metadata": {},
     "output_type": "execute_result"
    }
   ],
   "source": [
    "# Derivada da função f\n",
    "g(x) = 3x^2"
   ]
  },
  {
   "cell_type": "code",
   "execution_count": 3,
   "id": "daaf7907",
   "metadata": {},
   "outputs": [
    {
     "data": {
      "text/plain": [
       "newton (generic function with 1 method)"
      ]
     },
     "execution_count": 3,
     "metadata": {},
     "output_type": "execute_result"
    }
   ],
   "source": [
    "# Função iterativa com o método de Newton para calcular aproximações de funções\n",
    "\n",
    "# -- Parâmetros --\n",
    "# iteracoes - o numero de iterações que o usuário deseja para aumentar a precisão\n",
    "# chute - o chute inicial necessário para o método\n",
    "# funcao - a função obtida com a manipulação da equação original\n",
    "# derivada - a derivada da função anterior\n",
    "\n",
    "function newton(iteracoes, chute, funcao, derivada) \n",
    "    for i=1:iteracoes\n",
    "        chute = chute - (funcao(chute) / derivada(chute)) # atualiza o chute utilizando a formula do metodo de newton\n",
    "    end\n",
    "    return chute\n",
    "end"
   ]
  },
  {
   "cell_type": "code",
   "execution_count": 4,
   "id": "2dd15371",
   "metadata": {},
   "outputs": [
    {
     "data": {
      "text/plain": [
       "3.5625"
      ]
     },
     "execution_count": 4,
     "metadata": {},
     "output_type": "execute_result"
    }
   ],
   "source": [
    "newton(1, 4, f, g)"
   ]
  },
  {
   "cell_type": "code",
   "execution_count": 5,
   "id": "714e930b",
   "metadata": {},
   "outputs": [
    {
     "data": {
      "text/plain": [
       "3.504373140453473"
      ]
     },
     "execution_count": 5,
     "metadata": {},
     "output_type": "execute_result"
    }
   ],
   "source": [
    "newton(2, 4, f, g)"
   ]
  },
  {
   "cell_type": "code",
   "execution_count": 6,
   "id": "e24ba777",
   "metadata": {},
   "outputs": [
    {
     "data": {
      "text/plain": [
       "Inf"
      ]
     },
     "execution_count": 6,
     "metadata": {},
     "output_type": "execute_result"
    }
   ],
   "source": [
    "# chute inicial problemático\n",
    "newton(1, 0, f, g)"
   ]
  },
  {
   "cell_type": "markdown",
   "id": "36460aa5",
   "metadata": {},
   "source": [
    "#### Exercício 4.4 "
   ]
  },
  {
   "cell_type": "code",
   "execution_count": 7,
   "id": "00bd6504",
   "metadata": {},
   "outputs": [
    {
     "name": "stdout",
     "output_type": "stream",
     "text": [
      "Termos: 1 | Erro -> 0.125\n",
      "Termos: 2 | Erro -> 0.041666666666666664\n",
      "Termos: 3 | Erro -> 0.015625\n",
      "Termos: 4 | Erro -> 0.00625\n",
      "Termos: 5 | Erro -> 0.0026041666666666665\n",
      "Termos: 6 | Erro -> 0.0011160714285714285\n",
      "Termos: 7 | Erro -> 0.00048828125\n",
      "Termos: 8 | Erro -> 0.00021701388888888888\n",
      "Termos: 9 | Erro -> 9.765625e-5\n",
      "Termos: 10 | Erro -> 4.438920454545455e-5\n",
      "Termos: 11 | Erro -> 2.0345052083333332e-5\n",
      "Termos: 12 | Erro -> 9.390024038461539e-6\n",
      "Termos: 13 | Erro -> 4.359654017857143e-6\n",
      "Termos: 14 | Erro -> 2.0345052083333333e-6\n",
      "Termos: 15 | Erro -> 9.5367431640625e-7\n",
      "Termos: 16 | Erro -> 4.4878791360294117e-7\n",
      "Termos: 17 | Erro -> 2.1192762586805554e-7\n",
      "Termos: 18 | Erro -> 1.0038677014802631e-7\n",
      "Termos: 19 | Erro -> 4.76837158203125e-8\n",
      "Termos: 20 | Erro -> 2.270653134300595e-8\n",
      "Termos: 21 | Erro -> 1.0837208140980114e-8\n",
      "Termos: 22 | Erro -> 5.183012589164402e-9\n",
      "Termos: 23 | Erro -> 2.483526865641276e-9\n",
      "Termos: 24 | Erro -> 1.1920928955078125e-9\n",
      "Termos: 25 | Erro -> 5.73121584378756e-10\n",
      "Termos: 26 | Erro -> 2.759474295156973e-10\n",
      "Termos: 27 | Erro -> 1.330460820879255e-10\n",
      "Termos: 28 | Erro -> 6.422914307692955e-11\n",
      "Termos: 29 | Erro -> 3.104408582051595e-11\n",
      "Termos: 30 | Erro -> 1.502133184863675e-11\n"
     ]
    }
   ],
   "source": [
    "# Iteração para cálculo do erro do teorema de Taylor\n",
    "\n",
    "for n = 1:30\n",
    "    erro = abs((0.5) ^ (n + 1) / (n + 1))\n",
    "    println(\"Termos: \", n, \" | Erro -> \", erro)\n",
    "end"
   ]
  },
  {
   "cell_type": "markdown",
   "id": "7192a58b",
   "metadata": {},
   "source": [
    "#### Exercício 4.5 | Polinomial de Taylor para calcular ln(x)"
   ]
  },
  {
   "cell_type": "code",
   "execution_count": 8,
   "id": "a7ae86cd",
   "metadata": {},
   "outputs": [
    {
     "data": {
      "text/plain": [
       "ln_taylor_v1 (generic function with 1 method)"
      ]
     },
     "execution_count": 8,
     "metadata": {},
     "output_type": "execute_result"
    }
   ],
   "source": [
    "# Função para calcular a expansão em série de Taylor para ln(x) com erro determinado (usando ln do Julia que pode gerar imprecisão)\n",
    "\n",
    "# x - número que desejamos calcular\n",
    "# erro - ordem do erro desejado\n",
    "\n",
    "function ln_taylor_v1(x, erro)\n",
    "    soma = 0.0\n",
    "    k = 1\n",
    "    while abs(log(x) - soma) >= erro # nessa versão, o erro está sendo calculado usando a diferença do ln do Julia e a aproximação\n",
    "        soma += (((-1) ^ (k - 1)) * ((x - 1) ^ k)) / k # parcela do teorema de taylor\n",
    "        k += 1\n",
    "    end\n",
    "    return soma\n",
    "end"
   ]
  },
  {
   "cell_type": "code",
   "execution_count": 9,
   "id": "725a2298",
   "metadata": {},
   "outputs": [
    {
     "data": {
      "text/plain": [
       "ln_taylor_v2 (generic function with 1 method)"
      ]
     },
     "execution_count": 9,
     "metadata": {},
     "output_type": "execute_result"
    }
   ],
   "source": [
    "# [Versão oficial] Função para calcular a expansão em série de Taylor para ln(x) com erro determinado (usando erro do teorema de Taylor)\n",
    "\n",
    "# x - número que desejamos calcular\n",
    "# erro - ordem do erro desejado\n",
    "\n",
    "function ln_taylor_v2(x, erro)\n",
    "    soma = 0.0\n",
    "    a = 1\n",
    "    n = 0\n",
    "    M = factorial(big(n)) # o limite superior da derivada de ordem n+1 será |(-1)^(n) * (n)! / x^(n+1))|, mas como x = 1 e é módulo, pode ficar apenas o fatorial\n",
    "    while abs(M * (x - a) ^ (n + 1) / factorial(big(n + 1))) >= erro # nessa versão, o erro está sendo calculado usando o erro do teorema de Taylor\n",
    "        soma += (((-1) ^ (n)) * ((x - 1) ^ (n + 1))) / (n + 1) # parcela do teorema de taylor\n",
    "        n += 1\n",
    "        M = factorial(big(n))\n",
    "    end\n",
    "    # println(\"Termos \", n)\n",
    "    return soma\n",
    "end"
   ]
  },
  {
   "cell_type": "code",
   "execution_count": 10,
   "id": "b478eab8",
   "metadata": {},
   "outputs": [
    {
     "data": {
      "text/plain": [
       "ln_taylor_v3 (generic function with 1 method)"
      ]
     },
     "execution_count": 10,
     "metadata": {},
     "output_type": "execute_result"
    }
   ],
   "source": [
    "# versão com simplificação dos fatoriais para exigir menos processamento, sobra um (n + 1) no denominador\n",
    "function ln_taylor_v3(x, erro)\n",
    "    soma = 0.0\n",
    "    a = 1\n",
    "    n = 0\n",
    "    while abs((x - a) ^ (n + 1) / (n + 1)) >= erro # nessa versão, o erro está sendo calculado usando o erro do teorema de Taylor\n",
    "        soma += (((-1) ^ (n)) * ((x - 1) ^ (n + 1))) / (n + 1) # parcela do teorema de taylor\n",
    "        n += 1\n",
    "    end\n",
    "    # println(\"Termos \", n)\n",
    "    return soma\n",
    "end"
   ]
  },
  {
   "cell_type": "code",
   "execution_count": 11,
   "id": "bf559a3a",
   "metadata": {},
   "outputs": [
    {
     "data": {
      "text/plain": [
       "0.4054651154407084"
      ]
     },
     "execution_count": 11,
     "metadata": {},
     "output_type": "execute_result"
    }
   ],
   "source": [
    "ln_taylor_v1(1.5, 1e-8)"
   ]
  },
  {
   "cell_type": "code",
   "execution_count": 12,
   "id": "d3dcee22",
   "metadata": {},
   "outputs": [
    {
     "data": {
      "text/plain": [
       "0.40546510460350027"
      ]
     },
     "execution_count": 12,
     "metadata": {},
     "output_type": "execute_result"
    }
   ],
   "source": [
    "ln_taylor_v2(1.5, 1e-8)"
   ]
  },
  {
   "cell_type": "code",
   "execution_count": 13,
   "id": "9036b9a4",
   "metadata": {},
   "outputs": [
    {
     "data": {
      "text/plain": [
       "0.40546510460350027"
      ]
     },
     "execution_count": 13,
     "metadata": {},
     "output_type": "execute_result"
    }
   ],
   "source": [
    "ln_taylor_v3(1.5, 1e-8)"
   ]
  },
  {
   "cell_type": "markdown",
   "id": "f490f769",
   "metadata": {},
   "source": [
    "#### Exercício 4.7 | Exercício de Arte"
   ]
  },
  {
   "cell_type": "code",
   "execution_count": 14,
   "id": "4d9b9efb-d4e2-42ed-8baf-fee950575df1",
   "metadata": {},
   "outputs": [],
   "source": [
    "using Plots"
   ]
  },
  {
   "cell_type": "code",
   "execution_count": 15,
   "id": "936b8077-48d0-40b7-89ee-055726ecab58",
   "metadata": {},
   "outputs": [
    {
     "data": {
      "text/plain": [
       "Plots.GRBackend()"
      ]
     },
     "execution_count": 15,
     "metadata": {},
     "output_type": "execute_result"
    }
   ],
   "source": [
    "gr()"
   ]
  },
  {
   "cell_type": "code",
   "execution_count": 16,
   "id": "d11a5c66-240d-4c5f-9a5a-0220df2f09b2",
   "metadata": {},
   "outputs": [
    {
     "data": {
      "image/svg+xml": [
       "<?xml version=\"1.0\" encoding=\"utf-8\"?>\n",
       "<svg xmlns=\"http://www.w3.org/2000/svg\" xmlns:xlink=\"http://www.w3.org/1999/xlink\" width=\"600\" height=\"400\" viewBox=\"0 0 2400 1600\">\n",
       "<defs>\n",
       "  <clipPath id=\"clip470\">\n",
       "    <rect x=\"0\" y=\"0\" width=\"2400\" height=\"1600\"/>\n",
       "  </clipPath>\n",
       "</defs>\n",
       "<path clip-path=\"url(#clip470)\" d=\"\n",
       "M0 1600 L2400 1600 L2400 0 L0 0  Z\n",
       "  \" fill=\"#ffffff\" fill-rule=\"evenodd\" fill-opacity=\"1\"/>\n",
       "<defs>\n",
       "  <clipPath id=\"clip471\">\n",
       "    <rect x=\"480\" y=\"0\" width=\"1681\" height=\"1600\"/>\n",
       "  </clipPath>\n",
       "</defs>\n",
       "<path clip-path=\"url(#clip470)\" d=\"\n",
       "M149.191 1486.45 L2352.76 1486.45 L2352.76 47.2441 L149.191 47.2441  Z\n",
       "  \" fill=\"#ffffff\" fill-rule=\"evenodd\" fill-opacity=\"1\"/>\n",
       "<defs>\n",
       "  <clipPath id=\"clip472\">\n",
       "    <rect x=\"149\" y=\"47\" width=\"2205\" height=\"1440\"/>\n",
       "  </clipPath>\n",
       "</defs>\n",
       "<polyline clip-path=\"url(#clip472)\" style=\"stroke:#000000; stroke-linecap:butt; stroke-linejoin:round; stroke-width:2; stroke-opacity:0.1; fill:none\" points=\"\n",
       "  374.203,1486.45 374.203,47.2441 \n",
       "  \"/>\n",
       "<polyline clip-path=\"url(#clip472)\" style=\"stroke:#000000; stroke-linecap:butt; stroke-linejoin:round; stroke-width:2; stroke-opacity:0.1; fill:none\" points=\"\n",
       "  812.588,1486.45 812.588,47.2441 \n",
       "  \"/>\n",
       "<polyline clip-path=\"url(#clip472)\" style=\"stroke:#000000; stroke-linecap:butt; stroke-linejoin:round; stroke-width:2; stroke-opacity:0.1; fill:none\" points=\"\n",
       "  1250.97,1486.45 1250.97,47.2441 \n",
       "  \"/>\n",
       "<polyline clip-path=\"url(#clip472)\" style=\"stroke:#000000; stroke-linecap:butt; stroke-linejoin:round; stroke-width:2; stroke-opacity:0.1; fill:none\" points=\"\n",
       "  1689.36,1486.45 1689.36,47.2441 \n",
       "  \"/>\n",
       "<polyline clip-path=\"url(#clip472)\" style=\"stroke:#000000; stroke-linecap:butt; stroke-linejoin:round; stroke-width:2; stroke-opacity:0.1; fill:none\" points=\"\n",
       "  2127.74,1486.45 2127.74,47.2441 \n",
       "  \"/>\n",
       "<polyline clip-path=\"url(#clip470)\" style=\"stroke:#000000; stroke-linecap:butt; stroke-linejoin:round; stroke-width:4; stroke-opacity:1; fill:none\" points=\"\n",
       "  149.191,1486.45 2352.76,1486.45 \n",
       "  \"/>\n",
       "<polyline clip-path=\"url(#clip470)\" style=\"stroke:#000000; stroke-linecap:butt; stroke-linejoin:round; stroke-width:4; stroke-opacity:1; fill:none\" points=\"\n",
       "  374.203,1486.45 374.203,1467.55 \n",
       "  \"/>\n",
       "<polyline clip-path=\"url(#clip470)\" style=\"stroke:#000000; stroke-linecap:butt; stroke-linejoin:round; stroke-width:4; stroke-opacity:1; fill:none\" points=\"\n",
       "  812.588,1486.45 812.588,1467.55 \n",
       "  \"/>\n",
       "<polyline clip-path=\"url(#clip470)\" style=\"stroke:#000000; stroke-linecap:butt; stroke-linejoin:round; stroke-width:4; stroke-opacity:1; fill:none\" points=\"\n",
       "  1250.97,1486.45 1250.97,1467.55 \n",
       "  \"/>\n",
       "<polyline clip-path=\"url(#clip470)\" style=\"stroke:#000000; stroke-linecap:butt; stroke-linejoin:round; stroke-width:4; stroke-opacity:1; fill:none\" points=\"\n",
       "  1689.36,1486.45 1689.36,1467.55 \n",
       "  \"/>\n",
       "<polyline clip-path=\"url(#clip470)\" style=\"stroke:#000000; stroke-linecap:butt; stroke-linejoin:round; stroke-width:4; stroke-opacity:1; fill:none\" points=\"\n",
       "  2127.74,1486.45 2127.74,1467.55 \n",
       "  \"/>\n",
       "<path clip-path=\"url(#clip470)\" d=\"M320.731 1532.02 L350.407 1532.02 L350.407 1535.95 L320.731 1535.95 L320.731 1532.02 Z\" fill=\"#000000\" fill-rule=\"evenodd\" fill-opacity=\"1\" /><path clip-path=\"url(#clip470)\" d=\"M360.545 1514.29 L378.902 1514.29 L378.902 1518.22 L364.828 1518.22 L364.828 1526.7 Q365.846 1526.35 366.865 1526.19 Q367.883 1526 368.902 1526 Q374.689 1526 378.068 1529.17 Q381.448 1532.34 381.448 1537.76 Q381.448 1543.34 377.976 1546.44 Q374.504 1549.52 368.184 1549.52 Q366.008 1549.52 363.74 1549.15 Q361.494 1548.78 359.087 1548.04 L359.087 1543.34 Q361.17 1544.47 363.393 1545.03 Q365.615 1545.58 368.092 1545.58 Q372.096 1545.58 374.434 1543.48 Q376.772 1541.37 376.772 1537.76 Q376.772 1534.15 374.434 1532.04 Q372.096 1529.94 368.092 1529.94 Q366.217 1529.94 364.342 1530.35 Q362.49 1530.77 360.545 1531.65 L360.545 1514.29 Z\" fill=\"#000000\" fill-rule=\"evenodd\" fill-opacity=\"1\" /><path clip-path=\"url(#clip470)\" d=\"M390.661 1542.97 L395.545 1542.97 L395.545 1548.85 L390.661 1548.85 L390.661 1542.97 Z\" fill=\"#000000\" fill-rule=\"evenodd\" fill-opacity=\"1\" /><path clip-path=\"url(#clip470)\" d=\"M415.73 1517.37 Q412.119 1517.37 410.29 1520.93 Q408.485 1524.47 408.485 1531.6 Q408.485 1538.71 410.29 1542.27 Q412.119 1545.82 415.73 1545.82 Q419.365 1545.82 421.17 1542.27 Q422.999 1538.71 422.999 1531.6 Q422.999 1524.47 421.17 1520.93 Q419.365 1517.37 415.73 1517.37 M415.73 1513.66 Q421.54 1513.66 424.596 1518.27 Q427.675 1522.85 427.675 1531.6 Q427.675 1540.33 424.596 1544.94 Q421.54 1549.52 415.73 1549.52 Q409.92 1549.52 406.841 1544.94 Q403.786 1540.33 403.786 1531.6 Q403.786 1522.85 406.841 1518.27 Q409.92 1513.66 415.73 1513.66 Z\" fill=\"#000000\" fill-rule=\"evenodd\" fill-opacity=\"1\" /><path clip-path=\"url(#clip470)\" d=\"M759.614 1532.02 L789.29 1532.02 L789.29 1535.95 L759.614 1535.95 L759.614 1532.02 Z\" fill=\"#000000\" fill-rule=\"evenodd\" fill-opacity=\"1\" /><path clip-path=\"url(#clip470)\" d=\"M803.41 1544.91 L819.729 1544.91 L819.729 1548.85 L797.785 1548.85 L797.785 1544.91 Q800.447 1542.16 805.03 1537.53 Q809.637 1532.88 810.817 1531.53 Q813.063 1529.01 813.942 1527.27 Q814.845 1525.51 814.845 1523.82 Q814.845 1521.07 812.901 1519.33 Q810.979 1517.6 807.877 1517.6 Q805.678 1517.6 803.225 1518.36 Q800.794 1519.13 798.016 1520.68 L798.016 1515.95 Q800.84 1514.82 803.294 1514.24 Q805.748 1513.66 807.785 1513.66 Q813.155 1513.66 816.35 1516.35 Q819.544 1519.03 819.544 1523.52 Q819.544 1525.65 818.734 1527.57 Q817.947 1529.47 815.84 1532.07 Q815.262 1532.74 812.16 1535.95 Q809.058 1539.15 803.41 1544.91 Z\" fill=\"#000000\" fill-rule=\"evenodd\" fill-opacity=\"1\" /><path clip-path=\"url(#clip470)\" d=\"M829.544 1542.97 L834.428 1542.97 L834.428 1548.85 L829.544 1548.85 L829.544 1542.97 Z\" fill=\"#000000\" fill-rule=\"evenodd\" fill-opacity=\"1\" /><path clip-path=\"url(#clip470)\" d=\"M844.66 1514.29 L863.016 1514.29 L863.016 1518.22 L848.942 1518.22 L848.942 1526.7 Q849.961 1526.35 850.979 1526.19 Q851.998 1526 853.016 1526 Q858.803 1526 862.183 1529.17 Q865.562 1532.34 865.562 1537.76 Q865.562 1543.34 862.09 1546.44 Q858.618 1549.52 852.298 1549.52 Q850.123 1549.52 847.854 1549.15 Q845.609 1548.78 843.201 1548.04 L843.201 1543.34 Q845.285 1544.47 847.507 1545.03 Q849.729 1545.58 852.206 1545.58 Q856.211 1545.58 858.548 1543.48 Q860.886 1541.37 860.886 1537.76 Q860.886 1534.15 858.548 1532.04 Q856.211 1529.94 852.206 1529.94 Q850.331 1529.94 848.456 1530.35 Q846.604 1530.77 844.66 1531.65 L844.66 1514.29 Z\" fill=\"#000000\" fill-rule=\"evenodd\" fill-opacity=\"1\" /><path clip-path=\"url(#clip470)\" d=\"M1228.36 1517.37 Q1224.75 1517.37 1222.92 1520.93 Q1221.11 1524.47 1221.11 1531.6 Q1221.11 1538.71 1222.92 1542.27 Q1224.75 1545.82 1228.36 1545.82 Q1231.99 1545.82 1233.8 1542.27 Q1235.63 1538.71 1235.63 1531.6 Q1235.63 1524.47 1233.8 1520.93 Q1231.99 1517.37 1228.36 1517.37 M1228.36 1513.66 Q1234.17 1513.66 1237.22 1518.27 Q1240.3 1522.85 1240.3 1531.6 Q1240.3 1540.33 1237.22 1544.94 Q1234.17 1549.52 1228.36 1549.52 Q1222.55 1549.52 1219.47 1544.94 Q1216.41 1540.33 1216.41 1531.6 Q1216.41 1522.85 1219.47 1518.27 Q1222.55 1513.66 1228.36 1513.66 Z\" fill=\"#000000\" fill-rule=\"evenodd\" fill-opacity=\"1\" /><path clip-path=\"url(#clip470)\" d=\"M1248.52 1542.97 L1253.4 1542.97 L1253.4 1548.85 L1248.52 1548.85 L1248.52 1542.97 Z\" fill=\"#000000\" fill-rule=\"evenodd\" fill-opacity=\"1\" /><path clip-path=\"url(#clip470)\" d=\"M1273.59 1517.37 Q1269.98 1517.37 1268.15 1520.93 Q1266.34 1524.47 1266.34 1531.6 Q1266.34 1538.71 1268.15 1542.27 Q1269.98 1545.82 1273.59 1545.82 Q1277.22 1545.82 1279.03 1542.27 Q1280.86 1538.71 1280.86 1531.6 Q1280.86 1524.47 1279.03 1520.93 Q1277.22 1517.37 1273.59 1517.37 M1273.59 1513.66 Q1279.4 1513.66 1282.45 1518.27 Q1285.53 1522.85 1285.53 1531.6 Q1285.53 1540.33 1282.45 1544.94 Q1279.4 1549.52 1273.59 1549.52 Q1267.78 1549.52 1264.7 1544.94 Q1261.64 1540.33 1261.64 1531.6 Q1261.64 1522.85 1264.7 1518.27 Q1267.78 1513.66 1273.59 1513.66 Z\" fill=\"#000000\" fill-rule=\"evenodd\" fill-opacity=\"1\" /><path clip-path=\"url(#clip470)\" d=\"M1661.09 1544.91 L1677.41 1544.91 L1677.41 1548.85 L1655.47 1548.85 L1655.47 1544.91 Q1658.13 1542.16 1662.72 1537.53 Q1667.32 1532.88 1668.5 1531.53 Q1670.75 1529.01 1671.63 1527.27 Q1672.53 1525.51 1672.53 1523.82 Q1672.53 1521.07 1670.59 1519.33 Q1668.66 1517.6 1665.56 1517.6 Q1663.36 1517.6 1660.91 1518.36 Q1658.48 1519.13 1655.7 1520.68 L1655.7 1515.95 Q1658.53 1514.82 1660.98 1514.24 Q1663.43 1513.66 1665.47 1513.66 Q1670.84 1513.66 1674.03 1516.35 Q1677.23 1519.03 1677.23 1523.52 Q1677.23 1525.65 1676.42 1527.57 Q1675.63 1529.47 1673.53 1532.07 Q1672.95 1532.74 1669.84 1535.95 Q1666.74 1539.15 1661.09 1544.91 Z\" fill=\"#000000\" fill-rule=\"evenodd\" fill-opacity=\"1\" /><path clip-path=\"url(#clip470)\" d=\"M1687.23 1542.97 L1692.11 1542.97 L1692.11 1548.85 L1687.23 1548.85 L1687.23 1542.97 Z\" fill=\"#000000\" fill-rule=\"evenodd\" fill-opacity=\"1\" /><path clip-path=\"url(#clip470)\" d=\"M1702.34 1514.29 L1720.7 1514.29 L1720.7 1518.22 L1706.63 1518.22 L1706.63 1526.7 Q1707.65 1526.35 1708.66 1526.19 Q1709.68 1526 1710.7 1526 Q1716.49 1526 1719.87 1529.17 Q1723.25 1532.34 1723.25 1537.76 Q1723.25 1543.34 1719.78 1546.44 Q1716.3 1549.52 1709.98 1549.52 Q1707.81 1549.52 1705.54 1549.15 Q1703.29 1548.78 1700.89 1548.04 L1700.89 1543.34 Q1702.97 1544.47 1705.19 1545.03 Q1707.41 1545.58 1709.89 1545.58 Q1713.9 1545.58 1716.23 1543.48 Q1718.57 1541.37 1718.57 1537.76 Q1718.57 1534.15 1716.23 1532.04 Q1713.9 1529.94 1709.89 1529.94 Q1708.02 1529.94 1706.14 1530.35 Q1704.29 1530.77 1702.34 1531.65 L1702.34 1514.29 Z\" fill=\"#000000\" fill-rule=\"evenodd\" fill-opacity=\"1\" /><path clip-path=\"url(#clip470)\" d=\"M2094.91 1514.29 L2113.26 1514.29 L2113.26 1518.22 L2099.19 1518.22 L2099.19 1526.7 Q2100.21 1526.35 2101.23 1526.19 Q2102.25 1526 2103.27 1526 Q2109.05 1526 2112.43 1529.17 Q2115.81 1532.34 2115.81 1537.76 Q2115.81 1543.34 2112.34 1546.44 Q2108.87 1549.52 2102.55 1549.52 Q2100.37 1549.52 2098.1 1549.15 Q2095.86 1548.78 2093.45 1548.04 L2093.45 1543.34 Q2095.53 1544.47 2097.76 1545.03 Q2099.98 1545.58 2102.45 1545.58 Q2106.46 1545.58 2108.8 1543.48 Q2111.14 1541.37 2111.14 1537.76 Q2111.14 1534.15 2108.8 1532.04 Q2106.46 1529.94 2102.45 1529.94 Q2100.58 1529.94 2098.7 1530.35 Q2096.85 1530.77 2094.91 1531.65 L2094.91 1514.29 Z\" fill=\"#000000\" fill-rule=\"evenodd\" fill-opacity=\"1\" /><path clip-path=\"url(#clip470)\" d=\"M2125.02 1542.97 L2129.91 1542.97 L2129.91 1548.85 L2125.02 1548.85 L2125.02 1542.97 Z\" fill=\"#000000\" fill-rule=\"evenodd\" fill-opacity=\"1\" /><path clip-path=\"url(#clip470)\" d=\"M2150.09 1517.37 Q2146.48 1517.37 2144.65 1520.93 Q2142.85 1524.47 2142.85 1531.6 Q2142.85 1538.71 2144.65 1542.27 Q2146.48 1545.82 2150.09 1545.82 Q2153.73 1545.82 2155.53 1542.27 Q2157.36 1538.71 2157.36 1531.6 Q2157.36 1524.47 2155.53 1520.93 Q2153.73 1517.37 2150.09 1517.37 M2150.09 1513.66 Q2155.9 1513.66 2158.96 1518.27 Q2162.04 1522.85 2162.04 1531.6 Q2162.04 1540.33 2158.96 1544.94 Q2155.9 1549.52 2150.09 1549.52 Q2144.28 1549.52 2141.2 1544.94 Q2138.15 1540.33 2138.15 1531.6 Q2138.15 1522.85 2141.2 1518.27 Q2144.28 1513.66 2150.09 1513.66 Z\" fill=\"#000000\" fill-rule=\"evenodd\" fill-opacity=\"1\" /><polyline clip-path=\"url(#clip472)\" style=\"stroke:#000000; stroke-linecap:butt; stroke-linejoin:round; stroke-width:2; stroke-opacity:0.1; fill:none\" points=\"\n",
       "  149.191,1486.45 2352.76,1486.45 \n",
       "  \"/>\n",
       "<polyline clip-path=\"url(#clip472)\" style=\"stroke:#000000; stroke-linecap:butt; stroke-linejoin:round; stroke-width:2; stroke-opacity:0.1; fill:none\" points=\"\n",
       "  149.191,1198.61 2352.76,1198.61 \n",
       "  \"/>\n",
       "<polyline clip-path=\"url(#clip472)\" style=\"stroke:#000000; stroke-linecap:butt; stroke-linejoin:round; stroke-width:2; stroke-opacity:0.1; fill:none\" points=\"\n",
       "  149.191,910.766 2352.76,910.766 \n",
       "  \"/>\n",
       "<polyline clip-path=\"url(#clip472)\" style=\"stroke:#000000; stroke-linecap:butt; stroke-linejoin:round; stroke-width:2; stroke-opacity:0.1; fill:none\" points=\"\n",
       "  149.191,622.926 2352.76,622.926 \n",
       "  \"/>\n",
       "<polyline clip-path=\"url(#clip472)\" style=\"stroke:#000000; stroke-linecap:butt; stroke-linejoin:round; stroke-width:2; stroke-opacity:0.1; fill:none\" points=\"\n",
       "  149.191,335.085 2352.76,335.085 \n",
       "  \"/>\n",
       "<polyline clip-path=\"url(#clip472)\" style=\"stroke:#000000; stroke-linecap:butt; stroke-linejoin:round; stroke-width:2; stroke-opacity:0.1; fill:none\" points=\"\n",
       "  149.191,47.2441 2352.76,47.2441 \n",
       "  \"/>\n",
       "<polyline clip-path=\"url(#clip470)\" style=\"stroke:#000000; stroke-linecap:butt; stroke-linejoin:round; stroke-width:4; stroke-opacity:1; fill:none\" points=\"\n",
       "  149.191,1486.45 149.191,47.2441 \n",
       "  \"/>\n",
       "<polyline clip-path=\"url(#clip470)\" style=\"stroke:#000000; stroke-linecap:butt; stroke-linejoin:round; stroke-width:4; stroke-opacity:1; fill:none\" points=\"\n",
       "  149.191,1486.45 168.089,1486.45 \n",
       "  \"/>\n",
       "<polyline clip-path=\"url(#clip470)\" style=\"stroke:#000000; stroke-linecap:butt; stroke-linejoin:round; stroke-width:4; stroke-opacity:1; fill:none\" points=\"\n",
       "  149.191,1198.61 168.089,1198.61 \n",
       "  \"/>\n",
       "<polyline clip-path=\"url(#clip470)\" style=\"stroke:#000000; stroke-linecap:butt; stroke-linejoin:round; stroke-width:4; stroke-opacity:1; fill:none\" points=\"\n",
       "  149.191,910.766 168.089,910.766 \n",
       "  \"/>\n",
       "<polyline clip-path=\"url(#clip470)\" style=\"stroke:#000000; stroke-linecap:butt; stroke-linejoin:round; stroke-width:4; stroke-opacity:1; fill:none\" points=\"\n",
       "  149.191,622.926 168.089,622.926 \n",
       "  \"/>\n",
       "<polyline clip-path=\"url(#clip470)\" style=\"stroke:#000000; stroke-linecap:butt; stroke-linejoin:round; stroke-width:4; stroke-opacity:1; fill:none\" points=\"\n",
       "  149.191,335.085 168.089,335.085 \n",
       "  \"/>\n",
       "<polyline clip-path=\"url(#clip470)\" style=\"stroke:#000000; stroke-linecap:butt; stroke-linejoin:round; stroke-width:4; stroke-opacity:1; fill:none\" points=\"\n",
       "  149.191,47.2441 168.089,47.2441 \n",
       "  \"/>\n",
       "<path clip-path=\"url(#clip470)\" d=\"M51.3162 1486.9 L80.992 1486.9 L80.992 1490.83 L51.3162 1490.83 L51.3162 1486.9 Z\" fill=\"#000000\" fill-rule=\"evenodd\" fill-opacity=\"1\" /><path clip-path=\"url(#clip470)\" d=\"M101.663 1484.58 Q98.515 1484.58 96.6632 1486.74 Q94.8345 1488.89 94.8345 1492.64 Q94.8345 1496.37 96.6632 1498.54 Q98.515 1500.7 101.663 1500.7 Q104.811 1500.7 106.64 1498.54 Q108.492 1496.37 108.492 1492.64 Q108.492 1488.89 106.64 1486.74 Q104.811 1484.58 101.663 1484.58 M110.946 1469.93 L110.946 1474.19 Q109.186 1473.36 107.381 1472.92 Q105.598 1472.48 103.839 1472.48 Q99.2095 1472.48 96.7558 1475.6 Q94.3252 1478.73 93.978 1485.05 Q95.3437 1483.03 97.4039 1481.97 Q99.4641 1480.88 101.941 1480.88 Q107.149 1480.88 110.158 1484.05 Q113.191 1487.2 113.191 1492.64 Q113.191 1497.96 110.043 1501.18 Q106.895 1504.4 101.663 1504.4 Q95.6678 1504.4 92.4965 1499.82 Q89.3253 1495.21 89.3253 1486.48 Q89.3253 1478.29 93.2141 1473.43 Q97.103 1468.54 103.654 1468.54 Q105.413 1468.54 107.196 1468.89 Q109.001 1469.24 110.946 1469.93 Z\" fill=\"#000000\" fill-rule=\"evenodd\" fill-opacity=\"1\" /><path clip-path=\"url(#clip470)\" d=\"M50.9921 1199.06 L80.6679 1199.06 L80.6679 1202.99 L50.9921 1202.99 L50.9921 1199.06 Z\" fill=\"#000000\" fill-rule=\"evenodd\" fill-opacity=\"1\" /><path clip-path=\"url(#clip470)\" d=\"M103.608 1185.4 L91.8021 1203.85 L103.608 1203.85 L103.608 1185.4 M102.381 1181.33 L108.26 1181.33 L108.26 1203.85 L113.191 1203.85 L113.191 1207.74 L108.26 1207.74 L108.26 1215.89 L103.608 1215.89 L103.608 1207.74 L88.0058 1207.74 L88.0058 1203.23 L102.381 1181.33 Z\" fill=\"#000000\" fill-rule=\"evenodd\" fill-opacity=\"1\" /><path clip-path=\"url(#clip470)\" d=\"M53.0754 911.218 L82.7512 911.218 L82.7512 915.153 L53.0754 915.153 L53.0754 911.218 Z\" fill=\"#000000\" fill-rule=\"evenodd\" fill-opacity=\"1\" /><path clip-path=\"url(#clip470)\" d=\"M96.8715 924.111 L113.191 924.111 L113.191 928.046 L91.2465 928.046 L91.2465 924.111 Q93.9086 921.357 98.4919 916.727 Q103.098 912.074 104.279 910.732 Q106.524 908.209 107.404 906.472 Q108.307 904.713 108.307 903.023 Q108.307 900.269 106.362 898.533 Q104.441 896.797 101.339 896.797 Q99.14 896.797 96.6863 897.56 Q94.2558 898.324 91.478 899.875 L91.478 895.153 Q94.3021 894.019 96.7558 893.44 Q99.2095 892.861 101.246 892.861 Q106.617 892.861 109.811 895.547 Q113.006 898.232 113.006 902.722 Q113.006 904.852 112.196 906.773 Q111.408 908.671 109.302 911.264 Q108.723 911.935 105.621 915.153 Q102.52 918.347 96.8715 924.111 Z\" fill=\"#000000\" fill-rule=\"evenodd\" fill-opacity=\"1\" /><path clip-path=\"url(#clip470)\" d=\"M101.246 608.724 Q97.6354 608.724 95.8067 612.289 Q94.0012 615.831 94.0012 622.96 Q94.0012 630.067 95.8067 633.632 Q97.6354 637.173 101.246 637.173 Q104.881 637.173 106.686 633.632 Q108.515 630.067 108.515 622.96 Q108.515 615.831 106.686 612.289 Q104.881 608.724 101.246 608.724 M101.246 605.021 Q107.057 605.021 110.112 609.627 Q113.191 614.21 113.191 622.96 Q113.191 631.687 110.112 636.294 Q107.057 640.877 101.246 640.877 Q95.4363 640.877 92.3576 636.294 Q89.3021 631.687 89.3021 622.96 Q89.3021 614.21 92.3576 609.627 Q95.4363 605.021 101.246 605.021 Z\" fill=\"#000000\" fill-rule=\"evenodd\" fill-opacity=\"1\" /><path clip-path=\"url(#clip470)\" d=\"M96.8715 348.43 L113.191 348.43 L113.191 352.365 L91.2465 352.365 L91.2465 348.43 Q93.9086 345.675 98.4919 341.045 Q103.098 336.393 104.279 335.05 Q106.524 332.527 107.404 330.791 Q108.307 329.032 108.307 327.342 Q108.307 324.587 106.362 322.851 Q104.441 321.115 101.339 321.115 Q99.14 321.115 96.6863 321.879 Q94.2558 322.643 91.478 324.194 L91.478 319.472 Q94.3021 318.337 96.7558 317.759 Q99.2095 317.18 101.246 317.18 Q106.617 317.18 109.811 319.865 Q113.006 322.55 113.006 327.041 Q113.006 329.171 112.196 331.092 Q111.408 332.99 109.302 335.583 Q108.723 336.254 105.621 339.471 Q102.52 342.666 96.8715 348.43 Z\" fill=\"#000000\" fill-rule=\"evenodd\" fill-opacity=\"1\" /><path clip-path=\"url(#clip470)\" d=\"M103.608 34.0381 L91.8021 52.4871 L103.608 52.4871 L103.608 34.0381 M102.381 29.9641 L108.26 29.9641 L108.26 52.4871 L113.191 52.4871 L113.191 56.376 L108.26 56.376 L108.26 64.5241 L103.608 64.5241 L103.608 56.376 L88.0058 56.376 L88.0058 51.8621 L102.381 29.9641 Z\" fill=\"#000000\" fill-rule=\"evenodd\" fill-opacity=\"1\" /><polyline clip-path=\"url(#clip472)\" style=\"stroke:#009af9; stroke-linecap:butt; stroke-linejoin:round; stroke-width:8; stroke-opacity:1; fill:none\" points=\"\n",
       "  149.191,479.005 154.571,479.073 159.951,479.276 165.331,479.614 170.71,480.088 195.583,484.013 220.455,490.728 245.328,500.098 270.2,511.936 295.073,526.002 \n",
       "  319.945,542.016 344.818,559.654 369.69,578.563 399.585,602.435 429.48,626.9 459.374,651.25 489.269,674.779 514.545,693.526 539.82,710.809 565.096,726.268 \n",
       "  590.371,739.585 617.828,751.301 645.284,759.876 672.74,765.1 700.197,766.846 725.509,765.336 750.821,760.863 776.134,753.521 801.446,743.463 828.583,729.901 \n",
       "  855.721,713.783 882.858,695.492 909.996,675.467 972.879,625.1 1035.76,574.456 1063.7,553.568 1091.64,534.438 1119.59,517.549 1147.53,503.33 1172.03,493.345 \n",
       "  1196.53,485.886 1221.03,481.098 1245.54,479.074 1272.25,480.063 1298.96,484.361 1325.68,491.869 1352.39,502.412 1379.26,515.834 1406.14,531.766 1433.01,549.835 \n",
       "  1459.88,569.617 1519.3,617.088 1578.73,665.223 1607,686.756 1635.27,706.633 1663.53,724.34 1691.8,739.416 1706.5,746.083 1721.2,751.884 1735.89,756.781 \n",
       "  1750.59,760.737 1765.29,763.726 1779.99,765.727 1794.68,766.725 1809.38,766.714 1834.12,764.418 1858.87,759.309 1883.61,751.49 1908.35,741.115 1938.56,725.287 \n",
       "  1968.77,706.43 1998.98,685.1 2029.19,661.929 2085.98,615.813 2142.77,570.436 2165.52,553.543 2188.27,537.815 2211.02,523.517 2233.76,510.89 2256.51,500.145 \n",
       "  2279.26,491.464 2302,484.991 2324.75,480.837 2331.75,480.036 2338.75,479.464 2345.75,479.12 2352.76,479.005 \n",
       "  \"/>\n",
       "<polyline clip-path=\"url(#clip472)\" style=\"stroke:#ffa500; stroke-linecap:butt; stroke-linejoin:round; stroke-width:8; stroke-opacity:1; fill:none\" points=\"\n",
       "  149.191,479.005 170.71,479.005 369.69,479.005 489.269,479.005 590.371,479.005 700.197,479.005 801.446,479.005 909.996,479.005 1035.76,479.005 1147.53,479.005 \n",
       "  1245.54,479.005 1352.39,479.005 1459.88,479.005 1578.73,479.005 1691.8,479.005 1809.38,479.005 1908.35,479.005 2029.19,479.005 2142.77,479.005 2324.75,479.005 \n",
       "  2352.76,479.005 \n",
       "  \"/>\n",
       "<polyline clip-path=\"url(#clip472)\" style=\"stroke:#008000; stroke-linecap:butt; stroke-linejoin:round; stroke-width:8; stroke-opacity:1; fill:none\" points=\"\n",
       "  149.191,3319.88 159.951,3264.66 170.71,3209.99 270.2,2730.12 369.69,2296.57 429.48,2058.32 489.269,1836.8 539.82,1662.56 590.371,1500.27 645.284,1337.54 \n",
       "  700.197,1188.93 750.821,1064.42 801.446,951.909 855.721,844.608 909.996,751.095 972.879,659.992 1035.76,587.396 1091.64,538.414 1147.53,504.048 1196.53,485.942 \n",
       "  1245.54,479.074 1298.96,484.395 1352.39,503.076 1406.14,535.348 1459.88,581.14 1519.3,647.506 1578.73,730.399 1635.27,824.612 1691.8,933.788 1750.59,1063.17 \n",
       "  1809.38,1208.73 1858.87,1343.8 1908.35,1490.33 1968.77,1684.77 2029.19,1896.29 2085.98,2110.7 2142.77,2340.22 2233.76,2739.38 2324.75,3177.29 2338.75,3248.13 \n",
       "  2352.76,3319.88 \n",
       "  \"/>\n",
       "<polyline clip-path=\"url(#clip472)\" style=\"stroke:#ff0000; stroke-linecap:butt; stroke-linejoin:round; stroke-width:8; stroke-opacity:1; fill:none\" points=\"\n",
       "  149.191,-6026.22 154.571,-5872.69 159.951,-5721.66 165.331,-5573.13 170.71,-5427.05 195.583,-4782.96 220.455,-4188.42 245.328,-3641 270.2,-3138.3 295.073,-2678 \n",
       "  319.945,-2257.83 344.818,-1875.58 369.69,-1529.1 399.585,-1157.05 429.48,-830.123 459.374,-544.926 489.269,-298.178 539.82,40.3728 590.371,292.442 645.284,483.959 \n",
       "  700.197,605.283 750.821,667.545 801.446,692.926 909.996,665.361 1035.76,573.791 1147.53,503.322 1245.54,479.074 1352.39,502.405 1459.88,569.06 1578.73,657.212 \n",
       "  1691.8,694.272 1750.59,667.987 1809.38,592.071 1858.87,477.732 1908.35,305.905 1938.56,167.803 1968.77,1.12657 1998.98,-197.073 2029.19,-429.872 2057.58,-683.119 \n",
       "  2085.98,-972.529 2114.38,-1300.96 2142.77,-1671.38 2165.52,-2000.45 2188.27,-2360.03 2211.02,-2751.79 2233.76,-3177.43 2256.51,-3638.69 2279.26,-4137.34 2302,-4675.22 \n",
       "  2324.75,-5254.18 2331.75,-5440.94 2338.75,-5631.83 2345.75,-5826.91 2352.76,-6026.22 \n",
       "  \"/>\n",
       "<polyline clip-path=\"url(#clip472)\" style=\"stroke:#800080; stroke-linecap:butt; stroke-linejoin:round; stroke-width:8; stroke-opacity:1; fill:none\" points=\"\n",
       "  149.191,6272.75 154.571,6070.33 159.951,5874.02 165.331,5683.69 170.71,5499.19 183.147,5094.26 195.583,4718.11 208.019,4369.16 220.455,4045.88 232.892,3746.81 \n",
       "  245.328,3470.53 257.764,3215.71 270.2,2981.04 295.073,2567.29 319.945,2220.03 344.818,1930.78 369.69,1691.86 399.585,1461.49 429.48,1282.97 459.374,1146.78 \n",
       "  489.269,1044.63 539.82,929.723 590.371,863.833 700.197,797.215 801.446,749.658 909.996,676.167 1035.76,574.474 1147.53,503.331 1245.54,479.074 1352.39,502.412 \n",
       "  1459.88,569.631 1578.73,665.734 1691.8,744.729 1809.38,800.516 1908.35,860.766 1938.56,894.341 1968.77,941.493 1998.98,1007.18 2029.19,1097.28 2057.58,1210.42 \n",
       "  2085.98,1357.88 2114.38,1547.27 2142.77,1787.21 2165.52,2022.38 2188.27,2301.73 2211.02,2631.33 2233.76,3017.76 2256.51,3468.19 2279.26,3990.39 2290.63,4281 \n",
       "  2302,4592.75 2313.38,4926.79 2324.75,5284.31 2331.75,5516.62 2338.75,5758.59 2345.75,6010.53 2352.76,6272.75 \n",
       "  \"/>\n",
       "<polyline clip-path=\"url(#clip472)\" style=\"stroke:#a52a2a; stroke-linecap:butt; stroke-linejoin:round; stroke-width:8; stroke-opacity:1; fill:none\" points=\"\n",
       "  149.191,-2397.68 154.571,-2267.14 159.951,-2141.72 165.331,-2021.25 170.71,-1905.55 183.147,-1655.37 195.583,-1427.69 208.019,-1220.63 220.455,-1032.41 232.892,-861.428 \n",
       "  245.328,-706.163 257.764,-565.231 270.2,-437.347 282.637,-321.333 295.073,-216.101 307.509,-120.656 319.945,-34.0851 344.818,115.702 369.69,239.091 399.585,359.207 \n",
       "  429.48,454.825 459.374,531.157 489.269,592.181 539.82,668.519 590.371,719.024 645.284,751.101 700.197,763.402 750.821,759.533 801.446,743 909.996,675.437 \n",
       "  1035.76,574.455 1147.53,503.33 1245.54,479.074 1352.39,502.412 1459.88,569.617 1578.73,665.203 1691.8,739.035 1750.59,759.421 1809.38,762.77 1858.87,750.216 \n",
       "  1908.35,721.516 1968.77,660.123 2029.19,560.177 2057.58,494.966 2085.98,414.273 2114.38,314.215 2142.77,189.806 2165.52,68.3821 2188.27,-76.653 2211.02,-250.009 \n",
       "  2233.76,-457.24 2245.14,-575.554 2256.51,-704.861 2267.88,-846.144 2279.26,-1000.46 2290.63,-1168.95 2302,-1352.84 2313.38,-1553.44 2324.75,-1772.14 2331.75,-1916.43 \n",
       "  2338.75,-2068.53 2345.75,-2228.81 2352.76,-2397.68 \n",
       "  \"/>\n",
       "<path clip-path=\"url(#clip470)\" d=\"\n",
       "M222.643 1438.47 L995.814 1438.47 L995.814 1075.59 L222.643 1075.59  Z\n",
       "  \" fill=\"#ffffff\" fill-rule=\"evenodd\" fill-opacity=\"1\"/>\n",
       "<polyline clip-path=\"url(#clip470)\" style=\"stroke:#000000; stroke-linecap:butt; stroke-linejoin:round; stroke-width:4; stroke-opacity:1; fill:none\" points=\"\n",
       "  222.643,1438.47 995.814,1438.47 995.814,1075.59 222.643,1075.59 222.643,1438.47 \n",
       "  \"/>\n",
       "<polyline clip-path=\"url(#clip470)\" style=\"stroke:#009af9; stroke-linecap:butt; stroke-linejoin:round; stroke-width:4; stroke-opacity:1; fill:none\" points=\"\n",
       "  247.127,1127.43 394.031,1127.43 \n",
       "  \"/>\n",
       "<path clip-path=\"url(#clip470)\" d=\"M439.025 1119.78 L439.025 1123.77 Q437.219 1122.77 435.39 1122.28 Q433.585 1121.77 431.733 1121.77 Q427.59 1121.77 425.298 1124.41 Q423.006 1127.03 423.006 1131.77 Q423.006 1136.52 425.298 1139.16 Q427.59 1141.77 431.733 1141.77 Q433.585 1141.77 435.39 1141.29 Q437.219 1140.78 439.025 1139.78 L439.025 1143.72 Q437.242 1144.55 435.321 1144.97 Q433.423 1145.39 431.27 1145.39 Q425.414 1145.39 421.965 1141.71 Q418.515 1138.02 418.515 1131.77 Q418.515 1125.43 421.988 1121.8 Q425.483 1118.16 431.548 1118.16 Q433.515 1118.16 435.39 1118.58 Q437.265 1118.97 439.025 1119.78 Z\" fill=\"#000000\" fill-rule=\"evenodd\" fill-opacity=\"1\" /><path clip-path=\"url(#clip470)\" d=\"M456.478 1121.77 Q453.052 1121.77 451.062 1124.46 Q449.071 1127.12 449.071 1131.77 Q449.071 1136.43 451.038 1139.11 Q453.029 1141.77 456.478 1141.77 Q459.881 1141.77 461.872 1139.09 Q463.862 1136.4 463.862 1131.77 Q463.862 1127.17 461.872 1124.48 Q459.881 1121.77 456.478 1121.77 M456.478 1118.16 Q462.034 1118.16 465.205 1121.77 Q468.376 1125.39 468.376 1131.77 Q468.376 1138.14 465.205 1141.77 Q462.034 1145.39 456.478 1145.39 Q450.9 1145.39 447.728 1141.77 Q444.58 1138.14 444.58 1131.77 Q444.58 1125.39 447.728 1121.77 Q450.9 1118.16 456.478 1118.16 Z\" fill=\"#000000\" fill-rule=\"evenodd\" fill-opacity=\"1\" /><path clip-path=\"url(#clip470)\" d=\"M491.964 1119.55 L491.964 1123.58 Q490.159 1122.65 488.214 1122.19 Q486.27 1121.73 484.186 1121.73 Q481.015 1121.73 479.418 1122.7 Q477.844 1123.67 477.844 1125.62 Q477.844 1127.1 478.978 1127.96 Q480.112 1128.79 483.538 1129.55 L484.997 1129.88 Q489.534 1130.85 491.432 1132.63 Q493.353 1134.39 493.353 1137.56 Q493.353 1141.17 490.483 1143.28 Q487.635 1145.39 482.636 1145.39 Q480.552 1145.39 478.284 1144.97 Q476.038 1144.58 473.538 1143.77 L473.538 1139.37 Q475.899 1140.59 478.191 1141.22 Q480.483 1141.82 482.728 1141.82 Q485.737 1141.82 487.358 1140.8 Q488.978 1139.76 488.978 1137.89 Q488.978 1136.15 487.798 1135.22 Q486.64 1134.3 482.682 1133.44 L481.2 1133.09 Q477.242 1132.26 475.483 1130.55 Q473.724 1128.81 473.724 1125.8 Q473.724 1122.15 476.316 1120.15 Q478.909 1118.16 483.677 1118.16 Q486.038 1118.16 488.122 1118.51 Q490.205 1118.86 491.964 1119.55 Z\" fill=\"#000000\" fill-rule=\"evenodd\" fill-opacity=\"1\" /><path clip-path=\"url(#clip470)\" d=\"M510.367 1108.74 Q507.265 1114.07 505.76 1119.27 Q504.256 1124.48 504.256 1129.83 Q504.256 1135.18 505.76 1140.43 Q507.288 1145.66 510.367 1150.96 L506.663 1150.96 Q503.191 1145.52 501.455 1140.27 Q499.742 1135.02 499.742 1129.83 Q499.742 1124.67 501.455 1119.44 Q503.168 1114.21 506.663 1108.74 L510.367 1108.74 Z\" fill=\"#000000\" fill-rule=\"evenodd\" fill-opacity=\"1\" /><path clip-path=\"url(#clip470)\" d=\"M517.959 1108.74 L521.663 1108.74 Q525.135 1114.21 526.848 1119.44 Q528.584 1124.67 528.584 1129.83 Q528.584 1135.02 526.848 1140.27 Q525.135 1145.52 521.663 1150.96 L517.959 1150.96 Q521.038 1145.66 522.543 1140.43 Q524.07 1135.18 524.07 1129.83 Q524.07 1124.48 522.543 1119.27 Q521.038 1114.07 517.959 1108.74 Z\" fill=\"#000000\" fill-rule=\"evenodd\" fill-opacity=\"1\" /><path clip-path=\"url(#clip470)\" d=\"M565.32 1108.7 L565.32 1112.24 L561.246 1112.24 Q558.955 1112.24 558.052 1113.16 Q557.172 1114.09 557.172 1116.5 L557.172 1118.79 L564.186 1118.79 L564.186 1122.1 L557.172 1122.1 L557.172 1144.71 L552.89 1144.71 L552.89 1122.1 L548.816 1122.1 L548.816 1118.79 L552.89 1118.79 L552.89 1116.98 Q552.89 1112.65 554.904 1110.69 Q556.918 1108.7 561.292 1108.7 L565.32 1108.7 Z\" fill=\"#000000\" fill-rule=\"evenodd\" fill-opacity=\"1\" /><path clip-path=\"url(#clip470)\" d=\"M568.445 1134.48 L568.445 1118.79 L572.704 1118.79 L572.704 1134.32 Q572.704 1138 574.14 1139.85 Q575.575 1141.68 578.445 1141.68 Q581.894 1141.68 583.885 1139.48 Q585.899 1137.28 585.899 1133.49 L585.899 1118.79 L590.158 1118.79 L590.158 1144.71 L585.899 1144.71 L585.899 1140.73 Q584.348 1143.09 582.288 1144.25 Q580.251 1145.39 577.542 1145.39 Q573.075 1145.39 570.76 1142.61 Q568.445 1139.83 568.445 1134.48 M579.163 1118.16 L579.163 1118.16 Z\" fill=\"#000000\" fill-rule=\"evenodd\" fill-opacity=\"1\" /><path clip-path=\"url(#clip470)\" d=\"M620.482 1129.07 L620.482 1144.71 L616.223 1144.71 L616.223 1129.21 Q616.223 1125.52 614.788 1123.7 Q613.352 1121.87 610.482 1121.87 Q607.033 1121.87 605.042 1124.07 Q603.052 1126.27 603.052 1130.06 L603.052 1144.71 L598.769 1144.71 L598.769 1118.79 L603.052 1118.79 L603.052 1122.82 Q604.579 1120.48 606.639 1119.32 Q608.723 1118.16 611.431 1118.16 Q615.899 1118.16 618.19 1120.94 Q620.482 1123.7 620.482 1129.07 Z\" fill=\"#000000\" fill-rule=\"evenodd\" fill-opacity=\"1\" /><path clip-path=\"url(#clip470)\" d=\"M647.635 1119.78 L647.635 1123.77 Q645.829 1122.77 644 1122.28 Q642.195 1121.77 640.343 1121.77 Q636.2 1121.77 633.908 1124.41 Q631.616 1127.03 631.616 1131.77 Q631.616 1136.52 633.908 1139.16 Q636.2 1141.77 640.343 1141.77 Q642.195 1141.77 644 1141.29 Q645.829 1140.78 647.635 1139.78 L647.635 1143.72 Q645.852 1144.55 643.931 1144.97 Q642.033 1145.39 639.88 1145.39 Q634.024 1145.39 630.575 1141.71 Q627.125 1138.02 627.125 1131.77 Q627.125 1125.43 630.598 1121.8 Q634.093 1118.16 640.158 1118.16 Q642.125 1118.16 644 1118.58 Q645.875 1118.97 647.635 1119.78 Z\" fill=\"#000000\" fill-rule=\"evenodd\" fill-opacity=\"1\" /><path clip-path=\"url(#clip470)\" d=\"M659.255 1111.43 L659.255 1118.79 L668.028 1118.79 L668.028 1122.1 L659.255 1122.1 L659.255 1136.17 Q659.255 1139.34 660.111 1140.25 Q660.991 1141.15 663.653 1141.15 L668.028 1141.15 L668.028 1144.71 L663.653 1144.71 Q658.723 1144.71 656.848 1142.89 Q654.973 1141.03 654.973 1136.17 L654.973 1122.1 L651.848 1122.1 L651.848 1118.79 L654.973 1118.79 L654.973 1111.43 L659.255 1111.43 Z\" fill=\"#000000\" fill-rule=\"evenodd\" fill-opacity=\"1\" /><path clip-path=\"url(#clip470)\" d=\"M673.63 1118.79 L677.889 1118.79 L677.889 1144.71 L673.63 1144.71 L673.63 1118.79 M673.63 1108.7 L677.889 1108.7 L677.889 1114.09 L673.63 1114.09 L673.63 1108.7 Z\" fill=\"#000000\" fill-rule=\"evenodd\" fill-opacity=\"1\" /><path clip-path=\"url(#clip470)\" d=\"M696.847 1121.77 Q693.421 1121.77 691.431 1124.46 Q689.44 1127.12 689.44 1131.77 Q689.44 1136.43 691.408 1139.11 Q693.398 1141.77 696.847 1141.77 Q700.25 1141.77 702.241 1139.09 Q704.232 1136.4 704.232 1131.77 Q704.232 1127.17 702.241 1124.48 Q700.25 1121.77 696.847 1121.77 M696.847 1118.16 Q702.403 1118.16 705.574 1121.77 Q708.745 1125.39 708.745 1131.77 Q708.745 1138.14 705.574 1141.77 Q702.403 1145.39 696.847 1145.39 Q691.269 1145.39 688.097 1141.77 Q684.949 1138.14 684.949 1131.77 Q684.949 1125.39 688.097 1121.77 Q691.269 1118.16 696.847 1118.16 Z\" fill=\"#000000\" fill-rule=\"evenodd\" fill-opacity=\"1\" /><path clip-path=\"url(#clip470)\" d=\"M737.356 1129.07 L737.356 1144.71 L733.097 1144.71 L733.097 1129.21 Q733.097 1125.52 731.662 1123.7 Q730.227 1121.87 727.356 1121.87 Q723.907 1121.87 721.917 1124.07 Q719.926 1126.27 719.926 1130.06 L719.926 1144.71 L715.644 1144.71 L715.644 1118.79 L719.926 1118.79 L719.926 1122.82 Q721.454 1120.48 723.514 1119.32 Q725.597 1118.16 728.305 1118.16 Q732.773 1118.16 735.065 1120.94 Q737.356 1123.7 737.356 1129.07 Z\" fill=\"#000000\" fill-rule=\"evenodd\" fill-opacity=\"1\" /><polyline clip-path=\"url(#clip470)\" style=\"stroke:#ffa500; stroke-linecap:butt; stroke-linejoin:round; stroke-width:4; stroke-opacity:1; fill:none\" points=\"\n",
       "  247.127,1179.27 394.031,1179.27 \n",
       "  \"/>\n",
       "<path clip-path=\"url(#clip470)\" d=\"M418.515 1161.99 L447.751 1161.99 L447.751 1165.93 L435.483 1165.93 L435.483 1196.55 L430.784 1196.55 L430.784 1165.93 L418.515 1165.93 L418.515 1161.99 Z\" fill=\"#000000\" fill-rule=\"evenodd\" fill-opacity=\"1\" /><path clip-path=\"url(#clip470)\" d=\"M456.015 1183.52 Q450.853 1183.52 448.863 1184.7 Q446.872 1185.88 446.872 1188.73 Q446.872 1191 448.353 1192.34 Q449.858 1193.66 452.427 1193.66 Q455.969 1193.66 458.099 1191.16 Q460.251 1188.64 460.251 1184.47 L460.251 1183.52 L456.015 1183.52 M464.511 1181.76 L464.511 1196.55 L460.251 1196.55 L460.251 1192.62 Q458.793 1194.98 456.617 1196.11 Q454.441 1197.23 451.293 1197.23 Q447.312 1197.23 444.951 1195 Q442.613 1192.76 442.613 1189.01 Q442.613 1184.63 445.529 1182.41 Q448.469 1180.19 454.279 1180.19 L460.251 1180.19 L460.251 1179.77 Q460.251 1176.83 458.307 1175.24 Q456.386 1173.61 452.89 1173.61 Q450.668 1173.61 448.562 1174.15 Q446.455 1174.68 444.511 1175.74 L444.511 1171.81 Q446.849 1170.91 449.048 1170.47 Q451.247 1170 453.33 1170 Q458.955 1170 461.733 1172.92 Q464.511 1175.84 464.511 1181.76 Z\" fill=\"#000000\" fill-rule=\"evenodd\" fill-opacity=\"1\" /><path clip-path=\"url(#clip470)\" d=\"M484.071 1198.96 Q482.265 1203.59 480.552 1205 Q478.839 1206.42 475.969 1206.42 L472.566 1206.42 L472.566 1202.85 L475.066 1202.85 Q476.825 1202.85 477.798 1202.02 Q478.77 1201.18 479.95 1198.08 L480.714 1196.14 L470.228 1170.63 L474.742 1170.63 L482.844 1190.91 L490.946 1170.63 L495.46 1170.63 L484.071 1198.96 Z\" fill=\"#000000\" fill-rule=\"evenodd\" fill-opacity=\"1\" /><path clip-path=\"url(#clip470)\" d=\"M501.339 1160.54 L505.598 1160.54 L505.598 1196.55 L501.339 1196.55 L501.339 1160.54 Z\" fill=\"#000000\" fill-rule=\"evenodd\" fill-opacity=\"1\" /><path clip-path=\"url(#clip470)\" d=\"M524.557 1173.61 Q521.131 1173.61 519.14 1176.3 Q517.149 1178.96 517.149 1183.61 Q517.149 1188.27 519.117 1190.95 Q521.108 1193.61 524.557 1193.61 Q527.959 1193.61 529.95 1190.93 Q531.941 1188.24 531.941 1183.61 Q531.941 1179.01 529.95 1176.32 Q527.959 1173.61 524.557 1173.61 M524.557 1170 Q530.112 1170 533.283 1173.61 Q536.455 1177.23 536.455 1183.61 Q536.455 1189.98 533.283 1193.61 Q530.112 1197.23 524.557 1197.23 Q518.978 1197.23 515.807 1193.61 Q512.658 1189.98 512.658 1183.61 Q512.658 1177.23 515.807 1173.61 Q518.978 1170 524.557 1170 Z\" fill=\"#000000\" fill-rule=\"evenodd\" fill-opacity=\"1\" /><path clip-path=\"url(#clip470)\" d=\"M558.538 1174.61 Q557.82 1174.19 556.964 1174.01 Q556.13 1173.8 555.112 1173.8 Q551.501 1173.8 549.556 1176.16 Q547.635 1178.5 547.635 1182.9 L547.635 1196.55 L543.353 1196.55 L543.353 1170.63 L547.635 1170.63 L547.635 1174.66 Q548.978 1172.3 551.131 1171.16 Q553.283 1170 556.362 1170 Q556.802 1170 557.334 1170.07 Q557.867 1170.12 558.515 1170.24 L558.538 1174.61 Z\" fill=\"#000000\" fill-rule=\"evenodd\" fill-opacity=\"1\" /><path clip-path=\"url(#clip470)\" d=\"M598.977 1163.13 L598.977 1167.69 Q596.315 1166.42 593.954 1165.79 Q591.593 1165.17 589.394 1165.17 Q585.575 1165.17 583.491 1166.65 Q581.431 1168.13 581.431 1170.86 Q581.431 1173.15 582.797 1174.33 Q584.186 1175.49 588.028 1176.21 L590.853 1176.79 Q596.084 1177.78 598.561 1180.3 Q601.061 1182.8 601.061 1187.02 Q601.061 1192.04 597.681 1194.63 Q594.325 1197.23 587.82 1197.23 Q585.366 1197.23 582.589 1196.67 Q579.834 1196.11 576.871 1195.03 L576.871 1190.21 Q579.718 1191.81 582.45 1192.62 Q585.181 1193.43 587.82 1193.43 Q591.825 1193.43 594.001 1191.86 Q596.177 1190.28 596.177 1187.36 Q596.177 1184.82 594.603 1183.38 Q593.052 1181.95 589.487 1181.23 L586.64 1180.67 Q581.408 1179.63 579.07 1177.41 Q576.732 1175.19 576.732 1171.23 Q576.732 1166.65 579.95 1164.01 Q583.191 1161.37 588.862 1161.37 Q591.292 1161.37 593.815 1161.81 Q596.339 1162.25 598.977 1163.13 Z\" fill=\"#000000\" fill-rule=\"evenodd\" fill-opacity=\"1\" /><path clip-path=\"url(#clip470)\" d=\"M630.343 1182.53 L630.343 1184.61 L610.76 1184.61 Q611.038 1189.01 613.399 1191.32 Q615.783 1193.61 620.019 1193.61 Q622.473 1193.61 624.764 1193.01 Q627.079 1192.41 629.348 1191.21 L629.348 1195.23 Q627.056 1196.21 624.649 1196.72 Q622.241 1197.23 619.764 1197.23 Q613.561 1197.23 609.926 1193.61 Q606.315 1190 606.315 1183.85 Q606.315 1177.48 609.741 1173.75 Q613.19 1170 619.024 1170 Q624.255 1170 627.288 1173.38 Q630.343 1176.74 630.343 1182.53 M626.084 1181.28 Q626.038 1177.78 624.116 1175.7 Q622.218 1173.61 619.07 1173.61 Q615.505 1173.61 613.352 1175.63 Q611.223 1177.64 610.899 1181.3 L626.084 1181.28 Z\" fill=\"#000000\" fill-rule=\"evenodd\" fill-opacity=\"1\" /><path clip-path=\"url(#clip470)\" d=\"M652.357 1174.61 Q651.639 1174.19 650.783 1174.01 Q649.949 1173.8 648.931 1173.8 Q645.32 1173.8 643.375 1176.16 Q641.454 1178.5 641.454 1182.9 L641.454 1196.55 L637.172 1196.55 L637.172 1170.63 L641.454 1170.63 L641.454 1174.66 Q642.797 1172.3 644.949 1171.16 Q647.102 1170 650.181 1170 Q650.621 1170 651.153 1170.07 Q651.686 1170.12 652.334 1170.24 L652.357 1174.61 Z\" fill=\"#000000\" fill-rule=\"evenodd\" fill-opacity=\"1\" /><path clip-path=\"url(#clip470)\" d=\"M656.824 1170.63 L661.084 1170.63 L661.084 1196.55 L656.824 1196.55 L656.824 1170.63 M656.824 1160.54 L661.084 1160.54 L661.084 1165.93 L656.824 1165.93 L656.824 1160.54 Z\" fill=\"#000000\" fill-rule=\"evenodd\" fill-opacity=\"1\" /><path clip-path=\"url(#clip470)\" d=\"M692.171 1182.53 L692.171 1184.61 L672.588 1184.61 Q672.866 1189.01 675.227 1191.32 Q677.611 1193.61 681.847 1193.61 Q684.301 1193.61 686.593 1193.01 Q688.908 1192.41 691.176 1191.21 L691.176 1195.23 Q688.884 1196.21 686.477 1196.72 Q684.07 1197.23 681.593 1197.23 Q675.389 1197.23 671.755 1193.61 Q668.144 1190 668.144 1183.85 Q668.144 1177.48 671.57 1173.75 Q675.019 1170 680.852 1170 Q686.083 1170 689.116 1173.38 Q692.171 1176.74 692.171 1182.53 M687.912 1181.28 Q687.866 1177.78 685.945 1175.7 Q684.046 1173.61 680.898 1173.61 Q677.334 1173.61 675.181 1175.63 Q673.051 1177.64 672.727 1181.3 L687.912 1181.28 Z\" fill=\"#000000\" fill-rule=\"evenodd\" fill-opacity=\"1\" /><path clip-path=\"url(#clip470)\" d=\"M715.69 1171.39 L715.69 1175.42 Q713.884 1174.49 711.94 1174.03 Q709.995 1173.57 707.912 1173.57 Q704.741 1173.57 703.144 1174.54 Q701.57 1175.51 701.57 1177.46 Q701.57 1178.94 702.704 1179.8 Q703.838 1180.63 707.264 1181.39 L708.722 1181.72 Q713.259 1182.69 715.157 1184.47 Q717.079 1186.23 717.079 1189.4 Q717.079 1193.01 714.208 1195.12 Q711.361 1197.23 706.361 1197.23 Q704.278 1197.23 702.009 1196.81 Q699.764 1196.42 697.264 1195.61 L697.264 1191.21 Q699.625 1192.43 701.917 1193.06 Q704.208 1193.66 706.454 1193.66 Q709.463 1193.66 711.083 1192.64 Q712.704 1191.6 712.704 1189.73 Q712.704 1187.99 711.523 1187.06 Q710.366 1186.14 706.407 1185.28 L704.926 1184.93 Q700.968 1184.1 699.208 1182.39 Q697.449 1180.65 697.449 1177.64 Q697.449 1173.99 700.042 1171.99 Q702.634 1170 707.403 1170 Q709.764 1170 711.847 1170.35 Q713.931 1170.7 715.69 1171.39 Z\" fill=\"#000000\" fill-rule=\"evenodd\" fill-opacity=\"1\" /><path clip-path=\"url(#clip470)\" d=\"M736.778 1181.67 L749.254 1181.67 L749.254 1185.47 L736.778 1185.47 L736.778 1181.67 Z\" fill=\"#000000\" fill-rule=\"evenodd\" fill-opacity=\"1\" /><path clip-path=\"url(#clip470)\" d=\"M772.518 1192.62 L780.157 1192.62 L780.157 1166.25 L771.847 1167.92 L771.847 1163.66 L780.111 1161.99 L784.787 1161.99 L784.787 1192.62 L792.426 1192.62 L792.426 1196.55 L772.518 1196.55 L772.518 1192.62 Z\" fill=\"#000000\" fill-rule=\"evenodd\" fill-opacity=\"1\" /><path clip-path=\"url(#clip470)\" d=\"M820.55 1163.27 L820.55 1170.63 L829.323 1170.63 L829.323 1173.94 L820.55 1173.94 L820.55 1188.01 Q820.55 1191.18 821.407 1192.09 Q822.286 1192.99 824.948 1192.99 L829.323 1192.99 L829.323 1196.55 L824.948 1196.55 Q820.018 1196.55 818.143 1194.73 Q816.268 1192.87 816.268 1188.01 L816.268 1173.94 L813.143 1173.94 L813.143 1170.63 L816.268 1170.63 L816.268 1163.27 L820.55 1163.27 Z\" fill=\"#000000\" fill-rule=\"evenodd\" fill-opacity=\"1\" /><path clip-path=\"url(#clip470)\" d=\"M857.101 1182.53 L857.101 1184.61 L837.518 1184.61 Q837.796 1189.01 840.157 1191.32 Q842.541 1193.61 846.777 1193.61 Q849.231 1193.61 851.522 1193.01 Q853.837 1192.41 856.106 1191.21 L856.106 1195.23 Q853.814 1196.21 851.407 1196.72 Q848.999 1197.23 846.522 1197.23 Q840.319 1197.23 836.685 1193.61 Q833.073 1190 833.073 1183.85 Q833.073 1177.48 836.499 1173.75 Q839.948 1170 845.782 1170 Q851.013 1170 854.046 1173.38 Q857.101 1176.74 857.101 1182.53 M852.842 1181.28 Q852.796 1177.78 850.874 1175.7 Q848.976 1173.61 845.828 1173.61 Q842.263 1173.61 840.11 1175.63 Q837.981 1177.64 837.657 1181.3 L852.842 1181.28 Z\" fill=\"#000000\" fill-rule=\"evenodd\" fill-opacity=\"1\" /><path clip-path=\"url(#clip470)\" d=\"M879.115 1174.61 Q878.397 1174.19 877.541 1174.01 Q876.707 1173.8 875.689 1173.8 Q872.078 1173.8 870.133 1176.16 Q868.212 1178.5 868.212 1182.9 L868.212 1196.55 L863.93 1196.55 L863.93 1170.63 L868.212 1170.63 L868.212 1174.66 Q869.555 1172.3 871.707 1171.16 Q873.86 1170 876.939 1170 Q877.379 1170 877.911 1170.07 Q878.444 1170.12 879.092 1170.24 L879.115 1174.61 Z\" fill=\"#000000\" fill-rule=\"evenodd\" fill-opacity=\"1\" /><path clip-path=\"url(#clip470)\" d=\"M902.934 1175.61 Q904.531 1172.74 906.754 1171.37 Q908.976 1170 911.985 1170 Q916.036 1170 918.235 1172.85 Q920.434 1175.67 920.434 1180.91 L920.434 1196.55 L916.152 1196.55 L916.152 1181.05 Q916.152 1177.32 914.832 1175.51 Q913.513 1173.71 910.805 1173.71 Q907.494 1173.71 905.573 1175.91 Q903.652 1178.11 903.652 1181.9 L903.652 1196.55 L899.369 1196.55 L899.369 1181.05 Q899.369 1177.3 898.05 1175.51 Q896.731 1173.71 893.976 1173.71 Q890.712 1173.71 888.791 1175.93 Q886.869 1178.13 886.869 1181.9 L886.869 1196.55 L882.587 1196.55 L882.587 1170.63 L886.869 1170.63 L886.869 1174.66 Q888.328 1172.27 890.365 1171.14 Q892.402 1170 895.203 1170 Q898.027 1170 899.994 1171.44 Q901.985 1172.87 902.934 1175.61 Z\" fill=\"#000000\" fill-rule=\"evenodd\" fill-opacity=\"1\" /><path clip-path=\"url(#clip470)\" d=\"M945.457 1171.39 L945.457 1175.42 Q943.652 1174.49 941.707 1174.03 Q939.763 1173.57 937.679 1173.57 Q934.508 1173.57 932.911 1174.54 Q931.337 1175.51 931.337 1177.46 Q931.337 1178.94 932.471 1179.8 Q933.605 1180.63 937.031 1181.39 L938.49 1181.72 Q943.027 1182.69 944.925 1184.47 Q946.846 1186.23 946.846 1189.4 Q946.846 1193.01 943.976 1195.12 Q941.128 1197.23 936.128 1197.23 Q934.045 1197.23 931.777 1196.81 Q929.531 1196.42 927.031 1195.61 L927.031 1191.21 Q929.392 1192.43 931.684 1193.06 Q933.976 1193.66 936.221 1193.66 Q939.23 1193.66 940.851 1192.64 Q942.471 1191.6 942.471 1189.73 Q942.471 1187.99 941.29 1187.06 Q940.133 1186.14 936.175 1185.28 L934.693 1184.93 Q930.735 1184.1 928.976 1182.39 Q927.216 1180.65 927.216 1177.64 Q927.216 1173.99 929.809 1171.99 Q932.402 1170 937.17 1170 Q939.531 1170 941.615 1170.35 Q943.698 1170.7 945.457 1171.39 Z\" fill=\"#000000\" fill-rule=\"evenodd\" fill-opacity=\"1\" /><polyline clip-path=\"url(#clip470)\" style=\"stroke:#008000; stroke-linecap:butt; stroke-linejoin:round; stroke-width:4; stroke-opacity:1; fill:none\" points=\"\n",
       "  247.127,1231.11 394.031,1231.11 \n",
       "  \"/>\n",
       "<path clip-path=\"url(#clip470)\" d=\"M418.515 1213.83 L447.751 1213.83 L447.751 1217.77 L435.483 1217.77 L435.483 1248.39 L430.784 1248.39 L430.784 1217.77 L418.515 1217.77 L418.515 1213.83 Z\" fill=\"#000000\" fill-rule=\"evenodd\" fill-opacity=\"1\" /><path clip-path=\"url(#clip470)\" d=\"M456.015 1235.36 Q450.853 1235.36 448.863 1236.54 Q446.872 1237.72 446.872 1240.57 Q446.872 1242.84 448.353 1244.18 Q449.858 1245.5 452.427 1245.5 Q455.969 1245.5 458.099 1243 Q460.251 1240.48 460.251 1236.31 L460.251 1235.36 L456.015 1235.36 M464.511 1233.6 L464.511 1248.39 L460.251 1248.39 L460.251 1244.46 Q458.793 1246.82 456.617 1247.95 Q454.441 1249.07 451.293 1249.07 Q447.312 1249.07 444.951 1246.84 Q442.613 1244.6 442.613 1240.85 Q442.613 1236.47 445.529 1234.25 Q448.469 1232.03 454.279 1232.03 L460.251 1232.03 L460.251 1231.61 Q460.251 1228.67 458.307 1227.08 Q456.386 1225.45 452.89 1225.45 Q450.668 1225.45 448.562 1225.99 Q446.455 1226.52 444.511 1227.58 L444.511 1223.65 Q446.849 1222.75 449.048 1222.31 Q451.247 1221.84 453.33 1221.84 Q458.955 1221.84 461.733 1224.76 Q464.511 1227.68 464.511 1233.6 Z\" fill=\"#000000\" fill-rule=\"evenodd\" fill-opacity=\"1\" /><path clip-path=\"url(#clip470)\" d=\"M484.071 1250.8 Q482.265 1255.43 480.552 1256.84 Q478.839 1258.26 475.969 1258.26 L472.566 1258.26 L472.566 1254.69 L475.066 1254.69 Q476.825 1254.69 477.798 1253.86 Q478.77 1253.02 479.95 1249.92 L480.714 1247.98 L470.228 1222.47 L474.742 1222.47 L482.844 1242.75 L490.946 1222.47 L495.46 1222.47 L484.071 1250.8 Z\" fill=\"#000000\" fill-rule=\"evenodd\" fill-opacity=\"1\" /><path clip-path=\"url(#clip470)\" d=\"M501.339 1212.38 L505.598 1212.38 L505.598 1248.39 L501.339 1248.39 L501.339 1212.38 Z\" fill=\"#000000\" fill-rule=\"evenodd\" fill-opacity=\"1\" /><path clip-path=\"url(#clip470)\" d=\"M524.557 1225.45 Q521.131 1225.45 519.14 1228.14 Q517.149 1230.8 517.149 1235.45 Q517.149 1240.11 519.117 1242.79 Q521.108 1245.45 524.557 1245.45 Q527.959 1245.45 529.95 1242.77 Q531.941 1240.08 531.941 1235.45 Q531.941 1230.85 529.95 1228.16 Q527.959 1225.45 524.557 1225.45 M524.557 1221.84 Q530.112 1221.84 533.283 1225.45 Q536.455 1229.07 536.455 1235.45 Q536.455 1241.82 533.283 1245.45 Q530.112 1249.07 524.557 1249.07 Q518.978 1249.07 515.807 1245.45 Q512.658 1241.82 512.658 1235.45 Q512.658 1229.07 515.807 1225.45 Q518.978 1221.84 524.557 1221.84 Z\" fill=\"#000000\" fill-rule=\"evenodd\" fill-opacity=\"1\" /><path clip-path=\"url(#clip470)\" d=\"M558.538 1226.45 Q557.82 1226.03 556.964 1225.85 Q556.13 1225.64 555.112 1225.64 Q551.501 1225.64 549.556 1228 Q547.635 1230.34 547.635 1234.74 L547.635 1248.39 L543.353 1248.39 L543.353 1222.47 L547.635 1222.47 L547.635 1226.5 Q548.978 1224.14 551.131 1223 Q553.283 1221.84 556.362 1221.84 Q556.802 1221.84 557.334 1221.91 Q557.867 1221.96 558.515 1222.08 L558.538 1226.45 Z\" fill=\"#000000\" fill-rule=\"evenodd\" fill-opacity=\"1\" /><path clip-path=\"url(#clip470)\" d=\"M598.977 1214.97 L598.977 1219.53 Q596.315 1218.26 593.954 1217.63 Q591.593 1217.01 589.394 1217.01 Q585.575 1217.01 583.491 1218.49 Q581.431 1219.97 581.431 1222.7 Q581.431 1224.99 582.797 1226.17 Q584.186 1227.33 588.028 1228.05 L590.853 1228.63 Q596.084 1229.62 598.561 1232.14 Q601.061 1234.64 601.061 1238.86 Q601.061 1243.88 597.681 1246.47 Q594.325 1249.07 587.82 1249.07 Q585.366 1249.07 582.589 1248.51 Q579.834 1247.95 576.871 1246.87 L576.871 1242.05 Q579.718 1243.65 582.45 1244.46 Q585.181 1245.27 587.82 1245.27 Q591.825 1245.27 594.001 1243.7 Q596.177 1242.12 596.177 1239.2 Q596.177 1236.66 594.603 1235.22 Q593.052 1233.79 589.487 1233.07 L586.64 1232.51 Q581.408 1231.47 579.07 1229.25 Q576.732 1227.03 576.732 1223.07 Q576.732 1218.49 579.95 1215.85 Q583.191 1213.21 588.862 1213.21 Q591.292 1213.21 593.815 1213.65 Q596.339 1214.09 598.977 1214.97 Z\" fill=\"#000000\" fill-rule=\"evenodd\" fill-opacity=\"1\" /><path clip-path=\"url(#clip470)\" d=\"M630.343 1234.37 L630.343 1236.45 L610.76 1236.45 Q611.038 1240.85 613.399 1243.16 Q615.783 1245.45 620.019 1245.45 Q622.473 1245.45 624.764 1244.85 Q627.079 1244.25 629.348 1243.05 L629.348 1247.07 Q627.056 1248.05 624.649 1248.56 Q622.241 1249.07 619.764 1249.07 Q613.561 1249.07 609.926 1245.45 Q606.315 1241.84 606.315 1235.69 Q606.315 1229.32 609.741 1225.59 Q613.19 1221.84 619.024 1221.84 Q624.255 1221.84 627.288 1225.22 Q630.343 1228.58 630.343 1234.37 M626.084 1233.12 Q626.038 1229.62 624.116 1227.54 Q622.218 1225.45 619.07 1225.45 Q615.505 1225.45 613.352 1227.47 Q611.223 1229.48 610.899 1233.14 L626.084 1233.12 Z\" fill=\"#000000\" fill-rule=\"evenodd\" fill-opacity=\"1\" /><path clip-path=\"url(#clip470)\" d=\"M652.357 1226.45 Q651.639 1226.03 650.783 1225.85 Q649.949 1225.64 648.931 1225.64 Q645.32 1225.64 643.375 1228 Q641.454 1230.34 641.454 1234.74 L641.454 1248.39 L637.172 1248.39 L637.172 1222.47 L641.454 1222.47 L641.454 1226.5 Q642.797 1224.14 644.949 1223 Q647.102 1221.84 650.181 1221.84 Q650.621 1221.84 651.153 1221.91 Q651.686 1221.96 652.334 1222.08 L652.357 1226.45 Z\" fill=\"#000000\" fill-rule=\"evenodd\" fill-opacity=\"1\" /><path clip-path=\"url(#clip470)\" d=\"M656.824 1222.47 L661.084 1222.47 L661.084 1248.39 L656.824 1248.39 L656.824 1222.47 M656.824 1212.38 L661.084 1212.38 L661.084 1217.77 L656.824 1217.77 L656.824 1212.38 Z\" fill=\"#000000\" fill-rule=\"evenodd\" fill-opacity=\"1\" /><path clip-path=\"url(#clip470)\" d=\"M692.171 1234.37 L692.171 1236.45 L672.588 1236.45 Q672.866 1240.85 675.227 1243.16 Q677.611 1245.45 681.847 1245.45 Q684.301 1245.45 686.593 1244.85 Q688.908 1244.25 691.176 1243.05 L691.176 1247.07 Q688.884 1248.05 686.477 1248.56 Q684.07 1249.07 681.593 1249.07 Q675.389 1249.07 671.755 1245.45 Q668.144 1241.84 668.144 1235.69 Q668.144 1229.32 671.57 1225.59 Q675.019 1221.84 680.852 1221.84 Q686.083 1221.84 689.116 1225.22 Q692.171 1228.58 692.171 1234.37 M687.912 1233.12 Q687.866 1229.62 685.945 1227.54 Q684.046 1225.45 680.898 1225.45 Q677.334 1225.45 675.181 1227.47 Q673.051 1229.48 672.727 1233.14 L687.912 1233.12 Z\" fill=\"#000000\" fill-rule=\"evenodd\" fill-opacity=\"1\" /><path clip-path=\"url(#clip470)\" d=\"M715.69 1223.23 L715.69 1227.26 Q713.884 1226.33 711.94 1225.87 Q709.995 1225.41 707.912 1225.41 Q704.741 1225.41 703.144 1226.38 Q701.57 1227.35 701.57 1229.3 Q701.57 1230.78 702.704 1231.64 Q703.838 1232.47 707.264 1233.23 L708.722 1233.56 Q713.259 1234.53 715.157 1236.31 Q717.079 1238.07 717.079 1241.24 Q717.079 1244.85 714.208 1246.96 Q711.361 1249.07 706.361 1249.07 Q704.278 1249.07 702.009 1248.65 Q699.764 1248.26 697.264 1247.45 L697.264 1243.05 Q699.625 1244.27 701.917 1244.9 Q704.208 1245.5 706.454 1245.5 Q709.463 1245.5 711.083 1244.48 Q712.704 1243.44 712.704 1241.57 Q712.704 1239.83 711.523 1238.9 Q710.366 1237.98 706.407 1237.12 L704.926 1236.77 Q700.968 1235.94 699.208 1234.23 Q697.449 1232.49 697.449 1229.48 Q697.449 1225.83 700.042 1223.83 Q702.634 1221.84 707.403 1221.84 Q709.764 1221.84 711.847 1222.19 Q713.931 1222.54 715.69 1223.23 Z\" fill=\"#000000\" fill-rule=\"evenodd\" fill-opacity=\"1\" /><path clip-path=\"url(#clip470)\" d=\"M736.778 1233.51 L749.254 1233.51 L749.254 1237.31 L736.778 1237.31 L736.778 1233.51 Z\" fill=\"#000000\" fill-rule=\"evenodd\" fill-opacity=\"1\" /><path clip-path=\"url(#clip470)\" d=\"M775.736 1244.46 L792.055 1244.46 L792.055 1248.39 L770.111 1248.39 L770.111 1244.46 Q772.773 1241.7 777.356 1237.08 Q781.963 1232.42 783.143 1231.08 Q785.389 1228.56 786.268 1226.82 Q787.171 1225.06 787.171 1223.37 Q787.171 1220.62 785.226 1218.88 Q783.305 1217.14 780.203 1217.14 Q778.004 1217.14 775.551 1217.91 Q773.12 1218.67 770.342 1220.22 L770.342 1215.5 Q773.166 1214.37 775.62 1213.79 Q778.074 1213.21 780.111 1213.21 Q785.481 1213.21 788.676 1215.89 Q791.87 1218.58 791.87 1223.07 Q791.87 1225.2 791.06 1227.12 Q790.273 1229.02 788.166 1231.61 Q787.588 1232.28 784.486 1235.5 Q781.384 1238.7 775.736 1244.46 Z\" fill=\"#000000\" fill-rule=\"evenodd\" fill-opacity=\"1\" /><path clip-path=\"url(#clip470)\" d=\"M820.55 1215.11 L820.55 1222.47 L829.323 1222.47 L829.323 1225.78 L820.55 1225.78 L820.55 1239.85 Q820.55 1243.02 821.407 1243.93 Q822.286 1244.83 824.948 1244.83 L829.323 1244.83 L829.323 1248.39 L824.948 1248.39 Q820.018 1248.39 818.143 1246.57 Q816.268 1244.71 816.268 1239.85 L816.268 1225.78 L813.143 1225.78 L813.143 1222.47 L816.268 1222.47 L816.268 1215.11 L820.55 1215.11 Z\" fill=\"#000000\" fill-rule=\"evenodd\" fill-opacity=\"1\" /><path clip-path=\"url(#clip470)\" d=\"M857.101 1234.37 L857.101 1236.45 L837.518 1236.45 Q837.796 1240.85 840.157 1243.16 Q842.541 1245.45 846.777 1245.45 Q849.231 1245.45 851.522 1244.85 Q853.837 1244.25 856.106 1243.05 L856.106 1247.07 Q853.814 1248.05 851.407 1248.56 Q848.999 1249.07 846.522 1249.07 Q840.319 1249.07 836.685 1245.45 Q833.073 1241.84 833.073 1235.69 Q833.073 1229.32 836.499 1225.59 Q839.948 1221.84 845.782 1221.84 Q851.013 1221.84 854.046 1225.22 Q857.101 1228.58 857.101 1234.37 M852.842 1233.12 Q852.796 1229.62 850.874 1227.54 Q848.976 1225.45 845.828 1225.45 Q842.263 1225.45 840.11 1227.47 Q837.981 1229.48 837.657 1233.14 L852.842 1233.12 Z\" fill=\"#000000\" fill-rule=\"evenodd\" fill-opacity=\"1\" /><path clip-path=\"url(#clip470)\" d=\"M879.115 1226.45 Q878.397 1226.03 877.541 1225.85 Q876.707 1225.64 875.689 1225.64 Q872.078 1225.64 870.133 1228 Q868.212 1230.34 868.212 1234.74 L868.212 1248.39 L863.93 1248.39 L863.93 1222.47 L868.212 1222.47 L868.212 1226.5 Q869.555 1224.14 871.707 1223 Q873.86 1221.84 876.939 1221.84 Q877.379 1221.84 877.911 1221.91 Q878.444 1221.96 879.092 1222.08 L879.115 1226.45 Z\" fill=\"#000000\" fill-rule=\"evenodd\" fill-opacity=\"1\" /><path clip-path=\"url(#clip470)\" d=\"M902.934 1227.45 Q904.531 1224.58 906.754 1223.21 Q908.976 1221.84 911.985 1221.84 Q916.036 1221.84 918.235 1224.69 Q920.434 1227.51 920.434 1232.75 L920.434 1248.39 L916.152 1248.39 L916.152 1232.89 Q916.152 1229.16 914.832 1227.35 Q913.513 1225.55 910.805 1225.55 Q907.494 1225.55 905.573 1227.75 Q903.652 1229.95 903.652 1233.74 L903.652 1248.39 L899.369 1248.39 L899.369 1232.89 Q899.369 1229.14 898.05 1227.35 Q896.731 1225.55 893.976 1225.55 Q890.712 1225.55 888.791 1227.77 Q886.869 1229.97 886.869 1233.74 L886.869 1248.39 L882.587 1248.39 L882.587 1222.47 L886.869 1222.47 L886.869 1226.5 Q888.328 1224.11 890.365 1222.98 Q892.402 1221.84 895.203 1221.84 Q898.027 1221.84 899.994 1223.28 Q901.985 1224.71 902.934 1227.45 Z\" fill=\"#000000\" fill-rule=\"evenodd\" fill-opacity=\"1\" /><path clip-path=\"url(#clip470)\" d=\"M945.457 1223.23 L945.457 1227.26 Q943.652 1226.33 941.707 1225.87 Q939.763 1225.41 937.679 1225.41 Q934.508 1225.41 932.911 1226.38 Q931.337 1227.35 931.337 1229.3 Q931.337 1230.78 932.471 1231.64 Q933.605 1232.47 937.031 1233.23 L938.49 1233.56 Q943.027 1234.53 944.925 1236.31 Q946.846 1238.07 946.846 1241.24 Q946.846 1244.85 943.976 1246.96 Q941.128 1249.07 936.128 1249.07 Q934.045 1249.07 931.777 1248.65 Q929.531 1248.26 927.031 1247.45 L927.031 1243.05 Q929.392 1244.27 931.684 1244.9 Q933.976 1245.5 936.221 1245.5 Q939.23 1245.5 940.851 1244.48 Q942.471 1243.44 942.471 1241.57 Q942.471 1239.83 941.29 1238.9 Q940.133 1237.98 936.175 1237.12 L934.693 1236.77 Q930.735 1235.94 928.976 1234.23 Q927.216 1232.49 927.216 1229.48 Q927.216 1225.83 929.809 1223.83 Q932.402 1221.84 937.17 1221.84 Q939.531 1221.84 941.615 1222.19 Q943.698 1222.54 945.457 1223.23 Z\" fill=\"#000000\" fill-rule=\"evenodd\" fill-opacity=\"1\" /><polyline clip-path=\"url(#clip470)\" style=\"stroke:#ff0000; stroke-linecap:butt; stroke-linejoin:round; stroke-width:4; stroke-opacity:1; fill:none\" points=\"\n",
       "  247.127,1282.95 394.031,1282.95 \n",
       "  \"/>\n",
       "<path clip-path=\"url(#clip470)\" d=\"M418.515 1265.67 L447.751 1265.67 L447.751 1269.61 L435.483 1269.61 L435.483 1300.23 L430.784 1300.23 L430.784 1269.61 L418.515 1269.61 L418.515 1265.67 Z\" fill=\"#000000\" fill-rule=\"evenodd\" fill-opacity=\"1\" /><path clip-path=\"url(#clip470)\" d=\"M456.015 1287.2 Q450.853 1287.2 448.863 1288.38 Q446.872 1289.56 446.872 1292.41 Q446.872 1294.68 448.353 1296.02 Q449.858 1297.34 452.427 1297.34 Q455.969 1297.34 458.099 1294.84 Q460.251 1292.32 460.251 1288.15 L460.251 1287.2 L456.015 1287.2 M464.511 1285.44 L464.511 1300.23 L460.251 1300.23 L460.251 1296.3 Q458.793 1298.66 456.617 1299.79 Q454.441 1300.91 451.293 1300.91 Q447.312 1300.91 444.951 1298.68 Q442.613 1296.44 442.613 1292.69 Q442.613 1288.31 445.529 1286.09 Q448.469 1283.87 454.279 1283.87 L460.251 1283.87 L460.251 1283.45 Q460.251 1280.51 458.307 1278.92 Q456.386 1277.29 452.89 1277.29 Q450.668 1277.29 448.562 1277.83 Q446.455 1278.36 444.511 1279.42 L444.511 1275.49 Q446.849 1274.59 449.048 1274.15 Q451.247 1273.68 453.33 1273.68 Q458.955 1273.68 461.733 1276.6 Q464.511 1279.52 464.511 1285.44 Z\" fill=\"#000000\" fill-rule=\"evenodd\" fill-opacity=\"1\" /><path clip-path=\"url(#clip470)\" d=\"M484.071 1302.64 Q482.265 1307.27 480.552 1308.68 Q478.839 1310.1 475.969 1310.1 L472.566 1310.1 L472.566 1306.53 L475.066 1306.53 Q476.825 1306.53 477.798 1305.7 Q478.77 1304.86 479.95 1301.76 L480.714 1299.82 L470.228 1274.31 L474.742 1274.31 L482.844 1294.59 L490.946 1274.31 L495.46 1274.31 L484.071 1302.64 Z\" fill=\"#000000\" fill-rule=\"evenodd\" fill-opacity=\"1\" /><path clip-path=\"url(#clip470)\" d=\"M501.339 1264.22 L505.598 1264.22 L505.598 1300.23 L501.339 1300.23 L501.339 1264.22 Z\" fill=\"#000000\" fill-rule=\"evenodd\" fill-opacity=\"1\" /><path clip-path=\"url(#clip470)\" d=\"M524.557 1277.29 Q521.131 1277.29 519.14 1279.98 Q517.149 1282.64 517.149 1287.29 Q517.149 1291.95 519.117 1294.63 Q521.108 1297.29 524.557 1297.29 Q527.959 1297.29 529.95 1294.61 Q531.941 1291.92 531.941 1287.29 Q531.941 1282.69 529.95 1280 Q527.959 1277.29 524.557 1277.29 M524.557 1273.68 Q530.112 1273.68 533.283 1277.29 Q536.455 1280.91 536.455 1287.29 Q536.455 1293.66 533.283 1297.29 Q530.112 1300.91 524.557 1300.91 Q518.978 1300.91 515.807 1297.29 Q512.658 1293.66 512.658 1287.29 Q512.658 1280.91 515.807 1277.29 Q518.978 1273.68 524.557 1273.68 Z\" fill=\"#000000\" fill-rule=\"evenodd\" fill-opacity=\"1\" /><path clip-path=\"url(#clip470)\" d=\"M558.538 1278.29 Q557.82 1277.87 556.964 1277.69 Q556.13 1277.48 555.112 1277.48 Q551.501 1277.48 549.556 1279.84 Q547.635 1282.18 547.635 1286.58 L547.635 1300.23 L543.353 1300.23 L543.353 1274.31 L547.635 1274.31 L547.635 1278.34 Q548.978 1275.98 551.131 1274.84 Q553.283 1273.68 556.362 1273.68 Q556.802 1273.68 557.334 1273.75 Q557.867 1273.8 558.515 1273.92 L558.538 1278.29 Z\" fill=\"#000000\" fill-rule=\"evenodd\" fill-opacity=\"1\" /><path clip-path=\"url(#clip470)\" d=\"M598.977 1266.81 L598.977 1271.37 Q596.315 1270.1 593.954 1269.47 Q591.593 1268.85 589.394 1268.85 Q585.575 1268.85 583.491 1270.33 Q581.431 1271.81 581.431 1274.54 Q581.431 1276.83 582.797 1278.01 Q584.186 1279.17 588.028 1279.89 L590.853 1280.47 Q596.084 1281.46 598.561 1283.98 Q601.061 1286.48 601.061 1290.7 Q601.061 1295.72 597.681 1298.31 Q594.325 1300.91 587.82 1300.91 Q585.366 1300.91 582.589 1300.35 Q579.834 1299.79 576.871 1298.71 L576.871 1293.89 Q579.718 1295.49 582.45 1296.3 Q585.181 1297.11 587.82 1297.11 Q591.825 1297.11 594.001 1295.54 Q596.177 1293.96 596.177 1291.04 Q596.177 1288.5 594.603 1287.06 Q593.052 1285.63 589.487 1284.91 L586.64 1284.35 Q581.408 1283.31 579.07 1281.09 Q576.732 1278.87 576.732 1274.91 Q576.732 1270.33 579.95 1267.69 Q583.191 1265.05 588.862 1265.05 Q591.292 1265.05 593.815 1265.49 Q596.339 1265.93 598.977 1266.81 Z\" fill=\"#000000\" fill-rule=\"evenodd\" fill-opacity=\"1\" /><path clip-path=\"url(#clip470)\" d=\"M630.343 1286.21 L630.343 1288.29 L610.76 1288.29 Q611.038 1292.69 613.399 1295 Q615.783 1297.29 620.019 1297.29 Q622.473 1297.29 624.764 1296.69 Q627.079 1296.09 629.348 1294.89 L629.348 1298.91 Q627.056 1299.89 624.649 1300.4 Q622.241 1300.91 619.764 1300.91 Q613.561 1300.91 609.926 1297.29 Q606.315 1293.68 606.315 1287.53 Q606.315 1281.16 609.741 1277.43 Q613.19 1273.68 619.024 1273.68 Q624.255 1273.68 627.288 1277.06 Q630.343 1280.42 630.343 1286.21 M626.084 1284.96 Q626.038 1281.46 624.116 1279.38 Q622.218 1277.29 619.07 1277.29 Q615.505 1277.29 613.352 1279.31 Q611.223 1281.32 610.899 1284.98 L626.084 1284.96 Z\" fill=\"#000000\" fill-rule=\"evenodd\" fill-opacity=\"1\" /><path clip-path=\"url(#clip470)\" d=\"M652.357 1278.29 Q651.639 1277.87 650.783 1277.69 Q649.949 1277.48 648.931 1277.48 Q645.32 1277.48 643.375 1279.84 Q641.454 1282.18 641.454 1286.58 L641.454 1300.23 L637.172 1300.23 L637.172 1274.31 L641.454 1274.31 L641.454 1278.34 Q642.797 1275.98 644.949 1274.84 Q647.102 1273.68 650.181 1273.68 Q650.621 1273.68 651.153 1273.75 Q651.686 1273.8 652.334 1273.92 L652.357 1278.29 Z\" fill=\"#000000\" fill-rule=\"evenodd\" fill-opacity=\"1\" /><path clip-path=\"url(#clip470)\" d=\"M656.824 1274.31 L661.084 1274.31 L661.084 1300.23 L656.824 1300.23 L656.824 1274.31 M656.824 1264.22 L661.084 1264.22 L661.084 1269.61 L656.824 1269.61 L656.824 1264.22 Z\" fill=\"#000000\" fill-rule=\"evenodd\" fill-opacity=\"1\" /><path clip-path=\"url(#clip470)\" d=\"M692.171 1286.21 L692.171 1288.29 L672.588 1288.29 Q672.866 1292.69 675.227 1295 Q677.611 1297.29 681.847 1297.29 Q684.301 1297.29 686.593 1296.69 Q688.908 1296.09 691.176 1294.89 L691.176 1298.91 Q688.884 1299.89 686.477 1300.4 Q684.07 1300.91 681.593 1300.91 Q675.389 1300.91 671.755 1297.29 Q668.144 1293.68 668.144 1287.53 Q668.144 1281.16 671.57 1277.43 Q675.019 1273.68 680.852 1273.68 Q686.083 1273.68 689.116 1277.06 Q692.171 1280.42 692.171 1286.21 M687.912 1284.96 Q687.866 1281.46 685.945 1279.38 Q684.046 1277.29 680.898 1277.29 Q677.334 1277.29 675.181 1279.31 Q673.051 1281.32 672.727 1284.98 L687.912 1284.96 Z\" fill=\"#000000\" fill-rule=\"evenodd\" fill-opacity=\"1\" /><path clip-path=\"url(#clip470)\" d=\"M715.69 1275.07 L715.69 1279.1 Q713.884 1278.17 711.94 1277.71 Q709.995 1277.25 707.912 1277.25 Q704.741 1277.25 703.144 1278.22 Q701.57 1279.19 701.57 1281.14 Q701.57 1282.62 702.704 1283.48 Q703.838 1284.31 707.264 1285.07 L708.722 1285.4 Q713.259 1286.37 715.157 1288.15 Q717.079 1289.91 717.079 1293.08 Q717.079 1296.69 714.208 1298.8 Q711.361 1300.91 706.361 1300.91 Q704.278 1300.91 702.009 1300.49 Q699.764 1300.1 697.264 1299.29 L697.264 1294.89 Q699.625 1296.11 701.917 1296.74 Q704.208 1297.34 706.454 1297.34 Q709.463 1297.34 711.083 1296.32 Q712.704 1295.28 712.704 1293.41 Q712.704 1291.67 711.523 1290.74 Q710.366 1289.82 706.407 1288.96 L704.926 1288.61 Q700.968 1287.78 699.208 1286.07 Q697.449 1284.33 697.449 1281.32 Q697.449 1277.67 700.042 1275.67 Q702.634 1273.68 707.403 1273.68 Q709.764 1273.68 711.847 1274.03 Q713.931 1274.38 715.69 1275.07 Z\" fill=\"#000000\" fill-rule=\"evenodd\" fill-opacity=\"1\" /><path clip-path=\"url(#clip470)\" d=\"M736.778 1285.35 L749.254 1285.35 L749.254 1289.15 L736.778 1289.15 L736.778 1285.35 Z\" fill=\"#000000\" fill-rule=\"evenodd\" fill-opacity=\"1\" /><path clip-path=\"url(#clip470)\" d=\"M785.875 1281.6 Q789.231 1282.32 791.106 1284.59 Q793.004 1286.85 793.004 1290.19 Q793.004 1295.3 789.486 1298.1 Q785.967 1300.91 779.486 1300.91 Q777.31 1300.91 774.995 1300.47 Q772.703 1300.05 770.25 1299.19 L770.25 1294.68 Q772.194 1295.81 774.509 1296.39 Q776.824 1296.97 779.347 1296.97 Q783.745 1296.97 786.037 1295.23 Q788.351 1293.5 788.351 1290.19 Q788.351 1287.13 786.199 1285.42 Q784.069 1283.68 780.25 1283.68 L776.222 1283.68 L776.222 1279.84 L780.435 1279.84 Q783.884 1279.84 785.713 1278.48 Q787.541 1277.09 787.541 1274.49 Q787.541 1271.83 785.643 1270.42 Q783.768 1268.98 780.25 1268.98 Q778.328 1268.98 776.129 1269.4 Q773.93 1269.82 771.291 1270.7 L771.291 1266.53 Q773.953 1265.79 776.268 1265.42 Q778.606 1265.05 780.666 1265.05 Q785.99 1265.05 789.092 1267.48 Q792.194 1269.89 792.194 1274.01 Q792.194 1276.88 790.551 1278.87 Q788.907 1280.84 785.875 1281.6 Z\" fill=\"#000000\" fill-rule=\"evenodd\" fill-opacity=\"1\" /><path clip-path=\"url(#clip470)\" d=\"M820.55 1266.95 L820.55 1274.31 L829.323 1274.31 L829.323 1277.62 L820.55 1277.62 L820.55 1291.69 Q820.55 1294.86 821.407 1295.77 Q822.286 1296.67 824.948 1296.67 L829.323 1296.67 L829.323 1300.23 L824.948 1300.23 Q820.018 1300.23 818.143 1298.41 Q816.268 1296.55 816.268 1291.69 L816.268 1277.62 L813.143 1277.62 L813.143 1274.31 L816.268 1274.31 L816.268 1266.95 L820.55 1266.95 Z\" fill=\"#000000\" fill-rule=\"evenodd\" fill-opacity=\"1\" /><path clip-path=\"url(#clip470)\" d=\"M857.101 1286.21 L857.101 1288.29 L837.518 1288.29 Q837.796 1292.69 840.157 1295 Q842.541 1297.29 846.777 1297.29 Q849.231 1297.29 851.522 1296.69 Q853.837 1296.09 856.106 1294.89 L856.106 1298.91 Q853.814 1299.89 851.407 1300.4 Q848.999 1300.91 846.522 1300.91 Q840.319 1300.91 836.685 1297.29 Q833.073 1293.68 833.073 1287.53 Q833.073 1281.16 836.499 1277.43 Q839.948 1273.68 845.782 1273.68 Q851.013 1273.68 854.046 1277.06 Q857.101 1280.42 857.101 1286.21 M852.842 1284.96 Q852.796 1281.46 850.874 1279.38 Q848.976 1277.29 845.828 1277.29 Q842.263 1277.29 840.11 1279.31 Q837.981 1281.32 837.657 1284.98 L852.842 1284.96 Z\" fill=\"#000000\" fill-rule=\"evenodd\" fill-opacity=\"1\" /><path clip-path=\"url(#clip470)\" d=\"M879.115 1278.29 Q878.397 1277.87 877.541 1277.69 Q876.707 1277.48 875.689 1277.48 Q872.078 1277.48 870.133 1279.84 Q868.212 1282.18 868.212 1286.58 L868.212 1300.23 L863.93 1300.23 L863.93 1274.31 L868.212 1274.31 L868.212 1278.34 Q869.555 1275.98 871.707 1274.84 Q873.86 1273.68 876.939 1273.68 Q877.379 1273.68 877.911 1273.75 Q878.444 1273.8 879.092 1273.92 L879.115 1278.29 Z\" fill=\"#000000\" fill-rule=\"evenodd\" fill-opacity=\"1\" /><path clip-path=\"url(#clip470)\" d=\"M902.934 1279.29 Q904.531 1276.42 906.754 1275.05 Q908.976 1273.68 911.985 1273.68 Q916.036 1273.68 918.235 1276.53 Q920.434 1279.35 920.434 1284.59 L920.434 1300.23 L916.152 1300.23 L916.152 1284.73 Q916.152 1281 914.832 1279.19 Q913.513 1277.39 910.805 1277.39 Q907.494 1277.39 905.573 1279.59 Q903.652 1281.79 903.652 1285.58 L903.652 1300.23 L899.369 1300.23 L899.369 1284.73 Q899.369 1280.98 898.05 1279.19 Q896.731 1277.39 893.976 1277.39 Q890.712 1277.39 888.791 1279.61 Q886.869 1281.81 886.869 1285.58 L886.869 1300.23 L882.587 1300.23 L882.587 1274.31 L886.869 1274.31 L886.869 1278.34 Q888.328 1275.95 890.365 1274.82 Q892.402 1273.68 895.203 1273.68 Q898.027 1273.68 899.994 1275.12 Q901.985 1276.55 902.934 1279.29 Z\" fill=\"#000000\" fill-rule=\"evenodd\" fill-opacity=\"1\" /><path clip-path=\"url(#clip470)\" d=\"M945.457 1275.07 L945.457 1279.1 Q943.652 1278.17 941.707 1277.71 Q939.763 1277.25 937.679 1277.25 Q934.508 1277.25 932.911 1278.22 Q931.337 1279.19 931.337 1281.14 Q931.337 1282.62 932.471 1283.48 Q933.605 1284.31 937.031 1285.07 L938.49 1285.4 Q943.027 1286.37 944.925 1288.15 Q946.846 1289.91 946.846 1293.08 Q946.846 1296.69 943.976 1298.8 Q941.128 1300.91 936.128 1300.91 Q934.045 1300.91 931.777 1300.49 Q929.531 1300.1 927.031 1299.29 L927.031 1294.89 Q929.392 1296.11 931.684 1296.74 Q933.976 1297.34 936.221 1297.34 Q939.23 1297.34 940.851 1296.32 Q942.471 1295.28 942.471 1293.41 Q942.471 1291.67 941.29 1290.74 Q940.133 1289.82 936.175 1288.96 L934.693 1288.61 Q930.735 1287.78 928.976 1286.07 Q927.216 1284.33 927.216 1281.32 Q927.216 1277.67 929.809 1275.67 Q932.402 1273.68 937.17 1273.68 Q939.531 1273.68 941.615 1274.03 Q943.698 1274.38 945.457 1275.07 Z\" fill=\"#000000\" fill-rule=\"evenodd\" fill-opacity=\"1\" /><polyline clip-path=\"url(#clip470)\" style=\"stroke:#800080; stroke-linecap:butt; stroke-linejoin:round; stroke-width:4; stroke-opacity:1; fill:none\" points=\"\n",
       "  247.127,1334.79 394.031,1334.79 \n",
       "  \"/>\n",
       "<path clip-path=\"url(#clip470)\" d=\"M418.515 1317.51 L447.751 1317.51 L447.751 1321.45 L435.483 1321.45 L435.483 1352.07 L430.784 1352.07 L430.784 1321.45 L418.515 1321.45 L418.515 1317.51 Z\" fill=\"#000000\" fill-rule=\"evenodd\" fill-opacity=\"1\" /><path clip-path=\"url(#clip470)\" d=\"M456.015 1339.04 Q450.853 1339.04 448.863 1340.22 Q446.872 1341.4 446.872 1344.25 Q446.872 1346.52 448.353 1347.86 Q449.858 1349.18 452.427 1349.18 Q455.969 1349.18 458.099 1346.68 Q460.251 1344.16 460.251 1339.99 L460.251 1339.04 L456.015 1339.04 M464.511 1337.28 L464.511 1352.07 L460.251 1352.07 L460.251 1348.14 Q458.793 1350.5 456.617 1351.63 Q454.441 1352.75 451.293 1352.75 Q447.312 1352.75 444.951 1350.52 Q442.613 1348.28 442.613 1344.53 Q442.613 1340.15 445.529 1337.93 Q448.469 1335.71 454.279 1335.71 L460.251 1335.71 L460.251 1335.29 Q460.251 1332.35 458.307 1330.76 Q456.386 1329.13 452.89 1329.13 Q450.668 1329.13 448.562 1329.67 Q446.455 1330.2 444.511 1331.26 L444.511 1327.33 Q446.849 1326.43 449.048 1325.99 Q451.247 1325.52 453.33 1325.52 Q458.955 1325.52 461.733 1328.44 Q464.511 1331.36 464.511 1337.28 Z\" fill=\"#000000\" fill-rule=\"evenodd\" fill-opacity=\"1\" /><path clip-path=\"url(#clip470)\" d=\"M484.071 1354.48 Q482.265 1359.11 480.552 1360.52 Q478.839 1361.94 475.969 1361.94 L472.566 1361.94 L472.566 1358.37 L475.066 1358.37 Q476.825 1358.37 477.798 1357.54 Q478.77 1356.7 479.95 1353.6 L480.714 1351.66 L470.228 1326.15 L474.742 1326.15 L482.844 1346.43 L490.946 1326.15 L495.46 1326.15 L484.071 1354.48 Z\" fill=\"#000000\" fill-rule=\"evenodd\" fill-opacity=\"1\" /><path clip-path=\"url(#clip470)\" d=\"M501.339 1316.06 L505.598 1316.06 L505.598 1352.07 L501.339 1352.07 L501.339 1316.06 Z\" fill=\"#000000\" fill-rule=\"evenodd\" fill-opacity=\"1\" /><path clip-path=\"url(#clip470)\" d=\"M524.557 1329.13 Q521.131 1329.13 519.14 1331.82 Q517.149 1334.48 517.149 1339.13 Q517.149 1343.79 519.117 1346.47 Q521.108 1349.13 524.557 1349.13 Q527.959 1349.13 529.95 1346.45 Q531.941 1343.76 531.941 1339.13 Q531.941 1334.53 529.95 1331.84 Q527.959 1329.13 524.557 1329.13 M524.557 1325.52 Q530.112 1325.52 533.283 1329.13 Q536.455 1332.75 536.455 1339.13 Q536.455 1345.5 533.283 1349.13 Q530.112 1352.75 524.557 1352.75 Q518.978 1352.75 515.807 1349.13 Q512.658 1345.5 512.658 1339.13 Q512.658 1332.75 515.807 1329.13 Q518.978 1325.52 524.557 1325.52 Z\" fill=\"#000000\" fill-rule=\"evenodd\" fill-opacity=\"1\" /><path clip-path=\"url(#clip470)\" d=\"M558.538 1330.13 Q557.82 1329.71 556.964 1329.53 Q556.13 1329.32 555.112 1329.32 Q551.501 1329.32 549.556 1331.68 Q547.635 1334.02 547.635 1338.42 L547.635 1352.07 L543.353 1352.07 L543.353 1326.15 L547.635 1326.15 L547.635 1330.18 Q548.978 1327.82 551.131 1326.68 Q553.283 1325.52 556.362 1325.52 Q556.802 1325.52 557.334 1325.59 Q557.867 1325.64 558.515 1325.76 L558.538 1330.13 Z\" fill=\"#000000\" fill-rule=\"evenodd\" fill-opacity=\"1\" /><path clip-path=\"url(#clip470)\" d=\"M598.977 1318.65 L598.977 1323.21 Q596.315 1321.94 593.954 1321.31 Q591.593 1320.69 589.394 1320.69 Q585.575 1320.69 583.491 1322.17 Q581.431 1323.65 581.431 1326.38 Q581.431 1328.67 582.797 1329.85 Q584.186 1331.01 588.028 1331.73 L590.853 1332.31 Q596.084 1333.3 598.561 1335.82 Q601.061 1338.32 601.061 1342.54 Q601.061 1347.56 597.681 1350.15 Q594.325 1352.75 587.82 1352.75 Q585.366 1352.75 582.589 1352.19 Q579.834 1351.63 576.871 1350.55 L576.871 1345.73 Q579.718 1347.33 582.45 1348.14 Q585.181 1348.95 587.82 1348.95 Q591.825 1348.95 594.001 1347.38 Q596.177 1345.8 596.177 1342.88 Q596.177 1340.34 594.603 1338.9 Q593.052 1337.47 589.487 1336.75 L586.64 1336.19 Q581.408 1335.15 579.07 1332.93 Q576.732 1330.71 576.732 1326.75 Q576.732 1322.17 579.95 1319.53 Q583.191 1316.89 588.862 1316.89 Q591.292 1316.89 593.815 1317.33 Q596.339 1317.77 598.977 1318.65 Z\" fill=\"#000000\" fill-rule=\"evenodd\" fill-opacity=\"1\" /><path clip-path=\"url(#clip470)\" d=\"M630.343 1338.05 L630.343 1340.13 L610.76 1340.13 Q611.038 1344.53 613.399 1346.84 Q615.783 1349.13 620.019 1349.13 Q622.473 1349.13 624.764 1348.53 Q627.079 1347.93 629.348 1346.73 L629.348 1350.75 Q627.056 1351.73 624.649 1352.24 Q622.241 1352.75 619.764 1352.75 Q613.561 1352.75 609.926 1349.13 Q606.315 1345.52 606.315 1339.37 Q606.315 1333 609.741 1329.27 Q613.19 1325.52 619.024 1325.52 Q624.255 1325.52 627.288 1328.9 Q630.343 1332.26 630.343 1338.05 M626.084 1336.8 Q626.038 1333.3 624.116 1331.22 Q622.218 1329.13 619.07 1329.13 Q615.505 1329.13 613.352 1331.15 Q611.223 1333.16 610.899 1336.82 L626.084 1336.8 Z\" fill=\"#000000\" fill-rule=\"evenodd\" fill-opacity=\"1\" /><path clip-path=\"url(#clip470)\" d=\"M652.357 1330.13 Q651.639 1329.71 650.783 1329.53 Q649.949 1329.32 648.931 1329.32 Q645.32 1329.32 643.375 1331.68 Q641.454 1334.02 641.454 1338.42 L641.454 1352.07 L637.172 1352.07 L637.172 1326.15 L641.454 1326.15 L641.454 1330.18 Q642.797 1327.82 644.949 1326.68 Q647.102 1325.52 650.181 1325.52 Q650.621 1325.52 651.153 1325.59 Q651.686 1325.64 652.334 1325.76 L652.357 1330.13 Z\" fill=\"#000000\" fill-rule=\"evenodd\" fill-opacity=\"1\" /><path clip-path=\"url(#clip470)\" d=\"M656.824 1326.15 L661.084 1326.15 L661.084 1352.07 L656.824 1352.07 L656.824 1326.15 M656.824 1316.06 L661.084 1316.06 L661.084 1321.45 L656.824 1321.45 L656.824 1316.06 Z\" fill=\"#000000\" fill-rule=\"evenodd\" fill-opacity=\"1\" /><path clip-path=\"url(#clip470)\" d=\"M692.171 1338.05 L692.171 1340.13 L672.588 1340.13 Q672.866 1344.53 675.227 1346.84 Q677.611 1349.13 681.847 1349.13 Q684.301 1349.13 686.593 1348.53 Q688.908 1347.93 691.176 1346.73 L691.176 1350.75 Q688.884 1351.73 686.477 1352.24 Q684.07 1352.75 681.593 1352.75 Q675.389 1352.75 671.755 1349.13 Q668.144 1345.52 668.144 1339.37 Q668.144 1333 671.57 1329.27 Q675.019 1325.52 680.852 1325.52 Q686.083 1325.52 689.116 1328.9 Q692.171 1332.26 692.171 1338.05 M687.912 1336.8 Q687.866 1333.3 685.945 1331.22 Q684.046 1329.13 680.898 1329.13 Q677.334 1329.13 675.181 1331.15 Q673.051 1333.16 672.727 1336.82 L687.912 1336.8 Z\" fill=\"#000000\" fill-rule=\"evenodd\" fill-opacity=\"1\" /><path clip-path=\"url(#clip470)\" d=\"M715.69 1326.91 L715.69 1330.94 Q713.884 1330.01 711.94 1329.55 Q709.995 1329.09 707.912 1329.09 Q704.741 1329.09 703.144 1330.06 Q701.57 1331.03 701.57 1332.98 Q701.57 1334.46 702.704 1335.32 Q703.838 1336.15 707.264 1336.91 L708.722 1337.24 Q713.259 1338.21 715.157 1339.99 Q717.079 1341.75 717.079 1344.92 Q717.079 1348.53 714.208 1350.64 Q711.361 1352.75 706.361 1352.75 Q704.278 1352.75 702.009 1352.33 Q699.764 1351.94 697.264 1351.13 L697.264 1346.73 Q699.625 1347.95 701.917 1348.58 Q704.208 1349.18 706.454 1349.18 Q709.463 1349.18 711.083 1348.16 Q712.704 1347.12 712.704 1345.25 Q712.704 1343.51 711.523 1342.58 Q710.366 1341.66 706.407 1340.8 L704.926 1340.45 Q700.968 1339.62 699.208 1337.91 Q697.449 1336.17 697.449 1333.16 Q697.449 1329.51 700.042 1327.51 Q702.634 1325.52 707.403 1325.52 Q709.764 1325.52 711.847 1325.87 Q713.931 1326.22 715.69 1326.91 Z\" fill=\"#000000\" fill-rule=\"evenodd\" fill-opacity=\"1\" /><path clip-path=\"url(#clip470)\" d=\"M736.778 1337.19 L749.254 1337.19 L749.254 1340.99 L736.778 1340.99 L736.778 1337.19 Z\" fill=\"#000000\" fill-rule=\"evenodd\" fill-opacity=\"1\" /><path clip-path=\"url(#clip470)\" d=\"M784.555 1321.59 L772.75 1340.04 L784.555 1340.04 L784.555 1321.59 M783.328 1317.51 L789.208 1317.51 L789.208 1340.04 L794.138 1340.04 L794.138 1343.93 L789.208 1343.93 L789.208 1352.07 L784.555 1352.07 L784.555 1343.93 L768.953 1343.93 L768.953 1339.41 L783.328 1317.51 Z\" fill=\"#000000\" fill-rule=\"evenodd\" fill-opacity=\"1\" /><path clip-path=\"url(#clip470)\" d=\"M820.55 1318.79 L820.55 1326.15 L829.323 1326.15 L829.323 1329.46 L820.55 1329.46 L820.55 1343.53 Q820.55 1346.7 821.407 1347.61 Q822.286 1348.51 824.948 1348.51 L829.323 1348.51 L829.323 1352.07 L824.948 1352.07 Q820.018 1352.07 818.143 1350.25 Q816.268 1348.39 816.268 1343.53 L816.268 1329.46 L813.143 1329.46 L813.143 1326.15 L816.268 1326.15 L816.268 1318.79 L820.55 1318.79 Z\" fill=\"#000000\" fill-rule=\"evenodd\" fill-opacity=\"1\" /><path clip-path=\"url(#clip470)\" d=\"M857.101 1338.05 L857.101 1340.13 L837.518 1340.13 Q837.796 1344.53 840.157 1346.84 Q842.541 1349.13 846.777 1349.13 Q849.231 1349.13 851.522 1348.53 Q853.837 1347.93 856.106 1346.73 L856.106 1350.75 Q853.814 1351.73 851.407 1352.24 Q848.999 1352.75 846.522 1352.75 Q840.319 1352.75 836.685 1349.13 Q833.073 1345.52 833.073 1339.37 Q833.073 1333 836.499 1329.27 Q839.948 1325.52 845.782 1325.52 Q851.013 1325.52 854.046 1328.9 Q857.101 1332.26 857.101 1338.05 M852.842 1336.8 Q852.796 1333.3 850.874 1331.22 Q848.976 1329.13 845.828 1329.13 Q842.263 1329.13 840.11 1331.15 Q837.981 1333.16 837.657 1336.82 L852.842 1336.8 Z\" fill=\"#000000\" fill-rule=\"evenodd\" fill-opacity=\"1\" /><path clip-path=\"url(#clip470)\" d=\"M879.115 1330.13 Q878.397 1329.71 877.541 1329.53 Q876.707 1329.32 875.689 1329.32 Q872.078 1329.32 870.133 1331.68 Q868.212 1334.02 868.212 1338.42 L868.212 1352.07 L863.93 1352.07 L863.93 1326.15 L868.212 1326.15 L868.212 1330.18 Q869.555 1327.82 871.707 1326.68 Q873.86 1325.52 876.939 1325.52 Q877.379 1325.52 877.911 1325.59 Q878.444 1325.64 879.092 1325.76 L879.115 1330.13 Z\" fill=\"#000000\" fill-rule=\"evenodd\" fill-opacity=\"1\" /><path clip-path=\"url(#clip470)\" d=\"M902.934 1331.13 Q904.531 1328.26 906.754 1326.89 Q908.976 1325.52 911.985 1325.52 Q916.036 1325.52 918.235 1328.37 Q920.434 1331.19 920.434 1336.43 L920.434 1352.07 L916.152 1352.07 L916.152 1336.57 Q916.152 1332.84 914.832 1331.03 Q913.513 1329.23 910.805 1329.23 Q907.494 1329.23 905.573 1331.43 Q903.652 1333.63 903.652 1337.42 L903.652 1352.07 L899.369 1352.07 L899.369 1336.57 Q899.369 1332.82 898.05 1331.03 Q896.731 1329.23 893.976 1329.23 Q890.712 1329.23 888.791 1331.45 Q886.869 1333.65 886.869 1337.42 L886.869 1352.07 L882.587 1352.07 L882.587 1326.15 L886.869 1326.15 L886.869 1330.18 Q888.328 1327.79 890.365 1326.66 Q892.402 1325.52 895.203 1325.52 Q898.027 1325.52 899.994 1326.96 Q901.985 1328.39 902.934 1331.13 Z\" fill=\"#000000\" fill-rule=\"evenodd\" fill-opacity=\"1\" /><path clip-path=\"url(#clip470)\" d=\"M945.457 1326.91 L945.457 1330.94 Q943.652 1330.01 941.707 1329.55 Q939.763 1329.09 937.679 1329.09 Q934.508 1329.09 932.911 1330.06 Q931.337 1331.03 931.337 1332.98 Q931.337 1334.46 932.471 1335.32 Q933.605 1336.15 937.031 1336.91 L938.49 1337.24 Q943.027 1338.21 944.925 1339.99 Q946.846 1341.75 946.846 1344.92 Q946.846 1348.53 943.976 1350.64 Q941.128 1352.75 936.128 1352.75 Q934.045 1352.75 931.777 1352.33 Q929.531 1351.94 927.031 1351.13 L927.031 1346.73 Q929.392 1347.95 931.684 1348.58 Q933.976 1349.18 936.221 1349.18 Q939.23 1349.18 940.851 1348.16 Q942.471 1347.12 942.471 1345.25 Q942.471 1343.51 941.29 1342.58 Q940.133 1341.66 936.175 1340.8 L934.693 1340.45 Q930.735 1339.62 928.976 1337.91 Q927.216 1336.17 927.216 1333.16 Q927.216 1329.51 929.809 1327.51 Q932.402 1325.52 937.17 1325.52 Q939.531 1325.52 941.615 1325.87 Q943.698 1326.22 945.457 1326.91 Z\" fill=\"#000000\" fill-rule=\"evenodd\" fill-opacity=\"1\" /><polyline clip-path=\"url(#clip470)\" style=\"stroke:#a52a2a; stroke-linecap:butt; stroke-linejoin:round; stroke-width:4; stroke-opacity:1; fill:none\" points=\"\n",
       "  247.127,1386.63 394.031,1386.63 \n",
       "  \"/>\n",
       "<path clip-path=\"url(#clip470)\" d=\"M418.515 1369.35 L447.751 1369.35 L447.751 1373.29 L435.483 1373.29 L435.483 1403.91 L430.784 1403.91 L430.784 1373.29 L418.515 1373.29 L418.515 1369.35 Z\" fill=\"#000000\" fill-rule=\"evenodd\" fill-opacity=\"1\" /><path clip-path=\"url(#clip470)\" d=\"M456.015 1390.88 Q450.853 1390.88 448.863 1392.06 Q446.872 1393.24 446.872 1396.09 Q446.872 1398.36 448.353 1399.7 Q449.858 1401.02 452.427 1401.02 Q455.969 1401.02 458.099 1398.52 Q460.251 1396 460.251 1391.83 L460.251 1390.88 L456.015 1390.88 M464.511 1389.12 L464.511 1403.91 L460.251 1403.91 L460.251 1399.98 Q458.793 1402.34 456.617 1403.47 Q454.441 1404.59 451.293 1404.59 Q447.312 1404.59 444.951 1402.36 Q442.613 1400.12 442.613 1396.37 Q442.613 1391.99 445.529 1389.77 Q448.469 1387.55 454.279 1387.55 L460.251 1387.55 L460.251 1387.13 Q460.251 1384.19 458.307 1382.6 Q456.386 1380.97 452.89 1380.97 Q450.668 1380.97 448.562 1381.51 Q446.455 1382.04 444.511 1383.1 L444.511 1379.17 Q446.849 1378.27 449.048 1377.83 Q451.247 1377.36 453.33 1377.36 Q458.955 1377.36 461.733 1380.28 Q464.511 1383.2 464.511 1389.12 Z\" fill=\"#000000\" fill-rule=\"evenodd\" fill-opacity=\"1\" /><path clip-path=\"url(#clip470)\" d=\"M484.071 1406.32 Q482.265 1410.95 480.552 1412.36 Q478.839 1413.78 475.969 1413.78 L472.566 1413.78 L472.566 1410.21 L475.066 1410.21 Q476.825 1410.21 477.798 1409.38 Q478.77 1408.54 479.95 1405.44 L480.714 1403.5 L470.228 1377.99 L474.742 1377.99 L482.844 1398.27 L490.946 1377.99 L495.46 1377.99 L484.071 1406.32 Z\" fill=\"#000000\" fill-rule=\"evenodd\" fill-opacity=\"1\" /><path clip-path=\"url(#clip470)\" d=\"M501.339 1367.9 L505.598 1367.9 L505.598 1403.91 L501.339 1403.91 L501.339 1367.9 Z\" fill=\"#000000\" fill-rule=\"evenodd\" fill-opacity=\"1\" /><path clip-path=\"url(#clip470)\" d=\"M524.557 1380.97 Q521.131 1380.97 519.14 1383.66 Q517.149 1386.32 517.149 1390.97 Q517.149 1395.63 519.117 1398.31 Q521.108 1400.97 524.557 1400.97 Q527.959 1400.97 529.95 1398.29 Q531.941 1395.6 531.941 1390.97 Q531.941 1386.37 529.95 1383.68 Q527.959 1380.97 524.557 1380.97 M524.557 1377.36 Q530.112 1377.36 533.283 1380.97 Q536.455 1384.59 536.455 1390.97 Q536.455 1397.34 533.283 1400.97 Q530.112 1404.59 524.557 1404.59 Q518.978 1404.59 515.807 1400.97 Q512.658 1397.34 512.658 1390.97 Q512.658 1384.59 515.807 1380.97 Q518.978 1377.36 524.557 1377.36 Z\" fill=\"#000000\" fill-rule=\"evenodd\" fill-opacity=\"1\" /><path clip-path=\"url(#clip470)\" d=\"M558.538 1381.97 Q557.82 1381.55 556.964 1381.37 Q556.13 1381.16 555.112 1381.16 Q551.501 1381.16 549.556 1383.52 Q547.635 1385.86 547.635 1390.26 L547.635 1403.91 L543.353 1403.91 L543.353 1377.99 L547.635 1377.99 L547.635 1382.02 Q548.978 1379.66 551.131 1378.52 Q553.283 1377.36 556.362 1377.36 Q556.802 1377.36 557.334 1377.43 Q557.867 1377.48 558.515 1377.6 L558.538 1381.97 Z\" fill=\"#000000\" fill-rule=\"evenodd\" fill-opacity=\"1\" /><path clip-path=\"url(#clip470)\" d=\"M598.977 1370.49 L598.977 1375.05 Q596.315 1373.78 593.954 1373.15 Q591.593 1372.53 589.394 1372.53 Q585.575 1372.53 583.491 1374.01 Q581.431 1375.49 581.431 1378.22 Q581.431 1380.51 582.797 1381.69 Q584.186 1382.85 588.028 1383.57 L590.853 1384.15 Q596.084 1385.14 598.561 1387.66 Q601.061 1390.16 601.061 1394.38 Q601.061 1399.4 597.681 1401.99 Q594.325 1404.59 587.82 1404.59 Q585.366 1404.59 582.589 1404.03 Q579.834 1403.47 576.871 1402.39 L576.871 1397.57 Q579.718 1399.17 582.45 1399.98 Q585.181 1400.79 587.82 1400.79 Q591.825 1400.79 594.001 1399.22 Q596.177 1397.64 596.177 1394.72 Q596.177 1392.18 594.603 1390.74 Q593.052 1389.31 589.487 1388.59 L586.64 1388.03 Q581.408 1386.99 579.07 1384.77 Q576.732 1382.55 576.732 1378.59 Q576.732 1374.01 579.95 1371.37 Q583.191 1368.73 588.862 1368.73 Q591.292 1368.73 593.815 1369.17 Q596.339 1369.61 598.977 1370.49 Z\" fill=\"#000000\" fill-rule=\"evenodd\" fill-opacity=\"1\" /><path clip-path=\"url(#clip470)\" d=\"M630.343 1389.89 L630.343 1391.97 L610.76 1391.97 Q611.038 1396.37 613.399 1398.68 Q615.783 1400.97 620.019 1400.97 Q622.473 1400.97 624.764 1400.37 Q627.079 1399.77 629.348 1398.57 L629.348 1402.59 Q627.056 1403.57 624.649 1404.08 Q622.241 1404.59 619.764 1404.59 Q613.561 1404.59 609.926 1400.97 Q606.315 1397.36 606.315 1391.21 Q606.315 1384.84 609.741 1381.11 Q613.19 1377.36 619.024 1377.36 Q624.255 1377.36 627.288 1380.74 Q630.343 1384.1 630.343 1389.89 M626.084 1388.64 Q626.038 1385.14 624.116 1383.06 Q622.218 1380.97 619.07 1380.97 Q615.505 1380.97 613.352 1382.99 Q611.223 1385 610.899 1388.66 L626.084 1388.64 Z\" fill=\"#000000\" fill-rule=\"evenodd\" fill-opacity=\"1\" /><path clip-path=\"url(#clip470)\" d=\"M652.357 1381.97 Q651.639 1381.55 650.783 1381.37 Q649.949 1381.16 648.931 1381.16 Q645.32 1381.16 643.375 1383.52 Q641.454 1385.86 641.454 1390.26 L641.454 1403.91 L637.172 1403.91 L637.172 1377.99 L641.454 1377.99 L641.454 1382.02 Q642.797 1379.66 644.949 1378.52 Q647.102 1377.36 650.181 1377.36 Q650.621 1377.36 651.153 1377.43 Q651.686 1377.48 652.334 1377.6 L652.357 1381.97 Z\" fill=\"#000000\" fill-rule=\"evenodd\" fill-opacity=\"1\" /><path clip-path=\"url(#clip470)\" d=\"M656.824 1377.99 L661.084 1377.99 L661.084 1403.91 L656.824 1403.91 L656.824 1377.99 M656.824 1367.9 L661.084 1367.9 L661.084 1373.29 L656.824 1373.29 L656.824 1367.9 Z\" fill=\"#000000\" fill-rule=\"evenodd\" fill-opacity=\"1\" /><path clip-path=\"url(#clip470)\" d=\"M692.171 1389.89 L692.171 1391.97 L672.588 1391.97 Q672.866 1396.37 675.227 1398.68 Q677.611 1400.97 681.847 1400.97 Q684.301 1400.97 686.593 1400.37 Q688.908 1399.77 691.176 1398.57 L691.176 1402.59 Q688.884 1403.57 686.477 1404.08 Q684.07 1404.59 681.593 1404.59 Q675.389 1404.59 671.755 1400.97 Q668.144 1397.36 668.144 1391.21 Q668.144 1384.84 671.57 1381.11 Q675.019 1377.36 680.852 1377.36 Q686.083 1377.36 689.116 1380.74 Q692.171 1384.1 692.171 1389.89 M687.912 1388.64 Q687.866 1385.14 685.945 1383.06 Q684.046 1380.97 680.898 1380.97 Q677.334 1380.97 675.181 1382.99 Q673.051 1385 672.727 1388.66 L687.912 1388.64 Z\" fill=\"#000000\" fill-rule=\"evenodd\" fill-opacity=\"1\" /><path clip-path=\"url(#clip470)\" d=\"M715.69 1378.75 L715.69 1382.78 Q713.884 1381.85 711.94 1381.39 Q709.995 1380.93 707.912 1380.93 Q704.741 1380.93 703.144 1381.9 Q701.57 1382.87 701.57 1384.82 Q701.57 1386.3 702.704 1387.16 Q703.838 1387.99 707.264 1388.75 L708.722 1389.08 Q713.259 1390.05 715.157 1391.83 Q717.079 1393.59 717.079 1396.76 Q717.079 1400.37 714.208 1402.48 Q711.361 1404.59 706.361 1404.59 Q704.278 1404.59 702.009 1404.17 Q699.764 1403.78 697.264 1402.97 L697.264 1398.57 Q699.625 1399.79 701.917 1400.42 Q704.208 1401.02 706.454 1401.02 Q709.463 1401.02 711.083 1400 Q712.704 1398.96 712.704 1397.09 Q712.704 1395.35 711.523 1394.42 Q710.366 1393.5 706.407 1392.64 L704.926 1392.29 Q700.968 1391.46 699.208 1389.75 Q697.449 1388.01 697.449 1385 Q697.449 1381.35 700.042 1379.35 Q702.634 1377.36 707.403 1377.36 Q709.764 1377.36 711.847 1377.71 Q713.931 1378.06 715.69 1378.75 Z\" fill=\"#000000\" fill-rule=\"evenodd\" fill-opacity=\"1\" /><path clip-path=\"url(#clip470)\" d=\"M736.778 1389.03 L749.254 1389.03 L749.254 1392.83 L736.778 1392.83 L736.778 1389.03 Z\" fill=\"#000000\" fill-rule=\"evenodd\" fill-opacity=\"1\" /><path clip-path=\"url(#clip470)\" d=\"M771.754 1369.35 L790.111 1369.35 L790.111 1373.29 L776.037 1373.29 L776.037 1381.76 Q777.055 1381.41 778.074 1381.25 Q779.092 1381.07 780.111 1381.07 Q785.898 1381.07 789.277 1384.24 Q792.657 1387.41 792.657 1392.83 Q792.657 1398.41 789.185 1401.51 Q785.713 1404.59 779.393 1404.59 Q777.217 1404.59 774.949 1404.22 Q772.703 1403.84 770.296 1403.1 L770.296 1398.41 Q772.379 1399.54 774.602 1400.09 Q776.824 1400.65 779.301 1400.65 Q783.305 1400.65 785.643 1398.54 Q787.981 1396.44 787.981 1392.83 Q787.981 1389.22 785.643 1387.11 Q783.305 1385 779.301 1385 Q777.426 1385 775.551 1385.42 Q773.699 1385.84 771.754 1386.72 L771.754 1369.35 Z\" fill=\"#000000\" fill-rule=\"evenodd\" fill-opacity=\"1\" /><path clip-path=\"url(#clip470)\" d=\"M820.55 1370.63 L820.55 1377.99 L829.323 1377.99 L829.323 1381.3 L820.55 1381.3 L820.55 1395.37 Q820.55 1398.54 821.407 1399.45 Q822.286 1400.35 824.948 1400.35 L829.323 1400.35 L829.323 1403.91 L824.948 1403.91 Q820.018 1403.91 818.143 1402.09 Q816.268 1400.23 816.268 1395.37 L816.268 1381.3 L813.143 1381.3 L813.143 1377.99 L816.268 1377.99 L816.268 1370.63 L820.55 1370.63 Z\" fill=\"#000000\" fill-rule=\"evenodd\" fill-opacity=\"1\" /><path clip-path=\"url(#clip470)\" d=\"M857.101 1389.89 L857.101 1391.97 L837.518 1391.97 Q837.796 1396.37 840.157 1398.68 Q842.541 1400.97 846.777 1400.97 Q849.231 1400.97 851.522 1400.37 Q853.837 1399.77 856.106 1398.57 L856.106 1402.59 Q853.814 1403.57 851.407 1404.08 Q848.999 1404.59 846.522 1404.59 Q840.319 1404.59 836.685 1400.97 Q833.073 1397.36 833.073 1391.21 Q833.073 1384.84 836.499 1381.11 Q839.948 1377.36 845.782 1377.36 Q851.013 1377.36 854.046 1380.74 Q857.101 1384.1 857.101 1389.89 M852.842 1388.64 Q852.796 1385.14 850.874 1383.06 Q848.976 1380.97 845.828 1380.97 Q842.263 1380.97 840.11 1382.99 Q837.981 1385 837.657 1388.66 L852.842 1388.64 Z\" fill=\"#000000\" fill-rule=\"evenodd\" fill-opacity=\"1\" /><path clip-path=\"url(#clip470)\" d=\"M879.115 1381.97 Q878.397 1381.55 877.541 1381.37 Q876.707 1381.16 875.689 1381.16 Q872.078 1381.16 870.133 1383.52 Q868.212 1385.86 868.212 1390.26 L868.212 1403.91 L863.93 1403.91 L863.93 1377.99 L868.212 1377.99 L868.212 1382.02 Q869.555 1379.66 871.707 1378.52 Q873.86 1377.36 876.939 1377.36 Q877.379 1377.36 877.911 1377.43 Q878.444 1377.48 879.092 1377.6 L879.115 1381.97 Z\" fill=\"#000000\" fill-rule=\"evenodd\" fill-opacity=\"1\" /><path clip-path=\"url(#clip470)\" d=\"M902.934 1382.97 Q904.531 1380.1 906.754 1378.73 Q908.976 1377.36 911.985 1377.36 Q916.036 1377.36 918.235 1380.21 Q920.434 1383.03 920.434 1388.27 L920.434 1403.91 L916.152 1403.91 L916.152 1388.41 Q916.152 1384.68 914.832 1382.87 Q913.513 1381.07 910.805 1381.07 Q907.494 1381.07 905.573 1383.27 Q903.652 1385.47 903.652 1389.26 L903.652 1403.91 L899.369 1403.91 L899.369 1388.41 Q899.369 1384.66 898.05 1382.87 Q896.731 1381.07 893.976 1381.07 Q890.712 1381.07 888.791 1383.29 Q886.869 1385.49 886.869 1389.26 L886.869 1403.91 L882.587 1403.91 L882.587 1377.99 L886.869 1377.99 L886.869 1382.02 Q888.328 1379.63 890.365 1378.5 Q892.402 1377.36 895.203 1377.36 Q898.027 1377.36 899.994 1378.8 Q901.985 1380.23 902.934 1382.97 Z\" fill=\"#000000\" fill-rule=\"evenodd\" fill-opacity=\"1\" /><path clip-path=\"url(#clip470)\" d=\"M945.457 1378.75 L945.457 1382.78 Q943.652 1381.85 941.707 1381.39 Q939.763 1380.93 937.679 1380.93 Q934.508 1380.93 932.911 1381.9 Q931.337 1382.87 931.337 1384.82 Q931.337 1386.3 932.471 1387.16 Q933.605 1387.99 937.031 1388.75 L938.49 1389.08 Q943.027 1390.05 944.925 1391.83 Q946.846 1393.59 946.846 1396.76 Q946.846 1400.37 943.976 1402.48 Q941.128 1404.59 936.128 1404.59 Q934.045 1404.59 931.777 1404.17 Q929.531 1403.78 927.031 1402.97 L927.031 1398.57 Q929.392 1399.79 931.684 1400.42 Q933.976 1401.02 936.221 1401.02 Q939.23 1401.02 940.851 1400 Q942.471 1398.96 942.471 1397.09 Q942.471 1395.35 941.29 1394.42 Q940.133 1393.5 936.175 1392.64 L934.693 1392.29 Q930.735 1391.46 928.976 1389.75 Q927.216 1388.01 927.216 1385 Q927.216 1381.35 929.809 1379.35 Q932.402 1377.36 937.17 1377.36 Q939.531 1377.36 941.615 1377.71 Q943.698 1378.06 945.457 1378.75 Z\" fill=\"#000000\" fill-rule=\"evenodd\" fill-opacity=\"1\" /></svg>\n"
      ]
     },
     "execution_count": 16,
     "metadata": {},
     "output_type": "execute_result"
    }
   ],
   "source": [
    "f(x) = cos.(x)\n",
    "\n",
    "plot(f, -2*π, 2*π,\n",
    "    lw=2,\n",
    "    lab=\"cos() function\",\n",
    "    legend=:bottomleft\n",
    ")\n",
    "xlims!(-2*π, 2*π)\n",
    "ylims!(-6, 4)\n",
    "\n",
    "# Taylor para cosseno: sum (-1)^n * x^(2n)/(factorial(2n))\n",
    "\n",
    "# Taylor 1 termo\n",
    "f(x) = 1 \n",
    "\n",
    "plot!(f, -2*π, 2*π,\n",
    "    lw=2,\n",
    "    lab=\"Taylor Series - 1 terms\",\n",
    "    color=:orange\n",
    ")\n",
    "\n",
    "# Taylor 2 termos\n",
    "f(x) = 1 - x^2/factorial(2)\n",
    "\n",
    "plot!(f, -2*π, 2*π,\n",
    "    lw=2,\n",
    "    lab=\"Taylor Series - 2 terms\",\n",
    "    color=:green\n",
    ")\n",
    "\n",
    "# Taylor 3 termos\n",
    "f(x) = 1 - x^2/factorial(2) + x^4/factorial(4) \n",
    "\n",
    "plot!(f, -2*π, 2*π,\n",
    "    lw=2,\n",
    "    lab=\"Taylor Series - 3 terms\",\n",
    "    color=:red\n",
    ")\n",
    "\n",
    "# Taylor 4 termos\n",
    "f(x) = 1 - x^2/factorial(2) + x^4/factorial(4) - x^6/factorial(6) \n",
    "\n",
    "plot!(f, -2*π, 2*π,\n",
    "    lw=2,\n",
    "    lab=\"Taylor Series - 4 terms\",\n",
    "    color=:purple\n",
    ")\n",
    "\n",
    "# Taylor 5 termos\n",
    "f(x) = 1 - x^2/factorial(2) + x^4/factorial(4) - x^6/factorial(6) + x^8/factorial(8)\n",
    "\n",
    "plot!(f, -2*π, 2*π,\n",
    "    lw=2,\n",
    "    lab=\"Taylor Series - 5 terms\",\n",
    "    color=:brown\n",
    ")"
   ]
  }
 ],
 "metadata": {
  "kernelspec": {
   "display_name": "Julia 1.7.0",
   "language": "julia",
   "name": "julia-1.7"
  },
  "language_info": {
   "file_extension": ".jl",
   "mimetype": "application/julia",
   "name": "julia",
   "version": "1.7.0"
  }
 },
 "nbformat": 4,
 "nbformat_minor": 5
}
