{
 "cells": [
  {
   "cell_type": "markdown",
   "id": "99c6803b-6048-4a25-9da7-0585abe856cf",
   "metadata": {},
   "source": [
    "## UFRJ | Cálculo Numérico | 2021.2"
   ]
  },
  {
   "cell_type": "markdown",
   "id": "28b55d2f-32a1-417d-86fd-fb06f51aef01",
   "metadata": {},
   "source": [
    "### Tarefa 5 | Gabriele Jandres | 119159948"
   ]
  },
  {
   "cell_type": "markdown",
   "id": "afabcb0b-492b-4ee5-b6d2-ccc8ef7e64fa",
   "metadata": {},
   "source": [
    "#### Discussões com: Carlos Bravo, Victor Cardoso"
   ]
  },
  {
   "cell_type": "code",
   "execution_count": 8,
   "id": "5090e3fc-a2d3-45a4-83b3-24cf6de48dea",
   "metadata": {},
   "outputs": [],
   "source": [
    "using LinearAlgebra\n",
    "using Plots"
   ]
  },
  {
   "cell_type": "markdown",
   "id": "1d0297e5-cbaa-46c4-933e-8f4ed419c33d",
   "metadata": {},
   "source": [
    "### Exercício 1 | Experimento com temperatura"
   ]
  },
  {
   "cell_type": "markdown",
   "id": "38e1e8e7-70d4-4d5b-a8d3-ccacdc0de051",
   "metadata": {},
   "source": [
    "_________________________________________________________________________________________________________________________________________________________________________________________"
   ]
  },
  {
   "cell_type": "markdown",
   "id": "3db55a5e-36a5-4515-9fe6-92109d58e9ae",
   "metadata": {},
   "source": [
    "Queremos utilizar o método de mínimos quadrados com coeficientes não lineares para determinar a curva da forma $T = c_0 x^{c_1}$ que melhor se ajusta aos dados da tabela. "
   ]
  },
  {
   "cell_type": "markdown",
   "id": "855c6134-c66e-4ebb-8005-030bba71c859",
   "metadata": {},
   "source": [
    "Pelo enunciado, temos que:\n",
    "\n",
    "$$T(x) = c_0 x^{c_1}$$\n",
    "\n",
    "onde\n",
    "\n",
    "$T$ é a temperatura em graus Celsius\n",
    "\n",
    "$x$ é a posição em centímetros\n",
    "\n",
    "$c_0$ e $c_1$ são constantes"
   ]
  },
  {
   "cell_type": "markdown",
   "id": "a72d1857-f3ee-4dd2-b0d0-22e5b7eded1b",
   "metadata": {},
   "source": [
    "Aplicando $ln$ em ambos os lados para eliminar a exponencial:\n",
    "\n",
    "$$\n",
    "ln(T(x)) = ln(c_0x^{c_1}) \\\\\n",
    "ln(T) = ln(c_0) + ln(x^{c_1}) \\\\\n",
    "ln(T) = ln(c_0) + c_1*ln(x)\n",
    "$$\n",
    "\n",
    "Para utilizar a regressão com coeficientes lineares, vamos migrar para o \"mundo barra\", fazendo uma troca de variáveis:\n",
    "\n",
    "$$\n",
    "\\overline{T} = ln(T)\\\\\n",
    "\\overline{x} = ln(x) \\\\\n",
    "\\overline{c_0} = ln(c_0) \\\\\n",
    "\\overline{c_1} = c_1 \n",
    "$$\n",
    "\n",
    "O que nos deixa com a seguinte equação no mundo barra:\n",
    "\n",
    "$$\\overline{T} = \\overline{c_0} + \\overline{c_1}\\overline{x}$$"
   ]
  },
  {
   "cell_type": "markdown",
   "id": "86b087b0-e6d1-47c0-be2c-e70dd4bb302c",
   "metadata": {},
   "source": [
    "Vamos utilizar a função auxiliar para calcular a matriz de Vandermonde e outra função para realizar a regressão (utilizando MQ em seu interior):"
   ]
  },
  {
   "cell_type": "code",
   "execution_count": 1,
   "id": "2c6db4b6-4409-4740-b39d-dabc7bfc5fae",
   "metadata": {},
   "outputs": [
    {
     "data": {
      "text/plain": [
       "vandermonde (generic function with 1 method)"
      ]
     },
     "execution_count": 1,
     "metadata": {},
     "output_type": "execute_result"
    }
   ],
   "source": [
    "# Função auxiliar para construir a matriz de Vandermonde\n",
    "\n",
    "# -- Parâmetros --\n",
    "# x: conjunto dos pontos do eixo x\n",
    "# grau: grau que desejamos para ser uma das dimensões da matriz\n",
    "\n",
    "function vandermonde(x, grau)\n",
    "    n, = size(x) # quantidade de pontos\n",
    "    V = zeros(n, grau + 1) # criamos uma matriz n X (grau + 1)\n",
    "    \n",
    "    # preenchemos a matriz criada\n",
    "    for i = 1:n\n",
    "        for j = 1:(grau + 1)\n",
    "            V[i, j] = x[i] ^ (j - 1)\n",
    "        end\n",
    "    end\n",
    "    \n",
    "    return V\n",
    "end"
   ]
  },
  {
   "cell_type": "code",
   "execution_count": 2,
   "id": "4980546f-0700-4da6-9ddf-da2d0ff8bb22",
   "metadata": {},
   "outputs": [
    {
     "data": {
      "text/plain": [
       "regressao (generic function with 1 method)"
      ]
     },
     "execution_count": 2,
     "metadata": {},
     "output_type": "execute_result"
    }
   ],
   "source": [
    "# Função para calcular a regressão polinomial\n",
    "\n",
    "# -- Parâmetros --\n",
    "# x: conjunto dos pontos do eixo x\n",
    "# y: conjunto dos pontos do eixo y\n",
    "# grau: o grau desejado para o polinômio calculado\n",
    "\n",
    "function regressao(x, y, grau)\n",
    "    V = vandermonde(x, grau) # construímos a matriz de Vandermonde\n",
    "    c = V \\ y # mínimos quadrados para obtenção dos coeficientes do polinômio, resolve o sistema Vc = y\n",
    "    return c\n",
    "end"
   ]
  },
  {
   "cell_type": "markdown",
   "id": "77e79480-5adc-4620-a30d-4317e13425d8",
   "metadata": {},
   "source": [
    "Colocando nossas posições e temperaturas em arrays e fazendo a transição para o mundo barra, podemos criar a matriz de Vandermonde e realizar a regressão para descobrirmos os valores dos coeficientes no mundo linear:"
   ]
  },
  {
   "cell_type": "code",
   "execution_count": 3,
   "id": "3ddb965d-9e74-4e2b-911a-5f11aa340118",
   "metadata": {},
   "outputs": [
    {
     "name": "stdout",
     "output_type": "stream",
     "text": [
      "c0_barra: 5.687764089882003\n",
      "c1_barra: 1.1713294485597148"
     ]
    }
   ],
   "source": [
    "# função original: T(x) = c0 * x^(c1) \n",
    "x = [0.1; 0.2; 0.4; 0.8; 0.9] # posições\n",
    "T = [22; 43; 84; 210; 320] # temperaturas\n",
    "\n",
    "# Dicionário (troca de variável) indo pro mundo barra\n",
    "x_barra = log.(x)\n",
    "T_barra = log.(T)\n",
    "\n",
    "# Regressao no mundo barra para descobrirmos os valores dos coeficientes c0_barra e c1_barra\n",
    "V = vandermonde(x_barra, 1)\n",
    "c_barra = regressao(x_barra, T_barra, 1)\n",
    "\n",
    "# O primeiro coeficiente é constante e o segundo é o coeficiente que acompanha x\n",
    "c0_barra = c_barra[1]\n",
    "c1_barra = c_barra[2]\n",
    "\n",
    "print(\"c0_barra: \", c0_barra, \"\\n\", \"c1_barra: \", c1_barra)"
   ]
  },
  {
   "cell_type": "markdown",
   "id": "2c46998e-4d86-4c6a-9795-745fc3f23d60",
   "metadata": {},
   "source": [
    "Agora precisamos voltar para as variáveis do \"mundo original\", para obtermos os valores de $c_0$ e $c_1$. Sabemos que $\\overline{c_0} = ln(c_0)$ e $\\overline{c_1} = c_1$, logo:"
   ]
  },
  {
   "cell_type": "code",
   "execution_count": 4,
   "id": "b0ff75c4-4b9a-4c8e-aad4-68ee40073610",
   "metadata": {},
   "outputs": [
    {
     "name": "stdout",
     "output_type": "stream",
     "text": [
      "c0: 295.232768178912\n",
      "c1: 1.1713294485597148"
     ]
    }
   ],
   "source": [
    "c0 = MathConstants.e^c0_barra # c0_barra = ln(c0) -> e^c0_barra = c0\n",
    "c1 = c1_barra\n",
    "\n",
    "print(\"c0: \", c0, \"\\n\", \"c1: \", c1)"
   ]
  },
  {
   "cell_type": "markdown",
   "id": "d98bcae2-b798-4fc2-9c58-7ea48d10968b",
   "metadata": {},
   "source": [
    "Então, substituindo na nossa equação original $T(x) = c_0 x^{c_1}$, temos $T(x) = 295.232768178912 * x^{1.1713294485597148}$. \n",
    "\n",
    "Queremos usar isso que descobrirmos para calcular $T(0.3)$ com três casas decimais:"
   ]
  },
  {
   "cell_type": "code",
   "execution_count": 5,
   "id": "e8bc77f2-f7fd-4d8e-99cd-82198ea432cd",
   "metadata": {},
   "outputs": [
    {
     "data": {
      "text/plain": [
       "72.062"
      ]
     },
     "execution_count": 5,
     "metadata": {},
     "output_type": "execute_result"
    }
   ],
   "source": [
    "f(x) = c0 * x^c1 # definindo a função que representa T(x)\n",
    "ceil(f(0.3), digits = 3) # calculando T(0.3) com três casas decimais arredondando para cima"
   ]
  },
  {
   "cell_type": "markdown",
   "id": "3d8bf5a1-b937-4771-b94d-cbc4d37bbb67",
   "metadata": {},
   "source": [
    "Usando o modelo descobrimos que $T(0.3) \\approx 72.062$."
   ]
  },
  {
   "cell_type": "markdown",
   "id": "52bae6ea-8714-48e9-a0eb-f55aa38c3b9b",
   "metadata": {},
   "source": [
    "### Exercício 2 | Ônibus espacial"
   ]
  },
  {
   "cell_type": "markdown",
   "id": "87b3c3f0-608b-4988-bf1b-ea42a094cbf7",
   "metadata": {},
   "source": [
    "_________________________________________________________________________________________________________________________________________________________________________________________"
   ]
  },
  {
   "cell_type": "markdown",
   "id": "505c3146-731d-4489-aa48-8bf864a95b4b",
   "metadata": {},
   "source": [
    "#### a. Integral numérica"
   ]
  },
  {
   "cell_type": "markdown",
   "id": "a7e4c215-07dc-41d3-b3af-d38a05e91707",
   "metadata": {},
   "source": [
    "Queremos estimar a altura atingida pelo ônibus $125s$ após o lançamento, para isso vamos fazer a integral numérica utilizando o metodo dos trapézios de $t = 0$ a $t = 125$. Pela tabela, temos os seguintes pontos de tempos e velocidades:"
   ]
  },
  {
   "cell_type": "code",
   "execution_count": 6,
   "id": "a1eab778-d42f-42e2-bc41-0f981f66d51b",
   "metadata": {},
   "outputs": [
    {
     "data": {
      "text/plain": [
       "8-element Vector{Int64}:\n",
       "    0\n",
       "  185\n",
       "  319\n",
       "  447\n",
       "  742\n",
       " 1325\n",
       " 1445\n",
       " 4151"
      ]
     },
     "execution_count": 6,
     "metadata": {},
     "output_type": "execute_result"
    }
   ],
   "source": [
    "t = [0; 10; 15; 20; 32; 59; 62; 125] # tempos, em s\n",
    "V = [0; 185; 319; 447; 742; 1325; 1445; 4151] # velocidades, em pé/s"
   ]
  },
  {
   "cell_type": "code",
   "execution_count": 9,
   "id": "1ec66e68-de62-4ebc-a65c-b77691c7c4e0",
   "metadata": {},
   "outputs": [
    {
     "data": {
      "image/svg+xml": [
       "<?xml version=\"1.0\" encoding=\"utf-8\"?>\n",
       "<svg xmlns=\"http://www.w3.org/2000/svg\" xmlns:xlink=\"http://www.w3.org/1999/xlink\" width=\"600\" height=\"400\" viewBox=\"0 0 2400 1600\">\n",
       "<defs>\n",
       "  <clipPath id=\"clip630\">\n",
       "    <rect x=\"0\" y=\"0\" width=\"2400\" height=\"1600\"/>\n",
       "  </clipPath>\n",
       "</defs>\n",
       "<path clip-path=\"url(#clip630)\" d=\"\n",
       "M0 1600 L2400 1600 L2400 0 L0 0  Z\n",
       "  \" fill=\"#ffffff\" fill-rule=\"evenodd\" fill-opacity=\"1\"/>\n",
       "<defs>\n",
       "  <clipPath id=\"clip631\">\n",
       "    <rect x=\"480\" y=\"0\" width=\"1681\" height=\"1600\"/>\n",
       "  </clipPath>\n",
       "</defs>\n",
       "<path clip-path=\"url(#clip630)\" d=\"\n",
       "M202.177 1486.45 L2352.76 1486.45 L2352.76 47.2441 L202.177 47.2441  Z\n",
       "  \" fill=\"#ffffff\" fill-rule=\"evenodd\" fill-opacity=\"1\"/>\n",
       "<defs>\n",
       "  <clipPath id=\"clip632\">\n",
       "    <rect x=\"202\" y=\"47\" width=\"2152\" height=\"1440\"/>\n",
       "  </clipPath>\n",
       "</defs>\n",
       "<polyline clip-path=\"url(#clip632)\" style=\"stroke:#000000; stroke-linecap:butt; stroke-linejoin:round; stroke-width:2; stroke-opacity:0.1; fill:none\" points=\"\n",
       "  263.042,1486.45 263.042,47.2441 \n",
       "  \"/>\n",
       "<polyline clip-path=\"url(#clip632)\" style=\"stroke:#000000; stroke-linecap:butt; stroke-linejoin:round; stroke-width:2; stroke-opacity:0.1; fill:none\" points=\"\n",
       "  587.658,1486.45 587.658,47.2441 \n",
       "  \"/>\n",
       "<polyline clip-path=\"url(#clip632)\" style=\"stroke:#000000; stroke-linecap:butt; stroke-linejoin:round; stroke-width:2; stroke-opacity:0.1; fill:none\" points=\"\n",
       "  912.274,1486.45 912.274,47.2441 \n",
       "  \"/>\n",
       "<polyline clip-path=\"url(#clip632)\" style=\"stroke:#000000; stroke-linecap:butt; stroke-linejoin:round; stroke-width:2; stroke-opacity:0.1; fill:none\" points=\"\n",
       "  1236.89,1486.45 1236.89,47.2441 \n",
       "  \"/>\n",
       "<polyline clip-path=\"url(#clip632)\" style=\"stroke:#000000; stroke-linecap:butt; stroke-linejoin:round; stroke-width:2; stroke-opacity:0.1; fill:none\" points=\"\n",
       "  1561.51,1486.45 1561.51,47.2441 \n",
       "  \"/>\n",
       "<polyline clip-path=\"url(#clip632)\" style=\"stroke:#000000; stroke-linecap:butt; stroke-linejoin:round; stroke-width:2; stroke-opacity:0.1; fill:none\" points=\"\n",
       "  1886.12,1486.45 1886.12,47.2441 \n",
       "  \"/>\n",
       "<polyline clip-path=\"url(#clip632)\" style=\"stroke:#000000; stroke-linecap:butt; stroke-linejoin:round; stroke-width:2; stroke-opacity:0.1; fill:none\" points=\"\n",
       "  2210.74,1486.45 2210.74,47.2441 \n",
       "  \"/>\n",
       "<polyline clip-path=\"url(#clip630)\" style=\"stroke:#000000; stroke-linecap:butt; stroke-linejoin:round; stroke-width:4; stroke-opacity:1; fill:none\" points=\"\n",
       "  202.177,1486.45 2352.76,1486.45 \n",
       "  \"/>\n",
       "<polyline clip-path=\"url(#clip630)\" style=\"stroke:#000000; stroke-linecap:butt; stroke-linejoin:round; stroke-width:4; stroke-opacity:1; fill:none\" points=\"\n",
       "  263.042,1486.45 263.042,1467.55 \n",
       "  \"/>\n",
       "<polyline clip-path=\"url(#clip630)\" style=\"stroke:#000000; stroke-linecap:butt; stroke-linejoin:round; stroke-width:4; stroke-opacity:1; fill:none\" points=\"\n",
       "  587.658,1486.45 587.658,1467.55 \n",
       "  \"/>\n",
       "<polyline clip-path=\"url(#clip630)\" style=\"stroke:#000000; stroke-linecap:butt; stroke-linejoin:round; stroke-width:4; stroke-opacity:1; fill:none\" points=\"\n",
       "  912.274,1486.45 912.274,1467.55 \n",
       "  \"/>\n",
       "<polyline clip-path=\"url(#clip630)\" style=\"stroke:#000000; stroke-linecap:butt; stroke-linejoin:round; stroke-width:4; stroke-opacity:1; fill:none\" points=\"\n",
       "  1236.89,1486.45 1236.89,1467.55 \n",
       "  \"/>\n",
       "<polyline clip-path=\"url(#clip630)\" style=\"stroke:#000000; stroke-linecap:butt; stroke-linejoin:round; stroke-width:4; stroke-opacity:1; fill:none\" points=\"\n",
       "  1561.51,1486.45 1561.51,1467.55 \n",
       "  \"/>\n",
       "<polyline clip-path=\"url(#clip630)\" style=\"stroke:#000000; stroke-linecap:butt; stroke-linejoin:round; stroke-width:4; stroke-opacity:1; fill:none\" points=\"\n",
       "  1886.12,1486.45 1886.12,1467.55 \n",
       "  \"/>\n",
       "<polyline clip-path=\"url(#clip630)\" style=\"stroke:#000000; stroke-linecap:butt; stroke-linejoin:round; stroke-width:4; stroke-opacity:1; fill:none\" points=\"\n",
       "  2210.74,1486.45 2210.74,1467.55 \n",
       "  \"/>\n",
       "<path clip-path=\"url(#clip630)\" d=\"M263.042 1517.37 Q259.431 1517.37 257.602 1520.93 Q255.797 1524.47 255.797 1531.6 Q255.797 1538.71 257.602 1542.27 Q259.431 1545.82 263.042 1545.82 Q266.676 1545.82 268.482 1542.27 Q270.311 1538.71 270.311 1531.6 Q270.311 1524.47 268.482 1520.93 Q266.676 1517.37 263.042 1517.37 M263.042 1513.66 Q268.852 1513.66 271.908 1518.27 Q274.987 1522.85 274.987 1531.6 Q274.987 1540.33 271.908 1544.94 Q268.852 1549.52 263.042 1549.52 Q257.232 1549.52 254.153 1544.94 Q251.098 1540.33 251.098 1531.6 Q251.098 1522.85 254.153 1518.27 Q257.232 1513.66 263.042 1513.66 Z\" fill=\"#000000\" fill-rule=\"evenodd\" fill-opacity=\"1\" /><path clip-path=\"url(#clip630)\" d=\"M566.431 1544.91 L582.75 1544.91 L582.75 1548.85 L560.806 1548.85 L560.806 1544.91 Q563.468 1542.16 568.051 1537.53 Q572.658 1532.88 573.839 1531.53 Q576.084 1529.01 576.963 1527.27 Q577.866 1525.51 577.866 1523.82 Q577.866 1521.07 575.922 1519.33 Q574.001 1517.6 570.899 1517.6 Q568.7 1517.6 566.246 1518.36 Q563.815 1519.13 561.038 1520.68 L561.038 1515.95 Q563.862 1514.82 566.315 1514.24 Q568.769 1513.66 570.806 1513.66 Q576.176 1513.66 579.371 1516.35 Q582.565 1519.03 582.565 1523.52 Q582.565 1525.65 581.755 1527.57 Q580.968 1529.47 578.862 1532.07 Q578.283 1532.74 575.181 1535.95 Q572.079 1539.15 566.431 1544.91 Z\" fill=\"#000000\" fill-rule=\"evenodd\" fill-opacity=\"1\" /><path clip-path=\"url(#clip630)\" d=\"M602.565 1517.37 Q598.954 1517.37 597.125 1520.93 Q595.32 1524.47 595.32 1531.6 Q595.32 1538.71 597.125 1542.27 Q598.954 1545.82 602.565 1545.82 Q606.199 1545.82 608.005 1542.27 Q609.834 1538.71 609.834 1531.6 Q609.834 1524.47 608.005 1520.93 Q606.199 1517.37 602.565 1517.37 M602.565 1513.66 Q608.375 1513.66 611.431 1518.27 Q614.51 1522.85 614.51 1531.6 Q614.51 1540.33 611.431 1544.94 Q608.375 1549.52 602.565 1549.52 Q596.755 1549.52 593.676 1544.94 Q590.621 1540.33 590.621 1531.6 Q590.621 1522.85 593.676 1518.27 Q596.755 1513.66 602.565 1513.66 Z\" fill=\"#000000\" fill-rule=\"evenodd\" fill-opacity=\"1\" /><path clip-path=\"url(#clip630)\" d=\"M900.445 1518.36 L888.639 1536.81 L900.445 1536.81 L900.445 1518.36 M899.218 1514.29 L905.098 1514.29 L905.098 1536.81 L910.028 1536.81 L910.028 1540.7 L905.098 1540.7 L905.098 1548.85 L900.445 1548.85 L900.445 1540.7 L884.843 1540.7 L884.843 1536.19 L899.218 1514.29 Z\" fill=\"#000000\" fill-rule=\"evenodd\" fill-opacity=\"1\" /><path clip-path=\"url(#clip630)\" d=\"M927.76 1517.37 Q924.149 1517.37 922.32 1520.93 Q920.514 1524.47 920.514 1531.6 Q920.514 1538.71 922.32 1542.27 Q924.149 1545.82 927.76 1545.82 Q931.394 1545.82 933.199 1542.27 Q935.028 1538.71 935.028 1531.6 Q935.028 1524.47 933.199 1520.93 Q931.394 1517.37 927.76 1517.37 M927.76 1513.66 Q933.57 1513.66 936.625 1518.27 Q939.704 1522.85 939.704 1531.6 Q939.704 1540.33 936.625 1544.94 Q933.57 1549.52 927.76 1549.52 Q921.949 1549.52 918.871 1544.94 Q915.815 1540.33 915.815 1531.6 Q915.815 1522.85 918.871 1518.27 Q921.949 1513.66 927.76 1513.66 Z\" fill=\"#000000\" fill-rule=\"evenodd\" fill-opacity=\"1\" /><path clip-path=\"url(#clip630)\" d=\"M1222.29 1529.7 Q1219.15 1529.7 1217.29 1531.86 Q1215.47 1534.01 1215.47 1537.76 Q1215.47 1541.49 1217.29 1543.66 Q1219.15 1545.82 1222.29 1545.82 Q1225.44 1545.82 1227.27 1543.66 Q1229.12 1541.49 1229.12 1537.76 Q1229.12 1534.01 1227.27 1531.86 Q1225.44 1529.7 1222.29 1529.7 M1231.58 1515.05 L1231.58 1519.31 Q1229.82 1518.48 1228.01 1518.04 Q1226.23 1517.6 1224.47 1517.6 Q1219.84 1517.6 1217.39 1520.72 Q1214.96 1523.85 1214.61 1530.17 Q1215.98 1528.15 1218.04 1527.09 Q1220.1 1526 1222.57 1526 Q1227.78 1526 1230.79 1529.17 Q1233.82 1532.32 1233.82 1537.76 Q1233.82 1543.08 1230.67 1546.3 Q1227.53 1549.52 1222.29 1549.52 Q1216.3 1549.52 1213.13 1544.94 Q1209.96 1540.33 1209.96 1531.6 Q1209.96 1523.41 1213.85 1518.55 Q1217.73 1513.66 1224.29 1513.66 Q1226.04 1513.66 1227.83 1514.01 Q1229.63 1514.36 1231.58 1515.05 Z\" fill=\"#000000\" fill-rule=\"evenodd\" fill-opacity=\"1\" /><path clip-path=\"url(#clip630)\" d=\"M1251.88 1517.37 Q1248.27 1517.37 1246.44 1520.93 Q1244.63 1524.47 1244.63 1531.6 Q1244.63 1538.71 1246.44 1542.27 Q1248.27 1545.82 1251.88 1545.82 Q1255.51 1545.82 1257.32 1542.27 Q1259.15 1538.71 1259.15 1531.6 Q1259.15 1524.47 1257.32 1520.93 Q1255.51 1517.37 1251.88 1517.37 M1251.88 1513.66 Q1257.69 1513.66 1260.74 1518.27 Q1263.82 1522.85 1263.82 1531.6 Q1263.82 1540.33 1260.74 1544.94 Q1257.69 1549.52 1251.88 1549.52 Q1246.07 1549.52 1242.99 1544.94 Q1239.93 1540.33 1239.93 1531.6 Q1239.93 1522.85 1242.99 1518.27 Q1246.07 1513.66 1251.88 1513.66 Z\" fill=\"#000000\" fill-rule=\"evenodd\" fill-opacity=\"1\" /><path clip-path=\"url(#clip630)\" d=\"M1546.38 1532.44 Q1543.04 1532.44 1541.12 1534.22 Q1539.23 1536 1539.23 1539.13 Q1539.23 1542.25 1541.12 1544.03 Q1543.04 1545.82 1546.38 1545.82 Q1549.71 1545.82 1551.63 1544.03 Q1553.55 1542.23 1553.55 1539.13 Q1553.55 1536 1551.63 1534.22 Q1549.73 1532.44 1546.38 1532.44 M1541.7 1530.45 Q1538.69 1529.7 1537 1527.64 Q1535.34 1525.58 1535.34 1522.62 Q1535.34 1518.48 1538.28 1516.07 Q1541.24 1513.66 1546.38 1513.66 Q1551.54 1513.66 1554.48 1516.07 Q1557.42 1518.48 1557.42 1522.62 Q1557.42 1525.58 1555.73 1527.64 Q1554.06 1529.7 1551.08 1530.45 Q1554.46 1531.23 1556.33 1533.52 Q1558.23 1535.82 1558.23 1539.13 Q1558.23 1544.15 1555.15 1546.83 Q1552.1 1549.52 1546.38 1549.52 Q1540.66 1549.52 1537.58 1546.83 Q1534.53 1544.15 1534.53 1539.13 Q1534.53 1535.82 1536.42 1533.52 Q1538.32 1531.23 1541.7 1530.45 M1539.99 1523.06 Q1539.99 1525.75 1541.66 1527.25 Q1543.35 1528.76 1546.38 1528.76 Q1549.39 1528.76 1551.08 1527.25 Q1552.79 1525.75 1552.79 1523.06 Q1552.79 1520.38 1551.08 1518.87 Q1549.39 1517.37 1546.38 1517.37 Q1543.35 1517.37 1541.66 1518.87 Q1539.99 1520.38 1539.99 1523.06 Z\" fill=\"#000000\" fill-rule=\"evenodd\" fill-opacity=\"1\" /><path clip-path=\"url(#clip630)\" d=\"M1576.54 1517.37 Q1572.93 1517.37 1571.1 1520.93 Q1569.29 1524.47 1569.29 1531.6 Q1569.29 1538.71 1571.1 1542.27 Q1572.93 1545.82 1576.54 1545.82 Q1580.17 1545.82 1581.98 1542.27 Q1583.81 1538.71 1583.81 1531.6 Q1583.81 1524.47 1581.98 1520.93 Q1580.17 1517.37 1576.54 1517.37 M1576.54 1513.66 Q1582.35 1513.66 1585.41 1518.27 Q1588.48 1522.85 1588.48 1531.6 Q1588.48 1540.33 1585.41 1544.94 Q1582.35 1549.52 1576.54 1549.52 Q1570.73 1549.52 1567.65 1544.94 Q1564.6 1540.33 1564.6 1531.6 Q1564.6 1522.85 1567.65 1518.27 Q1570.73 1513.66 1576.54 1513.66 Z\" fill=\"#000000\" fill-rule=\"evenodd\" fill-opacity=\"1\" /><path clip-path=\"url(#clip630)\" d=\"M1845.73 1544.91 L1853.37 1544.91 L1853.37 1518.55 L1845.06 1520.21 L1845.06 1515.95 L1853.32 1514.29 L1858 1514.29 L1858 1544.91 L1865.63 1544.91 L1865.63 1548.85 L1845.73 1548.85 L1845.73 1544.91 Z\" fill=\"#000000\" fill-rule=\"evenodd\" fill-opacity=\"1\" /><path clip-path=\"url(#clip630)\" d=\"M1885.08 1517.37 Q1881.47 1517.37 1879.64 1520.93 Q1877.83 1524.47 1877.83 1531.6 Q1877.83 1538.71 1879.64 1542.27 Q1881.47 1545.82 1885.08 1545.82 Q1888.71 1545.82 1890.52 1542.27 Q1892.35 1538.71 1892.35 1531.6 Q1892.35 1524.47 1890.52 1520.93 Q1888.71 1517.37 1885.08 1517.37 M1885.08 1513.66 Q1890.89 1513.66 1893.94 1518.27 Q1897.02 1522.85 1897.02 1531.6 Q1897.02 1540.33 1893.94 1544.94 Q1890.89 1549.52 1885.08 1549.52 Q1879.27 1549.52 1876.19 1544.94 Q1873.13 1540.33 1873.13 1531.6 Q1873.13 1522.85 1876.19 1518.27 Q1879.27 1513.66 1885.08 1513.66 Z\" fill=\"#000000\" fill-rule=\"evenodd\" fill-opacity=\"1\" /><path clip-path=\"url(#clip630)\" d=\"M1915.24 1517.37 Q1911.63 1517.37 1909.8 1520.93 Q1908 1524.47 1908 1531.6 Q1908 1538.71 1909.8 1542.27 Q1911.63 1545.82 1915.24 1545.82 Q1918.88 1545.82 1920.68 1542.27 Q1922.51 1538.71 1922.51 1531.6 Q1922.51 1524.47 1920.68 1520.93 Q1918.88 1517.37 1915.24 1517.37 M1915.24 1513.66 Q1921.05 1513.66 1924.11 1518.27 Q1927.19 1522.85 1927.19 1531.6 Q1927.19 1540.33 1924.11 1544.94 Q1921.05 1549.52 1915.24 1549.52 Q1909.43 1549.52 1906.35 1544.94 Q1903.3 1540.33 1903.3 1531.6 Q1903.3 1522.85 1906.35 1518.27 Q1909.43 1513.66 1915.24 1513.66 Z\" fill=\"#000000\" fill-rule=\"evenodd\" fill-opacity=\"1\" /><path clip-path=\"url(#clip630)\" d=\"M2170.34 1544.91 L2177.98 1544.91 L2177.98 1518.55 L2169.67 1520.21 L2169.67 1515.95 L2177.94 1514.29 L2182.61 1514.29 L2182.61 1544.91 L2190.25 1544.91 L2190.25 1548.85 L2170.34 1548.85 L2170.34 1544.91 Z\" fill=\"#000000\" fill-rule=\"evenodd\" fill-opacity=\"1\" /><path clip-path=\"url(#clip630)\" d=\"M2203.72 1544.91 L2220.04 1544.91 L2220.04 1548.85 L2198.1 1548.85 L2198.1 1544.91 Q2200.76 1542.16 2205.34 1537.53 Q2209.95 1532.88 2211.13 1531.53 Q2213.38 1529.01 2214.26 1527.27 Q2215.16 1525.51 2215.16 1523.82 Q2215.16 1521.07 2213.21 1519.33 Q2211.29 1517.6 2208.19 1517.6 Q2205.99 1517.6 2203.54 1518.36 Q2201.11 1519.13 2198.33 1520.68 L2198.33 1515.95 Q2201.15 1514.82 2203.61 1514.24 Q2206.06 1513.66 2208.1 1513.66 Q2213.47 1513.66 2216.66 1516.35 Q2219.86 1519.03 2219.86 1523.52 Q2219.86 1525.65 2219.05 1527.57 Q2218.26 1529.47 2216.15 1532.07 Q2215.57 1532.74 2212.47 1535.95 Q2209.37 1539.15 2203.72 1544.91 Z\" fill=\"#000000\" fill-rule=\"evenodd\" fill-opacity=\"1\" /><path clip-path=\"url(#clip630)\" d=\"M2239.86 1517.37 Q2236.25 1517.37 2234.42 1520.93 Q2232.61 1524.47 2232.61 1531.6 Q2232.61 1538.71 2234.42 1542.27 Q2236.25 1545.82 2239.86 1545.82 Q2243.49 1545.82 2245.3 1542.27 Q2247.13 1538.71 2247.13 1531.6 Q2247.13 1524.47 2245.3 1520.93 Q2243.49 1517.37 2239.86 1517.37 M2239.86 1513.66 Q2245.67 1513.66 2248.72 1518.27 Q2251.8 1522.85 2251.8 1531.6 Q2251.8 1540.33 2248.72 1544.94 Q2245.67 1549.52 2239.86 1549.52 Q2234.05 1549.52 2230.97 1544.94 Q2227.91 1540.33 2227.91 1531.6 Q2227.91 1522.85 2230.97 1518.27 Q2234.05 1513.66 2239.86 1513.66 Z\" fill=\"#000000\" fill-rule=\"evenodd\" fill-opacity=\"1\" /><polyline clip-path=\"url(#clip632)\" style=\"stroke:#000000; stroke-linecap:butt; stroke-linejoin:round; stroke-width:2; stroke-opacity:0.1; fill:none\" points=\"\n",
       "  202.177,1445.72 2352.76,1445.72 \n",
       "  \"/>\n",
       "<polyline clip-path=\"url(#clip632)\" style=\"stroke:#000000; stroke-linecap:butt; stroke-linejoin:round; stroke-width:2; stroke-opacity:0.1; fill:none\" points=\"\n",
       "  202.177,1118.63 2352.76,1118.63 \n",
       "  \"/>\n",
       "<polyline clip-path=\"url(#clip632)\" style=\"stroke:#000000; stroke-linecap:butt; stroke-linejoin:round; stroke-width:2; stroke-opacity:0.1; fill:none\" points=\"\n",
       "  202.177,791.541 2352.76,791.541 \n",
       "  \"/>\n",
       "<polyline clip-path=\"url(#clip632)\" style=\"stroke:#000000; stroke-linecap:butt; stroke-linejoin:round; stroke-width:2; stroke-opacity:0.1; fill:none\" points=\"\n",
       "  202.177,464.454 2352.76,464.454 \n",
       "  \"/>\n",
       "<polyline clip-path=\"url(#clip632)\" style=\"stroke:#000000; stroke-linecap:butt; stroke-linejoin:round; stroke-width:2; stroke-opacity:0.1; fill:none\" points=\"\n",
       "  202.177,137.366 2352.76,137.366 \n",
       "  \"/>\n",
       "<polyline clip-path=\"url(#clip630)\" style=\"stroke:#000000; stroke-linecap:butt; stroke-linejoin:round; stroke-width:4; stroke-opacity:1; fill:none\" points=\"\n",
       "  202.177,1486.45 202.177,47.2441 \n",
       "  \"/>\n",
       "<polyline clip-path=\"url(#clip630)\" style=\"stroke:#000000; stroke-linecap:butt; stroke-linejoin:round; stroke-width:4; stroke-opacity:1; fill:none\" points=\"\n",
       "  202.177,1445.72 221.074,1445.72 \n",
       "  \"/>\n",
       "<polyline clip-path=\"url(#clip630)\" style=\"stroke:#000000; stroke-linecap:butt; stroke-linejoin:round; stroke-width:4; stroke-opacity:1; fill:none\" points=\"\n",
       "  202.177,1118.63 221.074,1118.63 \n",
       "  \"/>\n",
       "<polyline clip-path=\"url(#clip630)\" style=\"stroke:#000000; stroke-linecap:butt; stroke-linejoin:round; stroke-width:4; stroke-opacity:1; fill:none\" points=\"\n",
       "  202.177,791.541 221.074,791.541 \n",
       "  \"/>\n",
       "<polyline clip-path=\"url(#clip630)\" style=\"stroke:#000000; stroke-linecap:butt; stroke-linejoin:round; stroke-width:4; stroke-opacity:1; fill:none\" points=\"\n",
       "  202.177,464.454 221.074,464.454 \n",
       "  \"/>\n",
       "<polyline clip-path=\"url(#clip630)\" style=\"stroke:#000000; stroke-linecap:butt; stroke-linejoin:round; stroke-width:4; stroke-opacity:1; fill:none\" points=\"\n",
       "  202.177,137.366 221.074,137.366 \n",
       "  \"/>\n",
       "<path clip-path=\"url(#clip630)\" d=\"M154.232 1431.51 Q150.621 1431.51 148.793 1435.08 Q146.987 1438.62 146.987 1445.75 Q146.987 1452.86 148.793 1456.42 Q150.621 1459.96 154.232 1459.96 Q157.867 1459.96 159.672 1456.42 Q161.501 1452.86 161.501 1445.75 Q161.501 1438.62 159.672 1435.08 Q157.867 1431.51 154.232 1431.51 M154.232 1427.81 Q160.042 1427.81 163.098 1432.42 Q166.177 1437 166.177 1445.75 Q166.177 1454.48 163.098 1459.08 Q160.042 1463.67 154.232 1463.67 Q148.422 1463.67 145.343 1459.08 Q142.288 1454.48 142.288 1445.75 Q142.288 1437 145.343 1432.42 Q148.422 1427.81 154.232 1427.81 Z\" fill=\"#000000\" fill-rule=\"evenodd\" fill-opacity=\"1\" /><path clip-path=\"url(#clip630)\" d=\"M54.5569 1131.97 L62.1958 1131.97 L62.1958 1105.61 L53.8856 1107.27 L53.8856 1103.02 L62.1495 1101.35 L66.8254 1101.35 L66.8254 1131.97 L74.4642 1131.97 L74.4642 1135.91 L54.5569 1135.91 L54.5569 1131.97 Z\" fill=\"#000000\" fill-rule=\"evenodd\" fill-opacity=\"1\" /><path clip-path=\"url(#clip630)\" d=\"M93.9086 1104.43 Q90.2975 1104.43 88.4688 1107.99 Q86.6632 1111.53 86.6632 1118.66 Q86.6632 1125.77 88.4688 1129.33 Q90.2975 1132.88 93.9086 1132.88 Q97.5428 1132.88 99.3483 1129.33 Q101.177 1125.77 101.177 1118.66 Q101.177 1111.53 99.3483 1107.99 Q97.5428 1104.43 93.9086 1104.43 M93.9086 1100.72 Q99.7187 1100.72 102.774 1105.33 Q105.853 1109.91 105.853 1118.66 Q105.853 1127.39 102.774 1132 Q99.7187 1136.58 93.9086 1136.58 Q88.0984 1136.58 85.0197 1132 Q81.9642 1127.39 81.9642 1118.66 Q81.9642 1109.91 85.0197 1105.33 Q88.0984 1100.72 93.9086 1100.72 Z\" fill=\"#000000\" fill-rule=\"evenodd\" fill-opacity=\"1\" /><path clip-path=\"url(#clip630)\" d=\"M124.07 1104.43 Q120.459 1104.43 118.631 1107.99 Q116.825 1111.53 116.825 1118.66 Q116.825 1125.77 118.631 1129.33 Q120.459 1132.88 124.07 1132.88 Q127.705 1132.88 129.51 1129.33 Q131.339 1125.77 131.339 1118.66 Q131.339 1111.53 129.51 1107.99 Q127.705 1104.43 124.07 1104.43 M124.07 1100.72 Q129.881 1100.72 132.936 1105.33 Q136.015 1109.91 136.015 1118.66 Q136.015 1127.39 132.936 1132 Q129.881 1136.58 124.07 1136.58 Q118.26 1136.58 115.182 1132 Q112.126 1127.39 112.126 1118.66 Q112.126 1109.91 115.182 1105.33 Q118.26 1100.72 124.07 1100.72 Z\" fill=\"#000000\" fill-rule=\"evenodd\" fill-opacity=\"1\" /><path clip-path=\"url(#clip630)\" d=\"M154.232 1104.43 Q150.621 1104.43 148.793 1107.99 Q146.987 1111.53 146.987 1118.66 Q146.987 1125.77 148.793 1129.33 Q150.621 1132.88 154.232 1132.88 Q157.867 1132.88 159.672 1129.33 Q161.501 1125.77 161.501 1118.66 Q161.501 1111.53 159.672 1107.99 Q157.867 1104.43 154.232 1104.43 M154.232 1100.72 Q160.042 1100.72 163.098 1105.33 Q166.177 1109.91 166.177 1118.66 Q166.177 1127.39 163.098 1132 Q160.042 1136.58 154.232 1136.58 Q148.422 1136.58 145.343 1132 Q142.288 1127.39 142.288 1118.66 Q142.288 1109.91 145.343 1105.33 Q148.422 1100.72 154.232 1100.72 Z\" fill=\"#000000\" fill-rule=\"evenodd\" fill-opacity=\"1\" /><path clip-path=\"url(#clip630)\" d=\"M57.7745 804.886 L74.0939 804.886 L74.0939 808.821 L52.1495 808.821 L52.1495 804.886 Q54.8115 802.131 59.3949 797.502 Q64.0013 792.849 65.1819 791.506 Q67.4272 788.983 68.3068 787.247 Q69.2096 785.488 69.2096 783.798 Q69.2096 781.043 67.2652 779.307 Q65.3439 777.571 62.2421 777.571 Q60.043 777.571 57.5893 778.335 Q55.1588 779.099 52.381 780.65 L52.381 775.928 Q55.2051 774.793 57.6588 774.215 Q60.1124 773.636 62.1495 773.636 Q67.5198 773.636 70.7142 776.321 Q73.9087 779.006 73.9087 783.497 Q73.9087 785.627 73.0985 787.548 Q72.3115 789.446 70.205 792.039 Q69.6263 792.71 66.5245 795.928 Q63.4226 799.122 57.7745 804.886 Z\" fill=\"#000000\" fill-rule=\"evenodd\" fill-opacity=\"1\" /><path clip-path=\"url(#clip630)\" d=\"M93.9086 777.34 Q90.2975 777.34 88.4688 780.905 Q86.6632 784.446 86.6632 791.576 Q86.6632 798.682 88.4688 802.247 Q90.2975 805.789 93.9086 805.789 Q97.5428 805.789 99.3483 802.247 Q101.177 798.682 101.177 791.576 Q101.177 784.446 99.3483 780.905 Q97.5428 777.34 93.9086 777.34 M93.9086 773.636 Q99.7187 773.636 102.774 778.243 Q105.853 782.826 105.853 791.576 Q105.853 800.303 102.774 804.909 Q99.7187 809.492 93.9086 809.492 Q88.0984 809.492 85.0197 804.909 Q81.9642 800.303 81.9642 791.576 Q81.9642 782.826 85.0197 778.243 Q88.0984 773.636 93.9086 773.636 Z\" fill=\"#000000\" fill-rule=\"evenodd\" fill-opacity=\"1\" /><path clip-path=\"url(#clip630)\" d=\"M124.07 777.34 Q120.459 777.34 118.631 780.905 Q116.825 784.446 116.825 791.576 Q116.825 798.682 118.631 802.247 Q120.459 805.789 124.07 805.789 Q127.705 805.789 129.51 802.247 Q131.339 798.682 131.339 791.576 Q131.339 784.446 129.51 780.905 Q127.705 777.34 124.07 777.34 M124.07 773.636 Q129.881 773.636 132.936 778.243 Q136.015 782.826 136.015 791.576 Q136.015 800.303 132.936 804.909 Q129.881 809.492 124.07 809.492 Q118.26 809.492 115.182 804.909 Q112.126 800.303 112.126 791.576 Q112.126 782.826 115.182 778.243 Q118.26 773.636 124.07 773.636 Z\" fill=\"#000000\" fill-rule=\"evenodd\" fill-opacity=\"1\" /><path clip-path=\"url(#clip630)\" d=\"M154.232 777.34 Q150.621 777.34 148.793 780.905 Q146.987 784.446 146.987 791.576 Q146.987 798.682 148.793 802.247 Q150.621 805.789 154.232 805.789 Q157.867 805.789 159.672 802.247 Q161.501 798.682 161.501 791.576 Q161.501 784.446 159.672 780.905 Q157.867 777.34 154.232 777.34 M154.232 773.636 Q160.042 773.636 163.098 778.243 Q166.177 782.826 166.177 791.576 Q166.177 800.303 163.098 804.909 Q160.042 809.492 154.232 809.492 Q148.422 809.492 145.343 804.909 Q142.288 800.303 142.288 791.576 Q142.288 782.826 145.343 778.243 Q148.422 773.636 154.232 773.636 Z\" fill=\"#000000\" fill-rule=\"evenodd\" fill-opacity=\"1\" /><path clip-path=\"url(#clip630)\" d=\"M67.9133 463.1 Q71.2698 463.817 73.1448 466.086 Q75.0429 468.354 75.0429 471.688 Q75.0429 476.803 71.5244 479.604 Q68.0059 482.405 61.5245 482.405 Q59.3486 482.405 57.0338 481.965 Q54.7421 481.549 52.2884 480.692 L52.2884 476.178 Q54.2328 477.312 56.5477 477.891 Q58.8625 478.47 61.3856 478.47 Q65.7837 478.47 68.0754 476.734 Q70.3902 474.998 70.3902 471.688 Q70.3902 468.632 68.2374 466.919 Q66.1078 465.183 62.2884 465.183 L58.2606 465.183 L58.2606 461.34 L62.4735 461.34 Q65.9226 461.34 67.7513 459.975 Q69.58 458.586 69.58 455.993 Q69.58 453.331 67.6819 451.919 Q65.8069 450.484 62.2884 450.484 Q60.3671 450.484 58.168 450.901 Q55.969 451.317 53.3301 452.197 L53.3301 448.03 Q55.9921 447.29 58.3069 446.919 Q60.6449 446.549 62.705 446.549 Q68.0291 446.549 71.1309 448.979 Q74.2327 451.387 74.2327 455.507 Q74.2327 458.377 72.5892 460.368 Q70.9457 462.336 67.9133 463.1 Z\" fill=\"#000000\" fill-rule=\"evenodd\" fill-opacity=\"1\" /><path clip-path=\"url(#clip630)\" d=\"M93.9086 450.252 Q90.2975 450.252 88.4688 453.817 Q86.6632 457.359 86.6632 464.488 Q86.6632 471.595 88.4688 475.16 Q90.2975 478.701 93.9086 478.701 Q97.5428 478.701 99.3483 475.16 Q101.177 471.595 101.177 464.488 Q101.177 457.359 99.3483 453.817 Q97.5428 450.252 93.9086 450.252 M93.9086 446.549 Q99.7187 446.549 102.774 451.155 Q105.853 455.739 105.853 464.488 Q105.853 473.215 102.774 477.822 Q99.7187 482.405 93.9086 482.405 Q88.0984 482.405 85.0197 477.822 Q81.9642 473.215 81.9642 464.488 Q81.9642 455.739 85.0197 451.155 Q88.0984 446.549 93.9086 446.549 Z\" fill=\"#000000\" fill-rule=\"evenodd\" fill-opacity=\"1\" /><path clip-path=\"url(#clip630)\" d=\"M124.07 450.252 Q120.459 450.252 118.631 453.817 Q116.825 457.359 116.825 464.488 Q116.825 471.595 118.631 475.16 Q120.459 478.701 124.07 478.701 Q127.705 478.701 129.51 475.16 Q131.339 471.595 131.339 464.488 Q131.339 457.359 129.51 453.817 Q127.705 450.252 124.07 450.252 M124.07 446.549 Q129.881 446.549 132.936 451.155 Q136.015 455.739 136.015 464.488 Q136.015 473.215 132.936 477.822 Q129.881 482.405 124.07 482.405 Q118.26 482.405 115.182 477.822 Q112.126 473.215 112.126 464.488 Q112.126 455.739 115.182 451.155 Q118.26 446.549 124.07 446.549 Z\" fill=\"#000000\" fill-rule=\"evenodd\" fill-opacity=\"1\" /><path clip-path=\"url(#clip630)\" d=\"M154.232 450.252 Q150.621 450.252 148.793 453.817 Q146.987 457.359 146.987 464.488 Q146.987 471.595 148.793 475.16 Q150.621 478.701 154.232 478.701 Q157.867 478.701 159.672 475.16 Q161.501 471.595 161.501 464.488 Q161.501 457.359 159.672 453.817 Q157.867 450.252 154.232 450.252 M154.232 446.549 Q160.042 446.549 163.098 451.155 Q166.177 455.739 166.177 464.488 Q166.177 473.215 163.098 477.822 Q160.042 482.405 154.232 482.405 Q148.422 482.405 145.343 477.822 Q142.288 473.215 142.288 464.488 Q142.288 455.739 145.343 451.155 Q148.422 446.549 154.232 446.549 Z\" fill=\"#000000\" fill-rule=\"evenodd\" fill-opacity=\"1\" /><path clip-path=\"url(#clip630)\" d=\"M66.5939 124.161 L54.7884 142.609 L66.5939 142.609 L66.5939 124.161 M65.367 120.086 L71.2466 120.086 L71.2466 142.609 L76.1772 142.609 L76.1772 146.498 L71.2466 146.498 L71.2466 154.646 L66.5939 154.646 L66.5939 146.498 L50.9921 146.498 L50.9921 141.984 L65.367 120.086 Z\" fill=\"#000000\" fill-rule=\"evenodd\" fill-opacity=\"1\" /><path clip-path=\"url(#clip630)\" d=\"M93.9086 123.165 Q90.2975 123.165 88.4688 126.73 Q86.6632 130.272 86.6632 137.401 Q86.6632 144.508 88.4688 148.072 Q90.2975 151.614 93.9086 151.614 Q97.5428 151.614 99.3483 148.072 Q101.177 144.508 101.177 137.401 Q101.177 130.272 99.3483 126.73 Q97.5428 123.165 93.9086 123.165 M93.9086 119.461 Q99.7187 119.461 102.774 124.068 Q105.853 128.651 105.853 137.401 Q105.853 146.128 102.774 150.734 Q99.7187 155.318 93.9086 155.318 Q88.0984 155.318 85.0197 150.734 Q81.9642 146.128 81.9642 137.401 Q81.9642 128.651 85.0197 124.068 Q88.0984 119.461 93.9086 119.461 Z\" fill=\"#000000\" fill-rule=\"evenodd\" fill-opacity=\"1\" /><path clip-path=\"url(#clip630)\" d=\"M124.07 123.165 Q120.459 123.165 118.631 126.73 Q116.825 130.272 116.825 137.401 Q116.825 144.508 118.631 148.072 Q120.459 151.614 124.07 151.614 Q127.705 151.614 129.51 148.072 Q131.339 144.508 131.339 137.401 Q131.339 130.272 129.51 126.73 Q127.705 123.165 124.07 123.165 M124.07 119.461 Q129.881 119.461 132.936 124.068 Q136.015 128.651 136.015 137.401 Q136.015 146.128 132.936 150.734 Q129.881 155.318 124.07 155.318 Q118.26 155.318 115.182 150.734 Q112.126 146.128 112.126 137.401 Q112.126 128.651 115.182 124.068 Q118.26 119.461 124.07 119.461 Z\" fill=\"#000000\" fill-rule=\"evenodd\" fill-opacity=\"1\" /><path clip-path=\"url(#clip630)\" d=\"M154.232 123.165 Q150.621 123.165 148.793 126.73 Q146.987 130.272 146.987 137.401 Q146.987 144.508 148.793 148.072 Q150.621 151.614 154.232 151.614 Q157.867 151.614 159.672 148.072 Q161.501 144.508 161.501 137.401 Q161.501 130.272 159.672 126.73 Q157.867 123.165 154.232 123.165 M154.232 119.461 Q160.042 119.461 163.098 124.068 Q166.177 128.651 166.177 137.401 Q166.177 146.128 163.098 150.734 Q160.042 155.318 154.232 155.318 Q148.422 155.318 145.343 150.734 Q142.288 146.128 142.288 137.401 Q142.288 128.651 145.343 124.068 Q148.422 119.461 154.232 119.461 Z\" fill=\"#000000\" fill-rule=\"evenodd\" fill-opacity=\"1\" /><circle clip-path=\"url(#clip632)\" cx=\"263.042\" cy=\"1445.72\" r=\"14\" fill=\"#009af9\" fill-rule=\"evenodd\" fill-opacity=\"1\" stroke=\"#000000\" stroke-opacity=\"1\" stroke-width=\"3.2\"/>\n",
       "<circle clip-path=\"url(#clip632)\" cx=\"425.35\" cy=\"1385.2\" r=\"14\" fill=\"#009af9\" fill-rule=\"evenodd\" fill-opacity=\"1\" stroke=\"#000000\" stroke-opacity=\"1\" stroke-width=\"3.2\"/>\n",
       "<circle clip-path=\"url(#clip632)\" cx=\"506.504\" cy=\"1341.37\" r=\"14\" fill=\"#009af9\" fill-rule=\"evenodd\" fill-opacity=\"1\" stroke=\"#000000\" stroke-opacity=\"1\" stroke-width=\"3.2\"/>\n",
       "<circle clip-path=\"url(#clip632)\" cx=\"587.658\" cy=\"1299.51\" r=\"14\" fill=\"#009af9\" fill-rule=\"evenodd\" fill-opacity=\"1\" stroke=\"#000000\" stroke-opacity=\"1\" stroke-width=\"3.2\"/>\n",
       "<circle clip-path=\"url(#clip632)\" cx=\"782.427\" cy=\"1203.02\" r=\"14\" fill=\"#009af9\" fill-rule=\"evenodd\" fill-opacity=\"1\" stroke=\"#000000\" stroke-opacity=\"1\" stroke-width=\"3.2\"/>\n",
       "<circle clip-path=\"url(#clip632)\" cx=\"1220.66\" cy=\"1012.33\" r=\"14\" fill=\"#009af9\" fill-rule=\"evenodd\" fill-opacity=\"1\" stroke=\"#000000\" stroke-opacity=\"1\" stroke-width=\"3.2\"/>\n",
       "<circle clip-path=\"url(#clip632)\" cx=\"1269.35\" cy=\"973.075\" r=\"14\" fill=\"#009af9\" fill-rule=\"evenodd\" fill-opacity=\"1\" stroke=\"#000000\" stroke-opacity=\"1\" stroke-width=\"3.2\"/>\n",
       "<circle clip-path=\"url(#clip632)\" cx=\"2291.89\" cy=\"87.9763\" r=\"14\" fill=\"#009af9\" fill-rule=\"evenodd\" fill-opacity=\"1\" stroke=\"#000000\" stroke-opacity=\"1\" stroke-width=\"3.2\"/>\n",
       "<path clip-path=\"url(#clip630)\" d=\"\n",
       "M1989.69 198.898 L2281.07 198.898 L2281.07 95.2176 L1989.69 95.2176  Z\n",
       "  \" fill=\"#ffffff\" fill-rule=\"evenodd\" fill-opacity=\"1\"/>\n",
       "<polyline clip-path=\"url(#clip630)\" style=\"stroke:#000000; stroke-linecap:butt; stroke-linejoin:round; stroke-width:4; stroke-opacity:1; fill:none\" points=\"\n",
       "  1989.69,198.898 2281.07,198.898 2281.07,95.2176 1989.69,95.2176 1989.69,198.898 \n",
       "  \"/>\n",
       "<circle clip-path=\"url(#clip630)\" cx=\"2085.27\" cy=\"147.058\" r=\"23\" fill=\"#009af9\" fill-rule=\"evenodd\" fill-opacity=\"1\" stroke=\"#000000\" stroke-opacity=\"1\" stroke-width=\"5.12\"/>\n",
       "<path clip-path=\"url(#clip630)\" d=\"M2194.69 166.745 Q2192.89 171.375 2191.17 172.787 Q2189.46 174.199 2186.59 174.199 L2183.19 174.199 L2183.19 170.634 L2185.69 170.634 Q2187.45 170.634 2188.42 169.8 Q2189.39 168.967 2190.57 165.865 L2191.34 163.921 L2180.85 138.412 L2185.36 138.412 L2193.46 158.689 L2201.57 138.412 L2206.08 138.412 L2194.69 166.745 Z\" fill=\"#000000\" fill-rule=\"evenodd\" fill-opacity=\"1\" /><path clip-path=\"url(#clip630)\" d=\"M2213.37 160.402 L2221.01 160.402 L2221.01 134.037 L2212.7 135.703 L2212.7 131.444 L2220.96 129.778 L2225.64 129.778 L2225.64 160.402 L2233.28 160.402 L2233.28 164.338 L2213.37 164.338 L2213.37 160.402 Z\" fill=\"#000000\" fill-rule=\"evenodd\" fill-opacity=\"1\" /></svg>\n"
      ]
     },
     "execution_count": 9,
     "metadata": {},
     "output_type": "execute_result"
    }
   ],
   "source": [
    "# Plotando os pontos para melhor visualização da situação\n",
    "scatter(t, V)"
   ]
  },
  {
   "cell_type": "markdown",
   "id": "5a0370ef-bcd6-4fcc-bd7a-7cdfa0c9bac0",
   "metadata": {},
   "source": [
    "Como temos $8$ pontos, formaremos sete trapézios a cada dois pontos adjacentes e em seguida somaremos suas áreas para obter a área total (integral). \n",
    "\n",
    "Por consequência, ao obtermos a integral obtemos o valor da altura atingida, já que estamos integrando a velocidade em função da posição.\n",
    "\n",
    "Conforme visto em aula, utilizando o método dos trapézios, a área de um trapézio em particular vai ser dada por:\n",
    "\n",
    "$$area_t = f(a)(b - a) + \\frac{(b - a)(f(b) - f(a))}{2}$$\n",
    "\n",
    "Então, para estimar a altura atingida por meio da integração numérica, realizaremos um laço para formarmos os sete trapézios usando dois pontos adjacentes e somaremos a área de cada um deles à área total:"
   ]
  },
  {
   "cell_type": "code",
   "execution_count": 10,
   "id": "485d9003-76b3-4a9a-ab3d-9a45ef825523",
   "metadata": {},
   "outputs": [
    {
     "name": "stdout",
     "output_type": "stream",
     "text": [
      "219567.5"
     ]
    }
   ],
   "source": [
    "integral = 0.0\n",
    "\n",
    "for i = 1:7 \n",
    "    integral += V[i] * (t[i + 1] - t[i]) + ((t[i + 1] - t[i]) * (V[i + 1] - V[i])) / 2 # área de um trapézio formado por dois pontos adjacentes\n",
    "end\n",
    "\n",
    "print(integral)"
   ]
  },
  {
   "cell_type": "markdown",
   "id": "169b2af5-20f3-4d49-94d8-bc83ecf9cd98",
   "metadata": {},
   "source": [
    "Logo, podemos afirmar que o foguete atingiu $219567.5$ pés."
   ]
  },
  {
   "cell_type": "markdown",
   "id": "ee9507e0-62a6-428d-bc2f-eaa2d0033d4c",
   "metadata": {},
   "source": [
    "#### b. Erro máximo"
   ]
  },
  {
   "cell_type": "markdown",
   "id": "789fc4be-8f7e-4058-ba06-ee961c9990dd",
   "metadata": {},
   "source": [
    "Para estimar o erro máximo, além dos valores do início e fim do intervalo (a e b), precisamos do módulo do valor máximo da segunda derivada nesse mesmo intervalo, uma vez que a fórmula do erro máximo é dada por:\n",
    "\n",
    "$$|erro| = \\frac{M(b-a)^3}{12}$$\n",
    "\n",
    "onde \n",
    "\n",
    "$M$ é o módulo do valor máximo da derivada no intervalo $[a, b]$\n",
    "\n",
    "$a$ e $b$ são os extremos do intervalo"
   ]
  },
  {
   "cell_type": "markdown",
   "id": "4090fe23-da3a-493e-b233-8eea48ed4187",
   "metadata": {},
   "source": [
    "#### c. Reta que melhor descreve a distribuição dos pontos e estimativa da altura a partir dela"
   ]
  },
  {
   "cell_type": "markdown",
   "id": "eb4e3efa-b3d9-4e6b-9735-7d9f18e81fda",
   "metadata": {},
   "source": [
    "Queremos encontrar a reta, $p_1(x) = c0x + c1$, no sentido dos mínimos quadrados, que melhor descreve a distribuição dos pontos. Após encontrá-la, vamos também estimar a altura a partir dessa curva, ou seja, calcular a integral de $t = 0$ a $t = 125$.\n",
    "\n",
    "Primeiramente, vamos realizar a regressão utilizando nossos pontos $t$ e $V$ para obtermos os coeficientes do polinômio de grau 1 (reta) que desejamos:"
   ]
  },
  {
   "cell_type": "code",
   "execution_count": 11,
   "id": "c04c3a6d-e4ed-4981-bdbc-e88a33e5123d",
   "metadata": {},
   "outputs": [
    {
     "data": {
      "text/plain": [
       "2-element Vector{Float64}:\n",
       " -232.97096383346036\n",
       "   32.438909320952575"
      ]
     },
     "execution_count": 11,
     "metadata": {},
     "output_type": "execute_result"
    }
   ],
   "source": [
    "# regressão de grau 1\n",
    "c = regressao(t, V, 1)"
   ]
  },
  {
   "cell_type": "code",
   "execution_count": 12,
   "id": "34fcb533-786b-482f-9095-5016448a0624",
   "metadata": {},
   "outputs": [
    {
     "data": {
      "text/plain": [
       "p1 (generic function with 1 method)"
      ]
     },
     "execution_count": 12,
     "metadata": {},
     "output_type": "execute_result"
    }
   ],
   "source": [
    "# polinômio de grau 1 que desejamos\n",
    "p1(x) = c[2]x + c[1] "
   ]
  },
  {
   "cell_type": "code",
   "execution_count": 13,
   "id": "22647354-8249-4058-8a31-71bd5bed542f",
   "metadata": {},
   "outputs": [
    {
     "data": {
      "image/svg+xml": [
       "<?xml version=\"1.0\" encoding=\"utf-8\"?>\n",
       "<svg xmlns=\"http://www.w3.org/2000/svg\" xmlns:xlink=\"http://www.w3.org/1999/xlink\" width=\"600\" height=\"400\" viewBox=\"0 0 2400 1600\">\n",
       "<defs>\n",
       "  <clipPath id=\"clip670\">\n",
       "    <rect x=\"0\" y=\"0\" width=\"2400\" height=\"1600\"/>\n",
       "  </clipPath>\n",
       "</defs>\n",
       "<path clip-path=\"url(#clip670)\" d=\"\n",
       "M0 1600 L2400 1600 L2400 0 L0 0  Z\n",
       "  \" fill=\"#ffffff\" fill-rule=\"evenodd\" fill-opacity=\"1\"/>\n",
       "<defs>\n",
       "  <clipPath id=\"clip671\">\n",
       "    <rect x=\"480\" y=\"0\" width=\"1681\" height=\"1600\"/>\n",
       "  </clipPath>\n",
       "</defs>\n",
       "<path clip-path=\"url(#clip670)\" d=\"\n",
       "M202.177 1486.45 L2352.76 1486.45 L2352.76 47.2441 L202.177 47.2441  Z\n",
       "  \" fill=\"#ffffff\" fill-rule=\"evenodd\" fill-opacity=\"1\"/>\n",
       "<defs>\n",
       "  <clipPath id=\"clip672\">\n",
       "    <rect x=\"202\" y=\"47\" width=\"2152\" height=\"1440\"/>\n",
       "  </clipPath>\n",
       "</defs>\n",
       "<polyline clip-path=\"url(#clip672)\" style=\"stroke:#000000; stroke-linecap:butt; stroke-linejoin:round; stroke-width:2; stroke-opacity:0.1; fill:none\" points=\"\n",
       "  263.042,1486.45 263.042,47.2441 \n",
       "  \"/>\n",
       "<polyline clip-path=\"url(#clip672)\" style=\"stroke:#000000; stroke-linecap:butt; stroke-linejoin:round; stroke-width:2; stroke-opacity:0.1; fill:none\" points=\"\n",
       "  587.658,1486.45 587.658,47.2441 \n",
       "  \"/>\n",
       "<polyline clip-path=\"url(#clip672)\" style=\"stroke:#000000; stroke-linecap:butt; stroke-linejoin:round; stroke-width:2; stroke-opacity:0.1; fill:none\" points=\"\n",
       "  912.274,1486.45 912.274,47.2441 \n",
       "  \"/>\n",
       "<polyline clip-path=\"url(#clip672)\" style=\"stroke:#000000; stroke-linecap:butt; stroke-linejoin:round; stroke-width:2; stroke-opacity:0.1; fill:none\" points=\"\n",
       "  1236.89,1486.45 1236.89,47.2441 \n",
       "  \"/>\n",
       "<polyline clip-path=\"url(#clip672)\" style=\"stroke:#000000; stroke-linecap:butt; stroke-linejoin:round; stroke-width:2; stroke-opacity:0.1; fill:none\" points=\"\n",
       "  1561.51,1486.45 1561.51,47.2441 \n",
       "  \"/>\n",
       "<polyline clip-path=\"url(#clip672)\" style=\"stroke:#000000; stroke-linecap:butt; stroke-linejoin:round; stroke-width:2; stroke-opacity:0.1; fill:none\" points=\"\n",
       "  1886.12,1486.45 1886.12,47.2441 \n",
       "  \"/>\n",
       "<polyline clip-path=\"url(#clip672)\" style=\"stroke:#000000; stroke-linecap:butt; stroke-linejoin:round; stroke-width:2; stroke-opacity:0.1; fill:none\" points=\"\n",
       "  2210.74,1486.45 2210.74,47.2441 \n",
       "  \"/>\n",
       "<polyline clip-path=\"url(#clip670)\" style=\"stroke:#000000; stroke-linecap:butt; stroke-linejoin:round; stroke-width:4; stroke-opacity:1; fill:none\" points=\"\n",
       "  202.177,1486.45 2352.76,1486.45 \n",
       "  \"/>\n",
       "<polyline clip-path=\"url(#clip670)\" style=\"stroke:#000000; stroke-linecap:butt; stroke-linejoin:round; stroke-width:4; stroke-opacity:1; fill:none\" points=\"\n",
       "  263.042,1486.45 263.042,1467.55 \n",
       "  \"/>\n",
       "<polyline clip-path=\"url(#clip670)\" style=\"stroke:#000000; stroke-linecap:butt; stroke-linejoin:round; stroke-width:4; stroke-opacity:1; fill:none\" points=\"\n",
       "  587.658,1486.45 587.658,1467.55 \n",
       "  \"/>\n",
       "<polyline clip-path=\"url(#clip670)\" style=\"stroke:#000000; stroke-linecap:butt; stroke-linejoin:round; stroke-width:4; stroke-opacity:1; fill:none\" points=\"\n",
       "  912.274,1486.45 912.274,1467.55 \n",
       "  \"/>\n",
       "<polyline clip-path=\"url(#clip670)\" style=\"stroke:#000000; stroke-linecap:butt; stroke-linejoin:round; stroke-width:4; stroke-opacity:1; fill:none\" points=\"\n",
       "  1236.89,1486.45 1236.89,1467.55 \n",
       "  \"/>\n",
       "<polyline clip-path=\"url(#clip670)\" style=\"stroke:#000000; stroke-linecap:butt; stroke-linejoin:round; stroke-width:4; stroke-opacity:1; fill:none\" points=\"\n",
       "  1561.51,1486.45 1561.51,1467.55 \n",
       "  \"/>\n",
       "<polyline clip-path=\"url(#clip670)\" style=\"stroke:#000000; stroke-linecap:butt; stroke-linejoin:round; stroke-width:4; stroke-opacity:1; fill:none\" points=\"\n",
       "  1886.12,1486.45 1886.12,1467.55 \n",
       "  \"/>\n",
       "<polyline clip-path=\"url(#clip670)\" style=\"stroke:#000000; stroke-linecap:butt; stroke-linejoin:round; stroke-width:4; stroke-opacity:1; fill:none\" points=\"\n",
       "  2210.74,1486.45 2210.74,1467.55 \n",
       "  \"/>\n",
       "<path clip-path=\"url(#clip670)\" d=\"M263.042 1517.37 Q259.431 1517.37 257.602 1520.93 Q255.797 1524.47 255.797 1531.6 Q255.797 1538.71 257.602 1542.27 Q259.431 1545.82 263.042 1545.82 Q266.676 1545.82 268.482 1542.27 Q270.311 1538.71 270.311 1531.6 Q270.311 1524.47 268.482 1520.93 Q266.676 1517.37 263.042 1517.37 M263.042 1513.66 Q268.852 1513.66 271.908 1518.27 Q274.987 1522.85 274.987 1531.6 Q274.987 1540.33 271.908 1544.94 Q268.852 1549.52 263.042 1549.52 Q257.232 1549.52 254.153 1544.94 Q251.098 1540.33 251.098 1531.6 Q251.098 1522.85 254.153 1518.27 Q257.232 1513.66 263.042 1513.66 Z\" fill=\"#000000\" fill-rule=\"evenodd\" fill-opacity=\"1\" /><path clip-path=\"url(#clip670)\" d=\"M566.431 1544.91 L582.75 1544.91 L582.75 1548.85 L560.806 1548.85 L560.806 1544.91 Q563.468 1542.16 568.051 1537.53 Q572.658 1532.88 573.839 1531.53 Q576.084 1529.01 576.963 1527.27 Q577.866 1525.51 577.866 1523.82 Q577.866 1521.07 575.922 1519.33 Q574.001 1517.6 570.899 1517.6 Q568.7 1517.6 566.246 1518.36 Q563.815 1519.13 561.038 1520.68 L561.038 1515.95 Q563.862 1514.82 566.315 1514.24 Q568.769 1513.66 570.806 1513.66 Q576.176 1513.66 579.371 1516.35 Q582.565 1519.03 582.565 1523.52 Q582.565 1525.65 581.755 1527.57 Q580.968 1529.47 578.862 1532.07 Q578.283 1532.74 575.181 1535.95 Q572.079 1539.15 566.431 1544.91 Z\" fill=\"#000000\" fill-rule=\"evenodd\" fill-opacity=\"1\" /><path clip-path=\"url(#clip670)\" d=\"M602.565 1517.37 Q598.954 1517.37 597.125 1520.93 Q595.32 1524.47 595.32 1531.6 Q595.32 1538.71 597.125 1542.27 Q598.954 1545.82 602.565 1545.82 Q606.199 1545.82 608.005 1542.27 Q609.834 1538.71 609.834 1531.6 Q609.834 1524.47 608.005 1520.93 Q606.199 1517.37 602.565 1517.37 M602.565 1513.66 Q608.375 1513.66 611.431 1518.27 Q614.51 1522.85 614.51 1531.6 Q614.51 1540.33 611.431 1544.94 Q608.375 1549.52 602.565 1549.52 Q596.755 1549.52 593.676 1544.94 Q590.621 1540.33 590.621 1531.6 Q590.621 1522.85 593.676 1518.27 Q596.755 1513.66 602.565 1513.66 Z\" fill=\"#000000\" fill-rule=\"evenodd\" fill-opacity=\"1\" /><path clip-path=\"url(#clip670)\" d=\"M900.445 1518.36 L888.639 1536.81 L900.445 1536.81 L900.445 1518.36 M899.218 1514.29 L905.098 1514.29 L905.098 1536.81 L910.028 1536.81 L910.028 1540.7 L905.098 1540.7 L905.098 1548.85 L900.445 1548.85 L900.445 1540.7 L884.843 1540.7 L884.843 1536.19 L899.218 1514.29 Z\" fill=\"#000000\" fill-rule=\"evenodd\" fill-opacity=\"1\" /><path clip-path=\"url(#clip670)\" d=\"M927.76 1517.37 Q924.149 1517.37 922.32 1520.93 Q920.514 1524.47 920.514 1531.6 Q920.514 1538.71 922.32 1542.27 Q924.149 1545.82 927.76 1545.82 Q931.394 1545.82 933.199 1542.27 Q935.028 1538.71 935.028 1531.6 Q935.028 1524.47 933.199 1520.93 Q931.394 1517.37 927.76 1517.37 M927.76 1513.66 Q933.57 1513.66 936.625 1518.27 Q939.704 1522.85 939.704 1531.6 Q939.704 1540.33 936.625 1544.94 Q933.57 1549.52 927.76 1549.52 Q921.949 1549.52 918.871 1544.94 Q915.815 1540.33 915.815 1531.6 Q915.815 1522.85 918.871 1518.27 Q921.949 1513.66 927.76 1513.66 Z\" fill=\"#000000\" fill-rule=\"evenodd\" fill-opacity=\"1\" /><path clip-path=\"url(#clip670)\" d=\"M1222.29 1529.7 Q1219.15 1529.7 1217.29 1531.86 Q1215.47 1534.01 1215.47 1537.76 Q1215.47 1541.49 1217.29 1543.66 Q1219.15 1545.82 1222.29 1545.82 Q1225.44 1545.82 1227.27 1543.66 Q1229.12 1541.49 1229.12 1537.76 Q1229.12 1534.01 1227.27 1531.86 Q1225.44 1529.7 1222.29 1529.7 M1231.58 1515.05 L1231.58 1519.31 Q1229.82 1518.48 1228.01 1518.04 Q1226.23 1517.6 1224.47 1517.6 Q1219.84 1517.6 1217.39 1520.72 Q1214.96 1523.85 1214.61 1530.17 Q1215.98 1528.15 1218.04 1527.09 Q1220.1 1526 1222.57 1526 Q1227.78 1526 1230.79 1529.17 Q1233.82 1532.32 1233.82 1537.76 Q1233.82 1543.08 1230.67 1546.3 Q1227.53 1549.52 1222.29 1549.52 Q1216.3 1549.52 1213.13 1544.94 Q1209.96 1540.33 1209.96 1531.6 Q1209.96 1523.41 1213.85 1518.55 Q1217.73 1513.66 1224.29 1513.66 Q1226.04 1513.66 1227.83 1514.01 Q1229.63 1514.36 1231.58 1515.05 Z\" fill=\"#000000\" fill-rule=\"evenodd\" fill-opacity=\"1\" /><path clip-path=\"url(#clip670)\" d=\"M1251.88 1517.37 Q1248.27 1517.37 1246.44 1520.93 Q1244.63 1524.47 1244.63 1531.6 Q1244.63 1538.71 1246.44 1542.27 Q1248.27 1545.82 1251.88 1545.82 Q1255.51 1545.82 1257.32 1542.27 Q1259.15 1538.71 1259.15 1531.6 Q1259.15 1524.47 1257.32 1520.93 Q1255.51 1517.37 1251.88 1517.37 M1251.88 1513.66 Q1257.69 1513.66 1260.74 1518.27 Q1263.82 1522.85 1263.82 1531.6 Q1263.82 1540.33 1260.74 1544.94 Q1257.69 1549.52 1251.88 1549.52 Q1246.07 1549.52 1242.99 1544.94 Q1239.93 1540.33 1239.93 1531.6 Q1239.93 1522.85 1242.99 1518.27 Q1246.07 1513.66 1251.88 1513.66 Z\" fill=\"#000000\" fill-rule=\"evenodd\" fill-opacity=\"1\" /><path clip-path=\"url(#clip670)\" d=\"M1546.38 1532.44 Q1543.04 1532.44 1541.12 1534.22 Q1539.23 1536 1539.23 1539.13 Q1539.23 1542.25 1541.12 1544.03 Q1543.04 1545.82 1546.38 1545.82 Q1549.71 1545.82 1551.63 1544.03 Q1553.55 1542.23 1553.55 1539.13 Q1553.55 1536 1551.63 1534.22 Q1549.73 1532.44 1546.38 1532.44 M1541.7 1530.45 Q1538.69 1529.7 1537 1527.64 Q1535.34 1525.58 1535.34 1522.62 Q1535.34 1518.48 1538.28 1516.07 Q1541.24 1513.66 1546.38 1513.66 Q1551.54 1513.66 1554.48 1516.07 Q1557.42 1518.48 1557.42 1522.62 Q1557.42 1525.58 1555.73 1527.64 Q1554.06 1529.7 1551.08 1530.45 Q1554.46 1531.23 1556.33 1533.52 Q1558.23 1535.82 1558.23 1539.13 Q1558.23 1544.15 1555.15 1546.83 Q1552.1 1549.52 1546.38 1549.52 Q1540.66 1549.52 1537.58 1546.83 Q1534.53 1544.15 1534.53 1539.13 Q1534.53 1535.82 1536.42 1533.52 Q1538.32 1531.23 1541.7 1530.45 M1539.99 1523.06 Q1539.99 1525.75 1541.66 1527.25 Q1543.35 1528.76 1546.38 1528.76 Q1549.39 1528.76 1551.08 1527.25 Q1552.79 1525.75 1552.79 1523.06 Q1552.79 1520.38 1551.08 1518.87 Q1549.39 1517.37 1546.38 1517.37 Q1543.35 1517.37 1541.66 1518.87 Q1539.99 1520.38 1539.99 1523.06 Z\" fill=\"#000000\" fill-rule=\"evenodd\" fill-opacity=\"1\" /><path clip-path=\"url(#clip670)\" d=\"M1576.54 1517.37 Q1572.93 1517.37 1571.1 1520.93 Q1569.29 1524.47 1569.29 1531.6 Q1569.29 1538.71 1571.1 1542.27 Q1572.93 1545.82 1576.54 1545.82 Q1580.17 1545.82 1581.98 1542.27 Q1583.81 1538.71 1583.81 1531.6 Q1583.81 1524.47 1581.98 1520.93 Q1580.17 1517.37 1576.54 1517.37 M1576.54 1513.66 Q1582.35 1513.66 1585.41 1518.27 Q1588.48 1522.85 1588.48 1531.6 Q1588.48 1540.33 1585.41 1544.94 Q1582.35 1549.52 1576.54 1549.52 Q1570.73 1549.52 1567.65 1544.94 Q1564.6 1540.33 1564.6 1531.6 Q1564.6 1522.85 1567.65 1518.27 Q1570.73 1513.66 1576.54 1513.66 Z\" fill=\"#000000\" fill-rule=\"evenodd\" fill-opacity=\"1\" /><path clip-path=\"url(#clip670)\" d=\"M1845.73 1544.91 L1853.37 1544.91 L1853.37 1518.55 L1845.06 1520.21 L1845.06 1515.95 L1853.32 1514.29 L1858 1514.29 L1858 1544.91 L1865.63 1544.91 L1865.63 1548.85 L1845.73 1548.85 L1845.73 1544.91 Z\" fill=\"#000000\" fill-rule=\"evenodd\" fill-opacity=\"1\" /><path clip-path=\"url(#clip670)\" d=\"M1885.08 1517.37 Q1881.47 1517.37 1879.64 1520.93 Q1877.83 1524.47 1877.83 1531.6 Q1877.83 1538.71 1879.64 1542.27 Q1881.47 1545.82 1885.08 1545.82 Q1888.71 1545.82 1890.52 1542.27 Q1892.35 1538.71 1892.35 1531.6 Q1892.35 1524.47 1890.52 1520.93 Q1888.71 1517.37 1885.08 1517.37 M1885.08 1513.66 Q1890.89 1513.66 1893.94 1518.27 Q1897.02 1522.85 1897.02 1531.6 Q1897.02 1540.33 1893.94 1544.94 Q1890.89 1549.52 1885.08 1549.52 Q1879.27 1549.52 1876.19 1544.94 Q1873.13 1540.33 1873.13 1531.6 Q1873.13 1522.85 1876.19 1518.27 Q1879.27 1513.66 1885.08 1513.66 Z\" fill=\"#000000\" fill-rule=\"evenodd\" fill-opacity=\"1\" /><path clip-path=\"url(#clip670)\" d=\"M1915.24 1517.37 Q1911.63 1517.37 1909.8 1520.93 Q1908 1524.47 1908 1531.6 Q1908 1538.71 1909.8 1542.27 Q1911.63 1545.82 1915.24 1545.82 Q1918.88 1545.82 1920.68 1542.27 Q1922.51 1538.71 1922.51 1531.6 Q1922.51 1524.47 1920.68 1520.93 Q1918.88 1517.37 1915.24 1517.37 M1915.24 1513.66 Q1921.05 1513.66 1924.11 1518.27 Q1927.19 1522.85 1927.19 1531.6 Q1927.19 1540.33 1924.11 1544.94 Q1921.05 1549.52 1915.24 1549.52 Q1909.43 1549.52 1906.35 1544.94 Q1903.3 1540.33 1903.3 1531.6 Q1903.3 1522.85 1906.35 1518.27 Q1909.43 1513.66 1915.24 1513.66 Z\" fill=\"#000000\" fill-rule=\"evenodd\" fill-opacity=\"1\" /><path clip-path=\"url(#clip670)\" d=\"M2170.34 1544.91 L2177.98 1544.91 L2177.98 1518.55 L2169.67 1520.21 L2169.67 1515.95 L2177.94 1514.29 L2182.61 1514.29 L2182.61 1544.91 L2190.25 1544.91 L2190.25 1548.85 L2170.34 1548.85 L2170.34 1544.91 Z\" fill=\"#000000\" fill-rule=\"evenodd\" fill-opacity=\"1\" /><path clip-path=\"url(#clip670)\" d=\"M2203.72 1544.91 L2220.04 1544.91 L2220.04 1548.85 L2198.1 1548.85 L2198.1 1544.91 Q2200.76 1542.16 2205.34 1537.53 Q2209.95 1532.88 2211.13 1531.53 Q2213.38 1529.01 2214.26 1527.27 Q2215.16 1525.51 2215.16 1523.82 Q2215.16 1521.07 2213.21 1519.33 Q2211.29 1517.6 2208.19 1517.6 Q2205.99 1517.6 2203.54 1518.36 Q2201.11 1519.13 2198.33 1520.68 L2198.33 1515.95 Q2201.15 1514.82 2203.61 1514.24 Q2206.06 1513.66 2208.1 1513.66 Q2213.47 1513.66 2216.66 1516.35 Q2219.86 1519.03 2219.86 1523.52 Q2219.86 1525.65 2219.05 1527.57 Q2218.26 1529.47 2216.15 1532.07 Q2215.57 1532.74 2212.47 1535.95 Q2209.37 1539.15 2203.72 1544.91 Z\" fill=\"#000000\" fill-rule=\"evenodd\" fill-opacity=\"1\" /><path clip-path=\"url(#clip670)\" d=\"M2239.86 1517.37 Q2236.25 1517.37 2234.42 1520.93 Q2232.61 1524.47 2232.61 1531.6 Q2232.61 1538.71 2234.42 1542.27 Q2236.25 1545.82 2239.86 1545.82 Q2243.49 1545.82 2245.3 1542.27 Q2247.13 1538.71 2247.13 1531.6 Q2247.13 1524.47 2245.3 1520.93 Q2243.49 1517.37 2239.86 1517.37 M2239.86 1513.66 Q2245.67 1513.66 2248.72 1518.27 Q2251.8 1522.85 2251.8 1531.6 Q2251.8 1540.33 2248.72 1544.94 Q2245.67 1549.52 2239.86 1549.52 Q2234.05 1549.52 2230.97 1544.94 Q2227.91 1540.33 2227.91 1531.6 Q2227.91 1522.85 2230.97 1518.27 Q2234.05 1513.66 2239.86 1513.66 Z\" fill=\"#000000\" fill-rule=\"evenodd\" fill-opacity=\"1\" /><polyline clip-path=\"url(#clip672)\" style=\"stroke:#000000; stroke-linecap:butt; stroke-linejoin:round; stroke-width:2; stroke-opacity:0.1; fill:none\" points=\"\n",
       "  202.177,1373.56 2352.76,1373.56 \n",
       "  \"/>\n",
       "<polyline clip-path=\"url(#clip672)\" style=\"stroke:#000000; stroke-linecap:butt; stroke-linejoin:round; stroke-width:2; stroke-opacity:0.1; fill:none\" points=\"\n",
       "  202.177,1063.86 2352.76,1063.86 \n",
       "  \"/>\n",
       "<polyline clip-path=\"url(#clip672)\" style=\"stroke:#000000; stroke-linecap:butt; stroke-linejoin:round; stroke-width:2; stroke-opacity:0.1; fill:none\" points=\"\n",
       "  202.177,754.153 2352.76,754.153 \n",
       "  \"/>\n",
       "<polyline clip-path=\"url(#clip672)\" style=\"stroke:#000000; stroke-linecap:butt; stroke-linejoin:round; stroke-width:2; stroke-opacity:0.1; fill:none\" points=\"\n",
       "  202.177,444.447 2352.76,444.447 \n",
       "  \"/>\n",
       "<polyline clip-path=\"url(#clip672)\" style=\"stroke:#000000; stroke-linecap:butt; stroke-linejoin:round; stroke-width:2; stroke-opacity:0.1; fill:none\" points=\"\n",
       "  202.177,134.742 2352.76,134.742 \n",
       "  \"/>\n",
       "<polyline clip-path=\"url(#clip670)\" style=\"stroke:#000000; stroke-linecap:butt; stroke-linejoin:round; stroke-width:4; stroke-opacity:1; fill:none\" points=\"\n",
       "  202.177,1486.45 202.177,47.2441 \n",
       "  \"/>\n",
       "<polyline clip-path=\"url(#clip670)\" style=\"stroke:#000000; stroke-linecap:butt; stroke-linejoin:round; stroke-width:4; stroke-opacity:1; fill:none\" points=\"\n",
       "  202.177,1373.56 221.074,1373.56 \n",
       "  \"/>\n",
       "<polyline clip-path=\"url(#clip670)\" style=\"stroke:#000000; stroke-linecap:butt; stroke-linejoin:round; stroke-width:4; stroke-opacity:1; fill:none\" points=\"\n",
       "  202.177,1063.86 221.074,1063.86 \n",
       "  \"/>\n",
       "<polyline clip-path=\"url(#clip670)\" style=\"stroke:#000000; stroke-linecap:butt; stroke-linejoin:round; stroke-width:4; stroke-opacity:1; fill:none\" points=\"\n",
       "  202.177,754.153 221.074,754.153 \n",
       "  \"/>\n",
       "<polyline clip-path=\"url(#clip670)\" style=\"stroke:#000000; stroke-linecap:butt; stroke-linejoin:round; stroke-width:4; stroke-opacity:1; fill:none\" points=\"\n",
       "  202.177,444.447 221.074,444.447 \n",
       "  \"/>\n",
       "<polyline clip-path=\"url(#clip670)\" style=\"stroke:#000000; stroke-linecap:butt; stroke-linejoin:round; stroke-width:4; stroke-opacity:1; fill:none\" points=\"\n",
       "  202.177,134.742 221.074,134.742 \n",
       "  \"/>\n",
       "<path clip-path=\"url(#clip670)\" d=\"M154.232 1359.36 Q150.621 1359.36 148.793 1362.93 Q146.987 1366.47 146.987 1373.6 Q146.987 1380.7 148.793 1384.27 Q150.621 1387.81 154.232 1387.81 Q157.867 1387.81 159.672 1384.27 Q161.501 1380.7 161.501 1373.6 Q161.501 1366.47 159.672 1362.93 Q157.867 1359.36 154.232 1359.36 M154.232 1355.66 Q160.042 1355.66 163.098 1360.26 Q166.177 1364.85 166.177 1373.6 Q166.177 1382.32 163.098 1386.93 Q160.042 1391.51 154.232 1391.51 Q148.422 1391.51 145.343 1386.93 Q142.288 1382.32 142.288 1373.6 Q142.288 1364.85 145.343 1360.26 Q148.422 1355.66 154.232 1355.66 Z\" fill=\"#000000\" fill-rule=\"evenodd\" fill-opacity=\"1\" /><path clip-path=\"url(#clip670)\" d=\"M54.5569 1077.2 L62.1958 1077.2 L62.1958 1050.84 L53.8856 1052.5 L53.8856 1048.24 L62.1495 1046.58 L66.8254 1046.58 L66.8254 1077.2 L74.4642 1077.2 L74.4642 1081.14 L54.5569 1081.14 L54.5569 1077.2 Z\" fill=\"#000000\" fill-rule=\"evenodd\" fill-opacity=\"1\" /><path clip-path=\"url(#clip670)\" d=\"M93.9086 1049.66 Q90.2975 1049.66 88.4688 1053.22 Q86.6632 1056.76 86.6632 1063.89 Q86.6632 1071 88.4688 1074.56 Q90.2975 1078.11 93.9086 1078.11 Q97.5428 1078.11 99.3483 1074.56 Q101.177 1071 101.177 1063.89 Q101.177 1056.76 99.3483 1053.22 Q97.5428 1049.66 93.9086 1049.66 M93.9086 1045.95 Q99.7187 1045.95 102.774 1050.56 Q105.853 1055.14 105.853 1063.89 Q105.853 1072.62 102.774 1077.23 Q99.7187 1081.81 93.9086 1081.81 Q88.0984 1081.81 85.0197 1077.23 Q81.9642 1072.62 81.9642 1063.89 Q81.9642 1055.14 85.0197 1050.56 Q88.0984 1045.95 93.9086 1045.95 Z\" fill=\"#000000\" fill-rule=\"evenodd\" fill-opacity=\"1\" /><path clip-path=\"url(#clip670)\" d=\"M124.07 1049.66 Q120.459 1049.66 118.631 1053.22 Q116.825 1056.76 116.825 1063.89 Q116.825 1071 118.631 1074.56 Q120.459 1078.11 124.07 1078.11 Q127.705 1078.11 129.51 1074.56 Q131.339 1071 131.339 1063.89 Q131.339 1056.76 129.51 1053.22 Q127.705 1049.66 124.07 1049.66 M124.07 1045.95 Q129.881 1045.95 132.936 1050.56 Q136.015 1055.14 136.015 1063.89 Q136.015 1072.62 132.936 1077.23 Q129.881 1081.81 124.07 1081.81 Q118.26 1081.81 115.182 1077.23 Q112.126 1072.62 112.126 1063.89 Q112.126 1055.14 115.182 1050.56 Q118.26 1045.95 124.07 1045.95 Z\" fill=\"#000000\" fill-rule=\"evenodd\" fill-opacity=\"1\" /><path clip-path=\"url(#clip670)\" d=\"M154.232 1049.66 Q150.621 1049.66 148.793 1053.22 Q146.987 1056.76 146.987 1063.89 Q146.987 1071 148.793 1074.56 Q150.621 1078.11 154.232 1078.11 Q157.867 1078.11 159.672 1074.56 Q161.501 1071 161.501 1063.89 Q161.501 1056.76 159.672 1053.22 Q157.867 1049.66 154.232 1049.66 M154.232 1045.95 Q160.042 1045.95 163.098 1050.56 Q166.177 1055.14 166.177 1063.89 Q166.177 1072.62 163.098 1077.23 Q160.042 1081.81 154.232 1081.81 Q148.422 1081.81 145.343 1077.23 Q142.288 1072.62 142.288 1063.89 Q142.288 1055.14 145.343 1050.56 Q148.422 1045.95 154.232 1045.95 Z\" fill=\"#000000\" fill-rule=\"evenodd\" fill-opacity=\"1\" /><path clip-path=\"url(#clip670)\" d=\"M57.7745 767.497 L74.0939 767.497 L74.0939 771.433 L52.1495 771.433 L52.1495 767.497 Q54.8115 764.743 59.3949 760.113 Q64.0013 755.46 65.1819 754.118 Q67.4272 751.595 68.3068 749.859 Q69.2096 748.099 69.2096 746.41 Q69.2096 743.655 67.2652 741.919 Q65.3439 740.183 62.2421 740.183 Q60.043 740.183 57.5893 740.947 Q55.1588 741.71 52.381 743.261 L52.381 738.539 Q55.2051 737.405 57.6588 736.826 Q60.1124 736.248 62.1495 736.248 Q67.5198 736.248 70.7142 738.933 Q73.9087 741.618 73.9087 746.109 Q73.9087 748.238 73.0985 750.16 Q72.3115 752.058 70.205 754.65 Q69.6263 755.322 66.5245 758.539 Q63.4226 761.734 57.7745 767.497 Z\" fill=\"#000000\" fill-rule=\"evenodd\" fill-opacity=\"1\" /><path clip-path=\"url(#clip670)\" d=\"M93.9086 739.951 Q90.2975 739.951 88.4688 743.516 Q86.6632 747.058 86.6632 754.187 Q86.6632 761.294 88.4688 764.859 Q90.2975 768.4 93.9086 768.4 Q97.5428 768.4 99.3483 764.859 Q101.177 761.294 101.177 754.187 Q101.177 747.058 99.3483 743.516 Q97.5428 739.951 93.9086 739.951 M93.9086 736.248 Q99.7187 736.248 102.774 740.854 Q105.853 745.437 105.853 754.187 Q105.853 762.914 102.774 767.521 Q99.7187 772.104 93.9086 772.104 Q88.0984 772.104 85.0197 767.521 Q81.9642 762.914 81.9642 754.187 Q81.9642 745.437 85.0197 740.854 Q88.0984 736.248 93.9086 736.248 Z\" fill=\"#000000\" fill-rule=\"evenodd\" fill-opacity=\"1\" /><path clip-path=\"url(#clip670)\" d=\"M124.07 739.951 Q120.459 739.951 118.631 743.516 Q116.825 747.058 116.825 754.187 Q116.825 761.294 118.631 764.859 Q120.459 768.4 124.07 768.4 Q127.705 768.4 129.51 764.859 Q131.339 761.294 131.339 754.187 Q131.339 747.058 129.51 743.516 Q127.705 739.951 124.07 739.951 M124.07 736.248 Q129.881 736.248 132.936 740.854 Q136.015 745.437 136.015 754.187 Q136.015 762.914 132.936 767.521 Q129.881 772.104 124.07 772.104 Q118.26 772.104 115.182 767.521 Q112.126 762.914 112.126 754.187 Q112.126 745.437 115.182 740.854 Q118.26 736.248 124.07 736.248 Z\" fill=\"#000000\" fill-rule=\"evenodd\" fill-opacity=\"1\" /><path clip-path=\"url(#clip670)\" d=\"M154.232 739.951 Q150.621 739.951 148.793 743.516 Q146.987 747.058 146.987 754.187 Q146.987 761.294 148.793 764.859 Q150.621 768.4 154.232 768.4 Q157.867 768.4 159.672 764.859 Q161.501 761.294 161.501 754.187 Q161.501 747.058 159.672 743.516 Q157.867 739.951 154.232 739.951 M154.232 736.248 Q160.042 736.248 163.098 740.854 Q166.177 745.437 166.177 754.187 Q166.177 762.914 163.098 767.521 Q160.042 772.104 154.232 772.104 Q148.422 772.104 145.343 767.521 Q142.288 762.914 142.288 754.187 Q142.288 745.437 145.343 740.854 Q148.422 736.248 154.232 736.248 Z\" fill=\"#000000\" fill-rule=\"evenodd\" fill-opacity=\"1\" /><path clip-path=\"url(#clip670)\" d=\"M67.9133 443.093 Q71.2698 443.811 73.1448 446.079 Q75.0429 448.348 75.0429 451.681 Q75.0429 456.797 71.5244 459.598 Q68.0059 462.398 61.5245 462.398 Q59.3486 462.398 57.0338 461.959 Q54.7421 461.542 52.2884 460.686 L52.2884 456.172 Q54.2328 457.306 56.5477 457.885 Q58.8625 458.463 61.3856 458.463 Q65.7837 458.463 68.0754 456.727 Q70.3902 454.991 70.3902 451.681 Q70.3902 448.625 68.2374 446.912 Q66.1078 445.176 62.2884 445.176 L58.2606 445.176 L58.2606 441.334 L62.4735 441.334 Q65.9226 441.334 67.7513 439.968 Q69.58 438.579 69.58 435.987 Q69.58 433.325 67.6819 431.913 Q65.8069 430.477 62.2884 430.477 Q60.3671 430.477 58.168 430.894 Q55.969 431.311 53.3301 432.19 L53.3301 428.024 Q55.9921 427.283 58.3069 426.913 Q60.6449 426.542 62.705 426.542 Q68.0291 426.542 71.1309 428.973 Q74.2327 431.38 74.2327 435.5 Q74.2327 438.371 72.5892 440.362 Q70.9457 442.329 67.9133 443.093 Z\" fill=\"#000000\" fill-rule=\"evenodd\" fill-opacity=\"1\" /><path clip-path=\"url(#clip670)\" d=\"M93.9086 430.246 Q90.2975 430.246 88.4688 433.811 Q86.6632 437.352 86.6632 444.482 Q86.6632 451.588 88.4688 455.153 Q90.2975 458.695 93.9086 458.695 Q97.5428 458.695 99.3483 455.153 Q101.177 451.588 101.177 444.482 Q101.177 437.352 99.3483 433.811 Q97.5428 430.246 93.9086 430.246 M93.9086 426.542 Q99.7187 426.542 102.774 431.149 Q105.853 435.732 105.853 444.482 Q105.853 453.209 102.774 457.815 Q99.7187 462.398 93.9086 462.398 Q88.0984 462.398 85.0197 457.815 Q81.9642 453.209 81.9642 444.482 Q81.9642 435.732 85.0197 431.149 Q88.0984 426.542 93.9086 426.542 Z\" fill=\"#000000\" fill-rule=\"evenodd\" fill-opacity=\"1\" /><path clip-path=\"url(#clip670)\" d=\"M124.07 430.246 Q120.459 430.246 118.631 433.811 Q116.825 437.352 116.825 444.482 Q116.825 451.588 118.631 455.153 Q120.459 458.695 124.07 458.695 Q127.705 458.695 129.51 455.153 Q131.339 451.588 131.339 444.482 Q131.339 437.352 129.51 433.811 Q127.705 430.246 124.07 430.246 M124.07 426.542 Q129.881 426.542 132.936 431.149 Q136.015 435.732 136.015 444.482 Q136.015 453.209 132.936 457.815 Q129.881 462.398 124.07 462.398 Q118.26 462.398 115.182 457.815 Q112.126 453.209 112.126 444.482 Q112.126 435.732 115.182 431.149 Q118.26 426.542 124.07 426.542 Z\" fill=\"#000000\" fill-rule=\"evenodd\" fill-opacity=\"1\" /><path clip-path=\"url(#clip670)\" d=\"M154.232 430.246 Q150.621 430.246 148.793 433.811 Q146.987 437.352 146.987 444.482 Q146.987 451.588 148.793 455.153 Q150.621 458.695 154.232 458.695 Q157.867 458.695 159.672 455.153 Q161.501 451.588 161.501 444.482 Q161.501 437.352 159.672 433.811 Q157.867 430.246 154.232 430.246 M154.232 426.542 Q160.042 426.542 163.098 431.149 Q166.177 435.732 166.177 444.482 Q166.177 453.209 163.098 457.815 Q160.042 462.398 154.232 462.398 Q148.422 462.398 145.343 457.815 Q142.288 453.209 142.288 444.482 Q142.288 435.732 145.343 431.149 Q148.422 426.542 154.232 426.542 Z\" fill=\"#000000\" fill-rule=\"evenodd\" fill-opacity=\"1\" /><path clip-path=\"url(#clip670)\" d=\"M66.5939 121.536 L54.7884 139.985 L66.5939 139.985 L66.5939 121.536 M65.367 117.462 L71.2466 117.462 L71.2466 139.985 L76.1772 139.985 L76.1772 143.874 L71.2466 143.874 L71.2466 152.022 L66.5939 152.022 L66.5939 143.874 L50.9921 143.874 L50.9921 139.36 L65.367 117.462 Z\" fill=\"#000000\" fill-rule=\"evenodd\" fill-opacity=\"1\" /><path clip-path=\"url(#clip670)\" d=\"M93.9086 120.54 Q90.2975 120.54 88.4688 124.105 Q86.6632 127.647 86.6632 134.777 Q86.6632 141.883 88.4688 145.448 Q90.2975 148.989 93.9086 148.989 Q97.5428 148.989 99.3483 145.448 Q101.177 141.883 101.177 134.777 Q101.177 127.647 99.3483 124.105 Q97.5428 120.54 93.9086 120.54 M93.9086 116.837 Q99.7187 116.837 102.774 121.443 Q105.853 126.027 105.853 134.777 Q105.853 143.503 102.774 148.11 Q99.7187 152.693 93.9086 152.693 Q88.0984 152.693 85.0197 148.11 Q81.9642 143.503 81.9642 134.777 Q81.9642 126.027 85.0197 121.443 Q88.0984 116.837 93.9086 116.837 Z\" fill=\"#000000\" fill-rule=\"evenodd\" fill-opacity=\"1\" /><path clip-path=\"url(#clip670)\" d=\"M124.07 120.54 Q120.459 120.54 118.631 124.105 Q116.825 127.647 116.825 134.777 Q116.825 141.883 118.631 145.448 Q120.459 148.989 124.07 148.989 Q127.705 148.989 129.51 145.448 Q131.339 141.883 131.339 134.777 Q131.339 127.647 129.51 124.105 Q127.705 120.54 124.07 120.54 M124.07 116.837 Q129.881 116.837 132.936 121.443 Q136.015 126.027 136.015 134.777 Q136.015 143.503 132.936 148.11 Q129.881 152.693 124.07 152.693 Q118.26 152.693 115.182 148.11 Q112.126 143.503 112.126 134.777 Q112.126 126.027 115.182 121.443 Q118.26 116.837 124.07 116.837 Z\" fill=\"#000000\" fill-rule=\"evenodd\" fill-opacity=\"1\" /><path clip-path=\"url(#clip670)\" d=\"M154.232 120.54 Q150.621 120.54 148.793 124.105 Q146.987 127.647 146.987 134.777 Q146.987 141.883 148.793 145.448 Q150.621 148.989 154.232 148.989 Q157.867 148.989 159.672 145.448 Q161.501 141.883 161.501 134.777 Q161.501 127.647 159.672 124.105 Q157.867 120.54 154.232 120.54 M154.232 116.837 Q160.042 116.837 163.098 121.443 Q166.177 126.027 166.177 134.777 Q166.177 143.503 163.098 148.11 Q160.042 152.693 154.232 152.693 Q148.422 152.693 145.343 148.11 Q142.288 143.503 142.288 134.777 Q142.288 126.027 145.343 121.443 Q148.422 116.837 154.232 116.837 Z\" fill=\"#000000\" fill-rule=\"evenodd\" fill-opacity=\"1\" /><circle clip-path=\"url(#clip672)\" cx=\"263.042\" cy=\"1373.56\" r=\"14\" fill=\"#ff6f9c\" fill-rule=\"evenodd\" fill-opacity=\"1\" stroke=\"#000000\" stroke-opacity=\"1\" stroke-width=\"3.2\"/>\n",
       "<circle clip-path=\"url(#clip672)\" cx=\"425.35\" cy=\"1316.27\" r=\"14\" fill=\"#ff6f9c\" fill-rule=\"evenodd\" fill-opacity=\"1\" stroke=\"#000000\" stroke-opacity=\"1\" stroke-width=\"3.2\"/>\n",
       "<circle clip-path=\"url(#clip672)\" cx=\"506.504\" cy=\"1274.77\" r=\"14\" fill=\"#ff6f9c\" fill-rule=\"evenodd\" fill-opacity=\"1\" stroke=\"#000000\" stroke-opacity=\"1\" stroke-width=\"3.2\"/>\n",
       "<circle clip-path=\"url(#clip672)\" cx=\"587.658\" cy=\"1235.13\" r=\"14\" fill=\"#ff6f9c\" fill-rule=\"evenodd\" fill-opacity=\"1\" stroke=\"#000000\" stroke-opacity=\"1\" stroke-width=\"3.2\"/>\n",
       "<circle clip-path=\"url(#clip672)\" cx=\"782.427\" cy=\"1143.76\" r=\"14\" fill=\"#ff6f9c\" fill-rule=\"evenodd\" fill-opacity=\"1\" stroke=\"#000000\" stroke-opacity=\"1\" stroke-width=\"3.2\"/>\n",
       "<circle clip-path=\"url(#clip672)\" cx=\"1220.66\" cy=\"963.204\" r=\"14\" fill=\"#ff6f9c\" fill-rule=\"evenodd\" fill-opacity=\"1\" stroke=\"#000000\" stroke-opacity=\"1\" stroke-width=\"3.2\"/>\n",
       "<circle clip-path=\"url(#clip672)\" cx=\"1269.35\" cy=\"926.039\" r=\"14\" fill=\"#ff6f9c\" fill-rule=\"evenodd\" fill-opacity=\"1\" stroke=\"#000000\" stroke-opacity=\"1\" stroke-width=\"3.2\"/>\n",
       "<circle clip-path=\"url(#clip672)\" cx=\"2291.89\" cy=\"87.9763\" r=\"14\" fill=\"#ff6f9c\" fill-rule=\"evenodd\" fill-opacity=\"1\" stroke=\"#000000\" stroke-opacity=\"1\" stroke-width=\"3.2\"/>\n",
       "<polyline clip-path=\"url(#clip672)\" style=\"stroke:#000000; stroke-linecap:butt; stroke-linejoin:round; stroke-width:8; stroke-opacity:1; fill:none\" points=\"\n",
       "  263.042,1445.72 282.856,1433.45 466.059,1320.05 576.156,1251.9 669.242,1194.29 770.36,1131.7 863.581,1074 963.524,1012.13 1079.32,940.459 1182.22,876.763 \n",
       "  1272.46,820.908 1370.84,760.011 1469.81,698.752 1579.23,631.022 1683.34,566.579 1791.6,499.574 1882.72,443.169 1993.98,374.305 2098.56,309.572 2266.11,205.863 \n",
       "  2291.89,189.903 \n",
       "  \"/>\n",
       "<path clip-path=\"url(#clip670)\" d=\"\n",
       "M1936.35 198.898 L2281.07 198.898 L2281.07 95.2176 L1936.35 95.2176  Z\n",
       "  \" fill=\"#ffffff\" fill-rule=\"evenodd\" fill-opacity=\"1\"/>\n",
       "<polyline clip-path=\"url(#clip670)\" style=\"stroke:#000000; stroke-linecap:butt; stroke-linejoin:round; stroke-width:4; stroke-opacity:1; fill:none\" points=\"\n",
       "  1936.35,198.898 2281.07,198.898 2281.07,95.2176 1936.35,95.2176 1936.35,198.898 \n",
       "  \"/>\n",
       "<polyline clip-path=\"url(#clip670)\" style=\"stroke:#000000; stroke-linecap:butt; stroke-linejoin:round; stroke-width:4; stroke-opacity:1; fill:none\" points=\"\n",
       "  1960.25,147.058 2103.62,147.058 \n",
       "  \"/>\n",
       "<path clip-path=\"url(#clip670)\" d=\"M2131.8 160.449 L2131.8 174.199 L2127.52 174.199 L2127.52 138.412 L2131.8 138.412 L2131.8 142.347 Q2133.14 140.032 2135.18 138.921 Q2137.24 137.787 2140.09 137.787 Q2144.81 137.787 2147.75 141.537 Q2150.71 145.287 2150.71 151.398 Q2150.71 157.509 2147.75 161.259 Q2144.81 165.009 2140.09 165.009 Q2137.24 165.009 2135.18 163.898 Q2133.14 162.763 2131.8 160.449 M2146.29 151.398 Q2146.29 146.699 2144.34 144.037 Q2142.42 141.352 2139.04 141.352 Q2135.66 141.352 2133.72 144.037 Q2131.8 146.699 2131.8 151.398 Q2131.8 156.097 2133.72 158.782 Q2135.66 161.444 2139.04 161.444 Q2142.42 161.444 2144.34 158.782 Q2146.29 156.097 2146.29 151.398 Z\" fill=\"#000000\" fill-rule=\"evenodd\" fill-opacity=\"1\" /><path clip-path=\"url(#clip670)\" d=\"M2156.91 161.791 L2161.64 161.791 L2161.64 147.648 L2156.47 148.597 L2156.47 145.912 L2161.8 145.009 L2164.97 145.009 L2164.97 161.791 L2169.71 161.791 L2169.71 164.338 L2156.91 164.338 L2156.91 161.791 Z\" fill=\"#000000\" fill-rule=\"evenodd\" fill-opacity=\"1\" /><path clip-path=\"url(#clip670)\" d=\"M2187.01 128.366 Q2183.9 133.69 2182.4 138.898 Q2180.9 144.106 2180.9 149.453 Q2180.9 154.801 2182.4 160.055 Q2183.93 165.287 2187.01 170.588 L2183.3 170.588 Q2179.83 165.148 2178.09 159.893 Q2176.38 154.639 2176.38 149.453 Q2176.38 144.291 2178.09 139.06 Q2179.81 133.828 2183.3 128.366 L2187.01 128.366 Z\" fill=\"#000000\" fill-rule=\"evenodd\" fill-opacity=\"1\" /><path clip-path=\"url(#clip670)\" d=\"M2216.82 138.412 L2207.45 151.027 L2217.31 164.338 L2212.28 164.338 L2204.74 154.152 L2197.19 164.338 L2192.17 164.338 L2202.24 150.773 L2193.02 138.412 L2198.05 138.412 L2204.92 147.648 L2211.8 138.412 L2216.82 138.412 Z\" fill=\"#000000\" fill-rule=\"evenodd\" fill-opacity=\"1\" /><path clip-path=\"url(#clip670)\" d=\"M2222.65 128.366 L2226.36 128.366 Q2229.83 133.828 2231.54 139.06 Q2233.28 144.291 2233.28 149.453 Q2233.28 154.639 2231.54 159.893 Q2229.83 165.148 2226.36 170.588 L2222.65 170.588 Q2225.73 165.287 2227.24 160.055 Q2228.77 154.801 2228.77 149.453 Q2228.77 144.106 2227.24 138.898 Q2225.73 133.69 2222.65 128.366 Z\" fill=\"#000000\" fill-rule=\"evenodd\" fill-opacity=\"1\" /></svg>\n"
      ]
     },
     "execution_count": 13,
     "metadata": {},
     "output_type": "execute_result"
    }
   ],
   "source": [
    "# Plota em um gráfico os pontos e a reta que os aproxima\n",
    "scatter(t, V, label = false, c =:\"#ff6f9c\")\n",
    "plot!(p1, c =:black, lw=2, label=\"p₁(x)\")"
   ]
  },
  {
   "cell_type": "markdown",
   "id": "b5b37060-6f51-4938-aea6-9d080db2fe9f",
   "metadata": {},
   "source": [
    "Agora que encontramos a reta que aproxima esses pontos, vamos usar nossa função trapezio construída em aula para obter a área do trapézio formado no intervalo $[0, 125]$:"
   ]
  },
  {
   "cell_type": "code",
   "execution_count": 16,
   "id": "50164380-32ac-4a2e-8cb6-bcb0aedf2517",
   "metadata": {},
   "outputs": [
    {
     "data": {
      "text/plain": [
       "trapezio (generic function with 1 method)"
      ]
     },
     "execution_count": 16,
     "metadata": {},
     "output_type": "execute_result"
    }
   ],
   "source": [
    "# Função para calcular a integral de f(x) de a até b utilizando o método dos trapézios\n",
    "\n",
    "# -- Parâmetros --\n",
    "# f: a função a ser integrada\n",
    "# a: o ponto inicial do intervalo\n",
    "# b: o ponto final do intervalo\n",
    "# n: número de trapézios a serem construídos\n",
    "\n",
    "function trapezio(f, a, b, n)\n",
    "    h = (b - a) / n \n",
    "    \n",
    "    S = 0.0 # somatorio das areas\n",
    "    \n",
    "    # calcula o \"meio\"\n",
    "    for i = 1:(n - 1)  \n",
    "        x = a + i * h\n",
    "        S += 2 * f(x)\n",
    "    end\n",
    "    \n",
    "    # calcula \"as pontas\"\n",
    "    S = h / 2 * (S + f(a) + f(b)) \n",
    "    \n",
    "    return S\n",
    "end"
   ]
  },
  {
   "cell_type": "code",
   "execution_count": 20,
   "id": "c6afe9bb-edfa-4d58-ba78-63c0a829db0c",
   "metadata": {},
   "outputs": [
    {
     "data": {
      "text/plain": [
       "224307.60859075945"
      ]
     },
     "execution_count": 20,
     "metadata": {},
     "output_type": "execute_result"
    }
   ],
   "source": [
    "# obtemos uma aproximação para a integral utilizando um trapézio\n",
    "trapezio(p1, 0, 125, 1)"
   ]
  },
  {
   "cell_type": "markdown",
   "id": "e2b248f5-94a4-4da9-b3bf-b7c3e38bb996",
   "metadata": {},
   "source": [
    "Obtemos então que a área do trapézio, e por consequência a altura atingida, é de $224307.60859075945$ pés."
   ]
  },
  {
   "cell_type": "markdown",
   "id": "238815d9-f26d-451d-84a8-2393a2869415",
   "metadata": {},
   "source": [
    "### Exercício 3 | Área do círculo"
   ]
  },
  {
   "cell_type": "markdown",
   "id": "11b2da6c-07d4-4ebf-bd2d-a7fc5ab4f645",
   "metadata": {},
   "source": [
    "_________________________________________________________________________________________________________________________________________________________________________________________"
   ]
  },
  {
   "cell_type": "markdown",
   "id": "6360492b-1bee-40f5-9f70-c02f93707c21",
   "metadata": {},
   "source": [
    "#### a. Aproximação da área no primeiro quadrante"
   ]
  },
  {
   "cell_type": "markdown",
   "id": "890193eb-bbaa-4a80-bc37-f4361c13f1c4",
   "metadata": {},
   "source": [
    "Queremos determinar uma aproximação para a área limitada pelo círculo no primeiro quadrante e depois usar esse valor para aproximar $\\pi$. Para isso, vamos usar o método do trapézio com $h = 0.1$. \n",
    "\n",
    "Primeiramente, vamos definir uma função para a metade superior do círculo usando a fórmula da circunferência:\n",
    "\n",
    "$$f(x) = \\sqrt{1 - x^2}$$\n",
    "\n",
    "pois sabemos que $x^2 + y^2 = 1$ no caso da circunferência trigonométrica\n",
    "\n",
    "Para realizar a integral, devemos pegar valores de x que estejam apenas no primeiro quadrante, que é onde estamos interessados. Portanto, vamos integrar de 0 a 1.\n",
    "\n",
    "Podemos utilizar novamente o método do trapézio, por meio da função trapézio:"
   ]
  },
  {
   "cell_type": "code",
   "execution_count": 5,
   "id": "6a20badb-7970-4434-bd24-9856452a2dc0",
   "metadata": {},
   "outputs": [
    {
     "data": {
      "text/plain": [
       "trapezio (generic function with 1 method)"
      ]
     },
     "execution_count": 5,
     "metadata": {},
     "output_type": "execute_result"
    }
   ],
   "source": [
    "# Função para calcular a integral de f(x) de a até b utilizando o método dos trapézios\n",
    "\n",
    "# -- Parâmetros --\n",
    "# f: a função a ser integrada\n",
    "# a: o ponto inicial do intervalo\n",
    "# b: o ponto final do intervalo\n",
    "# n: número de trapézios a serem construídos\n",
    "\n",
    "function trapezio(f, a, b, n)\n",
    "    h = (b - a) / n \n",
    "    \n",
    "    S = 0.0 # somatorio das areas\n",
    "    \n",
    "    # calcula o \"meio\"\n",
    "    for i = 1:(n - 1)  \n",
    "        x = a + i * h\n",
    "        S += 2 * f(x)\n",
    "    end\n",
    "    \n",
    "    # calcula \"as pontas\"\n",
    "    S = h / 2 * (S + f(a) + f(b)) \n",
    "    \n",
    "    return S\n",
    "end"
   ]
  },
  {
   "cell_type": "code",
   "execution_count": 22,
   "id": "212876af-b1dd-45d0-8ab1-59fa3b726aa2",
   "metadata": {},
   "outputs": [
    {
     "data": {
      "text/plain": [
       "0.7761295815620796"
      ]
     },
     "execution_count": 22,
     "metadata": {},
     "output_type": "execute_result"
    }
   ],
   "source": [
    "f(x) = sqrt(1 - x^2) # metade superior do círculo trigonométrico\n",
    "a = 0 # início do intervalo em x\n",
    "b = 1 # término do intervalo em x\n",
    "\n",
    "# passamos 10 aqui porque queremos que h = 0.1\n",
    "integral = trapezio(f, a, b, 10)"
   ]
  },
  {
   "cell_type": "markdown",
   "id": "fd15d22b-bd24-43c0-a8be-65aa4545dcfb",
   "metadata": {},
   "source": [
    "Obtemos então que a área limitada pelo primeiro quadrante é aproximadamente $0.7761295815620796$. Como $\\pi$ corresponde à área do círculo todo, e a integral que obtemos é $1/4$ dela, precisamos multiplicar por 4 pra obter a aproximação de $\\pi$ que desejamos:"
   ]
  },
  {
   "cell_type": "code",
   "execution_count": 23,
   "id": "95211db6-2163-4fc1-b3cb-cc224c53e021",
   "metadata": {},
   "outputs": [
    {
     "data": {
      "text/plain": [
       "3.1045183262483182"
      ]
     },
     "execution_count": 23,
     "metadata": {},
     "output_type": "execute_result"
    }
   ],
   "source": [
    "pi = 4 * integral"
   ]
  },
  {
   "cell_type": "markdown",
   "id": "4e2e2a1c-74e7-4dc8-8eea-bff9cb61d40a",
   "metadata": {},
   "source": [
    "Obtemos que $\\pi \\approx 3.1045183262483182$."
   ]
  },
  {
   "cell_type": "markdown",
   "id": "3b84273b-8170-45f0-b353-707ea2a75f62",
   "metadata": {},
   "source": [
    "#### b. Por que não podemos usar a fórmula do erro da regra da trapézio?"
   ]
  },
  {
   "cell_type": "markdown",
   "id": "f0a7c311-4f98-4ae7-9192-4e9bfdea656c",
   "metadata": {},
   "source": [
    "Sabemos que o erro para o método do trapézio é dado por:\n",
    "\n",
    "$$|erro| = \\frac{M(b-a)^3}{12}$$\n",
    "\n",
    "onde \n",
    "\n",
    "$M$ é o módulo do valor máximo da derivada no intervalo $[a, b]$\n",
    "\n",
    "$a$ e $b$ são os extremos do intervalo\n",
    "\n",
    "Temos nossa função $f(x) = \\sqrt{1 - x^2}$, cuja segunda derivada é:\n",
    "\n",
    "$$f\"(x) = -\\dfrac{1}{\\left(1-x^2\\right)^\\frac{3}{2}}$$\n",
    "\n",
    "E $lim f\"(x) \\rightarrow \\infty$ quando $x \\rightarrow 1$, logo $$M = \\max_{x\\in [0,1]}{\\left|f''(x)\\right|} = \\infty$$\n",
    "\n",
    "Dessa forma, utilizar a fórmula do erro nos diria apenas que $|erro| \\le \\infty$, não sendo de fato uma informação útil para estimar o erro de precisão."
   ]
  },
  {
   "cell_type": "markdown",
   "id": "a20835cc-723b-4c0b-815a-fd8a2f16b87a",
   "metadata": {},
   "source": [
    "### (Bônus) Exercício 4 | Integral dupla"
   ]
  },
  {
   "cell_type": "markdown",
   "id": "2aeb5e68-7a20-4fe0-8751-bc6319a5dbb6",
   "metadata": {},
   "source": [
    "_________________________________________________________________________________________________________________________________________________________________________________________"
   ]
  },
  {
   "cell_type": "markdown",
   "id": "41ba86de-b7c2-4c01-bbe9-3c04c67b54f7",
   "metadata": {},
   "source": [
    "Podemos adaptar a função de integral dupla da Aula 18 em Julia para aproximar uma integral dupla cujos limites de integração em x são funções de y da seguinte forma:"
   ]
  },
  {
   "cell_type": "code",
   "execution_count": 21,
   "id": "66807247-ae44-46e5-ac89-a9fd93e2e3e1",
   "metadata": {},
   "outputs": [
    {
     "data": {
      "text/plain": [
       "Integral (generic function with 2 methods)"
      ]
     },
     "execution_count": 21,
     "metadata": {},
     "output_type": "execute_result"
    }
   ],
   "source": [
    "# Função para calcular a integral de f(x) de a até b\n",
    "\n",
    "# -- Parâmetros --\n",
    "# f: a função a ser integrada\n",
    "# a: limite inferior de integração\n",
    "# b: limite superior de integração\n",
    "# n: o número de trapézios a ser construído\n",
    "\n",
    "function Integral(f, a, b, n)\n",
    "    return trapezio(f, a, b, n)\n",
    "end"
   ]
  },
  {
   "cell_type": "code",
   "execution_count": 27,
   "id": "86a38a81-5964-4913-93ed-f4323856fd0f",
   "metadata": {},
   "outputs": [
    {
     "data": {
      "text/plain": [
       "Integral_Dupla_Funcoes (generic function with 1 method)"
      ]
     },
     "execution_count": 27,
     "metadata": {},
     "output_type": "execute_result"
    }
   ],
   "source": [
    "# Função para calcular a integral dupla de f(x,y) de h(y) até g(y) em x e de a até b em y\n",
    "\n",
    "# -- Parâmetros --\n",
    "# f: a função a ser integrada\n",
    "# a: limite inferior de integração de y\n",
    "# b: limite superior de integração de y\n",
    "# h: limite inferior de integração de x\n",
    "# g: limite superior de integração de x\n",
    "\n",
    "function Integral_Dupla_Funcoes(f, a, b, h, g)\n",
    "    n = 1000 # fixamos o número de trapézios\n",
    "    \n",
    "    # integral em relação a x\n",
    "    function func(y)\n",
    "        return Integral(x -> f(x,y), h(y), g(y), n)\n",
    "    end\n",
    "    \n",
    "    # integral em relação a y\n",
    "    return Integral(func, a, b, n)\n",
    "end"
   ]
  },
  {
   "cell_type": "markdown",
   "id": "7e31543a-b6cc-4ed0-b15b-28d1e8726cf6",
   "metadata": {},
   "source": [
    "Vamos utilizar essa função para calcular:\n",
    "$$\\int_4^5{\\int_{y+1}^{y+2}{x^2 + y^2 dx}dy}$$\n",
    "\n",
    "sabendo que o resultado real é aproximadamente $56.5$."
   ]
  },
  {
   "cell_type": "code",
   "execution_count": 28,
   "id": "47bb7519-b089-4373-b384-328e316ae009",
   "metadata": {},
   "outputs": [
    {
     "data": {
      "text/plain": [
       "56.50000050000003"
      ]
     },
     "execution_count": 28,
     "metadata": {},
     "output_type": "execute_result"
    }
   ],
   "source": [
    "f(x, y) = x^2 + y^2\n",
    "a = 4\n",
    "b = 5\n",
    "h(y) = y + 1\n",
    "g(y) = y + 2\n",
    "Integral_Dupla(f, a, b, h, g)"
   ]
  },
  {
   "cell_type": "markdown",
   "id": "4e5f501c-e3d1-47b1-baf7-2322ef2b58c8",
   "metadata": {},
   "source": [
    "Utilizando nossa função obtemos que o valor da integral é aproximadamente $56.50000050000003$."
   ]
  }
 ],
 "metadata": {
  "kernelspec": {
   "display_name": "Julia 1.7.0",
   "language": "julia",
   "name": "julia-1.7"
  },
  "language_info": {
   "file_extension": ".jl",
   "mimetype": "application/julia",
   "name": "julia",
   "version": "1.7.0"
  }
 },
 "nbformat": 4,
 "nbformat_minor": 5
}
